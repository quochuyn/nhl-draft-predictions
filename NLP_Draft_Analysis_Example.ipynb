{
  "cells": [
    {
      "cell_type": "code",
      "execution_count": 1,
      "metadata": {
        "colab": {
          "base_uri": "https://localhost:8080/"
        },
        "id": "DAudg6vHRsXx",
        "outputId": "3c2c5119-6062-4e48-9177-bb400c6a3c1f"
      },
      "outputs": [
        {
          "name": "stderr",
          "output_type": "stream",
          "text": [
            "[nltk_data] Downloading package punkt to\n",
            "[nltk_data]     C:\\Users\\Ryan\\AppData\\Roaming\\nltk_data...\n",
            "[nltk_data]   Unzipping tokenizers\\punkt.zip.\n",
            "[nltk_data] Downloading package stopwords to\n",
            "[nltk_data]     C:\\Users\\Ryan\\AppData\\Roaming\\nltk_data...\n",
            "[nltk_data]   Unzipping corpora\\stopwords.zip.\n",
            "[nltk_data] Downloading package wordnet to\n",
            "[nltk_data]     C:\\Users\\Ryan\\AppData\\Roaming\\nltk_data...\n",
            "[nltk_data]   Package wordnet is already up-to-date!\n"
          ]
        },
        {
          "data": {
            "text/plain": [
              "True"
            ]
          },
          "execution_count": 1,
          "metadata": {},
          "output_type": "execute_result"
        }
      ],
      "source": [
        "import numpy as np\n",
        "import pandas as pd\n",
        "\n",
        "import matplotlib.cm as cm\n",
        "import matplotlib.pyplot as plt\n",
        "\n",
        "import nltk\n",
        "from nltk.corpus import stopwords\n",
        "from nltk.stem import PorterStemmer\n",
        "from nltk.stem import WordNetLemmatizer\n",
        "from sklearn.model_selection import train_test_split\n",
        "from sklearn.feature_extraction.text import CountVectorizer\n",
        "from sklearn.linear_model import LogisticRegression\n",
        "from sklearn import preprocessing\n",
        "from sklearn.svm import SVC\n",
        "from sklearn.neighbors import KNeighborsClassifier\n",
        "from sklearn.cluster import KMeans\n",
        "from sklearn.cluster import MiniBatchKMeans\n",
        "from sklearn.decomposition import PCA\n",
        "from sklearn.manifold import TSNE\n",
        "from sklearn.feature_extraction.text import TfidfVectorizer\n",
        "from sklearn.metrics import silhouette_score\n",
        "import re\n",
        "\n",
        "nltk.download(\"punkt\")\n",
        "nltk.download('stopwords')\n",
        "nltk.download('wordnet')"
      ]
    },
    {
      "cell_type": "code",
      "execution_count": 56,
      "metadata": {
        "colab": {
          "base_uri": "https://localhost:8080/",
          "height": 354
        },
        "id": "h0ANlswKSDKo",
        "outputId": "6ed19579-271a-4941-d249-31deef31fd28"
      },
      "outputs": [
        {
          "data": {
            "text/html": [
              "<div>\n",
              "<style scoped>\n",
              "    .dataframe tbody tr th:only-of-type {\n",
              "        vertical-align: middle;\n",
              "    }\n",
              "\n",
              "    .dataframe tbody tr th {\n",
              "        vertical-align: top;\n",
              "    }\n",
              "\n",
              "    .dataframe thead th {\n",
              "        text-align: right;\n",
              "    }\n",
              "</style>\n",
              "<table border=\"1\" class=\"dataframe\">\n",
              "  <thead>\n",
              "    <tr style=\"text-align: right;\">\n",
              "      <th></th>\n",
              "      <th>Year</th>\n",
              "      <th>Position</th>\n",
              "      <th>Drafted</th>\n",
              "      <th>Team</th>\n",
              "      <th>Average Ranking</th>\n",
              "      <th>Name</th>\n",
              "      <th>Description - Corey Pronman</th>\n",
              "      <th>Description - Scott Wheeler</th>\n",
              "      <th>Description - Smaht Scouting</th>\n",
              "      <th>Description - ESPN (Chris Peters)</th>\n",
              "      <th>Description - EP Rinkside</th>\n",
              "      <th>Description - EP Rinkside Part 2</th>\n",
              "      <th>Description - The Painted Lines</th>\n",
              "      <th>Description - FCHockey</th>\n",
              "    </tr>\n",
              "  </thead>\n",
              "  <tbody>\n",
              "    <tr>\n",
              "      <th>0</th>\n",
              "      <td>2022</td>\n",
              "      <td>LW</td>\n",
              "      <td>1</td>\n",
              "      <td>MON</td>\n",
              "      <td>1.0</td>\n",
              "      <td>Juraj Slafkovsky</td>\n",
              "      <td>Slafkovsky has all the assets you’re looking f...</td>\n",
              "      <td>Slafkovsky is one of the draft’s most tantaliz...</td>\n",
              "      <td>Slafkovsky can be a menace at the NHL level. H...</td>\n",
              "      <td>The potential of what Slafkovsky can be as he ...</td>\n",
              "      <td>Slafkovský is one of the largest players in th...</td>\n",
              "      <td>Nothing brought out Juraj Slafkovský’s draft y...</td>\n",
              "      <td>Slafkovsky dominated the international scene t...</td>\n",
              "      <td>Juraj Slafkovsky drives offense from the wing....</td>\n",
              "    </tr>\n",
              "    <tr>\n",
              "      <th>1</th>\n",
              "      <td>2022</td>\n",
              "      <td>C</td>\n",
              "      <td>4</td>\n",
              "      <td>SEA</td>\n",
              "      <td>2.0</td>\n",
              "      <td>Shane Wright</td>\n",
              "      <td>Wright is a very well-rounded center who has n...</td>\n",
              "      <td>Still my top prospect in this class (though no...</td>\n",
              "      <td>The complicated and essential question to answ...</td>\n",
              "      <td>With high-end hockey sense highlighted by his ...</td>\n",
              "      <td>The top player from the class held this positi...</td>\n",
              "      <td>In a draft year shaped by substantial depth ra...</td>\n",
              "      <td>Wright has been on the radar of scouts for a l...</td>\n",
              "      <td>Shane Wright is an elite two-way center with i...</td>\n",
              "    </tr>\n",
              "    <tr>\n",
              "      <th>2</th>\n",
              "      <td>2022</td>\n",
              "      <td>D</td>\n",
              "      <td>2</td>\n",
              "      <td>NJD</td>\n",
              "      <td>4.0</td>\n",
              "      <td>Simon Nemec</td>\n",
              "      <td>Nemec is a very well-rounded defenseman. His p...</td>\n",
              "      <td>This kid turned 18 in the middle of February a...</td>\n",
              "      <td>With Nemec, you are netting a top pairing defe...</td>\n",
              "      <td>One of the very best passers in this draft, Ne...</td>\n",
              "      <td>The statistical comparables to Nemec's draft y...</td>\n",
              "      <td>Šimon Nemec just put together the most product...</td>\n",
              "      <td>Few players have been as dominant at the pro-l...</td>\n",
              "      <td>Simon Nemec is a mobile two-way and highly-int...</td>\n",
              "    </tr>\n",
              "    <tr>\n",
              "      <th>3</th>\n",
              "      <td>2022</td>\n",
              "      <td>C</td>\n",
              "      <td>3</td>\n",
              "      <td>ARI</td>\n",
              "      <td>3.0</td>\n",
              "      <td>Logan Cooley</td>\n",
              "      <td>Cooley is a dynamic player. When he has the pu...</td>\n",
              "      <td>Cooley is a beautiful, flowing skater capable ...</td>\n",
              "      <td>Logan Cooley is for sure one of the more well-...</td>\n",
              "      <td>Over the last several months, I have constantl...</td>\n",
              "      <td>A highly creative, speed-driven pivot who brin...</td>\n",
              "      <td>You won’t find a more singularly-gifted puckha...</td>\n",
              "      <td>A small, speedy center, Cooley dominated the U...</td>\n",
              "      <td>Juraj Slafkovsky drives offense from the wing....</td>\n",
              "    </tr>\n",
              "    <tr>\n",
              "      <th>4</th>\n",
              "      <td>2022</td>\n",
              "      <td>D</td>\n",
              "      <td>6</td>\n",
              "      <td>CBJ</td>\n",
              "      <td>5.0</td>\n",
              "      <td>David Jiricek</td>\n",
              "      <td>Jiricek is a big, right-shot defenseman who ma...</td>\n",
              "      <td>After suffering a knee injury at the world jun...</td>\n",
              "      <td>Top pairing defenseman at the NHL level if he ...</td>\n",
              "      <td>A highly mobile, 6-foot-3 defenseman with a bo...</td>\n",
              "      <td>A knee injury fractured Jiříček’s season, but ...</td>\n",
              "      <td>David Jiříček finishes the year as the highest...</td>\n",
              "      <td>Similar to Nemec, Jiricek plays a mature game ...</td>\n",
              "      <td>David Jiricek is an exceptional two-way defens...</td>\n",
              "    </tr>\n",
              "  </tbody>\n",
              "</table>\n",
              "</div>"
            ],
            "text/plain": [
              "   Year Position  Drafted Team  Average Ranking              Name  \\\n",
              "0  2022       LW        1  MON              1.0  Juraj Slafkovsky   \n",
              "1  2022        C        4  SEA              2.0      Shane Wright   \n",
              "2  2022        D        2  NJD              4.0       Simon Nemec   \n",
              "3  2022        C        3  ARI              3.0      Logan Cooley   \n",
              "4  2022        D        6  CBJ              5.0     David Jiricek   \n",
              "\n",
              "                         Description - Corey Pronman  \\\n",
              "0  Slafkovsky has all the assets you’re looking f...   \n",
              "1  Wright is a very well-rounded center who has n...   \n",
              "2  Nemec is a very well-rounded defenseman. His p...   \n",
              "3  Cooley is a dynamic player. When he has the pu...   \n",
              "4  Jiricek is a big, right-shot defenseman who ma...   \n",
              "\n",
              "                         Description - Scott Wheeler  \\\n",
              "0  Slafkovsky is one of the draft’s most tantaliz...   \n",
              "1  Still my top prospect in this class (though no...   \n",
              "2  This kid turned 18 in the middle of February a...   \n",
              "3  Cooley is a beautiful, flowing skater capable ...   \n",
              "4  After suffering a knee injury at the world jun...   \n",
              "\n",
              "                        Description - Smaht Scouting  \\\n",
              "0  Slafkovsky can be a menace at the NHL level. H...   \n",
              "1  The complicated and essential question to answ...   \n",
              "2  With Nemec, you are netting a top pairing defe...   \n",
              "3  Logan Cooley is for sure one of the more well-...   \n",
              "4  Top pairing defenseman at the NHL level if he ...   \n",
              "\n",
              "                   Description - ESPN (Chris Peters)  \\\n",
              "0  The potential of what Slafkovsky can be as he ...   \n",
              "1  With high-end hockey sense highlighted by his ...   \n",
              "2  One of the very best passers in this draft, Ne...   \n",
              "3  Over the last several months, I have constantl...   \n",
              "4  A highly mobile, 6-foot-3 defenseman with a bo...   \n",
              "\n",
              "                           Description - EP Rinkside  \\\n",
              "0  Slafkovský is one of the largest players in th...   \n",
              "1  The top player from the class held this positi...   \n",
              "2  The statistical comparables to Nemec's draft y...   \n",
              "3  A highly creative, speed-driven pivot who brin...   \n",
              "4  A knee injury fractured Jiříček’s season, but ...   \n",
              "\n",
              "                    Description - EP Rinkside Part 2  \\\n",
              "0  Nothing brought out Juraj Slafkovský’s draft y...   \n",
              "1  In a draft year shaped by substantial depth ra...   \n",
              "2  Šimon Nemec just put together the most product...   \n",
              "3  You won’t find a more singularly-gifted puckha...   \n",
              "4  David Jiříček finishes the year as the highest...   \n",
              "\n",
              "                     Description - The Painted Lines  \\\n",
              "0  Slafkovsky dominated the international scene t...   \n",
              "1  Wright has been on the radar of scouts for a l...   \n",
              "2  Few players have been as dominant at the pro-l...   \n",
              "3  A small, speedy center, Cooley dominated the U...   \n",
              "4  Similar to Nemec, Jiricek plays a mature game ...   \n",
              "\n",
              "                              Description - FCHockey  \n",
              "0  Juraj Slafkovsky drives offense from the wing....  \n",
              "1  Shane Wright is an elite two-way center with i...  \n",
              "2  Simon Nemec is a mobile two-way and highly-int...  \n",
              "3  Juraj Slafkovsky drives offense from the wing....  \n",
              "4  David Jiricek is an exceptional two-way defens...  "
            ]
          },
          "execution_count": 56,
          "metadata": {},
          "output_type": "execute_result"
        }
      ],
      "source": [
        "# dataset location\n",
        "DATASET = \"data/prospect-data.csv\"\n",
        "\n",
        "# load dataset into dataframe\n",
        "data = pd.read_csv(DATASET)\n",
        "\n",
        "data.head()"
      ]
    },
    {
      "cell_type": "code",
      "execution_count": 3,
      "metadata": {
        "colab": {
          "base_uri": "https://localhost:8080/"
        },
        "id": "mJ_zKhGPe1jL",
        "outputId": "e20c9369-f975-4bff-b2f2-e41ad2674966"
      },
      "outputs": [
        {
          "name": "stdout",
          "output_type": "stream",
          "text": [
            "<class 'pandas.core.frame.DataFrame'>\n",
            "RangeIndex: 318 entries, 0 to 317\n",
            "Data columns (total 14 columns):\n",
            " #   Column                             Non-Null Count  Dtype  \n",
            "---  ------                             --------------  -----  \n",
            " 0   Year                               318 non-null    int64  \n",
            " 1   Position                           318 non-null    object \n",
            " 2   Drafted                            318 non-null    int64  \n",
            " 3   Team                               318 non-null    object \n",
            " 4   Average Ranking                    96 non-null     float64\n",
            " 5   Name                               318 non-null    object \n",
            " 6   Description - Corey Pronman        310 non-null    object \n",
            " 7   Description - Scott Wheeler        141 non-null    object \n",
            " 8   Description - Smaht Scouting       90 non-null     object \n",
            " 9   Description - ESPN (Chris Peters)  155 non-null    object \n",
            " 10  Description - EP Rinkside          144 non-null    object \n",
            " 11  Description - EP Rinkside Part 2   138 non-null    object \n",
            " 12  Description - The Painted Lines    113 non-null    object \n",
            " 13  Description - FCHockey             315 non-null    object \n",
            "dtypes: float64(1), int64(2), object(11)\n",
            "memory usage: 34.9+ KB\n"
          ]
        }
      ],
      "source": [
        "data.info(verbose=True)"
      ]
    },
    {
      "cell_type": "code",
      "execution_count": 57,
      "metadata": {
        "colab": {
          "base_uri": "https://localhost:8080/"
        },
        "id": "h8l7ej0ASdIf",
        "outputId": "eadc2de2-5cd9-40c5-b78a-876d8044209c"
      },
      "outputs": [
        {
          "name": "stdout",
          "output_type": "stream",
          "text": [
            "<class 'pandas.core.frame.DataFrame'>\n",
            "Int64Index: 220 entries, 0 to 310\n",
            "Data columns (total 14 columns):\n",
            " #   Column                             Non-Null Count  Dtype  \n",
            "---  ------                             --------------  -----  \n",
            " 0   Year                               220 non-null    int64  \n",
            " 1   Position                           220 non-null    int32  \n",
            " 2   Drafted                            220 non-null    int64  \n",
            " 3   Team                               220 non-null    object \n",
            " 4   Average Ranking                    72 non-null     float64\n",
            " 5   Name                               220 non-null    object \n",
            " 6   Description - Corey Pronman        217 non-null    object \n",
            " 7   Description - Scott Wheeler        102 non-null    object \n",
            " 8   Description - Smaht Scouting       68 non-null     object \n",
            " 9   Description - ESPN (Chris Peters)  108 non-null    object \n",
            " 10  Description - EP Rinkside          102 non-null    object \n",
            " 11  Description - EP Rinkside Part 2   98 non-null     object \n",
            " 12  Description - The Painted Lines    84 non-null     object \n",
            " 13  Description - FCHockey             218 non-null    object \n",
            "dtypes: float64(1), int32(1), int64(2), object(10)\n",
            "memory usage: 24.9+ KB\n"
          ]
        }
      ],
      "source": [
        "# clean up dataset\n",
        "# might have to look at dropping seattle in the future but for clustering it \n",
        "# should not matter\n",
        "#data = data[data['Team'] != 'SEA']\n",
        "\n",
        "# try with only forwards\n",
        "data = data[(data['Position'] == 'C') | (data['Position'] == 'LW') | (data['Position'] == 'RW')]\n",
        "\n",
        "# encode position\n",
        "# TODO: we should keep the positions for when we do clustering\n",
        "le = preprocessing.LabelEncoder()\n",
        "le.fit(data['Position'].unique())\n",
        "data['Position'] = data['Position'].apply(lambda x: le.transform([x])[0])\n",
        "\n",
        "\n",
        "data.info()"
      ]
    },
    {
      "cell_type": "code",
      "execution_count": 58,
      "metadata": {
        "colab": {
          "base_uri": "https://localhost:8080/"
        },
        "id": "BU2qKUXDTkH3",
        "outputId": "3209183c-e731-448e-d2b6-80d98cd52aaa"
      },
      "outputs": [
        {
          "name": "stdout",
          "output_type": "stream",
          "text": [
            "length of corpus: 220\n",
            "length of labels: 220\n",
            "length of draft_position: 220\n",
            "length of player_position: 220\n",
            "corpus first 5: [' asset look top foot beat oppon skill possess outstand puck skill put puck leg stick high rate use finess power quick get around defend set finish play well physic run guy compet good enough project top line potenti pop becom true star one draft tantal prospect skill size combo scout coach clamour alreadi demonstr pro competit domest notabl intern big year nine point five game histor silver medal slovak hlinka gretzki cup olymp bronz medal tournament mvp liiga silver medal club team tp team lead nine point men world built like power pound frame make one draft heaviest player play game uncharacterist finess regularli flash expect smaller one one pull puck tight feet got rangi fluid stride make surprisingli danger rush impress confid puck stick enabl hang onto sometim fault attack wall slot take puck half wall home plate area shoot forehand team draft bet upsid grade near top class big fan approach continu play style look attack control lot forward size becom deferenti fall back give go habit fit mould make pro level play higher higher competit despit makeup success risk associ project size small player one carri size base limit though combin much like four player slot ahead leav littl lower pick even real chanc becom one two three best player draft menac level stick handl reach play cycl make threat low broaden game work long rang shot allow becom dual threat even becom dual threat offens physic reach net puck puck battl set teammat slot said envis top six contributor level potenti continu intox foot physic high end skill one better overal shot draft hard get excit chanc end pick draft may one day view best everi bit good two player list ahead talent alon watch lot year enamor physic tool skill ton preced kind season produc rate far expect top five draft pick leagu season yet chart intern end largest sampl judg club season tp look player liiga gone earli draft better number mani better number lot someth easili ignor among u player play least game liiga u player point per game rank th st overal last year classic eye test darl big reason rang play well intern event sure discuss play game got physic domin young held pro eventu becam one team import player olymp world championship field calib competit signific stage broke profession think progress season play confid stretch significantli alter well play better tough case read bodi work suggest statist among top tier player leagu histor immens skillset draft class imposs overlook think mix best player class even though know number say get past incred ceil believ size skill packag creat slafkovsk one largest player first round possess largest upsid anyon class rocket shot soft improv skate stride packag foot pound frame make play space great need without well unicorn noth brought slafkovsk draft year best quit like opportun wear countri colour repres slovakia intern competit ultim patriot start scout season shot cannon put nine point five game en rout silver medal hlinka gretzki august next seven goal seven game mvp honour led slovakia bronz medal beij olymp lastli game clip world hockey championship age season like chop liver liiga either ten point game hardli anyth scoff first draft elig skater one europ challeng profession leagu appeal slafkovsk obviou foot playmak power soft shoot skill sort wall game would alreadi rate averag qualiti first thing notic easili retain possess duress like watch bulli play keep away one hand stiff arm victim reach one wave stolen item mock good measur slafkovsk want puck take puck good luck get back mostli seen slovak profession set season make much impress one thing ward physic undevelop year old anoth thing entir swat away season veteran top men leagu like mosquito slafkovsk bring lot tabl brute forc though make prospect turn extend possess sequenc legitim chanc sometim drive net front chanc time handl way pass opportun send puck linem finish job slafkovsk often leav staff want though footspe defici mani whether postur heel kick recoveri hop crossov cannot separ oppon space slafkovsk credit alreadi seen consider growth skater season reason believ continu path rise rank probabl averag tool pretti big step start season surpris hear slafkovsk name call high first overal juli draft player skill set rare team guard player close move heaven earth find one mean want high top six physic side upsid slafkovsk domin intern scene past season solidifi number two pick draft season last year play world junior olymp world championship domin perform came olymp led slovakia bronz medal receiv mvp honor remark feat year old intrigu prospect absurd overal physic offens packag well pound strong puck use frame physic manner yet incred make play tight like player draft class make size high skill domin low open ice domin intern level men struggl put point time top leagu howev scout concern believ higher number come may make immedi next season due physic matur like need least anoth season offens game drive wing massiv strong case challeng first overal play high pace impress agil someon size use strong stride long leg gener lot step lack extra gear separ well protect puck challeng make burst concern may follow strong stickhandl move puck tight control possess well pace play ice awar three zone anoth aspect game excel make extra effort backcheck well go low support bluelin defend use stick well take advantag long reach win battl loos puck immens offens potenti frustrat pass great opportun teammat learn take given remov moment tunnel vision game someth need improv consist impact attack blend size skill make domin level ultim swing upsid still solid floor becom capabl develop littl doubt forc next year peopl wonder even debat top pick class hit potenti still got potenti top six impact game regularli', ' well round notic flaw skill set ton game get overli excit skate handl puck like nhler game translat compet direct style play take puck net play quick pull make tough pass take puck interior high end vision run power play unit make tough play pace shot good show pick corner long rang consist puck competit respons show matur beyond year project due around play chanc star probabl elit scorer leagu still top prospect class though longer tier athlet kid boast wide gait boxi shoulder balanc puck physic tool complement lethal wrist shot releas get sever stanc pop blade heel toe quick traffic allow take puck wall chanc interior one dilig three zone player draft power stride help push play ice though power evid length sheet standstil quick foot race done provid support low zone puck shot biggest weapon insid offens zone actual think owe goal shot season gave play much creativ game insid offens zone second half blend versatil skill headi detail game allow drive line reli upon situat middl next level time scout want play littl fire feisti realli take game impos forecheck battl eye detail puck put support role often activ chase fine would like hang onto puck littl season play talent linem play strength execut give go work got pro tool project impact top six centr may becom per game goal upsid premium posit complic essenti question answer mean look doubt attent detail style play combin intellig quick decis make start valuabl foundat continu build progress howev packag skill habit take far advanc play intellig faster competit infrequ show high octan reason caus doubt offens ceil moment like prematur valu concern heavili enough knock top spot draft class howev question mark around offens contribut still exist juli would warrant consid game project assess lead consensu st overal expect prospect matter save franchis gener talent like disappoint reason project would rang low end st line high end nd line may sound pessimist context st overal still essenti piec success team easi acquir addit like benefit pair skill winger allow focu push play ice offens zone linem flourish final shot sure continu threat powerplay consist shown score mani angl distanc high end hockey sens highlight tremend offens intellig make lot play lack dynam puck skill term handl one better shot draft class quick decept releas though often compar patric bergeron think good two way degre especi apt comparison lot thing hope term puck possess make play contribut end offens element game standout trait biggest concern date gener lack progress game year year full knowledg miss entir season think grade curv result harder know much lost season impact long term project hockey sens separ factor peer clearli competit drive allow win lot battl end think everyth well hockey sens shot high end elit trait terrif vision spot play best lack dynam element play give concern asid progress wait season look like draft pick feel ceil level safer pick three think highest floor three player possess readi game think done develop plenti potenti still reach concern closer plateau two player convinc true yet definit back mind rank player three close top class held posit tip tail board highli intellig pivot boast heavi releas deft pass touch wherewith packag tool situat lack separ like elit centr make nuanc understand game connect play drive action dish finish thwart play go good draft year shape substanti depth rather overwhelm star power almost fit least excit option first overal one better still one allow us clunki pun would end spot may seem like foregon conclus year two ago gap year lost season forc countless other slow gate two month good great product enough make question first overal pick open one mani industri new answer emerg first form later though remind scout commun qualiti end mani conversa tion emphat per game clip ran octob novemb turn end calendar year kept climb amass point regular season contest season end good per game clip still lowest draft year point per game mark first overal pick chl side rick nash select perhap repres sampl decemb onward get point per game nugent hopkin context shift focu question mani draft premier play connector ice ad ministr team offens defens sequenc flow constantli survey ice maintain mental map surround downright topograph level detail know posit teammat like long establish fact rather dynam chang set option play field move puck match level confid look pass give go one two touch pass reach adjust pass master everi one tool en rout becom one game best playmak centr current cun distributor high level shot even littl peculiar mechan perspect especi potent pass best class complet packag offens would cours feel better shot use littl judici rather settl low percentag attempt pressur minor quibbl scalabl offens toolkit find class play defens zone de fensiv read angl support play beyond reproach may art ross futur j selk seem well within reach make patric bergeron comparison lightli factor combin make consensu first overal pick elit prospect scout staff come across mani player polish well round year old much pass hold first pick juli draft radar scout long receiv except statu play year old put amaz number unfortun play last season covid restrict ontario despit miss captain gold medal put point season potenti well round draft everyth realli well zone play matur game strong leadership qualiti origin look like goal scorer year old season round playmak well past year finish top biggest asset shot gener opportun drive line make potenti number one level scout question offens ceil potenti number one pick easili put goal point level regular full duti next season elit two way incred offens often watch player realli struggl find mani weak level way intellig ice second none full display playmak lane pursuit awar add pro calib shot toolbox allow multi dimension offens threat level sooner rather later matur defens game effect defens offens know nuanc play posit properli support defend everi play never seem caught posit remain engag effect rush cycl biggest issu game season inconsist offens product christma break produc way top tier draft elig prospect would put question product rest amaz second half explos odd amount discours surround statur top class given way season went complet unwarr import rememb miss essenti entir season due pandem insan expect come rooki season way rebound latter half year show enough remind peopl futur top line year come consid odd favorit number one select draft', ' dynam puck stick instantli notic high end skill offens iq make highli creativ deke pass full pace game think top take puck ice net often lack size play hard drive play even strength vision shot power play threat run unit wall project first line would low end first line beauti flow skater capabl beat defend mark circl zone get defend watch puck manipul footwork maneuver tight space got side step hop around oncom player got great sixth sens time space around offens zone free accept pass jump onto rebound regularli flash skill insid slice middl pull puck around defend swiss armi knife combin skill work attitud push pace make play win race stay involv get onto ice situat love tempo feel game touch puck get high grade skate particularli chang pace energi level differenti thing make pretti compel packag find scout like either transit game offens zone vision wall play interior exterior incred crafti control stickhandl phone booth creat problem defencemen attack angl shift scrappi game keep fight sure one well round talent player entir draft class certainli project top play anywher lineup abl contribut without question base play start season come shock name come draft board within first pick possibl even insid top plenti team fawn abil depend situat draft team may abl sway decis forego next season head straight last sever month constantli debat mid term waffl next month start pick play coincid dip product play complic game need reason reason great draft top draft dynam greatest potenti explos high end make high level play rush thing player class cannot play brilliant support class year list number u u first round rang alway head rest term play way dictat shift throughout season believ next level continu current trend line compet everi inch ice play strong north south game despit stretch defens east west skill watch playoff year think shift even best team fast dynam forward constantli keep defend heel cede possess without tri option process game fast anyon draft spot play transit major separ field vision thread pass well get behind defend give better look net head univers next year solid train ground last year player track think probabl one done would readi make impact end arriv progress think highest ceil top three prospect play style consist modern premium bring spade finish play well anyon els class everyth goe alway big think superstar leagu highli creativ driven pivot bring lot pop middl realli show activ make play rush season excit go quick feet abl play comprehens situat role year find singularli gift puckhandl year draft human highlight reel swashbuckl way defend like hot knife cut butter start first touch best one class way seamlessli blend pass recep tion first move without break stride almost unfair whether catch difficult pass backhand forehand insid crossov make happen like watch wide receiv unlimit catch radiu way keep top hand push bodi handler full rang motion chang speed lane neutral zone deceiv shoulder feint look off pro level stuff rest assur part game go scale least capac mixtap skate though one rare tripl threat scorer draft move serv purpos whether draw defend space elsewher open pass lane get better shoot posit think control chao vision anticip develop play cun decept make easili attain abl touch distributor connect real concern project ab senc high end tool outsid skill handler even tendenc play beyond consider skill level often turn greatest asset liabil far mani turnov low percentag play draft year like one hand want gift like test limit game everi take ice littl discret would go long way manag allay concern front growth season puck threat show staff way stay involv team offenc even drive play person proof concept selfless fashion support play well consist display understand rotat habit everyon ice perfectli time movement space prepar bodi footwork send one two touch attempt goal puck find still hurt add anoth gear skater bit top heavi lack explos later mobil sometim struggl access outsid edg averag skater current construct definit part game stand improv overal though disput centr upsid even hardli foregon conclus get height career within rang realist outcom count lot small domin solidifi top five season progress consist took game use instinct playmak goal scorer drive line run powerplay afraid put harm way make play relentless forecheck possess driver play high tempo energi great skater incred agil use elud defend defens rare liabil zone make transit play find way util teammat regular basi shown drive line dynam qualiti game like top five pick go high number two slate attend univers next season like one year away duti drive wing massiv strong case challeng first overal play high pace impress agil someon size use strong stride long leg gener lot step lack extra gear separ well protect puck challeng make burst concern may follow strong stickhandl move puck tight control possess well pace play ice awar three zone anoth aspect game excel make extra effort backcheck well go low support bluelin defend use stick well take advantag long reach win battl loos puck immens offens potenti frustrat pass great opportun teammat learn take given remov moment tunnel vision game someth need improv consist impact attack blend size skill make domin level ultim swing upsid still solid floor becom capabl develop littl doubt forc next year peopl wonder even debat top pick class hit potenti still got potenti top six impact game regularli', ' talent scorer stand puck stick attack varieti way passer run power play hit seam high rate make tough play duress good maneuv traffic good beat oppon wide shot score rang lack ideal size compet hard win surpris amount battl size incred skill foot may move wing regardless good top six draft class whose game thrill fire insid offens zone lethal got extrem quick side side help beat defend one one cut got shot place pinpoint accuraci bad angl rip goali clean distanc chang slide five hole job creat play slot traffic burn skater explos allow win race separ transit put defend onto heel dash hole coverag net draw penalti soft small area passer blend decept movement top thing got bit chip shoulder alway engag keep feet move play ton energi finish check knock fair share player despit smaller side sturdier feet frame might suggest help play check dynam high tempo top six goal creat packag excit talent draft short clear pp upsid due shoot skill packag clear five five upsid skate motor even game point fall almost alway danger threaten ice seldom go leav want suffer shoulder injuri playoff sling posit news summer ahead star potenti level especi continu development track current talk decept manipul defens lead success potenti dazzl audienc nightli basi outstand hockey sens pace puck handl skill easili put assist season regular basi prime given well see ice easili find teammat pass argu season well within realm possibl continu along path watch close feel safe say high probabl success abl keep pace line slow game adjust play style linem time pass posit make one stronger offens player draft class potent scorer playmak whenev ice biggest question game involv adjust face strongest competit time season feel littl inconsist better team typic team give less space work abl adapt given lot space work reli quick decis make hockey sens order high danger chanc anoth question whether take game great elit argument mind look great vast major season seen flash elit play consist enough basi believ top ten mayb even top five play like potenti top ten pick potenti put perhap even point level seen much higher gear game look flat domin capabl becom even level look like true second overal pick contend first overal spot howev wait play elit level consist obvious team worri size averag defens play issu move decept skater avoid physic contact three zone defens play bad size size determin skill level pass would huge mistak team pass potenti franchis cornerston would bold strategi one recommend top center especi hand one come around everi day end day go come develop handl transit pro believ play earli next season given dynam natur offens zone adequ defens zone play abl thrive modern thank creativ inaugur total real dwayn rock electrifi award goe excit play game drive power stay hungri devour competit sure samoan vein know damn good prospect someon clamor draft team lotteri pick top scorer season noth dissuad anyon offens talent one thing thought even better season battl play like foot aggress desir physic engag opposit go get stronger effect tool high end good skater quick drive net distribut puck quickli accur decis make stand playmak depart size factor term play top level may ultim skew project hard ignor total skill hard argu point game competit rang draft tougher project other produc machin past season lean skate deft pass skill offens mind relianc man advantag well document lead elig skater primari even strength point per game inabl get insid coupl statur averag iq keep bit lower pure skill stat would indic player draft spent scout commun sight winnipeg ice reject bid except statu first overal pick draft trip pandem year back season best regular season side done part command attent game one pure unrel skill built score whether deposit puck back net set teammat honour result skill last season per game clip good highest rate among first draft elig skater tool rate averag foun dation game rest skate stride heavi crossov use constant motion propel high pace constantli attack approach make everi puck touch opportun chanc stack brilliant first touch handl skill stride wrister one two touch pass top skate pace combo ensur mani chanc naught runway take advantag tool help proven pretti robust puck threat sustain offens zone sequenc will ness get insid play check allow seek soft ice finish skill take cours one nitpick would took season consist display tool meaning fashion even year tape repres bit letdown rel lofti standard draft minu one film dubuqu fight saint establish look game report find went miss top five one bare cling back end top alarm trend reveal draft year defer probabl one concern staff frankli gun shi time seem would often panic pressur other would attract oppon space elsewher simpli put advantag team way prospect top line aspir stage howev tool remain except saw enough flash high level think still feel confid back half top year draft halv number actual draft posit surpris us either come top six prospect top line one result bill elit prospect draft guid high season impress chang small diminut well round offens mind play high pace tenac well make formid oppon last season domin season put point show put point high level competit reput anticip play well make play top eas use edg well tight project playmak level use offens situat appear drive line make around better biggest question mark size center howev skill significantli make lack height strong skate balanc hockey sens get sticki situat quickli offens versatil mean potenti play wing though team draft would like prefer like need anoth season two season strength build readi project top six level extrem intellig playmak play game high pace effect situat year whether five five power play even penalti kill play game effect whatev pace dictat game wide open abl use explos blow bluelin second make mistak tri defend game control firm grasp defens assign lose posit player abl move quickli puck abl keep case abl handl puck extrem well full make defend look silli one one lethal year power play decept puck keep oppon guess go display high compet level hound forecheck despit size afraid puck battl defens game get enough credit got good defens posit show good heart kill penalti use high hockey iq read play caus turnov big knock realli come size sometim get bottl go rush get push puck although hound puck realli use bodi separ anyon puck despit physic limit team undoubtedli select earli draft hope abl develop top six playmak', ' well round almost everi attribut want size foot bring skill shift show carri puck ice chanc teammat pass puck well shot main weapon set mid rang finish lack size play hard show fear engag physic win back puck take hit make play project good top six score lot goal explod gate lead liiga first third season product hit bit wall second half jyp bottom f tabl team poor puck luck shot gener remain high reduct ice realiti go per game produc draft year help assuag doubt six goal eight u world perform though thought came went middl group play medal round remain one gift individu creator draft class slick play creat excel possess carv team coverag take play flank interior possess quick light tool enabl take advantag danger wrister get quickli varieti stanc varieti tempo puck agil cut chang direct play intent attack style puck play lot energi shi away physic side game endear coach despit foot frame like slow util linem littl better actual headi playmak part make excit insist creat look even come forc shot realli sling wrister one timer pop second line threat power play high put impress number first half season slow injuri second half lot tool look top six one best overal shot among top tier draft class higher end puck skill allow beat defend better opportun u world took game time lead bronz medal defens respons posit never quit puck skate pretti good shown separ think natur burner best offens half ice high end scorer next level top six ceil everyth goe make case top line scorer potenti high end finish top notch one timer fill liiga net earli injuri threw wrench thing never refound shine go need simplifi thing find chemistri space maker distributor noth profil come season realli scream top five pick exactli found public board decemb hot start scout season hlinka gretzki cup product first month jyp jyv skyl liiga play team call world junior amass point game good per game clip fourth highest rate among first draft elig liiga skater last year full season shoulder injuri foot sustain week lead world junior eventu caught though product start suffer result took game find scoresheet upon rejoin jyp januari manag six point total final game season neither segment season especi indic qualiti though quit except gaudi total might suggest first month season nowher near inept mute total back nine season would detractor believ howev bore may sound true talent level probabl lie somewher two block season even much reflect statist sign underli data elit prospect dir european scout lassi alanen track jyp benefit percentag inflat total would expect someon potent shot soft outperform expect shoot percentag eventu regress occur clearer pictur question shot easili one best class four player databas hundr year draft grade shooter one one select player credibl threaten shooter intermedi long rang consist comfort fire outsid leg wrister push front bodi gener desir downforc shift weight appropri snap puck goal partner instat start make whole lot sens way sling puck enough shoot skill though game best goal scorer find way stack odd favour crafti puck movement get anticip pocket space well arriv puck shoot op portun posit bodi best way catch releas pass gener seem well connect teammat sustain offens zone possess alway involv play never mistak retriev artist either shown forecheck skill physic across mani view need someon els dirti work make thing happen someon averag skate stride puck protect mechan make someth happen everi secur possess problem cours often littl awar handl shoot skill closer averag high end sometim play confid anyway result lot low percentag shot turnov miss pass opportun downright infuri watch time top half first round unlock best next level pretti straightforward exercis nice packag skill work add gear skate stride introduc manipul pattern small area game look low end top six shoot first noth els long fruit career middl six power play specialist like card burst onto scene season torrid pace look smash record countri top leagu teenag howev game cool significantli second half season struggl time regardless goal draft elig compet men small feat goal clearli greatest strength wrist shot set one timer powerplay volum shooter find way get open ice opportun eas high top first step give space offens zone need work overal consist like need least two year extra readi project top six level talent shot draft board incred hot streak start season first thing evid clear game stellar puck skill set success even seen embarrass profession competit select moment addit possess would argu top shot draft class fine skater gener quickli allow effect transit defens even better forecheck alway qualiti trait due stellar acceler strong edg tool help defens zone allow close oppos defensemen quickli pressur mistak defens zone posit fairli adequ inact stick instanc allow play blue line concern effect outsid snipe sometim seem primarili perimet benefit strong shot lucki bounc inflat particularli strong either drive toward net someth frequent enough pace howev lack strength expect draft elig play top profession european leagu given element long term concern strong skate elit shot make solid prospect worthi draft posit outperform draft slot develop well round offens attack compliment shot stay averag defens talent']\n",
            "labels first 5: ['MON', 'SEA', 'ARI', 'BUF', 'NSH']\n",
            "draft_position first 5: [1, 4, 3, 9, 17]\n",
            "player_position first 5: [1, 0, 0, 0, 2]\n"
          ]
        }
      ],
      "source": [
        "corpus, labels, draft_position, player_position, player_name = [], [], [], [], []\n",
        "\n",
        "scouting_reports = [\n",
        "    'Description - Corey Pronman',\n",
        "    'Description - Scott Wheeler',\n",
        "    'Description - Smaht Scouting',\n",
        "    'Description - ESPN (Chris Peters)',\n",
        "    'Description - EP Rinkside', \n",
        "    'Description - EP Rinkside Part 2',\n",
        "    'Description - The Painted Lines',\n",
        "    'Description - FCHockey'\n",
        "]\n",
        "\n",
        "# create a list of stopwords for player names\n",
        "player_names = list(data['Name'])\n",
        "name_stopwords = []\n",
        "for name in player_names:\n",
        "  name_split = name.split(' ')\n",
        "  for part in name_split:\n",
        "    name_stopwords.append(part.lower())\n",
        "\n",
        "# remove references to leagues, teams, and nationalities\n",
        "hockey_words = [\"usntdp\", \"ntdp\", \"development\", \"program\",\n",
        "                \"khl\", \"shl\", \"ushl\", \"ncaa\", \"ohl\", \"whl\", \"qmjhl\",\n",
        "                \"sweden\", \"russia\", \"usa\", \"canada\", \"ojhl\", \"finland\", \n",
        "                \"finnish\", \"swedish\", \"russian\", \"american\", \"wisconsin\",\n",
        "                \"michigan\", \"bc\", \"boston\", \"london\", \"bchl\", \"kelowna\",\n",
        "                \"portland\", \"minnesota\", \"ska\", \"frolunda\", \"sjhl\", \"college\",\n",
        "                \"center\", \"left\", \"right\", \"saginaw\", \"kelowna\"]\n",
        "\n",
        "# Initialize Python porter stemmer\n",
        "ps = PorterStemmer()\n",
        "\n",
        "# initialize lemmatizer\n",
        "lemmatizer = WordNetLemmatizer()\n",
        "\n",
        "for index, row in data.iterrows():\n",
        "  text = \"\"\n",
        "  for report in scouting_reports:\n",
        "    # skip null reports\n",
        "    if pd.isnull(row[report]):\n",
        "      continue\n",
        "\n",
        "    # keep only alpha characters\n",
        "    r = re.sub('[^a-zA-Z]', ' ', row[report])\n",
        "    # lower string everything\n",
        "    r = r.lower()\n",
        "    # split on spaces\n",
        "    r = r.split()\n",
        "    # remove stopwords and any reference to the name of the player\n",
        "    # TODO: check whether we should initialize stopwords, so we don't call this fuction every time\n",
        "    r = [word for word in r if word not in stopwords.words('english') and word not in name_stopwords and word not in hockey_words]\n",
        "\n",
        "    # stem cleansed string\n",
        "    r = [ps.stem(word) for word in r]\n",
        "    # lemmatize cleansed string\n",
        "    #r = [lemmatizer.lemmatize(word) for word in r]\n",
        "\n",
        "    # remove hockey specific stop words\n",
        "    #r = [word for word in r if word not in hockey_words]\n",
        "\n",
        "    # join back on spaces\n",
        "    r = ' '.join(r)\n",
        "    text = text + \" \" + r\n",
        "  # append to dataset\n",
        "  corpus.append(text)\n",
        "  labels.append(row['Team'])\n",
        "  draft_position.append(row['Drafted'])\n",
        "  player_position.append(row['Position'])\n",
        "  player_name.append(row['Name'])\n",
        "\n",
        "# sanity check values\n",
        "print(f\"length of corpus: {len(corpus)}\")\n",
        "print(f\"length of labels: {len(labels)}\")\n",
        "print(f\"length of draft_position: {len(draft_position)}\")\n",
        "print(f\"length of player_position: {len(player_position)}\")\n",
        "\n",
        "print(f\"corpus first 5: {corpus[0:5]}\")\n",
        "print(f\"labels first 5: {labels[0:5]}\")\n",
        "print(f\"draft_position first 5: {draft_position[0:5]}\")\n",
        "print(f\"player_position first 5: {player_position[0:5]}\")"
      ]
    },
    {
      "cell_type": "code",
      "execution_count": 59,
      "metadata": {
        "colab": {
          "base_uri": "https://localhost:8080/",
          "height": 1000
        },
        "id": "Fob1-wcBaV90",
        "outputId": "721da0df-2b6b-4e4b-bf24-3f33a7c6864c"
      },
      "outputs": [
        {
          "name": "stdout",
          "output_type": "stream",
          "text": [
            "shape of X_train_vect: (147, 1605)\n"
          ]
        },
        {
          "data": {
            "text/html": [
              "<div>\n",
              "<style scoped>\n",
              "    .dataframe tbody tr th:only-of-type {\n",
              "        vertical-align: middle;\n",
              "    }\n",
              "\n",
              "    .dataframe tbody tr th {\n",
              "        vertical-align: top;\n",
              "    }\n",
              "\n",
              "    .dataframe thead th {\n",
              "        text-align: right;\n",
              "    }\n",
              "</style>\n",
              "<table border=\"1\" class=\"dataframe\">\n",
              "  <thead>\n",
              "    <tr style=\"text-align: right;\">\n",
              "      <th></th>\n",
              "      <th>TF-IDF</th>\n",
              "    </tr>\n",
              "  </thead>\n",
              "  <tbody>\n",
              "    <tr>\n",
              "      <th>larg frame</th>\n",
              "      <td>0.244245</td>\n",
              "    </tr>\n",
              "    <tr>\n",
              "      <th>play often</th>\n",
              "      <td>0.235293</td>\n",
              "    </tr>\n",
              "    <tr>\n",
              "      <th>great shot</th>\n",
              "      <td>0.203989</td>\n",
              "    </tr>\n",
              "    <tr>\n",
              "      <th>get quick</th>\n",
              "      <td>0.122123</td>\n",
              "    </tr>\n",
              "    <tr>\n",
              "      <th>show quick</th>\n",
              "      <td>0.122123</td>\n",
              "    </tr>\n",
              "    <tr>\n",
              "      <th>get spot</th>\n",
              "      <td>0.122123</td>\n",
              "    </tr>\n",
              "    <tr>\n",
              "      <th>make nice</th>\n",
              "      <td>0.122123</td>\n",
              "    </tr>\n",
              "    <tr>\n",
              "      <th>fair amount</th>\n",
              "      <td>0.122123</td>\n",
              "    </tr>\n",
              "    <tr>\n",
              "      <th>scorer season</th>\n",
              "      <td>0.122123</td>\n",
              "    </tr>\n",
              "    <tr>\n",
              "      <th>play open</th>\n",
              "      <td>0.122123</td>\n",
              "    </tr>\n",
              "    <tr>\n",
              "      <th>quick decis make</th>\n",
              "      <td>0.122123</td>\n",
              "    </tr>\n",
              "    <tr>\n",
              "      <th>get involv</th>\n",
              "      <td>0.122123</td>\n",
              "    </tr>\n",
              "    <tr>\n",
              "      <th>battl defens</th>\n",
              "      <td>0.122123</td>\n",
              "    </tr>\n",
              "    <tr>\n",
              "      <th>battl along board</th>\n",
              "      <td>0.122123</td>\n",
              "    </tr>\n",
              "    <tr>\n",
              "      <th>defens zone play</th>\n",
              "      <td>0.122123</td>\n",
              "    </tr>\n",
              "    <tr>\n",
              "      <th>season howev</th>\n",
              "      <td>0.122123</td>\n",
              "    </tr>\n",
              "    <tr>\n",
              "      <th>possess great</th>\n",
              "      <td>0.122123</td>\n",
              "    </tr>\n",
              "    <tr>\n",
              "      <th>offens zone</th>\n",
              "      <td>0.121271</td>\n",
              "    </tr>\n",
              "    <tr>\n",
              "      <th>forc turnov</th>\n",
              "      <td>0.117646</td>\n",
              "    </tr>\n",
              "    <tr>\n",
              "      <th>regain possess</th>\n",
              "      <td>0.117646</td>\n",
              "    </tr>\n",
              "    <tr>\n",
              "      <th>retriev puck</th>\n",
              "      <td>0.117646</td>\n",
              "    </tr>\n",
              "    <tr>\n",
              "      <th>best prospect</th>\n",
              "      <td>0.117646</td>\n",
              "    </tr>\n",
              "    <tr>\n",
              "      <th>good chanc</th>\n",
              "      <td>0.117646</td>\n",
              "    </tr>\n",
              "    <tr>\n",
              "      <th>hard contain</th>\n",
              "      <td>0.117646</td>\n",
              "    </tr>\n",
              "    <tr>\n",
              "      <th>puck zone</th>\n",
              "      <td>0.117646</td>\n",
              "    </tr>\n",
              "    <tr>\n",
              "      <th>high end talent</th>\n",
              "      <td>0.117646</td>\n",
              "    </tr>\n",
              "    <tr>\n",
              "      <th>highli effect</th>\n",
              "      <td>0.117646</td>\n",
              "    </tr>\n",
              "    <tr>\n",
              "      <th>end talent</th>\n",
              "      <td>0.117646</td>\n",
              "    </tr>\n",
              "    <tr>\n",
              "      <th>improv defens</th>\n",
              "      <td>0.117646</td>\n",
              "    </tr>\n",
              "    <tr>\n",
              "      <th>shot strong</th>\n",
              "      <td>0.113769</td>\n",
              "    </tr>\n",
              "  </tbody>\n",
              "</table>\n",
              "</div>"
            ],
            "text/plain": [
              "                     TF-IDF\n",
              "larg frame         0.244245\n",
              "play often         0.235293\n",
              "great shot         0.203989\n",
              "get quick          0.122123\n",
              "show quick         0.122123\n",
              "get spot           0.122123\n",
              "make nice          0.122123\n",
              "fair amount        0.122123\n",
              "scorer season      0.122123\n",
              "play open          0.122123\n",
              "quick decis make   0.122123\n",
              "get involv         0.122123\n",
              "battl defens       0.122123\n",
              "battl along board  0.122123\n",
              "defens zone play   0.122123\n",
              "season howev       0.122123\n",
              "possess great      0.122123\n",
              "offens zone        0.121271\n",
              "forc turnov        0.117646\n",
              "regain possess     0.117646\n",
              "retriev puck       0.117646\n",
              "best prospect      0.117646\n",
              "good chanc         0.117646\n",
              "hard contain       0.117646\n",
              "puck zone          0.117646\n",
              "high end talent    0.117646\n",
              "highli effect      0.117646\n",
              "end talent         0.117646\n",
              "improv defens      0.117646\n",
              "shot strong        0.113769"
            ]
          },
          "execution_count": 59,
          "metadata": {},
          "output_type": "execute_result"
        }
      ],
      "source": [
        "X = pd.DataFrame(list(zip(player_name, draft_position, player_position, corpus)), columns=['player_name', 'draft_position', 'player_position', 'report'])\n",
        "Y = labels\n",
        "\n",
        "# create train test splits of data\n",
        "X_train, X_test, y_train, y_test = train_test_split(X, Y, test_size=0.33)\n",
        "\n",
        "# vectorize train data\n",
        "vectorizer = TfidfVectorizer(analyzer='word', min_df=0.03, ngram_range=(2, 3))\n",
        "X_train_vect = vectorizer.fit_transform(X_train['report'])\n",
        "print(f\"shape of X_train_vect: {X_train_vect.shape}\")\n",
        "\n",
        "# show the most important words\n",
        "most_important = pd.DataFrame(X_train_vect[0].T.todense(),\n",
        "    \tindex=vectorizer.get_feature_names_out(), columns=[\"TF-IDF\"])\n",
        "most_important = most_important.sort_values('TF-IDF', ascending=False)\n",
        "most_important.head(30)"
      ]
    },
    {
      "cell_type": "code",
      "execution_count": null,
      "metadata": {
        "colab": {
          "base_uri": "https://localhost:8080/"
        },
        "id": "S278oMy-YyDc",
        "outputId": "b962e977-f563-4fac-d43c-3b7759ee1dd6"
      },
      "outputs": [
        {
          "data": {
            "text/plain": [
              "(4, 4)"
            ]
          },
          "execution_count": 8,
          "metadata": {},
          "output_type": "execute_result"
        }
      ],
      "source": [
        "cv = CountVectorizer()\n",
        "X_train_cv = cv.fit_transform(X_train)\n",
        "X_train_cv.shape"
      ]
    },
    {
      "cell_type": "code",
      "execution_count": null,
      "metadata": {
        "colab": {
          "base_uri": "https://localhost:8080/",
          "height": 87
        },
        "id": "8A2Gdjx6j9uj",
        "outputId": "d39f322d-f424-486b-bdca-f113eed25668"
      },
      "outputs": [
        {
          "data": {
            "application/vnd.google.colaboratory.intrinsic+json": {
              "type": "string"
            },
            "text/plain": [
              "\"\\nfrom sklearn.feature_extraction.text import TfidfVectorizer\\nfrom sklearn.pipeline import Pipeline, FeatureUnion\\nfrom sklearn.ensemble import RandomForestClassifier\\nfrom sklearn.preprocessing import FunctionTransformer\\nfrom sklearn.model_selection import GridSearchCV, StratifiedKFold\\n\\n# Create Function Transformer to use Feature Union\\ndef get_numeric_data(x):\\n    return [[row['player_position']] for index, row in x[['draft_position', 'player_position']].iterrows()]\\n\\ndef get_text_data(x):\\n    return list(x['report'])\\n\\ntransfomer_numeric = FunctionTransformer(get_numeric_data)\\ntransformer_text = FunctionTransformer(get_text_data)\\n\\n# Create a pipeline to concatenate Tfidf Vector and Numeric data\\n# Use RandomForestClassifier as an example\\npipeline = Pipeline([\\n    ('features', FeatureUnion([\\n            ('numeric_features', Pipeline([\\n                ('selector', transfomer_numeric)\\n            ])),\\n             ('text_features', Pipeline([\\n                ('selector', transformer_text),\\n                ('vec', TfidfVectorizer(analyzer='word', ngram_range=(1,2)))\\n            ]))\\n         ])),\\n    ('clf', LogisticRegression())\\n])\\n\\n\\n# Grid Search Parameters for LogisticRegression\\nparam_grid = {'clf__penalty' : ['l1', 'l2'],\\n              'clf__C' : np.logspace(-4, 4, 20),\\n              'clf__solver' : ['liblinear']\\n              }\\n\\n# Training config\\nkfold = StratifiedKFold(n_splits=3)\\nscoring = {'Accuracy': 'accuracy', 'F1': 'f1_macro'}\\nrefit = 'F1'\\n\\n# Perform GridSearch\\nrf_model = GridSearchCV(pipeline, param_grid=param_grid, cv=kfold, scoring=scoring, \\n                         refit=refit, n_jobs=-1, return_train_score=True, verbose=1)\\nrf_model.fit(X_train, y_train)\\nrf_best = rf_model.best_estimator_\\n\\n# best found for now to be 0.16 \\n# without draft position (I think there is bias with that data)\\nrf_best.score(X_test, y_test)\\n\""
            ]
          },
          "execution_count": 7,
          "metadata": {},
          "output_type": "execute_result"
        }
      ],
      "source": [
        "# this is flawed and from some previous work I was doing but I wanted to keep\n",
        "# around since it is a good example of setting up a pipeline in sklearn\n",
        "# so it could be used for a reference\n",
        "\"\"\"\n",
        "from sklearn.feature_extraction.text import TfidfVectorizer\n",
        "from sklearn.pipeline import Pipeline, FeatureUnion\n",
        "from sklearn.ensemble import RandomForestClassifier\n",
        "from sklearn.preprocessing import FunctionTransformer\n",
        "from sklearn.model_selection import GridSearchCV, StratifiedKFold\n",
        "\n",
        "# Create Function Transformer to use Feature Union\n",
        "def get_numeric_data(x):\n",
        "    return [[row['player_position']] for index, row in x[['draft_position', 'player_position']].iterrows()]\n",
        "\n",
        "def get_text_data(x):\n",
        "    return list(x['report'])\n",
        "\n",
        "transfomer_numeric = FunctionTransformer(get_numeric_data)\n",
        "transformer_text = FunctionTransformer(get_text_data)\n",
        "\n",
        "# Create a pipeline to concatenate Tfidf Vector and Numeric data\n",
        "# Use RandomForestClassifier as an example\n",
        "pipeline = Pipeline([\n",
        "    ('features', FeatureUnion([\n",
        "            ('numeric_features', Pipeline([\n",
        "                ('selector', transfomer_numeric)\n",
        "            ])),\n",
        "             ('text_features', Pipeline([\n",
        "                ('selector', transformer_text),\n",
        "                ('vec', TfidfVectorizer(analyzer='word', ngram_range=(1,2)))\n",
        "            ]))\n",
        "         ])),\n",
        "    ('clf', LogisticRegression())\n",
        "])\n",
        "\n",
        "\n",
        "# Grid Search Parameters for LogisticRegression\n",
        "param_grid = {'clf__penalty' : ['l1', 'l2'],\n",
        "              'clf__C' : np.logspace(-4, 4, 20),\n",
        "              'clf__solver' : ['liblinear']\n",
        "              }\n",
        "\n",
        "# Training config\n",
        "kfold = StratifiedKFold(n_splits=3)\n",
        "scoring = {'Accuracy': 'accuracy', 'F1': 'f1_macro'}\n",
        "refit = 'F1'\n",
        "\n",
        "# Perform GridSearch\n",
        "rf_model = GridSearchCV(pipeline, param_grid=param_grid, cv=kfold, scoring=scoring, \n",
        "                         refit=refit, n_jobs=-1, return_train_score=True, verbose=1)\n",
        "rf_model.fit(X_train, y_train)\n",
        "rf_best = rf_model.best_estimator_\n",
        "\n",
        "# best found for now to be 0.16 \n",
        "# without draft position (I think there is bias with that data)\n",
        "rf_best.score(X_test, y_test)\n",
        "\"\"\""
      ]
    },
    {
      "attachments": {},
      "cell_type": "markdown",
      "metadata": {
        "id": "gO_ft5BGwHM6"
      },
      "source": [
        "Exploring Kmeans now for unsupervised learning"
      ]
    },
    {
      "cell_type": "code",
      "execution_count": 9,
      "metadata": {
        "colab": {
          "base_uri": "https://localhost:8080/",
          "height": 502
        },
        "id": "wFt4Di6F_izM",
        "outputId": "29090fd8-2654-4a67-9aa6-6551eb4596bb"
      },
      "outputs": [
        {
          "name": "stdout",
          "output_type": "stream",
          "text": [
            "assigning 10 clusters\n",
            "assigning 20 clusters\n",
            "assigning 30 clusters\n",
            "assigning 40 clusters\n",
            "assigning 50 clusters\n",
            "assigning 60 clusters\n",
            "assigning 70 clusters\n",
            "assigning 80 clusters\n",
            "assigning 90 clusters\n"
          ]
        },
        {
          "ename": "ValueError",
          "evalue": "ignored",
          "output_type": "error",
          "traceback": [
            "\u001b[0;31m---------------------------------------------------------------------------\u001b[0m",
            "\u001b[0;31mValueError\u001b[0m                                Traceback (most recent call last)",
            "\u001b[0;32m<ipython-input-9-b30be0edb4fa>\u001b[0m in \u001b[0;36m<cell line: 14>\u001b[0;34m()\u001b[0m\n\u001b[1;32m     12\u001b[0m   \u001b[0mplt\u001b[0m\u001b[0;34m.\u001b[0m\u001b[0mshow\u001b[0m\u001b[0;34m(\u001b[0m\u001b[0;34m)\u001b[0m\u001b[0;34m\u001b[0m\u001b[0;34m\u001b[0m\u001b[0m\n\u001b[1;32m     13\u001b[0m \u001b[0;34m\u001b[0m\u001b[0m\n\u001b[0;32m---> 14\u001b[0;31m \u001b[0mfind_cluster_value_using_sse\u001b[0m\u001b[0;34m(\u001b[0m\u001b[0mX_train_vect\u001b[0m\u001b[0;34m,\u001b[0m \u001b[0;36m100\u001b[0m\u001b[0;34m)\u001b[0m\u001b[0;34m\u001b[0m\u001b[0;34m\u001b[0m\u001b[0m\n\u001b[0m",
            "\u001b[0;32m<ipython-input-9-b30be0edb4fa>\u001b[0m in \u001b[0;36mfind_cluster_value_using_sse\u001b[0;34m(data, max_k)\u001b[0m\n\u001b[1;32m      5\u001b[0m   \u001b[0;32mfor\u001b[0m \u001b[0mk\u001b[0m \u001b[0;32min\u001b[0m \u001b[0mnp\u001b[0m\u001b[0;34m.\u001b[0m\u001b[0marange\u001b[0m\u001b[0;34m(\u001b[0m\u001b[0;36m10\u001b[0m\u001b[0;34m,\u001b[0m\u001b[0mmax_k\u001b[0m\u001b[0;34m,\u001b[0m\u001b[0;36m10\u001b[0m\u001b[0;34m)\u001b[0m\u001b[0;34m:\u001b[0m\u001b[0;34m\u001b[0m\u001b[0;34m\u001b[0m\u001b[0m\n\u001b[1;32m      6\u001b[0m       \u001b[0mprint\u001b[0m\u001b[0;34m(\u001b[0m\u001b[0;34mf\"assigning {k} clusters\"\u001b[0m\u001b[0;34m)\u001b[0m\u001b[0;34m\u001b[0m\u001b[0;34m\u001b[0m\u001b[0m\n\u001b[0;32m----> 7\u001b[0;31m       \u001b[0mkmeans\u001b[0m \u001b[0;34m=\u001b[0m \u001b[0mKMeans\u001b[0m\u001b[0;34m(\u001b[0m\u001b[0mn_clusters\u001b[0m\u001b[0;34m=\u001b[0m\u001b[0mk\u001b[0m\u001b[0;34m,\u001b[0m \u001b[0mmax_iter\u001b[0m\u001b[0;34m=\u001b[0m\u001b[0;36m1000\u001b[0m\u001b[0;34m,\u001b[0m \u001b[0mn_init\u001b[0m\u001b[0;34m=\u001b[0m\u001b[0;36m5\u001b[0m\u001b[0;34m)\u001b[0m\u001b[0;34m.\u001b[0m\u001b[0mfit\u001b[0m\u001b[0;34m(\u001b[0m\u001b[0mdata\u001b[0m\u001b[0;34m)\u001b[0m\u001b[0;34m\u001b[0m\u001b[0;34m\u001b[0m\u001b[0m\n\u001b[0m\u001b[1;32m      8\u001b[0m       \u001b[0msse\u001b[0m\u001b[0;34m[\u001b[0m\u001b[0mk\u001b[0m\u001b[0;34m]\u001b[0m \u001b[0;34m=\u001b[0m \u001b[0mkmeans\u001b[0m\u001b[0;34m.\u001b[0m\u001b[0minertia_\u001b[0m\u001b[0;34m\u001b[0m\u001b[0;34m\u001b[0m\u001b[0m\n\u001b[1;32m      9\u001b[0m   \u001b[0mplt\u001b[0m\u001b[0;34m.\u001b[0m\u001b[0mplot\u001b[0m\u001b[0;34m(\u001b[0m\u001b[0mlist\u001b[0m\u001b[0;34m(\u001b[0m\u001b[0msse\u001b[0m\u001b[0;34m.\u001b[0m\u001b[0mkeys\u001b[0m\u001b[0;34m(\u001b[0m\u001b[0;34m)\u001b[0m\u001b[0;34m)\u001b[0m\u001b[0;34m,\u001b[0m\u001b[0mlist\u001b[0m\u001b[0;34m(\u001b[0m\u001b[0msse\u001b[0m\u001b[0;34m.\u001b[0m\u001b[0mvalues\u001b[0m\u001b[0;34m(\u001b[0m\u001b[0;34m)\u001b[0m\u001b[0;34m)\u001b[0m\u001b[0;34m)\u001b[0m\u001b[0;34m\u001b[0m\u001b[0;34m\u001b[0m\u001b[0m\n",
            "\u001b[0;32m/usr/local/lib/python3.10/dist-packages/sklearn/cluster/_kmeans.py\u001b[0m in \u001b[0;36mfit\u001b[0;34m(self, X, y, sample_weight)\u001b[0m\n\u001b[1;32m   1424\u001b[0m         )\n\u001b[1;32m   1425\u001b[0m \u001b[0;34m\u001b[0m\u001b[0m\n\u001b[0;32m-> 1426\u001b[0;31m         \u001b[0mself\u001b[0m\u001b[0;34m.\u001b[0m\u001b[0m_check_params_vs_input\u001b[0m\u001b[0;34m(\u001b[0m\u001b[0mX\u001b[0m\u001b[0;34m)\u001b[0m\u001b[0;34m\u001b[0m\u001b[0;34m\u001b[0m\u001b[0m\n\u001b[0m\u001b[1;32m   1427\u001b[0m \u001b[0;34m\u001b[0m\u001b[0m\n\u001b[1;32m   1428\u001b[0m         \u001b[0mrandom_state\u001b[0m \u001b[0;34m=\u001b[0m \u001b[0mcheck_random_state\u001b[0m\u001b[0;34m(\u001b[0m\u001b[0mself\u001b[0m\u001b[0;34m.\u001b[0m\u001b[0mrandom_state\u001b[0m\u001b[0;34m)\u001b[0m\u001b[0;34m\u001b[0m\u001b[0;34m\u001b[0m\u001b[0m\n",
            "\u001b[0;32m/usr/local/lib/python3.10/dist-packages/sklearn/cluster/_kmeans.py\u001b[0m in \u001b[0;36m_check_params_vs_input\u001b[0;34m(self, X)\u001b[0m\n\u001b[1;32m   1360\u001b[0m \u001b[0;34m\u001b[0m\u001b[0m\n\u001b[1;32m   1361\u001b[0m     \u001b[0;32mdef\u001b[0m \u001b[0m_check_params_vs_input\u001b[0m\u001b[0;34m(\u001b[0m\u001b[0mself\u001b[0m\u001b[0;34m,\u001b[0m \u001b[0mX\u001b[0m\u001b[0;34m)\u001b[0m\u001b[0;34m:\u001b[0m\u001b[0;34m\u001b[0m\u001b[0;34m\u001b[0m\u001b[0m\n\u001b[0;32m-> 1362\u001b[0;31m         \u001b[0msuper\u001b[0m\u001b[0;34m(\u001b[0m\u001b[0;34m)\u001b[0m\u001b[0;34m.\u001b[0m\u001b[0m_check_params_vs_input\u001b[0m\u001b[0;34m(\u001b[0m\u001b[0mX\u001b[0m\u001b[0;34m,\u001b[0m \u001b[0mdefault_n_init\u001b[0m\u001b[0;34m=\u001b[0m\u001b[0;36m10\u001b[0m\u001b[0;34m)\u001b[0m\u001b[0;34m\u001b[0m\u001b[0;34m\u001b[0m\u001b[0m\n\u001b[0m\u001b[1;32m   1363\u001b[0m \u001b[0;34m\u001b[0m\u001b[0m\n\u001b[1;32m   1364\u001b[0m         \u001b[0mself\u001b[0m\u001b[0;34m.\u001b[0m\u001b[0m_algorithm\u001b[0m \u001b[0;34m=\u001b[0m \u001b[0mself\u001b[0m\u001b[0;34m.\u001b[0m\u001b[0malgorithm\u001b[0m\u001b[0;34m\u001b[0m\u001b[0;34m\u001b[0m\u001b[0m\n",
            "\u001b[0;32m/usr/local/lib/python3.10/dist-packages/sklearn/cluster/_kmeans.py\u001b[0m in \u001b[0;36m_check_params_vs_input\u001b[0;34m(self, X, default_n_init)\u001b[0m\n\u001b[1;32m    857\u001b[0m         \u001b[0;31m# n_clusters\u001b[0m\u001b[0;34m\u001b[0m\u001b[0;34m\u001b[0m\u001b[0m\n\u001b[1;32m    858\u001b[0m         \u001b[0;32mif\u001b[0m \u001b[0mX\u001b[0m\u001b[0;34m.\u001b[0m\u001b[0mshape\u001b[0m\u001b[0;34m[\u001b[0m\u001b[0;36m0\u001b[0m\u001b[0;34m]\u001b[0m \u001b[0;34m<\u001b[0m \u001b[0mself\u001b[0m\u001b[0;34m.\u001b[0m\u001b[0mn_clusters\u001b[0m\u001b[0;34m:\u001b[0m\u001b[0;34m\u001b[0m\u001b[0;34m\u001b[0m\u001b[0m\n\u001b[0;32m--> 859\u001b[0;31m             raise ValueError(\n\u001b[0m\u001b[1;32m    860\u001b[0m                 \u001b[0;34mf\"n_samples={X.shape[0]} should be >= n_clusters={self.n_clusters}.\"\u001b[0m\u001b[0;34m\u001b[0m\u001b[0;34m\u001b[0m\u001b[0m\n\u001b[1;32m    861\u001b[0m             )\n",
            "\u001b[0;31mValueError\u001b[0m: n_samples=85 should be >= n_clusters=90."
          ]
        }
      ],
      "source": [
        "# plot how sse is affected by cluster size choice\n",
        "# we are looking for a \"level off\"\n",
        "def find_cluster_value_using_sse(data, max_k):\n",
        "  sse={}\n",
        "  for k in np.arange(10,max_k,10):\n",
        "      print(f\"assigning {k} clusters\")\n",
        "      kmeans = KMeans(n_clusters=k, max_iter=1000, n_init=5).fit(data)\n",
        "      sse[k] = kmeans.inertia_\n",
        "  plt.plot(list(sse.keys()),list(sse.values()))\n",
        "  plt.xlabel('Values for K')\n",
        "  plt.ylabel('SSE')\n",
        "  plt.show()\n",
        "    \n",
        "find_cluster_value_using_sse(X_train_vect, 100)"
      ]
    },
    {
      "cell_type": "code",
      "execution_count": 60,
      "metadata": {
        "colab": {
          "base_uri": "https://localhost:8080/",
          "height": 478
        },
        "id": "dfWJzirL4dMV",
        "outputId": "deadfa2e-2a6f-4736-d5cc-276da9c025f7"
      },
      "outputs": [
        {
          "data": {
            "image/png": "[encoded data removed]",
            "text/plain": [
              "<Figure size 640x480 with 1 Axes>"
            ]
          },
          "metadata": {},
          "output_type": "display_data"
        }
      ],
      "source": [
        "def plot_silhouette_scores(start, end, step):\n",
        "  # A list holds the silhouette coefficients for each k\n",
        "  silhouette_coefficients = []\n",
        "\n",
        "  # Notice you start at 2 clusters for silhouette coefficient\n",
        "  for k in range(start, end, step):\n",
        "    kmeans = KMeans(n_clusters=k, n_init=5, max_iter=1000)\n",
        "    kmeans.fit(X_train_vect)\n",
        "    score = silhouette_score(X_train_vect, kmeans.labels_)\n",
        "    silhouette_coefficients.append(score)\n",
        "\n",
        "  plt.style.use(\"fivethirtyeight\")\n",
        "  plt.plot(range(start, end, step), silhouette_coefficients)\n",
        "  plt.xticks(range(start, end, step))\n",
        "  plt.xlabel(\"Number of Clusters\")\n",
        "  plt.ylabel(\"Silhouette Coefficient\")\n",
        "  plt.show()\n",
        "\n",
        "plot_silhouette_scores(5, 25, 1)"
      ]
    },
    {
      "attachments": {},
      "cell_type": "markdown",
      "metadata": {
        "id": "Ygr7A-oA5j1N"
      },
      "source": [
        "The extremely low silhouette score implies there is a lot of overlap in classification of values. There might have to be some more data massaging in order to get this value higher"
      ]
    },
    {
      "cell_type": "code",
      "execution_count": 51,
      "metadata": {
        "id": "JW6DUWrz-KHQ"
      },
      "outputs": [],
      "source": [
        "SELECTED_CLUSTERS = 22"
      ]
    },
    {
      "cell_type": "code",
      "execution_count": 52,
      "metadata": {
        "id": "JhEabsKVvzCs"
      },
      "outputs": [],
      "source": [
        "# use the number of clusters found to be the best in graph above\n",
        "kmeans = KMeans(n_clusters=SELECTED_CLUSTERS, n_init = 5)\n",
        "labels = kmeans.fit_predict(X_train_vect)\n",
        "\n",
        "X_train['label'] = labels"
      ]
    },
    {
      "cell_type": "code",
      "execution_count": 53,
      "metadata": {
        "colab": {
          "base_uri": "https://localhost:8080/"
        },
        "id": "UMYQIYzX6-8J",
        "outputId": "e6a8efab-585b-4916-bf76-b3622f101415"
      },
      "outputs": [
        {
          "name": "stdout",
          "output_type": "stream",
          "text": [
            "\n",
            "Cluster 0.0\n",
            "read play,puck stick,get around,evad pressur,scout talk,top six,good defens,loos puck,highlight reel,shot get,get puck,around defend,year old,penalti kill,offens zone\n",
            "\n",
            "Cluster 1.0\n",
            "stick make,two way,power play,step acceler,top gear,see ice well,defens end,defens work,ice well,work hard,physic game,see ice,offens zone,puck skill,high end\n",
            "\n",
            "Cluster 2.0\n",
            "knock puck,play hard,play pro,offens zone,two way,puck make,everi shift,work ethic,skater good,get puck,hard work,player one,one one,player one one,top prospect\n",
            "\n",
            "Cluster 3.0\n",
            "think game,play drive,edg work,put puck,shift shift,one best,best skater,playmak make,elit vision,space teammat,get go,best prospect,take long,year draft,elit level\n",
            "\n",
            "Cluster 4.0\n",
            "danger shot,hockey sens,protect puck,drive net,cycl game,offens hockey,offens hockey sens,good skater,score goal,foot frame,power stride,two way,world junior,power skate,look like\n",
            "\n",
            "Cluster 6.0\n",
            "carri puck,get stronger,round pick,point per game,point per,first round pick,two way,well round,first round,middl six,per game,neutral zone,top six,high end,puck carrier\n",
            "\n",
            "Cluster 7.0\n",
            "turn puck,make play,feet move,offens zone,keep feet move,bodi strength,lack strength,play wing,two way,along wall,add muscl,top leagu,keep feet,high end,good job\n",
            "\n",
            "Cluster 8.0\n",
            "move puck,make play,high end,goal scorer,need work,power play,per game,skate stride,add strength,hockey sens,top six,creativ offens,first round,offens zone,two way\n",
            "\n",
            "Cluster 9.0\n",
            "work hard,find open,three year,accur shot,centr lane,last season,need add,versu men,puck offens zone,goal scorer,world junior,defens coverag,make danger,possess good,puck offens\n",
            "\n",
            "Cluster 10.0\n",
            "around offens zone,hard accur,net play,draft first,room add,strong forecheck,skill elit,way go,play consist,puck see ice,play need,game pace,talent draft,maintain puck,per game\n",
            "\n",
            "Cluster 11.0\n",
            "puck protect,make difficult,highlight reel,ice make,game break,creativ playmak,tri much,skill puck,move feet,difficult play,lack pace,lot puck,last season,make difficult play,call card\n",
            "\n",
            "Cluster 12.0\n",
            "puck distributor,stride gener,ice time,hlinka tournament,defens effort,high end,get net,net make,play well,fantast skater,play solid,work ethic,realli impress,hold puck,month season\n",
            "\n",
            "Cluster 13.0\n",
            "beat defend wide,pro game,got good,good job,use size strength,overal pick,big man,puck win,control puck,make good,averag top,one hand,use bodi,use size,second overal\n",
            "\n",
            "Cluster 14.0\n",
            "well round,high end,per game,one best,skate stride,world junior,find way,one timer,shot draft,shoot skill,half season,draft elig,draft class,second half,top six\n",
            "\n",
            "Cluster 15.0\n",
            "wrist shot,quick releas,play zone,world junior,power play,playmak skill,well make,shot quick releas,defens zone,prospect draft,hockey sens,high pace,retriev puck,fnd way,make play\n",
            "\n",
            "Cluster 16.0\n",
            "decis puck,without puck,still manag,get good,offens talent,back defens,make play,great job,play wing,make decis,draft class,posit well,get back,good quick,use quick\n",
            "\n",
            "Cluster 17.0\n",
            "high end skill,push pace,creativ playmak,onto puck,play wing,six goal,open teammat,forc play,season though,half wall,best shot,one best,one best shot,draft class,shot draft\n",
            "\n",
            "Cluster 19.0\n",
            "back ice,prospect come,better posit,forc puck,pass get,play puck,last year,blue line,player class,get shot,averag puck,averag puck skill,shot goal,puck carrier,world junior\n",
            "\n",
            "Cluster 20.0\n",
            "pro leagu,along board,hard area,top nine,puck low,enough skill,manipul defend,last season,highli competit,high enough,top six,offens zone,around net,game report,small area\n",
            "\n",
            "Cluster 21.0\n",
            "afraid use,littl bit,tri much,play hard,toward net,power play,zone offens,quick later,show high,wrist shot,offens zone,defend outsid,would like,show great,neutral zone\n"
          ]
        }
      ],
      "source": [
        "# show the top words for each cluster that was created\n",
        "def get_top_keywords(data, clusters, labels, n_terms):\n",
        "    df = pd.DataFrame(data.todense()).groupby(clusters).mean()\n",
        "    \n",
        "    for i,r in df.iterrows():\n",
        "        print('\\nCluster {}'.format(i))\n",
        "        print(','.join([labels[t] for t in np.argsort(r)[-n_terms:]]))\n",
        "            \n",
        "get_top_keywords(X_train_vect, X_train.label, vectorizer.get_feature_names_out(), 15)"
      ]
    },
    {
      "cell_type": "code",
      "execution_count": 54,
      "metadata": {
        "colab": {
          "base_uri": "https://localhost:8080/",
          "height": 785
        },
        "id": "aCs5gdAiSLFr",
        "outputId": "736d27a5-1f7a-4957-95cb-72ecd2ff2b87"
      },
      "outputs": [
        {
          "name": "stdout",
          "output_type": "stream",
          "text": [
            "Index(['player_name', 'draft_position', 'player_position', 'report', 'label'], dtype='object')\n",
            "              player_name  draft_position  player_position  \\\n",
            "79             Matt Boldy              12                1   \n",
            "162        Adam Mascherin              38                1   \n",
            "186     Christian Fischer              32                2   \n",
            "5    Jonathan Lekkerimaki              15                2   \n",
            "190          Paul Bittner              38                1   \n",
            "\n",
            "                                                report  label  \n",
            "79    join top prospect fact bubbl make team sudden...      4  \n",
            "162   one top player chl season former overal pick ...     10  \n",
            "186   pretti effect season play upper half lineup g...      3  \n",
            "5     skill variou offens element game clear streng...      1  \n",
            "190   lower industri hard ignor appeal characterist...     19  \n"
          ]
        },
        {
          "data": {
            "application/vnd.plotly.v1+json": {
              "config": {
                "plotlyServerURL": "https://plot.ly"
              },
              "data": [
                {
                  "branchvalues": "total",
                  "domain": {
                    "x": [
                      0,
                      1
                    ],
                    "y": [
                      0,
                      1
                    ]
                  },
                  "hovertemplate": "labels=%{label}<br>count=%{value}<br>parent=%{parent}<br>id=%{id}<extra></extra>",
                  "ids": [
                    "9/A.J. Greer",
                    "6/Aatu Raty",
                    "10/Adam Mascherin",
                    "5/Adrien Kempe",
                    "19/Alex Debrincat",
                    "0/Alex Newhook",
                    "19/Alex Tuch",
                    "0/Alex Turcotte",
                    "15/Alexander Holtz",
                    "19/Alexander Nylander",
                    "21/Andrei Svechnikov",
                    "8/Anton Lundell",
                    "13/Barret Hayton",
                    "7/Brady Tkachuk",
                    "12/Brayden Tracey",
                    "2/Brendan Brisson",
                    "16/Brendan Perlini",
                    "14/Brett Howden",
                    "15/Cameron Morrison",
                    "1/Chaz Lucius",
                    "3/Christian Fischer",
                    "12/Clayton Keller",
                    "0/Cody Glass",
                    "1/Cole Caufield",
                    "8/Cole Perfetti",
                    "1/Cole Sillinger",
                    "5/Conner Bleackley",
                    "7/Connor McDavid",
                    "0/Connor McMichael",
                    "6/Conor Geekie",
                    "2/Danila Yurov",
                    "12/David Pastranak",
                    "8/Dawson Mercer",
                    "19/Denis Gurianov",
                    "15/Dominik Bokk",
                    "19/Dylan Cozens",
                    "9/Dylan Larkin",
                    "1/Eeli Tolvanen",
                    "16/Evegeny Svechnikov",
                    "6/Fedor Svechkov",
                    "17/Filip Chytil",
                    "2/Filip Mesar",
                    "15/Filip Zadina",
                    "20/Gabriel Gagne",
                    "12/Gabriel Vilardi",
                    "7/German Rubtsov",
                    "4/Gleb Trikozov",
                    "0/Grigori Denisenko",
                    "21/Henrik Borgstrom",
                    "4/Isaac Howard",
                    "2/Isak Rosen",
                    "19/Ivan Barbashev",
                    "17/Jack Eichel",
                    "4/Jack Hughes",
                    "1/Jack Quinn",
                    "1/Jacob Perreault",
                    "1/Jagger Firkus",
                    "12/Jake Virtanen",
                    "17/Jakub Vrana",
                    "10/Jason Robertson",
                    "18/Jayce Hawryluk",
                    "7/Jesper Boqvist",
                    "8/Jesperi Kotkaniemi",
                    "11/Jesse Piljujarvi",
                    "2/Jimmy Snuggerud",
                    "2/Jiri Kulich",
                    "21/Joakim Kemell",
                    "13/Joe Veleno",
                    "18/Joel Eriksson Ek",
                    "4/John Beecher",
                    "1/Jonathan Lekkerimaki",
                    "19/Jordan Kyrou",
                    "9/Josh Norris",
                    "3/Julien Gauthier",
                    "21/Juraj Slafkovsky",
                    "15/Kaapo Kakko",
                    "20/Kailer Yamamoto",
                    "5/Kasperi Kapanen",
                    "4/Kent Johnson",
                    "0/Kieffer Bellows",
                    "16/Klim Kostin",
                    "16/Kole Lind",
                    "16/Kristian Vesalainen",
                    "14/Kyle Connor",
                    "20/Leon Draisaitl",
                    "21/Liam Ohgren",
                    "9/Lias Andersson",
                    "13/Logan Brown",
                    "8/Lukas Reichel",
                    "8/Marat Khusnutdinov",
                    "6/Marco Kasper",
                    "8/Marcus Davidsson",
                    "15/Martin Kaut",
                    "20/Martin Necas",
                    "4/Mason Mctavish",
                    "4/Matt Boldy",
                    "7/Matthew Barzal",
                    "15/Matthew Beniers",
                    "21/Matthew Savoie",
                    "7/Max Jones",
                    "20/Michael Dal Colle",
                    "3/Michael Rasmussen",
                    "11/Mikko Rantanen",
                    "7/Mitch Marner",
                    "18/Mitchell Stephens",
                    "5/Nick Ritchie",
                    "18/Nick Schmaltz",
                    "7/Nick Suzuki",
                    "16/Nico Hischier",
                    "1/Nikita Chibrikov",
                    "18/Nikita Scherbak",
                    "4/Noah Ostlund",
                    "13/Nolan Foote",
                    "6/Oskar Olausson",
                    "12/Pascal Laberge",
                    "19/Paul Bittner",
                    "10/Pavel Zacha",
                    "0/Peyton Krebs",
                    "15/Quinton Byfield",
                    "9/Rasmus Asplund",
                    "15/Rasmus Kupari",
                    "5/Riley Tufte",
                    "7/Robert Thomas",
                    "1/Rutger McGroarty",
                    "8/Ryan Poehling",
                    "2/Ryan Suzuki",
                    "1/Sam Steel",
                    "1/Samu Tuomaala",
                    "14/Samuel Poulin",
                    "9/Shane Bowers",
                    "21/Shane Wright",
                    "3/Simon Holmstrom",
                    "6/Simon Robertsson",
                    "14/Sonny Milano",
                    "0/Tim Stutzle",
                    "7/Time Meier",
                    "14/Travis Konecny",
                    "21/Trevor Zegras",
                    "17/Ty Dellandrea",
                    "6/Tyler Benson",
                    "1/Tyson Foerster",
                    "8/Tyson Jost",
                    "8/William Eklund",
                    "5/William Nylander",
                    "10/Yegor Korshkov",
                    "6/Zachary Bolduc",
                    "1/Zachary L’Heureux",
                    "0",
                    "1",
                    "2",
                    "3",
                    "4",
                    "5",
                    "6",
                    "7",
                    "8",
                    "9",
                    "10",
                    "11",
                    "12",
                    "13",
                    "14",
                    "15",
                    "16",
                    "17",
                    "18",
                    "19",
                    "20",
                    "21"
                  ],
                  "labels": [
                    "A.J. Greer",
                    "Aatu Raty",
                    "Adam Mascherin",
                    "Adrien Kempe",
                    "Alex Debrincat",
                    "Alex Newhook",
                    "Alex Tuch",
                    "Alex Turcotte",
                    "Alexander Holtz",
                    "Alexander Nylander",
                    "Andrei Svechnikov",
                    "Anton Lundell",
                    "Barret Hayton",
                    "Brady Tkachuk",
                    "Brayden Tracey",
                    "Brendan Brisson",
                    "Brendan Perlini",
                    "Brett Howden",
                    "Cameron Morrison",
                    "Chaz Lucius",
                    "Christian Fischer",
                    "Clayton Keller",
                    "Cody Glass",
                    "Cole Caufield",
                    "Cole Perfetti",
                    "Cole Sillinger",
                    "Conner Bleackley",
                    "Connor McDavid",
                    "Connor McMichael",
                    "Conor Geekie",
                    "Danila Yurov",
                    "David Pastranak",
                    "Dawson Mercer",
                    "Denis Gurianov",
                    "Dominik Bokk",
                    "Dylan Cozens",
                    "Dylan Larkin",
                    "Eeli Tolvanen",
                    "Evegeny Svechnikov",
                    "Fedor Svechkov",
                    "Filip Chytil",
                    "Filip Mesar",
                    "Filip Zadina",
                    "Gabriel Gagne",
                    "Gabriel Vilardi",
                    "German Rubtsov",
                    "Gleb Trikozov",
                    "Grigori Denisenko",
                    "Henrik Borgstrom",
                    "Isaac Howard",
                    "Isak Rosen",
                    "Ivan Barbashev",
                    "Jack Eichel",
                    "Jack Hughes",
                    "Jack Quinn",
                    "Jacob Perreault",
                    "Jagger Firkus",
                    "Jake Virtanen",
                    "Jakub Vrana",
                    "Jason Robertson",
                    "Jayce Hawryluk",
                    "Jesper Boqvist",
                    "Jesperi Kotkaniemi",
                    "Jesse Piljujarvi",
                    "Jimmy Snuggerud",
                    "Jiri Kulich",
                    "Joakim Kemell",
                    "Joe Veleno",
                    "Joel Eriksson Ek",
                    "John Beecher",
                    "Jonathan Lekkerimaki",
                    "Jordan Kyrou",
                    "Josh Norris",
                    "Julien Gauthier",
                    "Juraj Slafkovsky",
                    "Kaapo Kakko",
                    "Kailer Yamamoto",
                    "Kasperi Kapanen",
                    "Kent Johnson",
                    "Kieffer Bellows",
                    "Klim Kostin",
                    "Kole Lind",
                    "Kristian Vesalainen",
                    "Kyle Connor",
                    "Leon Draisaitl",
                    "Liam Ohgren",
                    "Lias Andersson",
                    "Logan Brown",
                    "Lukas Reichel",
                    "Marat Khusnutdinov",
                    "Marco Kasper",
                    "Marcus Davidsson",
                    "Martin Kaut",
                    "Martin Necas",
                    "Mason Mctavish",
                    "Matt Boldy",
                    "Matthew Barzal",
                    "Matthew Beniers",
                    "Matthew Savoie",
                    "Max Jones",
                    "Michael Dal Colle",
                    "Michael Rasmussen",
                    "Mikko Rantanen",
                    "Mitch Marner",
                    "Mitchell Stephens",
                    "Nick Ritchie",
                    "Nick Schmaltz",
                    "Nick Suzuki",
                    "Nico Hischier",
                    "Nikita Chibrikov",
                    "Nikita Scherbak",
                    "Noah Ostlund",
                    "Nolan Foote",
                    "Oskar Olausson",
                    "Pascal Laberge",
                    "Paul Bittner",
                    "Pavel Zacha",
                    "Peyton Krebs",
                    "Quinton Byfield",
                    "Rasmus Asplund",
                    "Rasmus Kupari",
                    "Riley Tufte",
                    "Robert Thomas",
                    "Rutger McGroarty",
                    "Ryan Poehling",
                    "Ryan Suzuki",
                    "Sam Steel",
                    "Samu Tuomaala",
                    "Samuel Poulin",
                    "Shane Bowers",
                    "Shane Wright",
                    "Simon Holmstrom",
                    "Simon Robertsson",
                    "Sonny Milano",
                    "Tim Stutzle",
                    "Time Meier",
                    "Travis Konecny",
                    "Trevor Zegras",
                    "Ty Dellandrea",
                    "Tyler Benson",
                    "Tyson Foerster",
                    "Tyson Jost",
                    "William Eklund",
                    "William Nylander",
                    "Yegor Korshkov",
                    "Zachary Bolduc",
                    "Zachary L’Heureux",
                    "0",
                    "1",
                    "2",
                    "3",
                    "4",
                    "5",
                    "6",
                    "7",
                    "8",
                    "9",
                    "10",
                    "11",
                    "12",
                    "13",
                    "14",
                    "15",
                    "16",
                    "17",
                    "18",
                    "19",
                    "20",
                    "21"
                  ],
                  "name": "",
                  "parents": [
                    "9",
                    "6",
                    "10",
                    "5",
                    "19",
                    "0",
                    "19",
                    "0",
                    "15",
                    "19",
                    "21",
                    "8",
                    "13",
                    "7",
                    "12",
                    "2",
                    "16",
                    "14",
                    "15",
                    "1",
                    "3",
                    "12",
                    "0",
                    "1",
                    "8",
                    "1",
                    "5",
                    "7",
                    "0",
                    "6",
                    "2",
                    "12",
                    "8",
                    "19",
                    "15",
                    "19",
                    "9",
                    "1",
                    "16",
                    "6",
                    "17",
                    "2",
                    "15",
                    "20",
                    "12",
                    "7",
                    "4",
                    "0",
                    "21",
                    "4",
                    "2",
                    "19",
                    "17",
                    "4",
                    "1",
                    "1",
                    "1",
                    "12",
                    "17",
                    "10",
                    "18",
                    "7",
                    "8",
                    "11",
                    "2",
                    "2",
                    "21",
                    "13",
                    "18",
                    "4",
                    "1",
                    "19",
                    "9",
                    "3",
                    "21",
                    "15",
                    "20",
                    "5",
                    "4",
                    "0",
                    "16",
                    "16",
                    "16",
                    "14",
                    "20",
                    "21",
                    "9",
                    "13",
                    "8",
                    "8",
                    "6",
                    "8",
                    "15",
                    "20",
                    "4",
                    "4",
                    "7",
                    "15",
                    "21",
                    "7",
                    "20",
                    "3",
                    "11",
                    "7",
                    "18",
                    "5",
                    "18",
                    "7",
                    "16",
                    "1",
                    "18",
                    "4",
                    "13",
                    "6",
                    "12",
                    "19",
                    "10",
                    "0",
                    "15",
                    "9",
                    "15",
                    "5",
                    "7",
                    "1",
                    "8",
                    "2",
                    "1",
                    "1",
                    "14",
                    "9",
                    "21",
                    "3",
                    "6",
                    "14",
                    "0",
                    "7",
                    "14",
                    "21",
                    "17",
                    "6",
                    "1",
                    "8",
                    "8",
                    "5",
                    "10",
                    "6",
                    "1",
                    "",
                    "",
                    "",
                    "",
                    "",
                    "",
                    "",
                    "",
                    "",
                    "",
                    "",
                    "",
                    "",
                    "",
                    "",
                    "",
                    "",
                    "",
                    "",
                    "",
                    "",
                    ""
                  ],
                  "type": "treemap",
                  "values": [
                    1,
                    1,
                    1,
                    1,
                    1,
                    1,
                    1,
                    1,
                    1,
                    1,
                    1,
                    1,
                    1,
                    1,
                    1,
                    1,
                    1,
                    1,
                    1,
                    1,
                    1,
                    1,
                    1,
                    1,
                    1,
                    1,
                    1,
                    1,
                    1,
                    1,
                    1,
                    1,
                    1,
                    1,
                    1,
                    1,
                    1,
                    1,
                    1,
                    1,
                    1,
                    1,
                    1,
                    1,
                    1,
                    1,
                    1,
                    1,
                    1,
                    1,
                    1,
                    1,
                    1,
                    1,
                    1,
                    1,
                    1,
                    1,
                    1,
                    1,
                    1,
                    1,
                    1,
                    1,
                    1,
                    1,
                    1,
                    1,
                    1,
                    1,
                    1,
                    1,
                    1,
                    1,
                    1,
                    1,
                    1,
                    1,
                    1,
                    1,
                    1,
                    1,
                    1,
                    1,
                    1,
                    1,
                    1,
                    1,
                    1,
                    1,
                    1,
                    1,
                    1,
                    1,
                    1,
                    1,
                    1,
                    1,
                    1,
                    1,
                    1,
                    1,
                    1,
                    1,
                    1,
                    1,
                    1,
                    1,
                    1,
                    1,
                    1,
                    1,
                    1,
                    1,
                    1,
                    1,
                    1,
                    1,
                    1,
                    1,
                    1,
                    1,
                    1,
                    1,
                    1,
                    1,
                    1,
                    1,
                    1,
                    1,
                    1,
                    1,
                    1,
                    1,
                    1,
                    1,
                    1,
                    1,
                    1,
                    1,
                    1,
                    1,
                    1,
                    1,
                    1,
                    1,
                    1,
                    8,
                    14,
                    7,
                    4,
                    8,
                    6,
                    8,
                    10,
                    10,
                    6,
                    4,
                    2,
                    6,
                    4,
                    5,
                    9,
                    6,
                    4,
                    5,
                    8,
                    5,
                    8
                  ]
                }
              ],
              "layout": {
                "legend": {
                  "tracegroupgap": 0
                },
                "margin": {
                  "t": 60
                },
                "template": {
                  "data": {
                    "bar": [
                      {
                        "error_x": {
                          "color": "#2a3f5f"
                        },
                        "error_y": {
                          "color": "#2a3f5f"
                        },
                        "marker": {
                          "line": {
                            "color": "#E5ECF6",
                            "width": 0.5
                          },
                          "pattern": {
                            "fillmode": "overlay",
                            "size": 10,
                            "solidity": 0.2
                          }
                        },
                        "type": "bar"
                      }
                    ],
                    "barpolar": [
                      {
                        "marker": {
                          "line": {
                            "color": "#E5ECF6",
                            "width": 0.5
                          },
                          "pattern": {
                            "fillmode": "overlay",
                            "size": 10,
                            "solidity": 0.2
                          }
                        },
                        "type": "barpolar"
                      }
                    ],
                    "carpet": [
                      {
                        "aaxis": {
                          "endlinecolor": "#2a3f5f",
                          "gridcolor": "white",
                          "linecolor": "white",
                          "minorgridcolor": "white",
                          "startlinecolor": "#2a3f5f"
                        },
                        "baxis": {
                          "endlinecolor": "#2a3f5f",
                          "gridcolor": "white",
                          "linecolor": "white",
                          "minorgridcolor": "white",
                          "startlinecolor": "#2a3f5f"
                        },
                        "type": "carpet"
                      }
                    ],
                    "choropleth": [
                      {
                        "colorbar": {
                          "outlinewidth": 0,
                          "ticks": ""
                        },
                        "type": "choropleth"
                      }
                    ],
                    "contour": [
                      {
                        "colorbar": {
                          "outlinewidth": 0,
                          "ticks": ""
                        },
                        "colorscale": [
                          [
                            0,
                            "#0d0887"
                          ],
                          [
                            0.1111111111111111,
                            "#46039f"
                          ],
                          [
                            0.2222222222222222,
                            "#7201a8"
                          ],
                          [
                            0.3333333333333333,
                            "#9c179e"
                          ],
                          [
                            0.4444444444444444,
                            "#bd3786"
                          ],
                          [
                            0.5555555555555556,
                            "#d8576b"
                          ],
                          [
                            0.6666666666666666,
                            "#ed7953"
                          ],
                          [
                            0.7777777777777778,
                            "#fb9f3a"
                          ],
                          [
                            0.8888888888888888,
                            "#fdca26"
                          ],
                          [
                            1,
                            "#f0f921"
                          ]
                        ],
                        "type": "contour"
                      }
                    ],
                    "contourcarpet": [
                      {
                        "colorbar": {
                          "outlinewidth": 0,
                          "ticks": ""
                        },
                        "type": "contourcarpet"
                      }
                    ],
                    "heatmap": [
                      {
                        "colorbar": {
                          "outlinewidth": 0,
                          "ticks": ""
                        },
                        "colorscale": [
                          [
                            0,
                            "#0d0887"
                          ],
                          [
                            0.1111111111111111,
                            "#46039f"
                          ],
                          [
                            0.2222222222222222,
                            "#7201a8"
                          ],
                          [
                            0.3333333333333333,
                            "#9c179e"
                          ],
                          [
                            0.4444444444444444,
                            "#bd3786"
                          ],
                          [
                            0.5555555555555556,
                            "#d8576b"
                          ],
                          [
                            0.6666666666666666,
                            "#ed7953"
                          ],
                          [
                            0.7777777777777778,
                            "#fb9f3a"
                          ],
                          [
                            0.8888888888888888,
                            "#fdca26"
                          ],
                          [
                            1,
                            "#f0f921"
                          ]
                        ],
                        "type": "heatmap"
                      }
                    ],
                    "heatmapgl": [
                      {
                        "colorbar": {
                          "outlinewidth": 0,
                          "ticks": ""
                        },
                        "colorscale": [
                          [
                            0,
                            "#0d0887"
                          ],
                          [
                            0.1111111111111111,
                            "#46039f"
                          ],
                          [
                            0.2222222222222222,
                            "#7201a8"
                          ],
                          [
                            0.3333333333333333,
                            "#9c179e"
                          ],
                          [
                            0.4444444444444444,
                            "#bd3786"
                          ],
                          [
                            0.5555555555555556,
                            "#d8576b"
                          ],
                          [
                            0.6666666666666666,
                            "#ed7953"
                          ],
                          [
                            0.7777777777777778,
                            "#fb9f3a"
                          ],
                          [
                            0.8888888888888888,
                            "#fdca26"
                          ],
                          [
                            1,
                            "#f0f921"
                          ]
                        ],
                        "type": "heatmapgl"
                      }
                    ],
                    "histogram": [
                      {
                        "marker": {
                          "pattern": {
                            "fillmode": "overlay",
                            "size": 10,
                            "solidity": 0.2
                          }
                        },
                        "type": "histogram"
                      }
                    ],
                    "histogram2d": [
                      {
                        "colorbar": {
                          "outlinewidth": 0,
                          "ticks": ""
                        },
                        "colorscale": [
                          [
                            0,
                            "#0d0887"
                          ],
                          [
                            0.1111111111111111,
                            "#46039f"
                          ],
                          [
                            0.2222222222222222,
                            "#7201a8"
                          ],
                          [
                            0.3333333333333333,
                            "#9c179e"
                          ],
                          [
                            0.4444444444444444,
                            "#bd3786"
                          ],
                          [
                            0.5555555555555556,
                            "#d8576b"
                          ],
                          [
                            0.6666666666666666,
                            "#ed7953"
                          ],
                          [
                            0.7777777777777778,
                            "#fb9f3a"
                          ],
                          [
                            0.8888888888888888,
                            "#fdca26"
                          ],
                          [
                            1,
                            "#f0f921"
                          ]
                        ],
                        "type": "histogram2d"
                      }
                    ],
                    "histogram2dcontour": [
                      {
                        "colorbar": {
                          "outlinewidth": 0,
                          "ticks": ""
                        },
                        "colorscale": [
                          [
                            0,
                            "#0d0887"
                          ],
                          [
                            0.1111111111111111,
                            "#46039f"
                          ],
                          [
                            0.2222222222222222,
                            "#7201a8"
                          ],
                          [
                            0.3333333333333333,
                            "#9c179e"
                          ],
                          [
                            0.4444444444444444,
                            "#bd3786"
                          ],
                          [
                            0.5555555555555556,
                            "#d8576b"
                          ],
                          [
                            0.6666666666666666,
                            "#ed7953"
                          ],
                          [
                            0.7777777777777778,
                            "#fb9f3a"
                          ],
                          [
                            0.8888888888888888,
                            "#fdca26"
                          ],
                          [
                            1,
                            "#f0f921"
                          ]
                        ],
                        "type": "histogram2dcontour"
                      }
                    ],
                    "mesh3d": [
                      {
                        "colorbar": {
                          "outlinewidth": 0,
                          "ticks": ""
                        },
                        "type": "mesh3d"
                      }
                    ],
                    "parcoords": [
                      {
                        "line": {
                          "colorbar": {
                            "outlinewidth": 0,
                            "ticks": ""
                          }
                        },
                        "type": "parcoords"
                      }
                    ],
                    "pie": [
                      {
                        "automargin": true,
                        "type": "pie"
                      }
                    ],
                    "scatter": [
                      {
                        "fillpattern": {
                          "fillmode": "overlay",
                          "size": 10,
                          "solidity": 0.2
                        },
                        "type": "scatter"
                      }
                    ],
                    "scatter3d": [
                      {
                        "line": {
                          "colorbar": {
                            "outlinewidth": 0,
                            "ticks": ""
                          }
                        },
                        "marker": {
                          "colorbar": {
                            "outlinewidth": 0,
                            "ticks": ""
                          }
                        },
                        "type": "scatter3d"
                      }
                    ],
                    "scattercarpet": [
                      {
                        "marker": {
                          "colorbar": {
                            "outlinewidth": 0,
                            "ticks": ""
                          }
                        },
                        "type": "scattercarpet"
                      }
                    ],
                    "scattergeo": [
                      {
                        "marker": {
                          "colorbar": {
                            "outlinewidth": 0,
                            "ticks": ""
                          }
                        },
                        "type": "scattergeo"
                      }
                    ],
                    "scattergl": [
                      {
                        "marker": {
                          "colorbar": {
                            "outlinewidth": 0,
                            "ticks": ""
                          }
                        },
                        "type": "scattergl"
                      }
                    ],
                    "scattermapbox": [
                      {
                        "marker": {
                          "colorbar": {
                            "outlinewidth": 0,
                            "ticks": ""
                          }
                        },
                        "type": "scattermapbox"
                      }
                    ],
                    "scatterpolar": [
                      {
                        "marker": {
                          "colorbar": {
                            "outlinewidth": 0,
                            "ticks": ""
                          }
                        },
                        "type": "scatterpolar"
                      }
                    ],
                    "scatterpolargl": [
                      {
                        "marker": {
                          "colorbar": {
                            "outlinewidth": 0,
                            "ticks": ""
                          }
                        },
                        "type": "scatterpolargl"
                      }
                    ],
                    "scatterternary": [
                      {
                        "marker": {
                          "colorbar": {
                            "outlinewidth": 0,
                            "ticks": ""
                          }
                        },
                        "type": "scatterternary"
                      }
                    ],
                    "surface": [
                      {
                        "colorbar": {
                          "outlinewidth": 0,
                          "ticks": ""
                        },
                        "colorscale": [
                          [
                            0,
                            "#0d0887"
                          ],
                          [
                            0.1111111111111111,
                            "#46039f"
                          ],
                          [
                            0.2222222222222222,
                            "#7201a8"
                          ],
                          [
                            0.3333333333333333,
                            "#9c179e"
                          ],
                          [
                            0.4444444444444444,
                            "#bd3786"
                          ],
                          [
                            0.5555555555555556,
                            "#d8576b"
                          ],
                          [
                            0.6666666666666666,
                            "#ed7953"
                          ],
                          [
                            0.7777777777777778,
                            "#fb9f3a"
                          ],
                          [
                            0.8888888888888888,
                            "#fdca26"
                          ],
                          [
                            1,
                            "#f0f921"
                          ]
                        ],
                        "type": "surface"
                      }
                    ],
                    "table": [
                      {
                        "cells": {
                          "fill": {
                            "color": "#EBF0F8"
                          },
                          "line": {
                            "color": "white"
                          }
                        },
                        "header": {
                          "fill": {
                            "color": "#C8D4E3"
                          },
                          "line": {
                            "color": "white"
                          }
                        },
                        "type": "table"
                      }
                    ]
                  },
                  "layout": {
                    "annotationdefaults": {
                      "arrowcolor": "#2a3f5f",
                      "arrowhead": 0,
                      "arrowwidth": 1
                    },
                    "autotypenumbers": "strict",
                    "coloraxis": {
                      "colorbar": {
                        "outlinewidth": 0,
                        "ticks": ""
                      }
                    },
                    "colorscale": {
                      "diverging": [
                        [
                          0,
                          "#8e0152"
                        ],
                        [
                          0.1,
                          "#c51b7d"
                        ],
                        [
                          0.2,
                          "#de77ae"
                        ],
                        [
                          0.3,
                          "#f1b6da"
                        ],
                        [
                          0.4,
                          "#fde0ef"
                        ],
                        [
                          0.5,
                          "#f7f7f7"
                        ],
                        [
                          0.6,
                          "#e6f5d0"
                        ],
                        [
                          0.7,
                          "#b8e186"
                        ],
                        [
                          0.8,
                          "#7fbc41"
                        ],
                        [
                          0.9,
                          "#4d9221"
                        ],
                        [
                          1,
                          "#276419"
                        ]
                      ],
                      "sequential": [
                        [
                          0,
                          "#0d0887"
                        ],
                        [
                          0.1111111111111111,
                          "#46039f"
                        ],
                        [
                          0.2222222222222222,
                          "#7201a8"
                        ],
                        [
                          0.3333333333333333,
                          "#9c179e"
                        ],
                        [
                          0.4444444444444444,
                          "#bd3786"
                        ],
                        [
                          0.5555555555555556,
                          "#d8576b"
                        ],
                        [
                          0.6666666666666666,
                          "#ed7953"
                        ],
                        [
                          0.7777777777777778,
                          "#fb9f3a"
                        ],
                        [
                          0.8888888888888888,
                          "#fdca26"
                        ],
                        [
                          1,
                          "#f0f921"
                        ]
                      ],
                      "sequentialminus": [
                        [
                          0,
                          "#0d0887"
                        ],
                        [
                          0.1111111111111111,
                          "#46039f"
                        ],
                        [
                          0.2222222222222222,
                          "#7201a8"
                        ],
                        [
                          0.3333333333333333,
                          "#9c179e"
                        ],
                        [
                          0.4444444444444444,
                          "#bd3786"
                        ],
                        [
                          0.5555555555555556,
                          "#d8576b"
                        ],
                        [
                          0.6666666666666666,
                          "#ed7953"
                        ],
                        [
                          0.7777777777777778,
                          "#fb9f3a"
                        ],
                        [
                          0.8888888888888888,
                          "#fdca26"
                        ],
                        [
                          1,
                          "#f0f921"
                        ]
                      ]
                    },
                    "colorway": [
                      "#636efa",
                      "#EF553B",
                      "#00cc96",
                      "#ab63fa",
                      "#FFA15A",
                      "#19d3f3",
                      "#FF6692",
                      "#B6E880",
                      "#FF97FF",
                      "#FECB52"
                    ],
                    "font": {
                      "color": "#2a3f5f"
                    },
                    "geo": {
                      "bgcolor": "white",
                      "lakecolor": "white",
                      "landcolor": "#E5ECF6",
                      "showlakes": true,
                      "showland": true,
                      "subunitcolor": "white"
                    },
                    "hoverlabel": {
                      "align": "left"
                    },
                    "hovermode": "closest",
                    "mapbox": {
                      "style": "light"
                    },
                    "paper_bgcolor": "white",
                    "plot_bgcolor": "#E5ECF6",
                    "polar": {
                      "angularaxis": {
                        "gridcolor": "white",
                        "linecolor": "white",
                        "ticks": ""
                      },
                      "bgcolor": "#E5ECF6",
                      "radialaxis": {
                        "gridcolor": "white",
                        "linecolor": "white",
                        "ticks": ""
                      }
                    },
                    "scene": {
                      "xaxis": {
                        "backgroundcolor": "#E5ECF6",
                        "gridcolor": "white",
                        "gridwidth": 2,
                        "linecolor": "white",
                        "showbackground": true,
                        "ticks": "",
                        "zerolinecolor": "white"
                      },
                      "yaxis": {
                        "backgroundcolor": "#E5ECF6",
                        "gridcolor": "white",
                        "gridwidth": 2,
                        "linecolor": "white",
                        "showbackground": true,
                        "ticks": "",
                        "zerolinecolor": "white"
                      },
                      "zaxis": {
                        "backgroundcolor": "#E5ECF6",
                        "gridcolor": "white",
                        "gridwidth": 2,
                        "linecolor": "white",
                        "showbackground": true,
                        "ticks": "",
                        "zerolinecolor": "white"
                      }
                    },
                    "shapedefaults": {
                      "line": {
                        "color": "#2a3f5f"
                      }
                    },
                    "ternary": {
                      "aaxis": {
                        "gridcolor": "white",
                        "linecolor": "white",
                        "ticks": ""
                      },
                      "baxis": {
                        "gridcolor": "white",
                        "linecolor": "white",
                        "ticks": ""
                      },
                      "bgcolor": "#E5ECF6",
                      "caxis": {
                        "gridcolor": "white",
                        "linecolor": "white",
                        "ticks": ""
                      }
                    },
                    "title": {
                      "x": 0.05
                    },
                    "xaxis": {
                      "automargin": true,
                      "gridcolor": "white",
                      "linecolor": "white",
                      "ticks": "",
                      "title": {
                        "standoff": 15
                      },
                      "zerolinecolor": "white",
                      "zerolinewidth": 2
                    },
                    "yaxis": {
                      "automargin": true,
                      "gridcolor": "white",
                      "linecolor": "white",
                      "ticks": "",
                      "title": {
                        "standoff": 15
                      },
                      "zerolinecolor": "white",
                      "zerolinewidth": 2
                    }
                  }
                }
              }
            }
          },
          "metadata": {},
          "output_type": "display_data"
        }
      ],
      "source": [
        "import plotly.express as px\n",
        "\n",
        "print(X_train.columns)\n",
        "print(X_train.head())\n",
        "\n",
        "#visualize mappings via treemap\n",
        "result_summary = pd.pivot_table(X_train, index=['label', 'player_name'],  aggfunc='count').reset_index().rename(columns={'draft_position':'count'})\n",
        "result_treemap = result_summary\n",
        "fig = px.treemap(result_treemap,path=['label', 'player_name'],values='count')\n",
        "fig.show()"
      ]
    },
    {
      "cell_type": "code",
      "execution_count": 55,
      "metadata": {
        "colab": {
          "base_uri": "https://localhost:8080/",
          "height": 496
        },
        "id": "_Cz9MkDTxX8H",
        "outputId": "a86f29bd-c382-4463-f955-a20fa1f0a303"
      },
      "outputs": [
        {
          "data": {
            "text/plain": [
              "<matplotlib.legend.Legend at 0x1f5fbc7bc08>"
            ]
          },
          "execution_count": 55,
          "metadata": {},
          "output_type": "execute_result"
        },
        {
          "data": {
            "image/png": "[encoded data removed]",
            "text/plain": [
              "<Figure size 640x480 with 1 Axes>"
            ]
          },
          "metadata": {},
          "output_type": "display_data"
        }
      ],
      "source": [
        "tsne = TSNE(n_components=2, perplexity=15, random_state=42, init=\"random\", learning_rate=200)\n",
        "vis_dims2 = tsne.fit_transform(X_train_vect)\n",
        "\n",
        "x = [x for x, y in vis_dims2]\n",
        "y = [y for x, y in vis_dims2]\n",
        "\n",
        "color = cm.rainbow(np.linspace(0, 1, len(X_train.label.unique())))\n",
        "for category, color in enumerate(color):\n",
        "    xs = np.array(x)[X_train.label == category]\n",
        "    ys = np.array(y)[X_train.label == category]\n",
        "    plt.scatter(xs, ys, color=color, alpha=0.3)\n",
        "\n",
        "    avg_x = xs.mean()\n",
        "    avg_y = ys.mean()\n",
        "\n",
        "    plt.scatter(avg_x, avg_y, marker=\"x\", color=color, s=100, label=category)\n",
        "plt.title(\"Visual Representation Of Clusters In 2D Via TSNE\")\n",
        "plt.legend()"
      ]
    }
  ],
  "metadata": {
    "colab": {
      "provenance": []
    },
    "kernelspec": {
      "display_name": "Python 3",
      "name": "python3"
    },
    "language_info": {
      "codemirror_mode": {
        "name": "ipython",
        "version": 3
      },
      "file_extension": ".py",
      "mimetype": "text/x-python",
      "name": "python",
      "nbconvert_exporter": "python",
      "pygments_lexer": "ipython3",
      "version": "3.7.10"
    }
  },
  "nbformat": 4,
  "nbformat_minor": 0
}
