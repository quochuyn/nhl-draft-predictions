{
  "cells": [
    {
      "cell_type": "code",
      "execution_count": 18,
      "metadata": {
        "colab": {
          "base_uri": "https://localhost:8080/"
        },
        "id": "DAudg6vHRsXx",
        "outputId": "3c2c5119-6062-4e48-9177-bb400c6a3c1f"
      },
      "outputs": [
        {
          "name": "stderr",
          "output_type": "stream",
          "text": [
            "[nltk_data] Downloading package punkt to\n",
            "[nltk_data]     C:\\Users\\Ryan\\AppData\\Roaming\\nltk_data...\n",
            "[nltk_data]   Package punkt is already up-to-date!\n",
            "[nltk_data] Downloading package stopwords to\n",
            "[nltk_data]     C:\\Users\\Ryan\\AppData\\Roaming\\nltk_data...\n",
            "[nltk_data]   Package stopwords is already up-to-date!\n",
            "[nltk_data] Downloading package wordnet to\n",
            "[nltk_data]     C:\\Users\\Ryan\\AppData\\Roaming\\nltk_data...\n",
            "[nltk_data]   Package wordnet is already up-to-date!\n"
          ]
        },
        {
          "data": {
            "text/plain": [
              "True"
            ]
          },
          "execution_count": 18,
          "metadata": {},
          "output_type": "execute_result"
        }
      ],
      "source": [
        "import numpy as np\n",
        "import pandas as pd\n",
        "\n",
        "import matplotlib.cm as cm\n",
        "import matplotlib.pyplot as plt\n",
        "\n",
        "import nltk\n",
        "from nltk.corpus import stopwords\n",
        "from nltk.stem import PorterStemmer\n",
        "from nltk.stem import WordNetLemmatizer\n",
        "from sklearn.model_selection import train_test_split\n",
        "from sklearn.feature_extraction.text import CountVectorizer\n",
        "from sklearn.linear_model import LogisticRegression\n",
        "from sklearn import preprocessing\n",
        "from sklearn.svm import SVC\n",
        "from sklearn.neighbors import KNeighborsClassifier\n",
        "from sklearn.cluster import KMeans\n",
        "from sklearn.cluster import MiniBatchKMeans\n",
        "from sklearn.decomposition import PCA\n",
        "from sklearn.manifold import TSNE\n",
        "from sklearn.feature_extraction.text import TfidfVectorizer\n",
        "from sklearn.metrics import silhouette_score\n",
        "import re\n",
        "import gensim\n",
        "from gensim.models import Word2Vec\n",
        "\n",
        "nltk.download(\"punkt\")\n",
        "nltk.download('stopwords')\n",
        "nltk.download('wordnet')"
      ]
    },
    {
      "cell_type": "code",
      "execution_count": 19,
      "metadata": {
        "colab": {
          "base_uri": "https://localhost:8080/",
          "height": 354
        },
        "id": "h0ANlswKSDKo",
        "outputId": "6ed19579-271a-4941-d249-31deef31fd28"
      },
      "outputs": [
        {
          "data": {
            "text/html": [
              "<div>\n",
              "<style scoped>\n",
              "    .dataframe tbody tr th:only-of-type {\n",
              "        vertical-align: middle;\n",
              "    }\n",
              "\n",
              "    .dataframe tbody tr th {\n",
              "        vertical-align: top;\n",
              "    }\n",
              "\n",
              "    .dataframe thead th {\n",
              "        text-align: right;\n",
              "    }\n",
              "</style>\n",
              "<table border=\"1\" class=\"dataframe\">\n",
              "  <thead>\n",
              "    <tr style=\"text-align: right;\">\n",
              "      <th></th>\n",
              "      <th>Year</th>\n",
              "      <th>Position</th>\n",
              "      <th>Height</th>\n",
              "      <th>Weight</th>\n",
              "      <th>Drafted</th>\n",
              "      <th>Team</th>\n",
              "      <th>Average Ranking</th>\n",
              "      <th>Name</th>\n",
              "      <th>Description - Corey Pronman</th>\n",
              "      <th>Description - Scott Wheeler</th>\n",
              "      <th>Description - Smaht Scouting</th>\n",
              "      <th>Description - ESPN (Chris Peters)</th>\n",
              "      <th>Description - EP Rinkside</th>\n",
              "      <th>Description - EP Rinkside Part 2</th>\n",
              "      <th>Description - The Painted Lines</th>\n",
              "      <th>Description - FCHockey</th>\n",
              "    </tr>\n",
              "  </thead>\n",
              "  <tbody>\n",
              "    <tr>\n",
              "      <th>0</th>\n",
              "      <td>2022</td>\n",
              "      <td>LW</td>\n",
              "      <td>76.0</td>\n",
              "      <td>218.0</td>\n",
              "      <td>1</td>\n",
              "      <td>MON</td>\n",
              "      <td>1.0</td>\n",
              "      <td>Juraj Slafkovsky</td>\n",
              "      <td>Slafkovsky has all the assets you're looking f...</td>\n",
              "      <td>Slafkovsky is one of the draft's most tantaliz...</td>\n",
              "      <td>Slafkovsky can be a menace at the NHL level. H...</td>\n",
              "      <td>The potential of what Slafkovsky can be as he ...</td>\n",
              "      <td>Slafkovsky is one of the largest players in th...</td>\n",
              "      <td>Nothing brought out Juraj Slafkovsky's draft y...</td>\n",
              "      <td>Slafkovsky dominated the international scene t...</td>\n",
              "      <td>Juraj Slafkovsky drives offense from the wing....</td>\n",
              "    </tr>\n",
              "    <tr>\n",
              "      <th>1</th>\n",
              "      <td>2022</td>\n",
              "      <td>C</td>\n",
              "      <td>72.5</td>\n",
              "      <td>193.0</td>\n",
              "      <td>4</td>\n",
              "      <td>SEA</td>\n",
              "      <td>2.0</td>\n",
              "      <td>Shane Wright</td>\n",
              "      <td>Wright is a very well-rounded center who has n...</td>\n",
              "      <td>Still my top prospect in this class (though no...</td>\n",
              "      <td>The complicated and essential question to answ...</td>\n",
              "      <td>With high-end hockey sense highlighted by his ...</td>\n",
              "      <td>The top player from the class held this positi...</td>\n",
              "      <td>In a draft year shaped by substantial depth ra...</td>\n",
              "      <td>Wright has been on the radar of scouts for a l...</td>\n",
              "      <td>Shane Wright is an elite two-way center with i...</td>\n",
              "    </tr>\n",
              "    <tr>\n",
              "      <th>2</th>\n",
              "      <td>2022</td>\n",
              "      <td>D</td>\n",
              "      <td>72.0</td>\n",
              "      <td>190.0</td>\n",
              "      <td>2</td>\n",
              "      <td>NJD</td>\n",
              "      <td>4.0</td>\n",
              "      <td>Simon Nemec</td>\n",
              "      <td>Nemec is a very well-rounded defenseman. His p...</td>\n",
              "      <td>This kid turned 18 in the middle of February a...</td>\n",
              "      <td>With Nemec, you are netting a top pairing defe...</td>\n",
              "      <td>One of the very best passers in this draft, Ne...</td>\n",
              "      <td>The statistical comparables to Nemec's draft y...</td>\n",
              "      <td>Šimon Nemec just put together the most product...</td>\n",
              "      <td>Few players have been as dominant at the pro-l...</td>\n",
              "      <td>Simon Nemec is a mobile two-way and highly-int...</td>\n",
              "    </tr>\n",
              "    <tr>\n",
              "      <th>3</th>\n",
              "      <td>2022</td>\n",
              "      <td>C</td>\n",
              "      <td>70.5</td>\n",
              "      <td>180.0</td>\n",
              "      <td>3</td>\n",
              "      <td>ARI</td>\n",
              "      <td>3.0</td>\n",
              "      <td>Logan Cooley</td>\n",
              "      <td>Cooley is a dynamic player. When he has the pu...</td>\n",
              "      <td>Cooley is a beautiful, flowing skater capable ...</td>\n",
              "      <td>Logan Cooley is for sure one of the more well-...</td>\n",
              "      <td>Over the last several months, I have constantl...</td>\n",
              "      <td>A highly creative, speed-driven pivot who brin...</td>\n",
              "      <td>You won't find a more singularly-gifted puckha...</td>\n",
              "      <td>A small, speedy center, Cooley dominated the U...</td>\n",
              "      <td>Juraj Slafkovsky drives offense from the wing....</td>\n",
              "    </tr>\n",
              "    <tr>\n",
              "      <th>4</th>\n",
              "      <td>2022</td>\n",
              "      <td>D</td>\n",
              "      <td>75.0</td>\n",
              "      <td>189.0</td>\n",
              "      <td>6</td>\n",
              "      <td>CBJ</td>\n",
              "      <td>5.0</td>\n",
              "      <td>David Jiricek</td>\n",
              "      <td>Jiricek is a big, right-shot defenseman who ma...</td>\n",
              "      <td>After suffering a knee injury at the world jun...</td>\n",
              "      <td>Top pairing defenseman at the NHL level if he ...</td>\n",
              "      <td>A highly mobile, 6-foot-3 defenseman with a bo...</td>\n",
              "      <td>A knee injury fractured Jiříček's season, but ...</td>\n",
              "      <td>David Jiříček finishes the year as the highest...</td>\n",
              "      <td>Similar to Nemec, Jiricek plays a mature game ...</td>\n",
              "      <td>David Jiricek is an exceptional two-way defens...</td>\n",
              "    </tr>\n",
              "  </tbody>\n",
              "</table>\n",
              "</div>"
            ],
            "text/plain": [
              "   Year Position  Height  Weight  Drafted Team  Average Ranking  \\\n",
              "0  2022       LW    76.0   218.0        1  MON              1.0   \n",
              "1  2022        C    72.5   193.0        4  SEA              2.0   \n",
              "2  2022        D    72.0   190.0        2  NJD              4.0   \n",
              "3  2022        C    70.5   180.0        3  ARI              3.0   \n",
              "4  2022        D    75.0   189.0        6  CBJ              5.0   \n",
              "\n",
              "               Name                        Description - Corey Pronman  \\\n",
              "0  Juraj Slafkovsky  Slafkovsky has all the assets you're looking f...   \n",
              "1      Shane Wright  Wright is a very well-rounded center who has n...   \n",
              "2       Simon Nemec  Nemec is a very well-rounded defenseman. His p...   \n",
              "3      Logan Cooley  Cooley is a dynamic player. When he has the pu...   \n",
              "4     David Jiricek  Jiricek is a big, right-shot defenseman who ma...   \n",
              "\n",
              "                         Description - Scott Wheeler  \\\n",
              "0  Slafkovsky is one of the draft's most tantaliz...   \n",
              "1  Still my top prospect in this class (though no...   \n",
              "2  This kid turned 18 in the middle of February a...   \n",
              "3  Cooley is a beautiful, flowing skater capable ...   \n",
              "4  After suffering a knee injury at the world jun...   \n",
              "\n",
              "                        Description - Smaht Scouting  \\\n",
              "0  Slafkovsky can be a menace at the NHL level. H...   \n",
              "1  The complicated and essential question to answ...   \n",
              "2  With Nemec, you are netting a top pairing defe...   \n",
              "3  Logan Cooley is for sure one of the more well-...   \n",
              "4  Top pairing defenseman at the NHL level if he ...   \n",
              "\n",
              "                   Description - ESPN (Chris Peters)  \\\n",
              "0  The potential of what Slafkovsky can be as he ...   \n",
              "1  With high-end hockey sense highlighted by his ...   \n",
              "2  One of the very best passers in this draft, Ne...   \n",
              "3  Over the last several months, I have constantl...   \n",
              "4  A highly mobile, 6-foot-3 defenseman with a bo...   \n",
              "\n",
              "                           Description - EP Rinkside  \\\n",
              "0  Slafkovsky is one of the largest players in th...   \n",
              "1  The top player from the class held this positi...   \n",
              "2  The statistical comparables to Nemec's draft y...   \n",
              "3  A highly creative, speed-driven pivot who brin...   \n",
              "4  A knee injury fractured Jiříček's season, but ...   \n",
              "\n",
              "                    Description - EP Rinkside Part 2  \\\n",
              "0  Nothing brought out Juraj Slafkovsky's draft y...   \n",
              "1  In a draft year shaped by substantial depth ra...   \n",
              "2  Šimon Nemec just put together the most product...   \n",
              "3  You won't find a more singularly-gifted puckha...   \n",
              "4  David Jiříček finishes the year as the highest...   \n",
              "\n",
              "                     Description - The Painted Lines  \\\n",
              "0  Slafkovsky dominated the international scene t...   \n",
              "1  Wright has been on the radar of scouts for a l...   \n",
              "2  Few players have been as dominant at the pro-l...   \n",
              "3  A small, speedy center, Cooley dominated the U...   \n",
              "4  Similar to Nemec, Jiricek plays a mature game ...   \n",
              "\n",
              "                              Description - FCHockey  \n",
              "0  Juraj Slafkovsky drives offense from the wing....  \n",
              "1  Shane Wright is an elite two-way center with i...  \n",
              "2  Simon Nemec is a mobile two-way and highly-int...  \n",
              "3  Juraj Slafkovsky drives offense from the wing....  \n",
              "4  David Jiricek is an exceptional two-way defens...  "
            ]
          },
          "execution_count": 19,
          "metadata": {},
          "output_type": "execute_result"
        }
      ],
      "source": [
        "# dataset location\n",
        "DATASET = \"data/prospect-data.csv\"\n",
        "\n",
        "# load dataset into dataframe\n",
        "data = pd.read_csv(DATASET)\n",
        "\n",
        "data.head()"
      ]
    },
    {
      "cell_type": "code",
      "execution_count": 20,
      "metadata": {
        "colab": {
          "base_uri": "https://localhost:8080/"
        },
        "id": "mJ_zKhGPe1jL",
        "outputId": "e20c9369-f975-4bff-b2f2-e41ad2674966"
      },
      "outputs": [
        {
          "name": "stdout",
          "output_type": "stream",
          "text": [
            "<class 'pandas.core.frame.DataFrame'>\n",
            "RangeIndex: 360 entries, 0 to 359\n",
            "Data columns (total 16 columns):\n",
            " #   Column                             Non-Null Count  Dtype  \n",
            "---  ------                             --------------  -----  \n",
            " 0   Year                               360 non-null    int64  \n",
            " 1   Position                           360 non-null    object \n",
            " 2   Height                             360 non-null    float64\n",
            " 3   Weight                             360 non-null    float64\n",
            " 4   Drafted                            360 non-null    int64  \n",
            " 5   Team                               360 non-null    object \n",
            " 6   Average Ranking                    120 non-null    float64\n",
            " 7   Name                               360 non-null    object \n",
            " 8   Description - Corey Pronman        347 non-null    object \n",
            " 9   Description - Scott Wheeler        171 non-null    object \n",
            " 10  Description - Smaht Scouting       107 non-null    object \n",
            " 11  Description - ESPN (Chris Peters)  187 non-null    object \n",
            " 12  Description - EP Rinkside          158 non-null    object \n",
            " 13  Description - EP Rinkside Part 2   154 non-null    object \n",
            " 14  Description - The Painted Lines    133 non-null    object \n",
            " 15  Description - FCHockey             350 non-null    object \n",
            "dtypes: float64(3), int64(2), object(11)\n",
            "memory usage: 45.1+ KB\n"
          ]
        }
      ],
      "source": [
        "data.info(verbose=True)"
      ]
    },
    {
      "cell_type": "code",
      "execution_count": 21,
      "metadata": {
        "colab": {
          "base_uri": "https://localhost:8080/"
        },
        "id": "h8l7ej0ASdIf",
        "outputId": "eadc2de2-5cd9-40c5-b78a-876d8044209c"
      },
      "outputs": [
        {
          "name": "stdout",
          "output_type": "stream",
          "text": [
            "<class 'pandas.core.frame.DataFrame'>\n",
            "RangeIndex: 360 entries, 0 to 359\n",
            "Data columns (total 16 columns):\n",
            " #   Column                             Non-Null Count  Dtype  \n",
            "---  ------                             --------------  -----  \n",
            " 0   Year                               360 non-null    int64  \n",
            " 1   Position                           360 non-null    int32  \n",
            " 2   Height                             360 non-null    float64\n",
            " 3   Weight                             360 non-null    float64\n",
            " 4   Drafted                            360 non-null    int64  \n",
            " 5   Team                               360 non-null    object \n",
            " 6   Average Ranking                    120 non-null    float64\n",
            " 7   Name                               360 non-null    object \n",
            " 8   Description - Corey Pronman        347 non-null    object \n",
            " 9   Description - Scott Wheeler        171 non-null    object \n",
            " 10  Description - Smaht Scouting       107 non-null    object \n",
            " 11  Description - ESPN (Chris Peters)  187 non-null    object \n",
            " 12  Description - EP Rinkside          158 non-null    object \n",
            " 13  Description - EP Rinkside Part 2   154 non-null    object \n",
            " 14  Description - The Painted Lines    133 non-null    object \n",
            " 15  Description - FCHockey             350 non-null    object \n",
            "dtypes: float64(3), int32(1), int64(2), object(10)\n",
            "memory usage: 43.7+ KB\n"
          ]
        }
      ],
      "source": [
        "# clean up dataset\n",
        "# might have to look at dropping seattle in the future but for clustering it \n",
        "# should not matter\n",
        "#data = data[data['Team'] != 'SEA']\n",
        "\n",
        "# try with only forwards\n",
        "#data = data[(data['Position'] == 'C') | (data['Position'] == 'LW') | (data['Position'] == 'RW')]\n",
        "\n",
        "# encode position\n",
        "# TODO: we should keep the positions for when we do clustering\n",
        "le = preprocessing.LabelEncoder()\n",
        "le.fit(data['Position'].unique())\n",
        "data['Position'] = data['Position'].apply(lambda x: le.transform([x])[0])\n",
        "\n",
        "\n",
        "data.info()"
      ]
    },
    {
      "cell_type": "code",
      "execution_count": 23,
      "metadata": {
        "colab": {
          "base_uri": "https://localhost:8080/"
        },
        "id": "BU2qKUXDTkH3",
        "outputId": "3209183c-e731-448e-d2b6-80d98cd52aaa"
      },
      "outputs": [
        {
          "name": "stdout",
          "output_type": "stream",
          "text": [
            "length of corpus: 360\n",
            "length of labels: 360\n",
            "length of draft_position: 360\n",
            "length of player_position: 360\n",
            "corpus first 5: [' asset look top nhl forward foot winger beat oppon speed skill possess outstand puck skill put puck leg stick high rate use finess quick get around defend also set finish play well physic run guy compet good enough project top line winger potenti pop becom true star nhl one draft tantal prospect skill size combo scout coach clamour alreadi demonstr pro competit domest notabl intern big year nine point five game histor silver medal slovak hlinka gretzki cup olymp bronz medal tournament mvp liiga silver medal club team tp team lead nine point men world built like forward pound frame make one draft heaviest player play game uncharacterist finess regularli flash hand expect smaller player one one pull puck tight feet also got rangi fluid stride make surprisingli danger rush player impress confid puck stick enabl hang onto sometim fault attack wall slot love take puck half wall home plate area shoot forehand team draft bet upsid grade near top class also big fan approach continu play style look attack control lot forward size becom deferenti fall back give go habit fit mould make jump pro level play higher higher competit despit makeup success risk associ project size small player one carri size base limit though combin much like four player slot ahead leav littl lower pick even real chanc becom one two three best player draft menac nhl level stick handl reach play cycl make threat low broaden game work long rang shot allow becom dual threat even becom dual threat offens physic reach net puck puck battl set teammat slot said envis top six contributor nhl level potenti continu develop intox foot winger physic high end skill one better overal shot draft hard get excit chanc end pick draft may one day view best player everi bit good two player list ahead talent alon watch lot year enamor physic tool skill ton preced kind season produc rate far expect top five nhl draft pick leagu season yet chart intern end largest sampl judg club season tp look player liiga gone earli draft better number mani better number lot someth easili ignor among u player play least game liiga u player point per game rank th st overal last year classic eye test darl big reason rang play well intern event sure discuss play game got see physic domin young player held pro eventu becam one team import player olymp world championship field nhl calib competit signific stage broke profession also think progress season play confid stretch significantli alter well play better tough case read bodi work suggest statist among top tier player leagu histor immens skillset uniqu draft class imposs overlook think right mix best player class even though know number say get past incred ceil believ size skill packag creat one largest player first round also possess largest upsid anyon class rocket shot soft hand improv skate stride packag foot pound frame abil make play space great need without time well could unicorn noth brought draft year best quit like opportun wear countri colour repres slovakia intern competit ultim patriot start scout season shot cannon put nine point five game en rout silver medal hlinka gretzki august next seven goal seven game mvp honour led slovakia bronz medal beij olymp lastli point game clip world hockey championship finland age season like chop liver finnish liiga either ten point game hardli anyth scoff first time draft elig skater one europ challeng profession leagu appeal obviou foot playmak forward soft hand shoot skill sort wall game would alreadi rate averag qualiti nhl first thing notic easili retain possess duress like watch bulli play keep away one hand stiff arm victim reach one wave stolen item mock good measur want puck take puck good luck get back mostli seen slovak winger profession set season make much impress one thing ward physic undevelop year old whl anoth thing entir swat away season veteran finland top men leagu like mosquito bring lot tabl brute forc though make uniqu prospect turn extend possess sequenc legitim score chanc sometim drive net front chanc time handl way pass opportun send puck linem finish job often leav staff want though footspe defici mani whether postur heel kick recoveri hop crossov cannot separ oppon space credit alreadi seen consider growth skater season reason believ continu path rise rank probabl averag tool point pretti big step start season surpris hear name call high first overal juli draft player skill set rare team guard player close move heaven earth find one mean want high score top six winger physic side upsid domin intern scene past season solidifi number two pick nhl draft season last year play world junior olymp world championship domin perform came olymp led slovakia bronz medal receiv mvp honor remark feat year old intrigu prospect absurd overal physic offens packag well pound strong puck use frame physic manner yet incred hand make play tight like player draft class make uniqu player size high skill domin low open ice domin intern level men struggl put point time finland top leagu howev scout concern believ higher number come time may make jump nhl immedi next season due physic matur like need least anoth season develop offens game drive offens wing massiv winger made strong case challeng first overal play high pace impress agil someon size use strong stride long leg gener lot speed step lack extra gear creat separ well protect puck challeng make speed burst concern may follow strong stickhandl abil move puck tight control possess well pace play ice awar three zone anoth aspect game excel make extra effort backcheck well go low support bluelin defend also use stick well take advantag long reach win battl loos puck immens offens potenti frustrat see pass great score opportun teammat learn take given remov moment tunnel vision game someth need improv consist impact player attack uniqu blend size skill could make domin player nhl level ultim swing upsid still solid floor becom player capabl develop littl doubt forc nhl next year peopl wonder even debat top pick class hit potenti still got potenti top six score winger impact game regularli', ' well round center notic flaw skill set also ton game get overli excit skate handl puck like nhler game translat compet direct style play take puck net play quick pull make tough pass take puck interior high end vision run play unit make tough play pace shot good show abil pick corner long rang consist puck competit respons show matur beyond year project center nhl due around play chanc star probabl elit scorer leagu still top prospect class though longer tier athlet kid boast wide gait boxi shoulder balanc puck physic tool complement lethal wrist shot releas get sever stanc pop blade heel toe quick hand traffic allow take puck wall creat score chanc interior also one dilig three zone player draft power stride help push play ice though evid length sheet standstil quick foot race done provid support low zone puck shot biggest weapon insid offens zone actual think owe goal shot season gave play much creativ game insid offens zone second half blend versatil skill headi detail game allow drive line reli upon situat middl next level time scout want see play littl fire feisti realli take game impos forecheck battl eye detail puck put support role often activ chase fine would like see hang onto puck littl season play talent linem abil play strength execut give go work got pro tool project impact top six centr may becom point per game player see goal point upsid premium posit complic essenti question answer mean look forward doubt attent detail style play combin intellig quick decis make start valuabl foundat continu build progress nhl howev packag skill habit take far advanc play intellig faster competit ohl infrequ show high octan offens reason caus doubt offens ceil moment time like prematur valu concern heavili enough knock top spot draft class howev question mark around offens contribut still exist juli would warrant consid game project nhl assess lead consensu st overal player expect prospect matter save franchis gener talent like disappoint reason project would rang low end st line high end nd line center may sound pessimist context st overal still essenti piec success team easi acquir addit like benefit pair skill winger allow focu push play ice offens zone linem flourish final shot sure continu threat powerplay consist shown score mani angl distanc high end hockey sens highlight tremend offens intellig make lot play lack dynam puck skill term handl one better shot draft class quick decept releas though often compar patric bergeron think good two way player degre especi apt comparison lot thing hope center term puck possess make play contribut end offens element game standout trait biggest concern date gener lack progress game year year full knowledg miss entir season think grade curv result harder know much lost season impact long term project hockey sens separ factor peer clearli competit drive allow win lot battl end think everyth well hockey sens shot high end elit trait terrif vision spot play best lack dynam element play give concern asid progress wait season see player look like nhl draft pick feel ceil level safer pick three think highest floor three player possess nhl readi game think done develop plenti potenti still reach concern closer plateau two player convinc true yet definit back mind rank player three close top player class held posit tip tail board highli intellig pivot boast heavi releas deft pass touch wherewith packag tool right situat lack separ speed like elit centr make nuanc understand game connect play drive action dish finish thwart play go good draft year shape substanti depth rather overwhelm star almost fit least excit option first overal right one better still one allow us clunki pun would end spot may seem like foregon conclus year two ago gap year ohl lost season forc countless other left slow gate two month good great product enough make question first overal pick open one mani industri new answer emerg first form later time though remind scout commun qualiti end mani conversa tion emphat point per game clip ran octob novemb turn end calendar year kept climb amass point regular season contest season end good point per game clip still lowest draft year point per game mark first overal pick chl side rick nash select perhap repres sampl decemb onward get point per game nugent hopkin context shift focu question mani draft premier play connector ice ad ministr team offens defens sequenc flow constantli survey ice maintain mental map surround downright topograph level detail know posit teammat like long establish fact rather dynam chang set option play field move puck match level confid look pass give go one two touch pass reach adjust pass master everi one tool en rout becom one game best playmak centr current nhl cun distributor high level shot even littl peculiar mechan perspect especi potent pass best hand class complet packag offens would cours feel better shot use littl judici rather settl low percentag attempt pressur minor quibbl scalabl offens toolkit find class play defens zone de fensiv read angl support play beyond reproach may art ross futur j selk seem well within reach make patric bergeron comparison lightli factor combin make consensu first overal pick elit prospect scout staff come across mani player polish well round year old much pass hold first pick juli draft radar scout long time receiv except statu play ohl year old put amaz number time unfortun play last season covid restrict ontario despit miss time captain canada gold medal put point season potenti well round player draft everyth realli well zone play matur game strong leadership qualiti origin look like goal scorer year old season round playmak well past year finish top ohl score biggest asset shot abil gener score opportun drive line make potenti number one center nhl level scout question offens ceil potenti number one pick could easili put goal point nhl level regular jump full time nhl duti next season elit two way center incred offens abil often watch player realli struggl find mani weak level way intellig ice second none full display playmak pursuit awar add pro calib shot toolbox allow multi dimension offens threat nhl level sooner rather later matur defens game effect defens offens know nuanc play center posit properli support defend everi play never seem caught posit remain engag effect rush cycl biggest issu game season inconsist offens product christma break produc way top tier draft elig prospect would ohl put question product rest amaz second half explos odd amount discours surround statur top player class given way season went complet unwarr import rememb miss essenti entir season due pandem insan expect come rooki season way rebound latter half year show enough remind peopl futur top line center nhl year come consid odd favorit number one select nhl draft', ' well round defenseman puck game great high end brain make lot tough play often hit seam make play pressur make great outlet pass also show individu skill combin good speed allow danger transit defens solid due skate compet brain even though impos physic trust tough respons project top pair defenseman kid turn middl februari alreadi regist point game profession level defenceman statist profil strong draft elig defenceman seen recent year stronger player draft class poll nhl scout still give czech defenceman slight edg argu stamp believ better case except record set play nitra playoff run men world championship kid look class peer whenev play excel nhler senior stage alreadi top player posit top domest leagu albeit difficult one evalu calcul pois three zone defend capabl organ play top zone execut seam coverag high level start lead fair share rush got great edg four way mobil also regularli flash sneaki decept blend beauti rare matur age though say dynam game break type offens see plenti calm talent know push sit back defend alreadi got pro size play polish game righti expect becom best defenceman slovakia sinc zdeno chara true mayb even guy play effect effici play drive modern game game come easi net top pair defend report might scream stronger offens defens well round well advers defend rush neutral threat zone one best passer draft rack ton assist season high level vision decis puck stick finish point game slovakia top pro leagu u player produc higher level age forward marian hossa marian gaborik regular season playoff year point game far record leagu u player though marian hossa point per game postseason remain high water mark per game rate year larg unpreced u defenseman clearli intellig offens defenseman defend averag level best puck stick push puck ice make play offens toolkit offens sens possess clearli advanc age skate high enough level think overal hockey sens put among top tier draft said think limit defens game lot get detail game full green light seem nitra incred confid young guy also got see often could let get posit creat headach partner think get better pick spot could lethal offens forc whichev team draft think project comfort top four role littl confid defenseman ceil compar statist compar draft year tipo extraliga basic non exist broke nearli everi u record defend top slovak leagu shone nation intern event right shot kid swagger mind play creation problem solver planner transit tool get away ad creativ shifti throughout season top pair upsid imon put togeth product draft year season defenceman tipo extraliga histori fact mari n hossa marian g borik two player leagu histori ever best point game first time draft elig skater survivorship bia action defencemen qualiti usual play draft year tipo extraliga fli czech extraliga number challeng profession set part equat realli damn good hockey player even less difficult thing ing rel profession set still profession set deserv due credit way handl assign like hk nitra shelter year old slovak bluelin night ice time accord partner instat third highest team pull constantli make right play right time rare ever deviat team structur find reliabl steadi defenceman year draft go bring seat exhilar display creativ skill trade leav shake head disbelief poor decis costli turnov either postur lack skill nhl level tool anyth opposit true view one draft toolsi defencemen averag skate handl shoot pass skill one timer verit cannon also want get idea strictli stay home defend either low percentag shot inabl creat offens advantag often mar game report foot bluelin also consist appreci offens activ rush offens blue line alway take would like see skill rush translat neutral zone defend part game still work progress fairli accommod gap inabl break multivari situat space often conspir leav slovak defens prospect help less rush skate base sens abl iron part game time anyway repres someth achil heel game overal though one highest floor class easi imagin scenario play top four minut nhl featur phase special team leverag tool sens consist good great point total team would happi find player top pick risk manag abil goe away breakout forecheck forc imprecis pass pattern hockey sens back player domin pro level th birthday whop point game defenseman shown game matur enough play men make modern day first pair defenseman excel skater strong first pass keep drive possess excel instinct puck mobil offens zone strong offens liabil defens either anticip play well defens excel gap control rare panic pressur puck make excel seam pass forecheck also excel hand make strong two way threat whenev ice scout draft due proven product think slightli higher upsid like year away nhl duti project top pair defend mobil two way highli intellig slovak bluelin make elit top pair defenseman standout game pois confid puck stick abl fuel advanc playmak game head player offens blue line constantli survey offens zone head swivel puck stick identifi teammat potenti offens threat smooth skater abl walk line use leg activ point puck stick allow open pass shoot lane mobil well make oppos checker bite hand shoulder fake offens vision excel capabl find teammat cross ice pass set one time opportun feed teammat slot handl puck along board crisp accur passer deliv pass tape purpos well capabl make soft finess pass forehand backhand also capabl puck mover work best mobil vision pass abil combin allow move puck teammat start breakout move puck capabl defend own good stick breakup oppos rush defend transit gener well posit defend zone order maxim potenti need continu work consist read trim defens turnov game well show growth strength physic', ' dynam player puck stick instantli notic high end speed skill offens iq make highli creativ deke pass full speed pace game think top nhl player take puck ice net often lack size play hard drive play even strength also vision shot play threat run unit wall project first line forward center would low end first line center nhl beauti flow skater capabl beat defend mark circl zone get defend watch puck manipul footwork maneuver tight space got uncanni abil side step hop around oncom player speed got great sixth sens time space around offens zone free accept pass jump onto rebound regularli flash skill insid slice middl pull puck around defend also swiss armi knife player combin nhl speed skill work attitud push pace make play win race stay involv get onto ice situat love tempo feel game touch puck hand get high grade skate particularli chang pace energi level differenti thing make pretti compel packag find scout like either transit game offens zone vision wall play interior exterior incred crafti control stickhandl phone booth creat problem defencemen attack angl shift speed also scrappi game keep fight sure one well round talent player entir draft class certainli project top forward could play anywher lineup abl contribut without question base play start season come shock see name come draft board within first pick possibl even insid top plenti team fawn abil depend situat draft team may abl sway decis forego ncaa next season head straight nhl last sever month constantli debat mid term waffl next month start pick play also coincid dip product play complic game need reason reason great draft top draft dynam player greatest potenti explos offens high end speed abil make high level play rush thing player class cannot play brilliant support class ntdp year see list number u u first round rang alway head rest term play could creat way dictat shift throughout season believ center next level continu current trend line compet everi inch ice play strong north south game despit abil stretch defens east west skill watch playoff year think shift even best team fast dynam forward constantli keep defend heel cede possess without tri option process game fast anyon draft abil spot play transit major separ field vision thread pass well get behind defend give better look net head univers minnesota next year solid train ground last year player nhl track think probabl one done colleg player would readi make nhl impact end arriv progress think highest ceil top three nhl prospect play style consist modern nhl speed premium bring spade abil finish play well anyon els class everyth goe right alway big player develop think could superstar leagu highli creativ speed driven pivot bring lot pop middl realli show abil activ make play rush season excit hand go quick feet abl play comprehens situat role year find singularli gift puckhandl year draft human highlight reel swashbuckl way defend like hot knife cut butter start first touch best one class way seamlessli blend pass recep tion speed first move without break stride almost unfair whether catch difficult pass backhand forehand insid crossov make happen like watch wide receiv unlimit catch radiu way keep top hand push bodi handler full rang motion chang speed lane neutral zone deceiv shoulder feint look off pro level stuff rest assur part game go scale nhl least capac mixtap skate though one rare tripl threat scorer draft move serv purpos whether draw defend creat space elsewher open pass lane get better shoot posit think control chao vision anticip see develop play cun decept make easili attain abl touch distributor connect real concern project ab senc high end tool outsid skill handler even tendenc play beyond consider skill level often turn greatest asset liabil far mani turnov low percentag play draft year like one hand want see gift player like test limit game everi time take ice littl discret would go long way manag allay concern front growth season puck score threat show staff way stay involv team offenc even drive play person proof concept produc selfless fashion support play well consist display understand rotat habit everyon ice perfectli time movement space prepar bodi footwork send one two touch attempt goal puck find still hurt add anoth gear skater bit top heavi lack explos later mobil sometim struggl access outsid edg nhl averag skater current construct definit part game could stand improv overal though disput centr upsid even hardli foregon conclus get height career within rang realist outcom count lot small speedi center domin ushl solidifi top five season progress consist took game use excel speed instinct playmak goal scorer drive line run powerplay afraid put harm way make play also relentless forecheck possess driver play high tempo energi great skater also incred agil use abil elud defend also excel defens rare liabil zone make excel transit play find way util teammat regular basi shown drive line dynam qualiti game like top five pick could go high number two slate attend univers minnesota next season like one year away nhl duti drive offens wing massiv winger made strong case challeng first overal play high pace impress agil someon size use strong stride long leg gener lot speed step lack extra gear creat separ well protect puck challeng make speed burst concern may follow strong stickhandl abil move puck tight control possess well pace play ice awar three zone anoth aspect game excel make extra effort backcheck well go low support bluelin defend also use stick well take advantag long reach win battl loos puck immens offens potenti frustrat see pass great score opportun teammat learn take given remov moment tunnel vision game someth need improv consist impact player attack uniqu blend size skill could make domin player nhl level ultim swing upsid still solid floor becom player capabl develop littl doubt forc nhl next year peopl wonder even debat top pick class hit potenti still got potenti top six score winger impact game regularli', ' big right shot defenseman make impact end rink great individu skill make oppon miss combin good vision hard point shot insid offens zone make lot happen danger play skate dazzl size get around well enough skate look like post knee surgeri someth monitor show shifti pull away check lack ideal speed burst nhl level despit defend well due reach high level physic play often punish oppos forward bodi project top pair defenseman suffer knee injuri world junior return time play czechia men nation team ahead men world april may intern schedul import seri game help reaffirm nhl club layoff impact injuri big part top team tipsport extraliga contribut end drive possess score result second consecut season play minut game extrem desir attribut mark one hardest point shot draft bomb realli good job keep target feet ice strong athlet foot frame command ice presenc strong sturdi defend play staunch man man style move feet well size thrive transit abil close gap length neutral ice lead ton rush puck transport offens also capabl handler distributor whose point shot complement aggress approach game tactil athlet gift hard shoot attack offens defens defend also subtleti game pass almost never target sneaki silki first touch etc modu operandi confid activ engag three zone player tool look top defend continu smooth polish game hard imagin becom least top four guy hit right note along develop path ceil high hard get excit even prefer style top pair defenseman nhl level work posit defens zone continu work acceler hunt defens recoveri highli mobil foot defenseman bomb shot solid puck move capabl incred upsid rel class miss second half season due knee injuri need three month rehab return time play czech nation team men world championship show healthi prepar make impact play play well showcas tremend mobil physic statur made look differ profession play play profession last two season hold youngster tough czech leagu year point plzen possibl back plzen next season unless team draft want bring north america get start ahl still lot develop ahead said skill set shown well rounded game size profil reason hair particular class think littl ceil reach knee injuri fractur ji season still formid one czechia defend play cerebr game bevi physic tool skate never strong suit sinc injuri look littl shakier item clean get part game back track legitim top four upsid ji finish year highest rank de fenceman elit prospect year long dogfight imon distinct endors cours mark someth depar ture industri consensu posit arriv confid eye group set ji came admir way pli trade even rank bold float possibl ji overal book ji tome stage alreadi play two full year profession hockey czech extraliga hc plze wealth intern experi would envi year nhl vet eran talk close separ appear countri colour last two season includ pair trip world junior tour czech blue line year world hockey championship part ji handl assign admir creativ offens blue line coupl constant drive push boundari skill set made draft compel offens defenceman content unleash cannon slap shot furthest recess offens zone ji sought creat advantag attack third everi touch would use threat shot open pass lane skate space draw defend send puck elsewher natur agil elus skater skill handler understand leverag foot frame protect puck reason expect continu least degre nhl room improv ji settl low percentag shot point mean czech bluelin step attempt go defend shinpad escap team possess time time handl chanic proven inconsist season big question though whether nhl coach give ji freedom play sometim freewheel ing style go play critic role determin development arc time tell concern whether ji go abl hang high leverag role nhl level though durabl defens foundat place carri top four role bare minimum even play puck come along ride year old czech bluelin play tight gap neutral zone deploy sound footwork defend blue line contain except well bodi bodi defens scenario player draft match ji play stopper need abl move puck contemporari nhl ji task like see littl scan pre touch defens zone retriev mayb littl patienc puck sometim still view transit game nhl level part profil ji look foot right shot defenceman everyth low end top pair level height career hell return one invest top draft similar play matur game age better skater play complet physic game hard hitter love engag physic defens game call card use frame well break play also tremend hard shot perhap hardest slap shot defenseman draft asset three zone whether without puck make covet player draft also excel play men czech republ top leagu bend pressur make excel puck decis seriou knee injuri derail much season appear make full recoveri raw tool play high pace physic matur overal game need consist come time matur like two year away full time nhl duti project top four defenseman nhl level except two way defenseman realli help drive transit play mobil puck skill possess ton patienc pois puck stick use head scan play oftentim look like veteran well age rare rush decis puck scan possibl option deliv pass pass one best attribut make strong outlet dish defens zone push play ice pass ice feel make make even impress rare forc low percentag pass result turnov size high end skate make forc defens end ice abil defend rush top notch use bodi stick maintain solid gap control easili steer oncom attack away center complet negat offens momentum like young player mental error game start disappear get older gain play experi matur mistim pinch time leav race back catch play get burnt occas tri add creativ game littl stutter step blue line squeez board tend end turnov tri keep game littl simpler project top pair defenseman heavili reli play situat nhl physic gift skillset make massiv impact back end would surpris first defenseman taken nhl draft']\n",
            "labels first 5: ['MON', 'SEA', 'NJD', 'ARI', 'CBJ']\n",
            "draft_position first 5: [1, 4, 2, 3, 6]\n",
            "player_position first 5: [3, 0, 1, 0, 1]\n"
          ]
        }
      ],
      "source": [
        "corpus, labels, draft_position, player_position, player_name, height, weight = [], [], [], [], [], [], []\n",
        "\n",
        "scouting_reports = [\n",
        "    'Description - Corey Pronman',\n",
        "    'Description - Scott Wheeler',\n",
        "    'Description - Smaht Scouting',\n",
        "    'Description - ESPN (Chris Peters)',\n",
        "    'Description - EP Rinkside', \n",
        "    'Description - EP Rinkside Part 2',\n",
        "    'Description - The Painted Lines',\n",
        "    'Description - FCHockey'\n",
        "]\n",
        "\n",
        "# create a list of stopwords for player names\n",
        "player_names = list(data['Name'])\n",
        "name_stopwords = []\n",
        "for name in player_names:\n",
        "  name_split = name.split(' ')\n",
        "  for part in name_split:\n",
        "    name_stopwords.append(part.lower())\n",
        "\n",
        "# remove references to leagues, teams, and nationalities\n",
        "hockey_words = []\n",
        "\"\"\"\n",
        "hockey_words = [\"usntdp\", \"ntdp\", \"development\", \"program\",\n",
        "                \"khl\", \"shl\", \"ushl\", \"ncaa\", \"ohl\", \"whl\", \"qmjhl\",\n",
        "                \"sweden\", \"russia\", \"usa\", \"canada\", \"ojhl\", \"finland\", \n",
        "                \"finnish\", \"swedish\", \"russian\", \"american\", \"wisconsin\",\n",
        "                \"michigan\", \"bc\", \"boston\", \"london\", \"bchl\", \"kelowna\",\n",
        "                \"portland\", \"minnesota\", \"ska\", \"frolunda\", \"sjhl\", \"college\",\n",
        "                \"center\", \"left\", \"right\", \"saginaw\", \"kelowna\"]\n",
        "\"\"\"\n",
        "\n",
        "# Initialize Python porter stemmer\n",
        "ps = PorterStemmer()\n",
        "\n",
        "# initialize lemmatizer\n",
        "lemmatizer = WordNetLemmatizer()\n",
        "\n",
        "for index, row in data.iterrows():\n",
        "  text = \"\"\n",
        "  for report in scouting_reports:\n",
        "    # skip null reports\n",
        "    if pd.isnull(row[report]):\n",
        "      continue\n",
        "\n",
        "    # keep only alpha characters\n",
        "    r = re.sub('[^a-zA-Z]', ' ', row[report])\n",
        "    # lower string everything\n",
        "    r = r.lower()\n",
        "    # split on spaces\n",
        "    r = r.split()\n",
        "    # remove stopwords and any reference to the name of the player\n",
        "    # TODO: check whether we should initialize stopwords, so we don't call this fuction every time\n",
        "    r = [word for word in r if word not in stopwords.words('english') and word not in name_stopwords and word not in hockey_words]\n",
        "\n",
        "    # stem cleansed string\n",
        "    r = [ps.stem(word) for word in r]\n",
        "    # lemmatize cleansed string\n",
        "    #r = [lemmatizer.lemmatize(word) for word in r]\n",
        "\n",
        "    # remove hockey specific stop words\n",
        "    #r = [word for word in r if word not in hockey_words]\n",
        "\n",
        "    # join back on spaces\n",
        "    r = ' '.join(r)\n",
        "    text = text + \" \" + r\n",
        "  # append to dataset\n",
        "  corpus.append(text)\n",
        "  labels.append(row['Team'])\n",
        "  draft_position.append(row['Drafted'])\n",
        "  player_position.append(row['Position'])\n",
        "  player_name.append(row['Name'])\n",
        "  height.append(row['Height'])\n",
        "  weight.append(row['Weight'])\n",
        "\n",
        "# sanity check values\n",
        "print(f\"length of corpus: {len(corpus)}\")\n",
        "print(f\"length of labels: {len(labels)}\")\n",
        "print(f\"length of draft_position: {len(draft_position)}\")\n",
        "print(f\"length of player_position: {len(player_position)}\")\n",
        "\n",
        "print(f\"corpus first 5: {corpus[0:5]}\")\n",
        "print(f\"labels first 5: {labels[0:5]}\")\n",
        "print(f\"draft_position first 5: {draft_position[0:5]}\")\n",
        "print(f\"player_position first 5: {player_position[0:5]}\")"
      ]
    },
    {
      "cell_type": "code",
      "execution_count": 24,
      "metadata": {
        "colab": {
          "base_uri": "https://localhost:8080/",
          "height": 1000
        },
        "id": "Fob1-wcBaV90",
        "outputId": "721da0df-2b6b-4e4b-bf24-3f33a7c6864c"
      },
      "outputs": [
        {
          "name": "stdout",
          "output_type": "stream",
          "text": [
            "shape of X_train_vect: (241, 2296)\n"
          ]
        },
        {
          "data": {
            "text/html": [
              "<div>\n",
              "<style scoped>\n",
              "    .dataframe tbody tr th:only-of-type {\n",
              "        vertical-align: middle;\n",
              "    }\n",
              "\n",
              "    .dataframe tbody tr th {\n",
              "        vertical-align: top;\n",
              "    }\n",
              "\n",
              "    .dataframe thead th {\n",
              "        text-align: right;\n",
              "    }\n",
              "</style>\n",
              "<table border=\"1\" class=\"dataframe\">\n",
              "  <thead>\n",
              "    <tr style=\"text-align: right;\">\n",
              "      <th></th>\n",
              "      <th>TF-IDF</th>\n",
              "    </tr>\n",
              "  </thead>\n",
              "  <tbody>\n",
              "    <tr>\n",
              "      <th>puck</th>\n",
              "      <td>0.173826</td>\n",
              "    </tr>\n",
              "    <tr>\n",
              "      <th>one</th>\n",
              "      <td>0.150535</td>\n",
              "    </tr>\n",
              "    <tr>\n",
              "      <th>like</th>\n",
              "      <td>0.127029</td>\n",
              "    </tr>\n",
              "    <tr>\n",
              "      <th>draft</th>\n",
              "      <td>0.126255</td>\n",
              "    </tr>\n",
              "    <tr>\n",
              "      <th>hold</th>\n",
              "      <td>0.120081</td>\n",
              "    </tr>\n",
              "    <tr>\n",
              "      <th>game</th>\n",
              "      <td>0.117224</td>\n",
              "    </tr>\n",
              "    <tr>\n",
              "      <th>crossov</th>\n",
              "      <td>0.114135</td>\n",
              "    </tr>\n",
              "    <tr>\n",
              "      <th>swedish</th>\n",
              "      <td>0.109027</td>\n",
              "    </tr>\n",
              "    <tr>\n",
              "      <th>releas</th>\n",
              "      <td>0.105677</td>\n",
              "    </tr>\n",
              "    <tr>\n",
              "      <th>speed</th>\n",
              "      <td>0.104653</td>\n",
              "    </tr>\n",
              "    <tr>\n",
              "      <th>skate</th>\n",
              "      <td>0.101222</td>\n",
              "    </tr>\n",
              "    <tr>\n",
              "      <th>season</th>\n",
              "      <td>0.100802</td>\n",
              "    </tr>\n",
              "    <tr>\n",
              "      <th>player</th>\n",
              "      <td>0.097109</td>\n",
              "    </tr>\n",
              "    <tr>\n",
              "      <th>look</th>\n",
              "      <td>0.095658</td>\n",
              "    </tr>\n",
              "    <tr>\n",
              "      <th>us</th>\n",
              "      <td>0.094577</td>\n",
              "    </tr>\n",
              "    <tr>\n",
              "      <th>play</th>\n",
              "      <td>0.092025</td>\n",
              "    </tr>\n",
              "    <tr>\n",
              "      <th>stride</th>\n",
              "      <td>0.089982</td>\n",
              "    </tr>\n",
              "    <tr>\n",
              "      <th>intern</th>\n",
              "      <td>0.089758</td>\n",
              "    </tr>\n",
              "    <tr>\n",
              "      <th>goal</th>\n",
              "      <td>0.088505</td>\n",
              "    </tr>\n",
              "    <tr>\n",
              "      <th>shooter</th>\n",
              "      <td>0.087196</td>\n",
              "    </tr>\n",
              "    <tr>\n",
              "      <th>shot</th>\n",
              "      <td>0.085962</td>\n",
              "    </tr>\n",
              "    <tr>\n",
              "      <th>report</th>\n",
              "      <td>0.084086</td>\n",
              "    </tr>\n",
              "    <tr>\n",
              "      <th>mean</th>\n",
              "      <td>0.081265</td>\n",
              "    </tr>\n",
              "    <tr>\n",
              "      <th>outcom</th>\n",
              "      <td>0.080874</td>\n",
              "    </tr>\n",
              "    <tr>\n",
              "      <th>top</th>\n",
              "      <td>0.080720</td>\n",
              "    </tr>\n",
              "    <tr>\n",
              "      <th>draft class</th>\n",
              "      <td>0.080600</td>\n",
              "    </tr>\n",
              "    <tr>\n",
              "      <th>hard imagin</th>\n",
              "      <td>0.079257</td>\n",
              "    </tr>\n",
              "    <tr>\n",
              "      <th>littl</th>\n",
              "      <td>0.078493</td>\n",
              "    </tr>\n",
              "    <tr>\n",
              "      <th>late</th>\n",
              "      <td>0.078073</td>\n",
              "    </tr>\n",
              "    <tr>\n",
              "      <th>stick</th>\n",
              "      <td>0.077860</td>\n",
              "    </tr>\n",
              "  </tbody>\n",
              "</table>\n",
              "</div>"
            ],
            "text/plain": [
              "               TF-IDF\n",
              "puck         0.173826\n",
              "one          0.150535\n",
              "like         0.127029\n",
              "draft        0.126255\n",
              "hold         0.120081\n",
              "game         0.117224\n",
              "crossov      0.114135\n",
              "swedish      0.109027\n",
              "releas       0.105677\n",
              "speed        0.104653\n",
              "skate        0.101222\n",
              "season       0.100802\n",
              "player       0.097109\n",
              "look         0.095658\n",
              "us           0.094577\n",
              "play         0.092025\n",
              "stride       0.089982\n",
              "intern       0.089758\n",
              "goal         0.088505\n",
              "shooter      0.087196\n",
              "shot         0.085962\n",
              "report       0.084086\n",
              "mean         0.081265\n",
              "outcom       0.080874\n",
              "top          0.080720\n",
              "draft class  0.080600\n",
              "hard imagin  0.079257\n",
              "littl        0.078493\n",
              "late         0.078073\n",
              "stick        0.077860"
            ]
          },
          "execution_count": 24,
          "metadata": {},
          "output_type": "execute_result"
        }
      ],
      "source": [
        "X = pd.DataFrame(list(zip(player_name, height, weight, draft_position, player_position, corpus)), columns=['player_name', 'height', 'weight', 'draft_position', 'player_position', 'report'])\n",
        "Y = labels\n",
        "\n",
        "# create train test splits of data\n",
        "X_train, X_test, y_train, y_test = train_test_split(X, Y, test_size=0.33)\n",
        "\n",
        "# vectorize train data\n",
        "vectorizer = TfidfVectorizer(analyzer='word', min_df=0.04, ngram_range=(1, 3))\n",
        "X_train_vect = vectorizer.fit_transform(X_train['report'])\n",
        "print(f\"shape of X_train_vect: {X_train_vect.shape}\")\n",
        "\n",
        "# show the most important words\n",
        "most_important = pd.DataFrame(X_train_vect[0].T.todense(),\n",
        "    \tindex=vectorizer.get_feature_names_out(), columns=[\"TF-IDF\"])\n",
        "most_important = most_important.sort_values('TF-IDF', ascending=False)\n",
        "most_important.head(30)"
      ]
    },
    {
      "cell_type": "code",
      "execution_count": 13,
      "metadata": {
        "colab": {
          "base_uri": "https://localhost:8080/"
        },
        "id": "S278oMy-YyDc",
        "outputId": "b962e977-f563-4fac-d43c-3b7759ee1dd6"
      },
      "outputs": [
        {
          "data": {
            "text/plain": [
              "(6, 6)"
            ]
          },
          "execution_count": 13,
          "metadata": {},
          "output_type": "execute_result"
        }
      ],
      "source": [
        "cv = CountVectorizer()\n",
        "X_train_cv = cv.fit_transform(X_train)\n",
        "X_train_cv.shape"
      ]
    },
    {
      "cell_type": "code",
      "execution_count": null,
      "metadata": {
        "colab": {
          "base_uri": "https://localhost:8080/",
          "height": 87
        },
        "id": "8A2Gdjx6j9uj",
        "outputId": "d39f322d-f424-486b-bdca-f113eed25668"
      },
      "outputs": [
        {
          "data": {
            "application/vnd.google.colaboratory.intrinsic+json": {
              "type": "string"
            },
            "text/plain": [
              "\"\\nfrom sklearn.feature_extraction.text import TfidfVectorizer\\nfrom sklearn.pipeline import Pipeline, FeatureUnion\\nfrom sklearn.ensemble import RandomForestClassifier\\nfrom sklearn.preprocessing import FunctionTransformer\\nfrom sklearn.model_selection import GridSearchCV, StratifiedKFold\\n\\n# Create Function Transformer to use Feature Union\\ndef get_numeric_data(x):\\n    return [[row['player_position']] for index, row in x[['draft_position', 'player_position']].iterrows()]\\n\\ndef get_text_data(x):\\n    return list(x['report'])\\n\\ntransfomer_numeric = FunctionTransformer(get_numeric_data)\\ntransformer_text = FunctionTransformer(get_text_data)\\n\\n# Create a pipeline to concatenate Tfidf Vector and Numeric data\\n# Use RandomForestClassifier as an example\\npipeline = Pipeline([\\n    ('features', FeatureUnion([\\n            ('numeric_features', Pipeline([\\n                ('selector', transfomer_numeric)\\n            ])),\\n             ('text_features', Pipeline([\\n                ('selector', transformer_text),\\n                ('vec', TfidfVectorizer(analyzer='word', ngram_range=(1,2)))\\n            ]))\\n         ])),\\n    ('clf', LogisticRegression())\\n])\\n\\n\\n# Grid Search Parameters for LogisticRegression\\nparam_grid = {'clf__penalty' : ['l1', 'l2'],\\n              'clf__C' : np.logspace(-4, 4, 20),\\n              'clf__solver' : ['liblinear']\\n              }\\n\\n# Training config\\nkfold = StratifiedKFold(n_splits=3)\\nscoring = {'Accuracy': 'accuracy', 'F1': 'f1_macro'}\\nrefit = 'F1'\\n\\n# Perform GridSearch\\nrf_model = GridSearchCV(pipeline, param_grid=param_grid, cv=kfold, scoring=scoring, \\n                         refit=refit, n_jobs=-1, return_train_score=True, verbose=1)\\nrf_model.fit(X_train, y_train)\\nrf_best = rf_model.best_estimator_\\n\\n# best found for now to be 0.16 \\n# without draft position (I think there is bias with that data)\\nrf_best.score(X_test, y_test)\\n\""
            ]
          },
          "execution_count": 7,
          "metadata": {},
          "output_type": "execute_result"
        }
      ],
      "source": [
        "# this is flawed and from some previous work I was doing but I wanted to keep\n",
        "# around since it is a good example of setting up a pipeline in sklearn\n",
        "# so it could be used for a reference\n",
        "\"\"\"\n",
        "from sklearn.feature_extraction.text import TfidfVectorizer\n",
        "from sklearn.pipeline import Pipeline, FeatureUnion\n",
        "from sklearn.ensemble import RandomForestClassifier\n",
        "from sklearn.preprocessing import FunctionTransformer\n",
        "from sklearn.model_selection import GridSearchCV, StratifiedKFold\n",
        "\n",
        "# Create Function Transformer to use Feature Union\n",
        "def get_numeric_data(x):\n",
        "    return [[row['player_position']] for index, row in x[['draft_position', 'player_position']].iterrows()]\n",
        "\n",
        "def get_text_data(x):\n",
        "    return list(x['report'])\n",
        "\n",
        "transfomer_numeric = FunctionTransformer(get_numeric_data)\n",
        "transformer_text = FunctionTransformer(get_text_data)\n",
        "\n",
        "# Create a pipeline to concatenate Tfidf Vector and Numeric data\n",
        "# Use RandomForestClassifier as an example\n",
        "pipeline = Pipeline([\n",
        "    ('features', FeatureUnion([\n",
        "            ('numeric_features', Pipeline([\n",
        "                ('selector', transfomer_numeric)\n",
        "            ])),\n",
        "             ('text_features', Pipeline([\n",
        "                ('selector', transformer_text),\n",
        "                ('vec', TfidfVectorizer(analyzer='word', ngram_range=(1,2)))\n",
        "            ]))\n",
        "         ])),\n",
        "    ('clf', LogisticRegression())\n",
        "])\n",
        "\n",
        "\n",
        "# Grid Search Parameters for LogisticRegression\n",
        "param_grid = {'clf__penalty' : ['l1', 'l2'],\n",
        "              'clf__C' : np.logspace(-4, 4, 20),\n",
        "              'clf__solver' : ['liblinear']\n",
        "              }\n",
        "\n",
        "# Training config\n",
        "kfold = StratifiedKFold(n_splits=3)\n",
        "scoring = {'Accuracy': 'accuracy', 'F1': 'f1_macro'}\n",
        "refit = 'F1'\n",
        "\n",
        "# Perform GridSearch\n",
        "rf_model = GridSearchCV(pipeline, param_grid=param_grid, cv=kfold, scoring=scoring, \n",
        "                         refit=refit, n_jobs=-1, return_train_score=True, verbose=1)\n",
        "rf_model.fit(X_train, y_train)\n",
        "rf_best = rf_model.best_estimator_\n",
        "\n",
        "# best found for now to be 0.16 \n",
        "# without draft position (I think there is bias with that data)\n",
        "rf_best.score(X_test, y_test)\n",
        "\"\"\""
      ]
    },
    {
      "attachments": {},
      "cell_type": "markdown",
      "metadata": {
        "id": "gO_ft5BGwHM6"
      },
      "source": [
        "Exploring Kmeans now for unsupervised learning"
      ]
    },
    {
      "cell_type": "code",
      "execution_count": 36,
      "metadata": {
        "colab": {
          "base_uri": "https://localhost:8080/",
          "height": 478
        },
        "id": "dfWJzirL4dMV",
        "outputId": "deadfa2e-2a6f-4736-d5cc-276da9c025f7"
      },
      "outputs": [
        {
          "data": {
            "image/png": "[encoded data removed]",
            "text/plain": [
              "<Figure size 640x480 with 1 Axes>"
            ]
          },
          "metadata": {},
          "output_type": "display_data"
        }
      ],
      "source": [
        "def plot_silhouette_scores(data, start, end, step):\n",
        "  # A list holds the silhouette coefficients for each k\n",
        "  silhouette_coefficients = []\n",
        "  formated_data = data\n",
        "\n",
        "  # Notice you start at 2 clusters for silhouette coefficient\n",
        "  for k in range(start, end, step):\n",
        "    kmeans = KMeans(n_clusters=k, n_init=2, max_iter=1000)\n",
        "    kmeans.fit(formated_data)\n",
        "    score = silhouette_score(formated_data, kmeans.labels_)\n",
        "    silhouette_coefficients.append(score)\n",
        "\n",
        "  plt.style.use(\"fivethirtyeight\")\n",
        "  plt.plot(range(start, end, step), silhouette_coefficients)\n",
        "  plt.xticks(range(start, end, step))\n",
        "  plt.xlabel(\"Number of Clusters\")\n",
        "  plt.ylabel(\"Silhouette Coefficient\")\n",
        "  plt.show()\n",
        "\n",
        "\n",
        "formated_data = np.vstack(X_train_vect)\n",
        "temp_data = []\n",
        "for index, row in enumerate(X_train_vect):\n",
        "  temp_data.append(np.concatenate((X_train_vect[index].toarray()[0], [X_train['height'].values[index]], [X_train['weight'].values[index]])))\n",
        "  #formated_data[index] = np.append(formated_data[index], X_train['weight'].values[index])\n",
        "data = np.array(temp_data)\n",
        "plot_silhouette_scores(data, 2, 25, 1)"
      ]
    },
    {
      "attachments": {},
      "cell_type": "markdown",
      "metadata": {
        "id": "Ygr7A-oA5j1N"
      },
      "source": [
        "The extremely low silhouette score implies there is a lot of overlap in classification of values. There might have to be some more data massaging in order to get this value higher"
      ]
    },
    {
      "cell_type": "code",
      "execution_count": 31,
      "metadata": {
        "id": "JW6DUWrz-KHQ"
      },
      "outputs": [],
      "source": [
        "SELECTED_CLUSTERS = 3"
      ]
    },
    {
      "cell_type": "code",
      "execution_count": 32,
      "metadata": {
        "id": "JhEabsKVvzCs"
      },
      "outputs": [],
      "source": [
        "# use the number of clusters found to be the best in graph above\n",
        "kmeans = KMeans(n_clusters=SELECTED_CLUSTERS, n_init = 5)\n",
        "labels = kmeans.fit_predict(X_train_vect)\n",
        "\n",
        "X_train['label'] = labels"
      ]
    },
    {
      "cell_type": "code",
      "execution_count": 33,
      "metadata": {
        "colab": {
          "base_uri": "https://localhost:8080/"
        },
        "id": "UMYQIYzX6-8J",
        "outputId": "e6a8efab-585b-4916-bf76-b3622f101415"
      },
      "outputs": [
        {
          "name": "stdout",
          "output_type": "stream",
          "text": [
            "\n",
            "Cluster 0.0\n",
            "ice,one,top,nhl,zone,well,good,skill,get,offens,player,game,make,puck,play\n",
            "\n",
            "Cluster 1.0\n",
            "top,defens,skill,well,one,good,zone,get,season,offens,player,make,game,play,puck\n",
            "\n",
            "Cluster 2.0\n",
            "use,pass,ice,get,zone,defens,one,good,game,offens,player,well,make,play,puck\n"
          ]
        }
      ],
      "source": [
        "# show the top words for each cluster that was created\n",
        "def get_top_keywords(data, clusters, labels, n_terms):\n",
        "    df = pd.DataFrame(data.todense()).groupby(clusters).mean()\n",
        "    \n",
        "    for i,r in df.iterrows():\n",
        "        print('\\nCluster {}'.format(i))\n",
        "        print(','.join([labels[t] for t in np.argsort(r)[-n_terms:]]))\n",
        "            \n",
        "get_top_keywords(X_train_vect, X_train.label, vectorizer.get_feature_names_out(), 15)"
      ]
    },
    {
      "cell_type": "code",
      "execution_count": 34,
      "metadata": {
        "colab": {
          "base_uri": "https://localhost:8080/",
          "height": 785
        },
        "id": "aCs5gdAiSLFr",
        "outputId": "736d27a5-1f7a-4957-95cb-72ecd2ff2b87"
      },
      "outputs": [
        {
          "name": "stdout",
          "output_type": "stream",
          "text": [
            "Index(['player_name', 'height', 'weight', 'draft_position', 'player_position',\n",
            "       'report', 'label'],\n",
            "      dtype='object')\n",
            "             player_name  height  weight  draft_position  player_position  \\\n",
            "97           Noel Gunler   74.00   176.0              41                4   \n",
            "122           Kirby Dach   76.00   198.0               3                0   \n",
            "287        Zach Werenski   74.00   206.0               8                1   \n",
            "307  Anthony Beauvillier   70.25   173.0              28                3   \n",
            "288           Timo Meier   73.00   209.0               9                4   \n",
            "\n",
            "                                                report  label  \n",
            "97    play season shl get limit minut one top team ...      1  \n",
            "122   think team look center look lot like right sh...      1  \n",
            "287   incred season arguabl michigan best defensema...      2  \n",
            "307   former top pick qmjhl draft shawnigan good se...      0  \n",
            "288   pretti success second season north america ra...      0  \n"
          ]
        },
        {
          "data": {
            "application/vnd.plotly.v1+json": {
              "config": {
                "plotlyServerURL": "https://plot.ly"
              },
              "data": [
                {
                  "branchvalues": "total",
                  "domain": {
                    "x": [
                      0,
                      1
                    ],
                    "y": [
                      0,
                      1
                    ]
                  },
                  "hovertemplate": "labels=%{label}<br>count=%{value}<br>parent=%{parent}<br>id=%{id}<extra></extra>",
                  "ids": [
                    "0/A.J. Greer",
                    "0/Adam Mascherin",
                    "0/Adrien Kempe",
                    "0/Aleksi Heponiemi",
                    "1/Alex Newhook",
                    "1/Alexander Holtz",
                    "0/Alexander Nylander",
                    "1/Alexis Lafreniere",
                    "0/Andreas Englund",
                    "0/Anthony Beauvillier",
                    "1/Anton Lundell",
                    "1/Arthur Kaliyev",
                    "0/Auston Matthews",
                    "1/Ayrton Martino",
                    "1/Barret Hayton",
                    "1/Bobby Brink",
                    "2/Bowen Byram",
                    "1/Brad Lambert",
                    "2/Brandon Carlo",
                    "1/Brendan Brisson",
                    "0/Brendan Lemieux",
                    "0/Brendan Perlini",
                    "1/Brennan Othmann",
                    "0/Brett Howden",
                    "2/Cale Makar",
                    "2/Callan Foote",
                    "2/Calle Odelius",
                    "0/Cameron Morrison",
                    "2/Cameron York",
                    "2/Carson Lambos",
                    "0/Casey Mittelstadt",
                    "1/Chaz Lucius",
                    "0/Christian Fischer",
                    "0/Cody Glass",
                    "1/Cole Perfetti",
                    "0/Conner Bleackley",
                    "1/Conor Geekie",
                    "0/Conor Timmins",
                    "2/Corson Ceulemans",
                    "2/Daniil Chayka",
                    "1/Danila Yurov",
                    "2/Dante Fabbro",
                    "1/David Goyette",
                    "1/Dawson Mercer",
                    "0/Denis Gurianov",
                    "1/Dominik Bokk",
                    "2/Dominik Masin",
                    "1/Dylan Cozens",
                    "1/Dylan Duke",
                    "1/Dylan Guenther",
                    "1/Dylan Holloway",
                    "0/Dylan Larkin",
                    "0/Dylan Strome",
                    "0/Eeli Tolvanen",
                    "0/Elias Pettersson",
                    "2/Emil Andrae",
                    "2/Evan Bouchard",
                    "1/Fabian Lysell",
                    "1/Fedor Svechkov",
                    "0/Filip Chytil",
                    "2/Filip Johansson",
                    "1/Filip Mesar",
                    "1/Filip Zadina",
                    "1/Francesco Pinelli",
                    "1/Frank Nazar",
                    "2/Gabriel Carlsson",
                    "0/Gabriel Gagne",
                    "0/Gabriel Vilardi",
                    "1/Grigori Denisenko",
                    "2/Gustav Lindstrom",
                    "1/Hendrix Lapierre",
                    "2/Henri Jokiharju",
                    "0/Henrik Borgstrom",
                    "1/Iaroslav Askarov",
                    "0/Ilya Samsonov",
                    "1/Isaac Howard",
                    "0/Isaac Ratcliffe",
                    "1/Isac Lundestrom",
                    "0/Jack Eichel",
                    "1/Jack Hughes",
                    "1/Jack Quinn",
                    "2/Jacob Larsson",
                    "1/Jacob Perreault",
                    "2/Jake Bean",
                    "0/Jake Debrusk",
                    "0/Jake Oettinger",
                    "2/Jake Sanderson",
                    "0/Jake Virtanen",
                    "0/Jakob Chychrun",
                    "1/Jakob Pelletier",
                    "0/Jakub Vrana",
                    "0/Jared McCann",
                    "0/Jared McIsaac",
                    "0/Jason Robertson",
                    "1/Jay O'Brien",
                    "2/Jeremie Poirier",
                    "0/Jesper Boqvist",
                    "1/Jesper Wallstedt",
                    "1/Jesperi Kotkaniemi",
                    "0/Jesse Piljujarvi",
                    "2/Jett Woo",
                    "1/Jimmy Snuggerud",
                    "1/Jiri Kulich",
                    "1/Joakim Kemell",
                    "1/Joe Veleno",
                    "0/Joel Eriksson Ek",
                    "1/Joel Farabee",
                    "0/John Beecher",
                    "0/John Quennville",
                    "1/Jonathan Lekkerimaki",
                    "0/Josh Norris",
                    "2/Julius Honka",
                    "2/Juuso Valimaki",
                    "2/Kaiden Guhle",
                    "0/Kasperi Kapanen",
                    "1/Kent Johnson",
                    "0/Kevin Fiala",
                    "2/Kevin Korchinski",
                    "0/Kieffer Bellows",
                    "1/Kirby Dach",
                    "0/Klim Kostin",
                    "0/Kole Lind",
                    "0/Lawson Crouse",
                    "1/Liam Foudy",
                    "2/Lian Bichsel",
                    "1/Logan Cooley",
                    "0/Logan Stanley",
                    "1/Luca Del Bel Belluz",
                    "1/Lucas Raymond",
                    "2/Lukas Cormier",
                    "2/Luke Hughes",
                    "0/Mads Sogaard",
                    "1/Marat Khusnutdinov",
                    "1/Marco Kasper",
                    "1/Marco Rossi",
                    "0/Marcus Davidsson",
                    "2/Marcus Pettersson",
                    "1/Martin Kaut",
                    "1/Mason Mctavish",
                    "1/Matt Boldy",
                    "1/Matthew Beniers",
                    "0/Matthew Tkachuk",
                    "1/Mavrik Bourque",
                    "0/Max Jones",
                    "0/Mikhail Sergachev",
                    "0/Mikko Rantanen",
                    "2/Miro Heiskanen",
                    "0/Mitch Marner",
                    "0/Morgan Frost",
                    "1/Nathan Gaucher",
                    "0/Nick Merkley",
                    "0/Nick Ritchie",
                    "0/Nick Schmaltz",
                    "2/Nicolas Beaudin",
                    "2/Nicolas Hague",
                    "0/Nicolas Meloche",
                    "1/Nikita Chibrikov",
                    "2/Nikita Scherbak",
                    "2/Nils Lundkvist",
                    "2/Noah Dobson",
                    "0/Noah Juulsen",
                    "1/Noah Ostlund",
                    "1/Noel Gunler",
                    "0/Nolan Foote",
                    "0/Nolan Patrick",
                    "1/Oliver Whahlstrom",
                    "0/Olli Juolevi",
                    "0/Olof Lindbom",
                    "1/Owen Beck",
                    "2/Owen Power",
                    "0/Owen Tippett",
                    "0/Ozzy Weisblatt",
                    "0/Patrik Laine",
                    "0/Paul Bittner",
                    "2/Pavel Mintyukov",
                    "0/Pavel Zacha",
                    "1/Peyton Krebs",
                    "0/Pierre-Luc Dubois",
                    "2/Pierre-Olivier Joseph",
                    "0/Pyotr Kochetkov",
                    "2/Quinn Hughes",
                    "1/Quinton Byfield",
                    "1/Raphael Lavoie",
                    "0/Rasmus Asplund",
                    "2/Rasmus Dahlin",
                    "1/Rasmus Kupari",
                    "2/Rasmus Sandin",
                    "0/Riley Tufte",
                    "0/Robby Fabbri",
                    "0/Robert Thomas",
                    "1/Rodion Amirov",
                    "1/Roni Hirvonen",
                    "1/Rutger McGroarty",
                    "2/Ryan Chesley",
                    "2/Ryan Johnson",
                    "1/Ryan McLeod",
                    "2/Ryan O'Rourke",
                    "0/Ryan Poehling",
                    "1/Ryan Suzuki",
                    "0/Sam Bennett",
                    "0/Sam Reinhart",
                    "1/Samuel Poulin",
                    "2/Scott Morrow",
                    "2/Sean Behrens",
                    "0/Sebastian Aho",
                    "1/Sebastian Cossa",
                    "1/Serron Noel",
                    "1/Seth Jarvis",
                    "0/Shane Bowers",
                    "1/Shane Pinto",
                    "2/Simon Edvinsson",
                    "0/Simon Holmstrom",
                    "2/Stanislav Svozil",
                    "2/Thomas Chabot",
                    "2/Thomas Harley",
                    "0/Timo Meier",
                    "0/Tony DeAngelo",
                    "0/Travis Dermott",
                    "0/Travis Konecny",
                    "2/Travis Sanheim",
                    "0/Trent Frederic",
                    "1/Trevor Zegras",
                    "2/Tristan Luneau",
                    "1/Ty Dellandrea",
                    "2/Ty Smith",
                    "0/Tyler Benson",
                    "1/Tyson Foerster",
                    "2/Urho Vaakanainen",
                    "1/Vasily Podkolzin",
                    "2/Victor Soderstrom",
                    "1/Vitali Kravtsov",
                    "1/William Eklund",
                    "0/William Nylander",
                    "1/William Stromgren",
                    "2/William Wallinder",
                    "0/Yegor Korshkov",
                    "1/Zach Dean",
                    "2/Zach Werenski",
                    "1/Zachary Bolduc",
                    "1/Zachary L'Heureux",
                    "0/Zachary Senyshyn",
                    "0",
                    "1",
                    "2"
                  ],
                  "labels": [
                    "A.J. Greer",
                    "Adam Mascherin",
                    "Adrien Kempe",
                    "Aleksi Heponiemi",
                    "Alex Newhook",
                    "Alexander Holtz",
                    "Alexander Nylander",
                    "Alexis Lafreniere",
                    "Andreas Englund",
                    "Anthony Beauvillier",
                    "Anton Lundell",
                    "Arthur Kaliyev",
                    "Auston Matthews",
                    "Ayrton Martino",
                    "Barret Hayton",
                    "Bobby Brink",
                    "Bowen Byram",
                    "Brad Lambert",
                    "Brandon Carlo",
                    "Brendan Brisson",
                    "Brendan Lemieux",
                    "Brendan Perlini",
                    "Brennan Othmann",
                    "Brett Howden",
                    "Cale Makar",
                    "Callan Foote",
                    "Calle Odelius",
                    "Cameron Morrison",
                    "Cameron York",
                    "Carson Lambos",
                    "Casey Mittelstadt",
                    "Chaz Lucius",
                    "Christian Fischer",
                    "Cody Glass",
                    "Cole Perfetti",
                    "Conner Bleackley",
                    "Conor Geekie",
                    "Conor Timmins",
                    "Corson Ceulemans",
                    "Daniil Chayka",
                    "Danila Yurov",
                    "Dante Fabbro",
                    "David Goyette",
                    "Dawson Mercer",
                    "Denis Gurianov",
                    "Dominik Bokk",
                    "Dominik Masin",
                    "Dylan Cozens",
                    "Dylan Duke",
                    "Dylan Guenther",
                    "Dylan Holloway",
                    "Dylan Larkin",
                    "Dylan Strome",
                    "Eeli Tolvanen",
                    "Elias Pettersson",
                    "Emil Andrae",
                    "Evan Bouchard",
                    "Fabian Lysell",
                    "Fedor Svechkov",
                    "Filip Chytil",
                    "Filip Johansson",
                    "Filip Mesar",
                    "Filip Zadina",
                    "Francesco Pinelli",
                    "Frank Nazar",
                    "Gabriel Carlsson",
                    "Gabriel Gagne",
                    "Gabriel Vilardi",
                    "Grigori Denisenko",
                    "Gustav Lindstrom",
                    "Hendrix Lapierre",
                    "Henri Jokiharju",
                    "Henrik Borgstrom",
                    "Iaroslav Askarov",
                    "Ilya Samsonov",
                    "Isaac Howard",
                    "Isaac Ratcliffe",
                    "Isac Lundestrom",
                    "Jack Eichel",
                    "Jack Hughes",
                    "Jack Quinn",
                    "Jacob Larsson",
                    "Jacob Perreault",
                    "Jake Bean",
                    "Jake Debrusk",
                    "Jake Oettinger",
                    "Jake Sanderson",
                    "Jake Virtanen",
                    "Jakob Chychrun",
                    "Jakob Pelletier",
                    "Jakub Vrana",
                    "Jared McCann",
                    "Jared McIsaac",
                    "Jason Robertson",
                    "Jay O'Brien",
                    "Jeremie Poirier",
                    "Jesper Boqvist",
                    "Jesper Wallstedt",
                    "Jesperi Kotkaniemi",
                    "Jesse Piljujarvi",
                    "Jett Woo",
                    "Jimmy Snuggerud",
                    "Jiri Kulich",
                    "Joakim Kemell",
                    "Joe Veleno",
                    "Joel Eriksson Ek",
                    "Joel Farabee",
                    "John Beecher",
                    "John Quennville",
                    "Jonathan Lekkerimaki",
                    "Josh Norris",
                    "Julius Honka",
                    "Juuso Valimaki",
                    "Kaiden Guhle",
                    "Kasperi Kapanen",
                    "Kent Johnson",
                    "Kevin Fiala",
                    "Kevin Korchinski",
                    "Kieffer Bellows",
                    "Kirby Dach",
                    "Klim Kostin",
                    "Kole Lind",
                    "Lawson Crouse",
                    "Liam Foudy",
                    "Lian Bichsel",
                    "Logan Cooley",
                    "Logan Stanley",
                    "Luca Del Bel Belluz",
                    "Lucas Raymond",
                    "Lukas Cormier",
                    "Luke Hughes",
                    "Mads Sogaard",
                    "Marat Khusnutdinov",
                    "Marco Kasper",
                    "Marco Rossi",
                    "Marcus Davidsson",
                    "Marcus Pettersson",
                    "Martin Kaut",
                    "Mason Mctavish",
                    "Matt Boldy",
                    "Matthew Beniers",
                    "Matthew Tkachuk",
                    "Mavrik Bourque",
                    "Max Jones",
                    "Mikhail Sergachev",
                    "Mikko Rantanen",
                    "Miro Heiskanen",
                    "Mitch Marner",
                    "Morgan Frost",
                    "Nathan Gaucher",
                    "Nick Merkley",
                    "Nick Ritchie",
                    "Nick Schmaltz",
                    "Nicolas Beaudin",
                    "Nicolas Hague",
                    "Nicolas Meloche",
                    "Nikita Chibrikov",
                    "Nikita Scherbak",
                    "Nils Lundkvist",
                    "Noah Dobson",
                    "Noah Juulsen",
                    "Noah Ostlund",
                    "Noel Gunler",
                    "Nolan Foote",
                    "Nolan Patrick",
                    "Oliver Whahlstrom",
                    "Olli Juolevi",
                    "Olof Lindbom",
                    "Owen Beck",
                    "Owen Power",
                    "Owen Tippett",
                    "Ozzy Weisblatt",
                    "Patrik Laine",
                    "Paul Bittner",
                    "Pavel Mintyukov",
                    "Pavel Zacha",
                    "Peyton Krebs",
                    "Pierre-Luc Dubois",
                    "Pierre-Olivier Joseph",
                    "Pyotr Kochetkov",
                    "Quinn Hughes",
                    "Quinton Byfield",
                    "Raphael Lavoie",
                    "Rasmus Asplund",
                    "Rasmus Dahlin",
                    "Rasmus Kupari",
                    "Rasmus Sandin",
                    "Riley Tufte",
                    "Robby Fabbri",
                    "Robert Thomas",
                    "Rodion Amirov",
                    "Roni Hirvonen",
                    "Rutger McGroarty",
                    "Ryan Chesley",
                    "Ryan Johnson",
                    "Ryan McLeod",
                    "Ryan O'Rourke",
                    "Ryan Poehling",
                    "Ryan Suzuki",
                    "Sam Bennett",
                    "Sam Reinhart",
                    "Samuel Poulin",
                    "Scott Morrow",
                    "Sean Behrens",
                    "Sebastian Aho",
                    "Sebastian Cossa",
                    "Serron Noel",
                    "Seth Jarvis",
                    "Shane Bowers",
                    "Shane Pinto",
                    "Simon Edvinsson",
                    "Simon Holmstrom",
                    "Stanislav Svozil",
                    "Thomas Chabot",
                    "Thomas Harley",
                    "Timo Meier",
                    "Tony DeAngelo",
                    "Travis Dermott",
                    "Travis Konecny",
                    "Travis Sanheim",
                    "Trent Frederic",
                    "Trevor Zegras",
                    "Tristan Luneau",
                    "Ty Dellandrea",
                    "Ty Smith",
                    "Tyler Benson",
                    "Tyson Foerster",
                    "Urho Vaakanainen",
                    "Vasily Podkolzin",
                    "Victor Soderstrom",
                    "Vitali Kravtsov",
                    "William Eklund",
                    "William Nylander",
                    "William Stromgren",
                    "William Wallinder",
                    "Yegor Korshkov",
                    "Zach Dean",
                    "Zach Werenski",
                    "Zachary Bolduc",
                    "Zachary L'Heureux",
                    "Zachary Senyshyn",
                    "0",
                    "1",
                    "2"
                  ],
                  "name": "",
                  "parents": [
                    "0",
                    "0",
                    "0",
                    "0",
                    "1",
                    "1",
                    "0",
                    "1",
                    "0",
                    "0",
                    "1",
                    "1",
                    "0",
                    "1",
                    "1",
                    "1",
                    "2",
                    "1",
                    "2",
                    "1",
                    "0",
                    "0",
                    "1",
                    "0",
                    "2",
                    "2",
                    "2",
                    "0",
                    "2",
                    "2",
                    "0",
                    "1",
                    "0",
                    "0",
                    "1",
                    "0",
                    "1",
                    "0",
                    "2",
                    "2",
                    "1",
                    "2",
                    "1",
                    "1",
                    "0",
                    "1",
                    "2",
                    "1",
                    "1",
                    "1",
                    "1",
                    "0",
                    "0",
                    "0",
                    "0",
                    "2",
                    "2",
                    "1",
                    "1",
                    "0",
                    "2",
                    "1",
                    "1",
                    "1",
                    "1",
                    "2",
                    "0",
                    "0",
                    "1",
                    "2",
                    "1",
                    "2",
                    "0",
                    "1",
                    "0",
                    "1",
                    "0",
                    "1",
                    "0",
                    "1",
                    "1",
                    "2",
                    "1",
                    "2",
                    "0",
                    "0",
                    "2",
                    "0",
                    "0",
                    "1",
                    "0",
                    "0",
                    "0",
                    "0",
                    "1",
                    "2",
                    "0",
                    "1",
                    "1",
                    "0",
                    "2",
                    "1",
                    "1",
                    "1",
                    "1",
                    "0",
                    "1",
                    "0",
                    "0",
                    "1",
                    "0",
                    "2",
                    "2",
                    "2",
                    "0",
                    "1",
                    "0",
                    "2",
                    "0",
                    "1",
                    "0",
                    "0",
                    "0",
                    "1",
                    "2",
                    "1",
                    "0",
                    "1",
                    "1",
                    "2",
                    "2",
                    "0",
                    "1",
                    "1",
                    "1",
                    "0",
                    "2",
                    "1",
                    "1",
                    "1",
                    "1",
                    "0",
                    "1",
                    "0",
                    "0",
                    "0",
                    "2",
                    "0",
                    "0",
                    "1",
                    "0",
                    "0",
                    "0",
                    "2",
                    "2",
                    "0",
                    "1",
                    "2",
                    "2",
                    "2",
                    "0",
                    "1",
                    "1",
                    "0",
                    "0",
                    "1",
                    "0",
                    "0",
                    "1",
                    "2",
                    "0",
                    "0",
                    "0",
                    "0",
                    "2",
                    "0",
                    "1",
                    "0",
                    "2",
                    "0",
                    "2",
                    "1",
                    "1",
                    "0",
                    "2",
                    "1",
                    "2",
                    "0",
                    "0",
                    "0",
                    "1",
                    "1",
                    "1",
                    "2",
                    "2",
                    "1",
                    "2",
                    "0",
                    "1",
                    "0",
                    "0",
                    "1",
                    "2",
                    "2",
                    "0",
                    "1",
                    "1",
                    "1",
                    "0",
                    "1",
                    "2",
                    "0",
                    "2",
                    "2",
                    "2",
                    "0",
                    "0",
                    "0",
                    "0",
                    "2",
                    "0",
                    "1",
                    "2",
                    "1",
                    "2",
                    "0",
                    "1",
                    "2",
                    "1",
                    "2",
                    "1",
                    "1",
                    "0",
                    "1",
                    "2",
                    "0",
                    "1",
                    "2",
                    "1",
                    "1",
                    "0",
                    "",
                    "",
                    ""
                  ],
                  "type": "treemap",
                  "values": [
                    1,
                    1,
                    1,
                    1,
                    1,
                    1,
                    1,
                    1,
                    1,
                    1,
                    1,
                    1,
                    1,
                    1,
                    1,
                    1,
                    1,
                    1,
                    1,
                    1,
                    1,
                    1,
                    1,
                    1,
                    1,
                    1,
                    1,
                    1,
                    1,
                    1,
                    1,
                    1,
                    1,
                    1,
                    1,
                    1,
                    1,
                    1,
                    1,
                    1,
                    1,
                    1,
                    1,
                    1,
                    1,
                    1,
                    1,
                    1,
                    1,
                    1,
                    1,
                    1,
                    1,
                    1,
                    1,
                    1,
                    1,
                    1,
                    1,
                    1,
                    1,
                    1,
                    1,
                    1,
                    1,
                    1,
                    1,
                    1,
                    1,
                    1,
                    1,
                    1,
                    1,
                    1,
                    1,
                    1,
                    1,
                    1,
                    1,
                    1,
                    1,
                    1,
                    1,
                    1,
                    1,
                    1,
                    1,
                    1,
                    1,
                    1,
                    1,
                    1,
                    1,
                    1,
                    1,
                    1,
                    1,
                    1,
                    1,
                    1,
                    1,
                    1,
                    1,
                    1,
                    1,
                    1,
                    1,
                    1,
                    1,
                    1,
                    1,
                    1,
                    1,
                    1,
                    1,
                    1,
                    1,
                    1,
                    1,
                    1,
                    1,
                    1,
                    1,
                    1,
                    1,
                    1,
                    1,
                    1,
                    1,
                    1,
                    1,
                    1,
                    1,
                    1,
                    1,
                    1,
                    1,
                    1,
                    1,
                    1,
                    1,
                    1,
                    1,
                    1,
                    1,
                    1,
                    1,
                    1,
                    1,
                    1,
                    1,
                    1,
                    1,
                    1,
                    1,
                    1,
                    1,
                    1,
                    1,
                    1,
                    1,
                    1,
                    1,
                    1,
                    1,
                    1,
                    1,
                    1,
                    1,
                    1,
                    1,
                    1,
                    1,
                    1,
                    1,
                    1,
                    1,
                    1,
                    1,
                    1,
                    1,
                    1,
                    1,
                    1,
                    1,
                    1,
                    1,
                    1,
                    1,
                    1,
                    1,
                    1,
                    1,
                    1,
                    1,
                    1,
                    1,
                    1,
                    1,
                    1,
                    1,
                    1,
                    1,
                    1,
                    1,
                    1,
                    1,
                    1,
                    1,
                    1,
                    1,
                    1,
                    1,
                    1,
                    1,
                    1,
                    1,
                    1,
                    1,
                    1,
                    1,
                    1,
                    1,
                    1,
                    1,
                    1,
                    1,
                    1,
                    1,
                    1,
                    1,
                    1,
                    1,
                    1,
                    1,
                    1,
                    1,
                    1,
                    1,
                    1,
                    1,
                    93,
                    90,
                    58
                  ]
                }
              ],
              "layout": {
                "legend": {
                  "tracegroupgap": 0
                },
                "margin": {
                  "t": 60
                },
                "template": {
                  "data": {
                    "bar": [
                      {
                        "error_x": {
                          "color": "#2a3f5f"
                        },
                        "error_y": {
                          "color": "#2a3f5f"
                        },
                        "marker": {
                          "line": {
                            "color": "#E5ECF6",
                            "width": 0.5
                          },
                          "pattern": {
                            "fillmode": "overlay",
                            "size": 10,
                            "solidity": 0.2
                          }
                        },
                        "type": "bar"
                      }
                    ],
                    "barpolar": [
                      {
                        "marker": {
                          "line": {
                            "color": "#E5ECF6",
                            "width": 0.5
                          },
                          "pattern": {
                            "fillmode": "overlay",
                            "size": 10,
                            "solidity": 0.2
                          }
                        },
                        "type": "barpolar"
                      }
                    ],
                    "carpet": [
                      {
                        "aaxis": {
                          "endlinecolor": "#2a3f5f",
                          "gridcolor": "white",
                          "linecolor": "white",
                          "minorgridcolor": "white",
                          "startlinecolor": "#2a3f5f"
                        },
                        "baxis": {
                          "endlinecolor": "#2a3f5f",
                          "gridcolor": "white",
                          "linecolor": "white",
                          "minorgridcolor": "white",
                          "startlinecolor": "#2a3f5f"
                        },
                        "type": "carpet"
                      }
                    ],
                    "choropleth": [
                      {
                        "colorbar": {
                          "outlinewidth": 0,
                          "ticks": ""
                        },
                        "type": "choropleth"
                      }
                    ],
                    "contour": [
                      {
                        "colorbar": {
                          "outlinewidth": 0,
                          "ticks": ""
                        },
                        "colorscale": [
                          [
                            0,
                            "#0d0887"
                          ],
                          [
                            0.1111111111111111,
                            "#46039f"
                          ],
                          [
                            0.2222222222222222,
                            "#7201a8"
                          ],
                          [
                            0.3333333333333333,
                            "#9c179e"
                          ],
                          [
                            0.4444444444444444,
                            "#bd3786"
                          ],
                          [
                            0.5555555555555556,
                            "#d8576b"
                          ],
                          [
                            0.6666666666666666,
                            "#ed7953"
                          ],
                          [
                            0.7777777777777778,
                            "#fb9f3a"
                          ],
                          [
                            0.8888888888888888,
                            "#fdca26"
                          ],
                          [
                            1,
                            "#f0f921"
                          ]
                        ],
                        "type": "contour"
                      }
                    ],
                    "contourcarpet": [
                      {
                        "colorbar": {
                          "outlinewidth": 0,
                          "ticks": ""
                        },
                        "type": "contourcarpet"
                      }
                    ],
                    "heatmap": [
                      {
                        "colorbar": {
                          "outlinewidth": 0,
                          "ticks": ""
                        },
                        "colorscale": [
                          [
                            0,
                            "#0d0887"
                          ],
                          [
                            0.1111111111111111,
                            "#46039f"
                          ],
                          [
                            0.2222222222222222,
                            "#7201a8"
                          ],
                          [
                            0.3333333333333333,
                            "#9c179e"
                          ],
                          [
                            0.4444444444444444,
                            "#bd3786"
                          ],
                          [
                            0.5555555555555556,
                            "#d8576b"
                          ],
                          [
                            0.6666666666666666,
                            "#ed7953"
                          ],
                          [
                            0.7777777777777778,
                            "#fb9f3a"
                          ],
                          [
                            0.8888888888888888,
                            "#fdca26"
                          ],
                          [
                            1,
                            "#f0f921"
                          ]
                        ],
                        "type": "heatmap"
                      }
                    ],
                    "heatmapgl": [
                      {
                        "colorbar": {
                          "outlinewidth": 0,
                          "ticks": ""
                        },
                        "colorscale": [
                          [
                            0,
                            "#0d0887"
                          ],
                          [
                            0.1111111111111111,
                            "#46039f"
                          ],
                          [
                            0.2222222222222222,
                            "#7201a8"
                          ],
                          [
                            0.3333333333333333,
                            "#9c179e"
                          ],
                          [
                            0.4444444444444444,
                            "#bd3786"
                          ],
                          [
                            0.5555555555555556,
                            "#d8576b"
                          ],
                          [
                            0.6666666666666666,
                            "#ed7953"
                          ],
                          [
                            0.7777777777777778,
                            "#fb9f3a"
                          ],
                          [
                            0.8888888888888888,
                            "#fdca26"
                          ],
                          [
                            1,
                            "#f0f921"
                          ]
                        ],
                        "type": "heatmapgl"
                      }
                    ],
                    "histogram": [
                      {
                        "marker": {
                          "pattern": {
                            "fillmode": "overlay",
                            "size": 10,
                            "solidity": 0.2
                          }
                        },
                        "type": "histogram"
                      }
                    ],
                    "histogram2d": [
                      {
                        "colorbar": {
                          "outlinewidth": 0,
                          "ticks": ""
                        },
                        "colorscale": [
                          [
                            0,
                            "#0d0887"
                          ],
                          [
                            0.1111111111111111,
                            "#46039f"
                          ],
                          [
                            0.2222222222222222,
                            "#7201a8"
                          ],
                          [
                            0.3333333333333333,
                            "#9c179e"
                          ],
                          [
                            0.4444444444444444,
                            "#bd3786"
                          ],
                          [
                            0.5555555555555556,
                            "#d8576b"
                          ],
                          [
                            0.6666666666666666,
                            "#ed7953"
                          ],
                          [
                            0.7777777777777778,
                            "#fb9f3a"
                          ],
                          [
                            0.8888888888888888,
                            "#fdca26"
                          ],
                          [
                            1,
                            "#f0f921"
                          ]
                        ],
                        "type": "histogram2d"
                      }
                    ],
                    "histogram2dcontour": [
                      {
                        "colorbar": {
                          "outlinewidth": 0,
                          "ticks": ""
                        },
                        "colorscale": [
                          [
                            0,
                            "#0d0887"
                          ],
                          [
                            0.1111111111111111,
                            "#46039f"
                          ],
                          [
                            0.2222222222222222,
                            "#7201a8"
                          ],
                          [
                            0.3333333333333333,
                            "#9c179e"
                          ],
                          [
                            0.4444444444444444,
                            "#bd3786"
                          ],
                          [
                            0.5555555555555556,
                            "#d8576b"
                          ],
                          [
                            0.6666666666666666,
                            "#ed7953"
                          ],
                          [
                            0.7777777777777778,
                            "#fb9f3a"
                          ],
                          [
                            0.8888888888888888,
                            "#fdca26"
                          ],
                          [
                            1,
                            "#f0f921"
                          ]
                        ],
                        "type": "histogram2dcontour"
                      }
                    ],
                    "mesh3d": [
                      {
                        "colorbar": {
                          "outlinewidth": 0,
                          "ticks": ""
                        },
                        "type": "mesh3d"
                      }
                    ],
                    "parcoords": [
                      {
                        "line": {
                          "colorbar": {
                            "outlinewidth": 0,
                            "ticks": ""
                          }
                        },
                        "type": "parcoords"
                      }
                    ],
                    "pie": [
                      {
                        "automargin": true,
                        "type": "pie"
                      }
                    ],
                    "scatter": [
                      {
                        "fillpattern": {
                          "fillmode": "overlay",
                          "size": 10,
                          "solidity": 0.2
                        },
                        "type": "scatter"
                      }
                    ],
                    "scatter3d": [
                      {
                        "line": {
                          "colorbar": {
                            "outlinewidth": 0,
                            "ticks": ""
                          }
                        },
                        "marker": {
                          "colorbar": {
                            "outlinewidth": 0,
                            "ticks": ""
                          }
                        },
                        "type": "scatter3d"
                      }
                    ],
                    "scattercarpet": [
                      {
                        "marker": {
                          "colorbar": {
                            "outlinewidth": 0,
                            "ticks": ""
                          }
                        },
                        "type": "scattercarpet"
                      }
                    ],
                    "scattergeo": [
                      {
                        "marker": {
                          "colorbar": {
                            "outlinewidth": 0,
                            "ticks": ""
                          }
                        },
                        "type": "scattergeo"
                      }
                    ],
                    "scattergl": [
                      {
                        "marker": {
                          "colorbar": {
                            "outlinewidth": 0,
                            "ticks": ""
                          }
                        },
                        "type": "scattergl"
                      }
                    ],
                    "scattermapbox": [
                      {
                        "marker": {
                          "colorbar": {
                            "outlinewidth": 0,
                            "ticks": ""
                          }
                        },
                        "type": "scattermapbox"
                      }
                    ],
                    "scatterpolar": [
                      {
                        "marker": {
                          "colorbar": {
                            "outlinewidth": 0,
                            "ticks": ""
                          }
                        },
                        "type": "scatterpolar"
                      }
                    ],
                    "scatterpolargl": [
                      {
                        "marker": {
                          "colorbar": {
                            "outlinewidth": 0,
                            "ticks": ""
                          }
                        },
                        "type": "scatterpolargl"
                      }
                    ],
                    "scatterternary": [
                      {
                        "marker": {
                          "colorbar": {
                            "outlinewidth": 0,
                            "ticks": ""
                          }
                        },
                        "type": "scatterternary"
                      }
                    ],
                    "surface": [
                      {
                        "colorbar": {
                          "outlinewidth": 0,
                          "ticks": ""
                        },
                        "colorscale": [
                          [
                            0,
                            "#0d0887"
                          ],
                          [
                            0.1111111111111111,
                            "#46039f"
                          ],
                          [
                            0.2222222222222222,
                            "#7201a8"
                          ],
                          [
                            0.3333333333333333,
                            "#9c179e"
                          ],
                          [
                            0.4444444444444444,
                            "#bd3786"
                          ],
                          [
                            0.5555555555555556,
                            "#d8576b"
                          ],
                          [
                            0.6666666666666666,
                            "#ed7953"
                          ],
                          [
                            0.7777777777777778,
                            "#fb9f3a"
                          ],
                          [
                            0.8888888888888888,
                            "#fdca26"
                          ],
                          [
                            1,
                            "#f0f921"
                          ]
                        ],
                        "type": "surface"
                      }
                    ],
                    "table": [
                      {
                        "cells": {
                          "fill": {
                            "color": "#EBF0F8"
                          },
                          "line": {
                            "color": "white"
                          }
                        },
                        "header": {
                          "fill": {
                            "color": "#C8D4E3"
                          },
                          "line": {
                            "color": "white"
                          }
                        },
                        "type": "table"
                      }
                    ]
                  },
                  "layout": {
                    "annotationdefaults": {
                      "arrowcolor": "#2a3f5f",
                      "arrowhead": 0,
                      "arrowwidth": 1
                    },
                    "autotypenumbers": "strict",
                    "coloraxis": {
                      "colorbar": {
                        "outlinewidth": 0,
                        "ticks": ""
                      }
                    },
                    "colorscale": {
                      "diverging": [
                        [
                          0,
                          "#8e0152"
                        ],
                        [
                          0.1,
                          "#c51b7d"
                        ],
                        [
                          0.2,
                          "#de77ae"
                        ],
                        [
                          0.3,
                          "#f1b6da"
                        ],
                        [
                          0.4,
                          "#fde0ef"
                        ],
                        [
                          0.5,
                          "#f7f7f7"
                        ],
                        [
                          0.6,
                          "#e6f5d0"
                        ],
                        [
                          0.7,
                          "#b8e186"
                        ],
                        [
                          0.8,
                          "#7fbc41"
                        ],
                        [
                          0.9,
                          "#4d9221"
                        ],
                        [
                          1,
                          "#276419"
                        ]
                      ],
                      "sequential": [
                        [
                          0,
                          "#0d0887"
                        ],
                        [
                          0.1111111111111111,
                          "#46039f"
                        ],
                        [
                          0.2222222222222222,
                          "#7201a8"
                        ],
                        [
                          0.3333333333333333,
                          "#9c179e"
                        ],
                        [
                          0.4444444444444444,
                          "#bd3786"
                        ],
                        [
                          0.5555555555555556,
                          "#d8576b"
                        ],
                        [
                          0.6666666666666666,
                          "#ed7953"
                        ],
                        [
                          0.7777777777777778,
                          "#fb9f3a"
                        ],
                        [
                          0.8888888888888888,
                          "#fdca26"
                        ],
                        [
                          1,
                          "#f0f921"
                        ]
                      ],
                      "sequentialminus": [
                        [
                          0,
                          "#0d0887"
                        ],
                        [
                          0.1111111111111111,
                          "#46039f"
                        ],
                        [
                          0.2222222222222222,
                          "#7201a8"
                        ],
                        [
                          0.3333333333333333,
                          "#9c179e"
                        ],
                        [
                          0.4444444444444444,
                          "#bd3786"
                        ],
                        [
                          0.5555555555555556,
                          "#d8576b"
                        ],
                        [
                          0.6666666666666666,
                          "#ed7953"
                        ],
                        [
                          0.7777777777777778,
                          "#fb9f3a"
                        ],
                        [
                          0.8888888888888888,
                          "#fdca26"
                        ],
                        [
                          1,
                          "#f0f921"
                        ]
                      ]
                    },
                    "colorway": [
                      "#636efa",
                      "#EF553B",
                      "#00cc96",
                      "#ab63fa",
                      "#FFA15A",
                      "#19d3f3",
                      "#FF6692",
                      "#B6E880",
                      "#FF97FF",
                      "#FECB52"
                    ],
                    "font": {
                      "color": "#2a3f5f"
                    },
                    "geo": {
                      "bgcolor": "white",
                      "lakecolor": "white",
                      "landcolor": "#E5ECF6",
                      "showlakes": true,
                      "showland": true,
                      "subunitcolor": "white"
                    },
                    "hoverlabel": {
                      "align": "left"
                    },
                    "hovermode": "closest",
                    "mapbox": {
                      "style": "light"
                    },
                    "paper_bgcolor": "white",
                    "plot_bgcolor": "#E5ECF6",
                    "polar": {
                      "angularaxis": {
                        "gridcolor": "white",
                        "linecolor": "white",
                        "ticks": ""
                      },
                      "bgcolor": "#E5ECF6",
                      "radialaxis": {
                        "gridcolor": "white",
                        "linecolor": "white",
                        "ticks": ""
                      }
                    },
                    "scene": {
                      "xaxis": {
                        "backgroundcolor": "#E5ECF6",
                        "gridcolor": "white",
                        "gridwidth": 2,
                        "linecolor": "white",
                        "showbackground": true,
                        "ticks": "",
                        "zerolinecolor": "white"
                      },
                      "yaxis": {
                        "backgroundcolor": "#E5ECF6",
                        "gridcolor": "white",
                        "gridwidth": 2,
                        "linecolor": "white",
                        "showbackground": true,
                        "ticks": "",
                        "zerolinecolor": "white"
                      },
                      "zaxis": {
                        "backgroundcolor": "#E5ECF6",
                        "gridcolor": "white",
                        "gridwidth": 2,
                        "linecolor": "white",
                        "showbackground": true,
                        "ticks": "",
                        "zerolinecolor": "white"
                      }
                    },
                    "shapedefaults": {
                      "line": {
                        "color": "#2a3f5f"
                      }
                    },
                    "ternary": {
                      "aaxis": {
                        "gridcolor": "white",
                        "linecolor": "white",
                        "ticks": ""
                      },
                      "baxis": {
                        "gridcolor": "white",
                        "linecolor": "white",
                        "ticks": ""
                      },
                      "bgcolor": "#E5ECF6",
                      "caxis": {
                        "gridcolor": "white",
                        "linecolor": "white",
                        "ticks": ""
                      }
                    },
                    "title": {
                      "x": 0.05
                    },
                    "xaxis": {
                      "automargin": true,
                      "gridcolor": "white",
                      "linecolor": "white",
                      "ticks": "",
                      "title": {
                        "standoff": 15
                      },
                      "zerolinecolor": "white",
                      "zerolinewidth": 2
                    },
                    "yaxis": {
                      "automargin": true,
                      "gridcolor": "white",
                      "linecolor": "white",
                      "ticks": "",
                      "title": {
                        "standoff": 15
                      },
                      "zerolinecolor": "white",
                      "zerolinewidth": 2
                    }
                  }
                }
              }
            }
          },
          "metadata": {},
          "output_type": "display_data"
        }
      ],
      "source": [
        "import plotly.express as px\n",
        "\n",
        "print(X_train.columns)\n",
        "print(X_train.head())\n",
        "\n",
        "#visualize mappings via treemap\n",
        "result_summary = pd.pivot_table(X_train, index=['label', 'player_name'],  aggfunc='count').reset_index().rename(columns={'draft_position':'count'})\n",
        "result_treemap = result_summary\n",
        "fig = px.treemap(result_treemap,path=['label', 'player_name'],values='count')\n",
        "fig.show()"
      ]
    },
    {
      "cell_type": "code",
      "execution_count": 35,
      "metadata": {
        "colab": {
          "base_uri": "https://localhost:8080/",
          "height": 496
        },
        "id": "_Cz9MkDTxX8H",
        "outputId": "a86f29bd-c382-4463-f955-a20fa1f0a303"
      },
      "outputs": [
        {
          "data": {
            "text/plain": [
              "<matplotlib.legend.Legend at 0x1f28cdf19c8>"
            ]
          },
          "execution_count": 35,
          "metadata": {},
          "output_type": "execute_result"
        },
        {
          "data": {
            "image/png": "[encoded data removed]",
            "text/plain": [
              "<Figure size 640x480 with 1 Axes>"
            ]
          },
          "metadata": {},
          "output_type": "display_data"
        }
      ],
      "source": [
        "tsne = TSNE(n_components=2, perplexity=15, random_state=42, init=\"random\", learning_rate=200)\n",
        "vis_dims2 = tsne.fit_transform(X_train_vect)\n",
        "\n",
        "x = [x for x, y in vis_dims2]\n",
        "y = [y for x, y in vis_dims2]\n",
        "\n",
        "color = cm.rainbow(np.linspace(0, 1, len(X_train.label.unique())))\n",
        "for category, color in enumerate(color):\n",
        "    xs = np.array(x)[X_train.label == category]\n",
        "    ys = np.array(y)[X_train.label == category]\n",
        "    plt.scatter(xs, ys, color=color, alpha=0.3)\n",
        "\n",
        "    avg_x = xs.mean()\n",
        "    avg_y = ys.mean()\n",
        "\n",
        "    plt.scatter(avg_x, avg_y, marker=\"x\", color=color, s=100, label=category)\n",
        "plt.title(\"Visual Representation Of Clusters In 2D Via TSNE\")\n",
        "plt.legend()"
      ]
    }
  ],
  "metadata": {
    "colab": {
      "provenance": []
    },
    "kernelspec": {
      "display_name": "Python 3",
      "name": "python3"
    },
    "language_info": {
      "codemirror_mode": {
        "name": "ipython",
        "version": 3
      },
      "file_extension": ".py",
      "mimetype": "text/x-python",
      "name": "python",
      "nbconvert_exporter": "python",
      "pygments_lexer": "ipython3",
      "version": "3.7.10"
    }
  },
  "nbformat": 4,
  "nbformat_minor": 0
}
