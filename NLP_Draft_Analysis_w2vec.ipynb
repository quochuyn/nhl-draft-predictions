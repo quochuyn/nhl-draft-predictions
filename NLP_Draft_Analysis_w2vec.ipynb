{
  "cells": [
    {
      "cell_type": "code",
      "execution_count": 21,
      "metadata": {
        "colab": {
          "base_uri": "https://localhost:8080/"
        },
        "id": "DAudg6vHRsXx",
        "outputId": "3c2c5119-6062-4e48-9177-bb400c6a3c1f"
      },
      "outputs": [
        {
          "name": "stderr",
          "output_type": "stream",
          "text": [
            "[nltk_data] Downloading package punkt to\n",
            "[nltk_data]     C:\\Users\\Ryan\\AppData\\Roaming\\nltk_data...\n",
            "[nltk_data]   Package punkt is already up-to-date!\n",
            "[nltk_data] Downloading package stopwords to\n",
            "[nltk_data]     C:\\Users\\Ryan\\AppData\\Roaming\\nltk_data...\n",
            "[nltk_data]   Package stopwords is already up-to-date!\n",
            "[nltk_data] Downloading package wordnet to\n",
            "[nltk_data]     C:\\Users\\Ryan\\AppData\\Roaming\\nltk_data...\n",
            "[nltk_data]   Package wordnet is already up-to-date!\n"
          ]
        },
        {
          "data": {
            "text/plain": [
              "True"
            ]
          },
          "execution_count": 21,
          "metadata": {},
          "output_type": "execute_result"
        }
      ],
      "source": [
        "import numpy as np\n",
        "import pandas as pd\n",
        "\n",
        "import matplotlib.cm as cm\n",
        "import matplotlib.pyplot as plt\n",
        "\n",
        "import nltk\n",
        "from nltk.corpus import stopwords\n",
        "from nltk.stem import PorterStemmer\n",
        "from nltk.stem import WordNetLemmatizer\n",
        "from sklearn.model_selection import train_test_split\n",
        "from sklearn.feature_extraction.text import CountVectorizer\n",
        "from sklearn.linear_model import LogisticRegression, LinearRegression\n",
        "from sklearn import preprocessing\n",
        "from sklearn.svm import SVC\n",
        "from sklearn.neighbors import KNeighborsClassifier\n",
        "from sklearn.cluster import KMeans\n",
        "from sklearn.cluster import MiniBatchKMeans\n",
        "from sklearn.decomposition import PCA\n",
        "from sklearn.manifold import TSNE\n",
        "from sklearn.feature_extraction.text import TfidfVectorizer\n",
        "from sklearn.metrics import silhouette_score\n",
        "import re\n",
        "import gensim\n",
        "from gensim.models import Word2Vec\n",
        "import gensim.downloader as api\n",
        "\n",
        "nltk.download(\"punkt\")\n",
        "nltk.download('stopwords')\n",
        "nltk.download('wordnet')"
      ]
    },
    {
      "cell_type": "code",
      "execution_count": 22,
      "metadata": {
        "colab": {
          "base_uri": "https://localhost:8080/",
          "height": 354
        },
        "id": "h0ANlswKSDKo",
        "outputId": "6ed19579-271a-4941-d249-31deef31fd28"
      },
      "outputs": [
        {
          "data": {
            "text/html": [
              "<div>\n",
              "<style scoped>\n",
              "    .dataframe tbody tr th:only-of-type {\n",
              "        vertical-align: middle;\n",
              "    }\n",
              "\n",
              "    .dataframe tbody tr th {\n",
              "        vertical-align: top;\n",
              "    }\n",
              "\n",
              "    .dataframe thead th {\n",
              "        text-align: right;\n",
              "    }\n",
              "</style>\n",
              "<table border=\"1\" class=\"dataframe\">\n",
              "  <thead>\n",
              "    <tr style=\"text-align: right;\">\n",
              "      <th></th>\n",
              "      <th>Year</th>\n",
              "      <th>Position</th>\n",
              "      <th>Drafted</th>\n",
              "      <th>Team</th>\n",
              "      <th>Average Ranking</th>\n",
              "      <th>Name</th>\n",
              "      <th>Description - Corey Pronman</th>\n",
              "      <th>Description - Scott Wheeler</th>\n",
              "      <th>Description - Smaht Scouting</th>\n",
              "      <th>Description - ESPN (Chris Peters)</th>\n",
              "      <th>Description - EP Rinkside</th>\n",
              "      <th>Description - EP Rinkside Part 2</th>\n",
              "      <th>Description - The Painted Lines</th>\n",
              "      <th>Description - FCHockey</th>\n",
              "    </tr>\n",
              "  </thead>\n",
              "  <tbody>\n",
              "    <tr>\n",
              "      <th>0</th>\n",
              "      <td>2022</td>\n",
              "      <td>1</td>\n",
              "      <td>1</td>\n",
              "      <td>15</td>\n",
              "      <td>1.0</td>\n",
              "      <td>Juraj Slafkovsky</td>\n",
              "      <td>Slafkovsky has all the assets you're looking f...</td>\n",
              "      <td>Slafkovsky is one of the draft's most tantaliz...</td>\n",
              "      <td>Slafkovsky can be a menace at the NHL level. H...</td>\n",
              "      <td>The potential of what Slafkovsky can be as he ...</td>\n",
              "      <td>Slafkovsky is one of the largest players in th...</td>\n",
              "      <td>Nothing brought out Juraj Slafkovsky's draft y...</td>\n",
              "      <td>Slafkovsky dominated the international scene t...</td>\n",
              "      <td>Juraj Slafkovsky drives offense from the wing....</td>\n",
              "    </tr>\n",
              "    <tr>\n",
              "      <th>1</th>\n",
              "      <td>2022</td>\n",
              "      <td>0</td>\n",
              "      <td>4</td>\n",
              "      <td>23</td>\n",
              "      <td>2.0</td>\n",
              "      <td>Shane Wright</td>\n",
              "      <td>Wright is a very well-rounded center who has n...</td>\n",
              "      <td>Still my top prospect in this class (though no...</td>\n",
              "      <td>The complicated and essential question to answ...</td>\n",
              "      <td>With high-end hockey sense highlighted by his ...</td>\n",
              "      <td>The top player from the class held this positi...</td>\n",
              "      <td>In a draft year shaped by substantial depth ra...</td>\n",
              "      <td>Wright has been on the radar of scouts for a l...</td>\n",
              "      <td>Shane Wright is an elite two-way center with i...</td>\n",
              "    </tr>\n",
              "    <tr>\n",
              "      <th>3</th>\n",
              "      <td>2022</td>\n",
              "      <td>0</td>\n",
              "      <td>3</td>\n",
              "      <td>1</td>\n",
              "      <td>3.0</td>\n",
              "      <td>Logan Cooley</td>\n",
              "      <td>Cooley is a dynamic player. When he has the pu...</td>\n",
              "      <td>Cooley is a beautiful, flowing skater capable ...</td>\n",
              "      <td>Logan Cooley is for sure one of the more well-...</td>\n",
              "      <td>Over the last several months, I have constantl...</td>\n",
              "      <td>A highly creative, speed-driven pivot who brin...</td>\n",
              "      <td>You won't find a more singularly-gifted puckha...</td>\n",
              "      <td>A small, speedy center, Cooley dominated the U...</td>\n",
              "      <td>Juraj Slafkovsky drives offense from the wing....</td>\n",
              "    </tr>\n",
              "    <tr>\n",
              "      <th>5</th>\n",
              "      <td>2022</td>\n",
              "      <td>0</td>\n",
              "      <td>9</td>\n",
              "      <td>3</td>\n",
              "      <td>6.0</td>\n",
              "      <td>Matthew Savoie</td>\n",
              "      <td>Savoie is a very talented scorer. He stands ou...</td>\n",
              "      <td>There isn't a player in this draft class whose...</td>\n",
              "      <td>Matthew Savoie has star potential at the NHL l...</td>\n",
              "      <td>A top-10 scorer in the WHL this season, Savoie...</td>\n",
              "      <td>A point-producing machine in the WHL this past...</td>\n",
              "      <td>Few players in the 2022 NHL Draft have spent m...</td>\n",
              "      <td>I've been high on Savoie all season and my imp...</td>\n",
              "      <td>Matthew Savoie is an extremely intelligent pla...</td>\n",
              "    </tr>\n",
              "    <tr>\n",
              "      <th>6</th>\n",
              "      <td>2022</td>\n",
              "      <td>2</td>\n",
              "      <td>17</td>\n",
              "      <td>17</td>\n",
              "      <td>7.0</td>\n",
              "      <td>Joakim Kemell</td>\n",
              "      <td>Kemell is a well-rounded winger who has almost...</td>\n",
              "      <td>After exploding out of the gate to lead Liiga ...</td>\n",
              "      <td>Second line winger, who can be a threat on a N...</td>\n",
              "      <td>A high-scoring winger who put up impressive nu...</td>\n",
              "      <td>A high-end finisher with a top-notch one-timer...</td>\n",
              "      <td>Nothing about Joakim Kemell's profile coming i...</td>\n",
              "      <td>Kemell burst onto the scene this season in Fin...</td>\n",
              "      <td>Joakim Kemell is a talented forward who shot u...</td>\n",
              "    </tr>\n",
              "  </tbody>\n",
              "</table>\n",
              "</div>"
            ],
            "text/plain": [
              "   Year  Position  Drafted  Team  Average Ranking              Name  \\\n",
              "0  2022         1        1    15              1.0  Juraj Slafkovsky   \n",
              "1  2022         0        4    23              2.0      Shane Wright   \n",
              "3  2022         0        3     1              3.0      Logan Cooley   \n",
              "5  2022         0        9     3              6.0    Matthew Savoie   \n",
              "6  2022         2       17    17              7.0     Joakim Kemell   \n",
              "\n",
              "                         Description - Corey Pronman  \\\n",
              "0  Slafkovsky has all the assets you're looking f...   \n",
              "1  Wright is a very well-rounded center who has n...   \n",
              "3  Cooley is a dynamic player. When he has the pu...   \n",
              "5  Savoie is a very talented scorer. He stands ou...   \n",
              "6  Kemell is a well-rounded winger who has almost...   \n",
              "\n",
              "                         Description - Scott Wheeler  \\\n",
              "0  Slafkovsky is one of the draft's most tantaliz...   \n",
              "1  Still my top prospect in this class (though no...   \n",
              "3  Cooley is a beautiful, flowing skater capable ...   \n",
              "5  There isn't a player in this draft class whose...   \n",
              "6  After exploding out of the gate to lead Liiga ...   \n",
              "\n",
              "                        Description - Smaht Scouting  \\\n",
              "0  Slafkovsky can be a menace at the NHL level. H...   \n",
              "1  The complicated and essential question to answ...   \n",
              "3  Logan Cooley is for sure one of the more well-...   \n",
              "5  Matthew Savoie has star potential at the NHL l...   \n",
              "6  Second line winger, who can be a threat on a N...   \n",
              "\n",
              "                   Description - ESPN (Chris Peters)  \\\n",
              "0  The potential of what Slafkovsky can be as he ...   \n",
              "1  With high-end hockey sense highlighted by his ...   \n",
              "3  Over the last several months, I have constantl...   \n",
              "5  A top-10 scorer in the WHL this season, Savoie...   \n",
              "6  A high-scoring winger who put up impressive nu...   \n",
              "\n",
              "                           Description - EP Rinkside  \\\n",
              "0  Slafkovsky is one of the largest players in th...   \n",
              "1  The top player from the class held this positi...   \n",
              "3  A highly creative, speed-driven pivot who brin...   \n",
              "5  A point-producing machine in the WHL this past...   \n",
              "6  A high-end finisher with a top-notch one-timer...   \n",
              "\n",
              "                    Description - EP Rinkside Part 2  \\\n",
              "0  Nothing brought out Juraj Slafkovsky's draft y...   \n",
              "1  In a draft year shaped by substantial depth ra...   \n",
              "3  You won't find a more singularly-gifted puckha...   \n",
              "5  Few players in the 2022 NHL Draft have spent m...   \n",
              "6  Nothing about Joakim Kemell's profile coming i...   \n",
              "\n",
              "                     Description - The Painted Lines  \\\n",
              "0  Slafkovsky dominated the international scene t...   \n",
              "1  Wright has been on the radar of scouts for a l...   \n",
              "3  A small, speedy center, Cooley dominated the U...   \n",
              "5  I've been high on Savoie all season and my imp...   \n",
              "6  Kemell burst onto the scene this season in Fin...   \n",
              "\n",
              "                              Description - FCHockey  \n",
              "0  Juraj Slafkovsky drives offense from the wing....  \n",
              "1  Shane Wright is an elite two-way center with i...  \n",
              "3  Juraj Slafkovsky drives offense from the wing....  \n",
              "5  Matthew Savoie is an extremely intelligent pla...  \n",
              "6  Joakim Kemell is a talented forward who shot u...  "
            ]
          },
          "execution_count": 22,
          "metadata": {},
          "output_type": "execute_result"
        }
      ],
      "source": [
        "# dataset location\n",
        "DATASET = \"data/prospect-data.csv\"\n",
        "\n",
        "# load dataset into dataframe\n",
        "data = pd.read_csv(DATASET)\n",
        "\n",
        "# clean up dataset\n",
        "# might have to look at dropping seattle in the future but for clustering it \n",
        "# should not matter\n",
        "#data = data[data['Team'] != 'SEA']\n",
        "\n",
        "# try without goalies\n",
        "#data = data[(data['Position'] != 'G')]\n",
        "data = data[(data['Position'] == 'C') | (data['Position'] == 'LW') | (data['Position'] == 'RW')]\n",
        "\n",
        "# encode position\n",
        "# TODO: we should keep the positions for when we do clustering\n",
        "position = preprocessing.LabelEncoder()\n",
        "position.fit(data['Position'].unique())\n",
        "data['Position'] = data['Position'].apply(lambda x: position.transform([x])[0])\n",
        "\n",
        "team = preprocessing.LabelEncoder()\n",
        "team.fit(data['Team'].unique())\n",
        "data['Team'] = data['Team'].apply(lambda x: team.transform([x])[0])\n",
        "\n",
        "\n",
        "data.head()"
      ]
    },
    {
      "cell_type": "code",
      "execution_count": 23,
      "metadata": {
        "colab": {
          "base_uri": "https://localhost:8080/"
        },
        "id": "BU2qKUXDTkH3",
        "outputId": "3209183c-e731-448e-d2b6-80d98cd52aaa"
      },
      "outputs": [
        {
          "name": "stdout",
          "output_type": "stream",
          "text": [
            "length of corpus: 239\n",
            "length of labels: 239\n",
            "length of draft_position: 239\n",
            "length of player_position: 239\n",
            "corpus first 5: [\" has all the assets you're looking for in a top nhl forward. he's a 6-foot-4 winger who can beat opponents with speed and skill. he possesses outstanding puck skills and can put pucks through legs and sticks at a very high rate. can use finesse, or power and quickness to get around defenders. can also set up and finish plays well. physically, he won't run over guys but his compete is good enough. he projects as a top-line winger with the potential to pop and become a true star in the nhl. is one of the draft's most tantalizing prospects, with a skill-size combo that scouts and coaches clamour for and he has already demonstrated against pro competition domestically and, more notably, internationally. it has been a big year for him. nine points in five games and a historic silver medal for the slovaks at the hlinka gretzky cup. an olympic bronze medal as the tournament's mvp. a silver medal with his club team, tps. a team-leading nine points at the men's worlds. is built like a power forward, with a 218-pound frame that makes him one of the draft's heaviest players, but he plays the game with uncharacteristic finesse, regularly flashing hands you'd expect out of a smaller player one-on-one to pull pucks in tight to his feet. he's also got a rangy, fluid stride, which makes him a surprisingly dangerous rush player — and impressive confidence with the puck on his stick, which enables him to hang onto it (sometimes to a fault) and attack off the wall into the slot (he loves taking the puck from the half wall to the home plate area to shoot from his forehand. the team that drafts him will be betting on his upside, which grades at or near the very top of this class. i'm also a big fan of his approach. he has continued to play his style and look to attack in control (a lot of forwards his size become more deferential and fall back into give-and-go habits to fit a mould when they make the jump to the pro level) as he has played against higher and higher competition. there is, despite his makeup and success, some risk associated with his projection at his size (small players aren't the only ones who carry size-based limitations with them!) though, and that, combined with how much i like the four players i have slotted ahead of him here, does leave me a little lower on him than where he'll be picked, even if there's a real chance he becomes one of the two or three best players out of this draft. can be a menace at the nhl level. his stick-handling reach and his play on the cycle makes him a threat down low. if he can broaden his game by working on his long range shot, that allows him to become a dual threat. but, even if he doesn't become that dual threat offensively, he has the physicality and the reach to net pucks in puck battles and set up teammates in the slot. with that said, i can envision him being a top six contributor at the nhl level. the potential of what can be as he continues on in his is intoxicating. a 6-foot-4 winger with physicality, high-end skill and one of the better overall shots in this draft, it's hard not to get excited. there is a chance that he ends up being the no. 1 pick in this draft and may one day be viewed as its best player. he's every bit as good as the other two players listed ahead of him on talent alone. i've watched a lot this year and while i am enamored with the physical tools and skills, there's not a ton of precedent for the kind of season he had, where he produced at a rate far below expectations of a top-five nhl draft pick in his league season yet was off the charts internationally. in the end, the largest sample we have to judge is that from his club season with tps. you look at players from the that have gone early in drafts and all of them had better numbers than , and many of them had better numbers by a lot. it's not something that is easily ignored. among u18 players who have played at least 20 games in the as u18 players, 0.32 points per game ranks 35th and 21st overall in the last 10 years. is a classic eye-test darling and that's a big reason why i have him in this range. if he hadn't played so well in those international events, i'm not sure we're having this discussion at all. but he did play in those games and we got to see a physically dominant young player who held his own against pros and eventually became one of his team's most important players. the olympics and world championship fields were not nhl-caliber competition, but they were significant stages on which broke out against professionals. i also think his progression over the season and playing with confidence down the stretch significantly altered how well he played for the better. this is a tough case to read, because we have a body of work that suggests he's statistically not among top-tier players in his own league historically, but we have this immense skillset that is so unique in this draft class that it's impossible to overlook. i think is in the mix with cooley and wright to be the best players in this class, and even though i know what the numbers say, i can't get past the incredible ceiling i believe his size-and-skill package creates. is one of the largest players in the first round and also possesses the largest upside of anyone in the class. a rocket of a shot, soft hands, and an improving skating stride all packaged into a 6-foot-4, 220-pound frame. his ability to make plays in space is great, but he'll need to do it without that time as well. he could be a unicorn. nothing brought out draft year best quite like the opportunity to wear his country's colours and represent in international competition. he's the ultimate patriot. started the scouting season off as if shot from a cannon, putting up nine points in five games en route to a silver medal at the hlinka-gretzky in august. next up, seven goals in seven games and mvp honours as he led to the bronze medal at the beijing olympics. then, lastly, a point a game clip at the world hockey championships in all this in his age-17 season. it's not like he was chopped liver in the either. ten points in 31 games is hardly anything to scoff at from a first-time draft-eligible skater in one of europe's more challenging professional leagues, after all. the appeal with is obvious: he's a 6-foot-4 playmaking power forward with soft hands, shooting skill, and the sort of wall game that would already rate as an above-average quality in the nhl. the first thing you notice is just how easily he retains possession under duress. it's like watching a bully play keep away, one hand stiff-arming his victim out of reach and the other one waving their stolen item to mock them for good measure. if wants the puck, then he takes the puck, and good luck getting it back. that we've mostly seen this from the slovak winger in professional settings this season just makes it that much more impressive. it's one thing to ward off physically undeveloped 17-year-olds in the whl; it's another thing entirely to swat away seasoned veterans in top men's league like they're mosquitos. brings a lot more to the table than just brute force, though. what makes him a unique prospect is how he turns those extended possession sequences into legitimate scoring chances. sometimes, it's a drive to the net-front for a chance of his own; other times, he'll handle his way into a passing opportunity and send the puck to his linemate to finish the job. where often leaves our staff wanting, though, is with his footspeed. the deficiencies are many, whether it's his posture, a heel kick out of recoveries, or a hop in his crossovers. he just cannot separate from opponents in space. to credit, we've already seen considerable growth from him as a skater this season, and there isn't any reason to believe he won't continue on that path as he rises up the ranks. it's probably an about-average tool at this point, which is a pretty big step up on where he started the season. don't be surprised if you hear name called as high as first overall in july's draft. players with his skill set are so rare. teams guard these players closely when they have them, and they move heaven and earth to find one when they don't. i mean, who wouldn't want a high-scoring top-six winger with a physical side? that's the upside with . dominated the international scene this past season, solidifying himself as my number two pick in the nhl draft this season. over the last year, played at the world juniors, the olympics, and world championships. his most dominating performance came at the olympics, where he led to a bronze medal and received mvp honors, a remarkable feat for an 18-year-old. is an intriguing prospect with an absurd overall physical and offensive package. at 6'4 and well over 200 pounds, is strong on the puck and uses his frame in a physical manner. yet, he has incredible hands and can make plays in-tight like few players can in this draft class. this is what makes so unique. he's a player with size and high skill that can dominate down-low or in open ice. while he dominated at the international level against men, struggled to put up points at times in top league. however, scouts aren't too concerned and believe higher numbers will come with time. may make the jump to the nhl immediately next season due to his physical maturity but will likely need at least another season of to further his offensive game. drives offense from the wing. he's a massive winger who has made a strong case to challenge for first overall. he can play at a high pace and has impressive agility for someone his size. using strong strides with his long legs, he can generate a lot of speed with just a few steps. while he lacks that extra gear to create separation, it's how well he protects the puck when challenged that makes up for any speed or burst concerns that may follow him. with strong stickhandling and the ability to move the puck in tight, he can control possession as well as the pace of the play. on-ice awareness in all three zones is another aspect of his game where he excels, making the extra effort on backchecks as well as going down low to support his blueliners when defending. he also uses his stick very well, taking advantage of his long reach to win battles to loose pucks. he has such immense offensive potential that it can be frustrating to see him pass up great scoring opportunities for himself and teammates. learning how to take what's given to him and remove moments of tunnel-vision from his game is something he will need to improve on to be a more consistent impact player when attacking. his unique blend of size and skill could make him a dominant player at the nhl level. he is the ultimate swing on upside while still having a solid floor. if he becomes the player he is capable of developing into, there is little doubt will be a force at the nhl for the next 15 years and people will wonder why there was even a debate about the top pick in this class. if he doesn't hit his that potential, he's still got potential as a top-six scoring winger who impacts the game regularly.\", \" is a very well-rounded who has no noticeable flaw in his skill set but there also isn't a ton about his game that gets you overly excited. he can skate and handle the puck like an nhler. game translates because of his compete and direct style of play. he takes pucks to the net and plays quick. he can pull up to make a tough pass but can take pucks to the interior too. he has the high-end vision to run a power-play unit and make tough plays with pace. his shot is very good, showing the ability to pick corners from long range consistently. off the puck he's competitive and responsible, showing maturity beyond his years. he projects as a no. 1 in the nhl due to his all-around play with a chance to be a star, but probably won't be an elite scorer in the league. still my top prospect in this class (though no longer in a tier of his own), is an athletic kid who boasts a wide gait and boxy shoulders that balance him over pucks. those physical tools are complemented by a lethal wrist shot release (which he can get off from several stances and pops off of his blade's heel or toe) and quick hands in traffic that allow him to take pucks off of the wall and create scoring chances to the interior. he's also one of the most diligent three-zone players in the draft, with a powerful stride that helps him push play up ice (though its power is more evident the length of the sheet than from a standstill into a quick foot race) when he's done providing support low in his zone or above the puck. while his shot is his biggest weapon inside the offensive zone (i actually think he was owed a few more goals than his 35 on 290 shots this season gave him), he played a much more creative game inside the offensive zone into the second half. he blends versatile skill with a heady, detailed game that will allow him to drive a line and be relied upon in all situations down the middle at the next level. there are times when scouts want to see him play with a little more fire and feistiness to really take over games and impose himself on the forecheck/in battles more, but his eye for detail off the puck puts him in a supportive role more often than an active chase and that's fine. i would have liked to see him hang onto the puck a little more this season, but he played with talented linemates where his ability to play into their strengths and execute off of give-and-go's worked. he's got pro tools and projects as an impactful top-six centre. he may not become a point per game player, but i see 30-goal, 70-point upside at a premium position. the complicated and essential question to answer is, “what does this all mean looking forward?” there is no doubt that attention to detail style of play combined with intelligent and quick decision-making is the start of a valuable foundation for him to continue to build on as he progresses into the nhl. however, that package of skills and habits will only take him so far when he advances to play against more intelligent and faster competition. in the he infrequently shows off his high octane offense, which reasonably has caused doubts about his offensive ceiling. at this moment in time, it is likely premature to value these concerns heavily enough to knock him off the top spot in the 2022 draft class. however, if these question marks around his offensive contributions still exist in july, it would be warranted to consider how his game will project to the nhl and if that assessment leads to a consensus 1st overall player. the expectation for (or any prospect for that matter) should not be to save the franchise or to be a generational talent, as he will most likely disappoint. a reasonable projection for would be in the range of a low-end 1st line to a high-end 2nd line which to some may sound pessimistic in the context of 1st overall. still, it is an essential piece to have on a successful team and is not easy to acquire. in addition, will likely benefit from being paired with skilled wingers, who can allow to focus on pushing play up ice to the offensive zone where his linemates can flourish. finally, with his shot, he will surely be a continual threat on the powerplay, where he has consistently shown he can score from many angles and distances. with high-end hockey sense highlighted by his tremendous offensive intelligence, can make a lot of plays. while he lacks a dynamic puck skills in terms of handling, he has one of the better shots in this draft class with a quick, deceptive release. though he has often been compared to patrice bergeron, i think is a good two-way player but not to the degree where that is an especially apt comparison. he does a lot of the things you hope a does in terms of puck possession, making plays and contributing in his own end. the offensive elements of his game are the standout traits for me. my biggest concern with to date is the general lack of progression in his game year over year, with the full knowledge that he missed an entire season. while i think he should be graded on a curve as a result, it is harder to know just how much that lost season impacted his long-term projection. hockey sense is a separating factor from most of his peers and he clearly has that competitive drive that allow him to win a lot of battles. in the end, i think does just about everything well. his hockey sense and his shot are high-end-to-elite traits, he has terrific vision and spots plays with the best of them, but the lack of a dynamic element to his play is what gives me the most concern aside from his progression. i have been waiting all season to see a player who looks like he should be a no. 1 nhl draft pick, and i did not feel his ceiling is at the same level as slafkovsky's or cooley's. is the safer pick of all three in that i think he has the highest floor of any of those three players and possesses an nhl-ready game. i don't think he's done developing and there's plenty of potential for him to still reach for, but my concern is that he's closer to plateauing than the other two players. i'm not convinced that's true yet, but it's definitely in the back of my mind as i rank these players because, to me, all three are very close. the top player from the class held this position from tip to tail on my board. is a highly intelligent pivot who boasts a heavy release, deft passing touch, and the wherewithal to package those tools into their situations. he lacks the separation speed you'd like from an elite centre but makes up for it with his nuanced understanding of the game. can connect plays, drive action, dish it or finish it, and thwart plays against. he's going to be good. in a draft year shaped by substantial depth rather than overwhelming star power, it's almost fitting that the least exciting option at first overall is the one. better still, the one, if you'll allow us that clunky pun. that would end up in that spot may have seemed like a foregone conclusion a year or two ago, but the gap year that the lost 2020-21 season forced on (and countless others) him slow out of the gates. two months of good-not-great production was enough to make the question of the first overall pick an open one for many in the industry, with new answers emerging first in the form of logan cooley and then later in juraj slafkovsky. in time, though, reminded the scouting community of his quality, ending many (not all…) of those conversa-tions emphatically. the 1.15 point per game clip that he ran through october and november turned to 1.36 by the end of the calendar year. from there, it just kept climbing until had amassed 94 points in 63 regular season contests by the season's end, good for a 1.49 point per game clip. it's still the lowest draft year points per game mark of any first overall pick out of the this side of rick nash in 2001, but a more selective and perhaps representative sample from december onward gets to 1.63 points per game. that's more than nico hischier in 2017 and ryan nugent-hopkins in 2011, for context. shifting our focus from the question of how many to how, is this draft's premier play-connector; an on-ice ad-ministrator through which his team's offensive and defensive sequences flow. by constantly surveying the ice, maintains a mental map of his surroundings with a downright topographical level of detail. he knows the position of his teammates like they're a long-established fact rather than a dynamic, changing set of options on the playing field, and moves the puck to them with a matching level of confidence. look-off passes, the give-and-go, one- and two-touch passes, reach-adjusted passing -- mastered every one of these tools en route to becoming one of the game's best playmaking centres not currently in the nhl. his cunning as a distributor with a high-level shot (even if it's a little peculiar from a mechanical perspective) that's especially potent off of the pass and some of the best hands in the class. he's the complete package offensively. we would, of course, feel better about shot if he used it a little more judiciously rather than settling for low percentage attempts under pressure, but that's a minor quibble for as scalable an offensive toolkit as you'll find in this class. then there's his play in the defensive zone. de-fensive reads, angles, and support play are beyond reproach. there may not be an art ross in his future, but the frank j. selke seems well within reach. we don't make the patrice bergeron comparison lightly, after all. all of these factors combined to make the consensus first overall pick for the elite prospects scouting staff. you just don't come across many players this polished or this well-rounded at 18-years-old, and that's too much to pass up on if you're holding the first pick in this july's draft. has been on the radar of scouts for a long-time now. he received exceptional status to play in the as a 15-year-old and put up amazing numbers at the time. unfortunately, he did not play last season because of covid restrictions in ontario. despite the missed time, captained to an under-18 gold medal in 2021 and put up 94 points this season. is potentially the most well-rounded player in the draft. he does everything really well, in all zones. he plays a mature game and has strong leadership qualities. originally looked like more of a goal-scorer in his 15-year-old season, but he has rounded out his playmaking as well in the past year or so. he finished top 10 in scoring. biggest asset is his shot and his ability to generate scoring opportunities. he can drive a line on his own, making him a potential number one at the nhl level. some scouts question his offensive ceiling for a potential number one pick, but he could easily put up 30 goals and 70 points at the nhl level with regularity. should jump into full-time nhl duty next season. is an elite two-way with incredible offensive ability. it's not often you watch players where you really struggle to find too many weaknesses at this level, but he has been that way for a while now. his intelligence on the ice is second-to-none and on full display in his playmaking, his lane pursuit, and his awareness. adds a pro caliber shot to his toolbox that will allow him to be a multi-dimensional offensive threat at the nhl level, sooner rather than later. he's so mature in his defensive game and because of that, he is just as effective defensively as he is offensively. he knows the nuances of playing the position and can properly support his defenders on every play. he never seems to be caught out of position and remains engaged and effective on both the rush and the cycle. the biggest issue with game this season was his inconsistent offensive production. through the christmas break, he wasn't producing the way a top-tier draft eligible prospect would in the but he put most of the questions about his production to rest with his amazing second-half explosion. there was an odd amount of discourse surrounding stature as the top player in this class given the way his season went. while it wasn't completely unwarranted, it is important to remember he missed essentially the entire 2020-21 season due to the pandemic, and had insane expectations coming off his rookie season. the way rebounded in the latter half of the year showed enough to remind people why he can be a future top-line in the nhl for years to come and why he is considered the odds-on favorite to be the number one selection in the nhl draft.\", \" is a dynamic player. when he has the puck on his stick you instantly notice him because of his high-end speed, skill and offensive iq. he can make highly creative dekes and passes at full speed. the pace of his game is why i think he will be a top nhl player. he takes pucks up the ice and to the net often. lacks size, but he plays hard. he can drive play at even strength while also having the vision and shot to be a power-play threat running a unit from the walls. he projects as a first-line forward; as a he would be a low-end first-line in the nhl. is a beautiful, flowing skater capable of beating defenders off the mark, circling the zone to get defenders watching him with the puck, and manipulate them with his footwork and maneuverability in tight spaces. he's got an uncanny ability to side-step and hop around oncoming players at speed. he's got a great sixth sense for timing and spacing around the offensive zone which frees him to accept passes or jumps him onto rebounds. he regularly flashes skill to the inside, slicing to the middle and pulling pucks through or around defenders. he's also a swiss army knife player who combines nhl speed and skill with a working attitude to push the pace, make plays, win races, stay involved, and get onto the ice in all situations. i love his tempo and feel for the game out there. his touch with the puck and hands both get high grades, his skating (particularly his change of pace) and energy level are both differentiators, and those things make for a pretty compelling package. you won't find a scout who doesn't like him, either. the transition game into the offensive zone. the vision off the wall. he can play interior or exterior. he's incredibly crafty in control. he can stickhandle in a phone booth. he creates problems for defencemen attacking on angles and shifting at speed. he also has a scrappiness to his game that keeps him in the fight. is for sure one of the more well-rounded and talented players in the entire 2022 draft class. he certainly projects as a top-6 forward, who could play anywhere in the lineup and be able to contribute without question. based off his play to start the season, it wouldn't come as a shock to see name come off the draft board within the first 5 picks, possibly even inside the top 3. plenty of teams will fawn over his abilities and depending on the situation he's drafted into, that team may be able to sway his decision to forego the next season, and head straight to the nhl. over the last several months, i have constantly debated who was no. 1. i had at no. 1 at the mid-term and i waffled over the next few months when wright started picking up his play. that also coincided with dipping in production and playing a more complicated game than he needed to. but the reasons i had no. 1 then are the reasons i have him there now. this is not a great draft at the top, but he's this draft's most dynamic player with the greatest potential for explosive offense. with high-end speed and the ability to make high-level plays on the rush, he does things most players in this class cannot. while he played with a brilliant supporting class at the this year – as you'll see down this list at the number of u.s. u18s in the first-round range – was always heads above the rest in terms of the plays he could create and the way he dictated shifts throughout the season. i believe he can be a no. 1 at the next level if he continues on his current trend line. he competes on every inch of the ice and can play a strong north-south game despite his ability to stretch defenses with his east-west skill. as i've watched the playoffs this year, my thinking shifted even more. the best teams have fast, dynamic forwards that are constantly keeping defenders on their heels. they don't cede possession without trying all of their other options. processes the game as fast as anyone in this draft and his ability to spot plays in transition is a major separator from the field. he has vision, threads passes well and can get behind defenders to give himself better looks at the net. is headed to the university of next year, which has been a solid training ground the last few years for players on the nhl track. i think he's probably a one-and-done in player and would be ready to make an nhl impact by 2023-24. in the end it's not about when he arrives, but how he progresses. i think he has the highest ceiling of any of the top three nhl prospects and plays the style most consistent with the modern nhl's. speed is a premium and he brings it in spades, with the ability to finish plays as well as anyone else in this class. if everything goes for him, and that's always a big if with any player's i think could be a superstar in the league. a highly creative, speed-driven pivot who brings a lot of pop down the middle. really showed his ability to activate and make plays off of the rush this season. very exciting hands to go with the quick feet. should be able to play a comprehensive, all-situations role in a few years. you won't find a more singularly-gifted puckhandler in this year's draft than . he's a human highlight-reel, swashbuckling his way through defenders like a hot knife cuts through butter. it all starts with the first touch, and has the best one in this class. the way he seamlessly blends pass recep-tions at speed into his first move without breaking stride is almost unfair. whether it's catching a difficult pass on the backhand, forehand, or inside a crossover -- making it happen. it's like watching a wide receiver with an unlimited catch radius. the way keeps his top hand pushed out from his body as a handler for the full range of motion, changes speeds and lanes through the neutral zone, and deceives with shoulder feints and look-offs -- this is pro-level stuff. you can rest assured that this part of his game is going to scale up to the nhl in at least some capacity. more than just an and1 mixtape on skates, though. he's one of the rare triple-threat scorers in this draft. all of those moves serve a purpose, whether it's drawing in defenders to create space elsewhere, opening up passing lanes, or getting into better shooting positions. think of it as controlled chaos. there -- the vision and anticipation to see developing plays, the cunning and deception to make them more easily attain-able, and the touch as a distributor to connect. our only real concern with projection is the ab-sence of any high-end tools outside of his skill as a handler. even then, tendency to play beyond his considerable skill level often turns his greatest asset into a liability. there were just far too many turnovers and low percentage plays in his draft year for our liking. on the one hand, you want to see a gifted player like test the limits of their game every time he takes the ice; on the other, a little discretion would go a long way. where managed to allay our concerns on that front was with his growth this season as an off-the-puck scoring threat. it showed our staff that there was a way for him to stay involved in his team's offence even when he's not driving play personally. the proof of concept that he can produce in a more selfless fashion. supports the play well, consistently displays an understanding of the rotation habits of everyone on the ice, perfectly times his movements into space, and prepares his body and footwork to send one- and two-touch attempts on goal as the puck finds him. still, it wouldn't hurt to add another gear as a skater. he's a bit top-heavy, lacks explosive lateral mobility, and sometimes struggles to access his outside edges. he's about an nhl average skater as currently constructed, and it's definitely a part of his game that could stand to improve. overall, though, there's no disputing no. 1 centre upside, even if it's hardly a foregone conclusion that he gets there at the height of his career. just having that within his range of realistic outcomes counts for a lot. a small, speedy dominated the and solidified himself in my top five as the season progressed. consistently took over games using his excellent speed and instincts. more of a playmaker than a goal-scorer, can drive a line on his own. he can run a powerplay and isn't afraid to put himself in harm's way to make a play. he is also a relentless forechecker and possession driver. plays with high tempo and energy. not only is he a great skater, but he is also incredibly agile and uses this ability to elude defenders. he is also excellent defensively and is rarely a liability in his own zone. makes excellent transition plays and finds ways to utilize all his teammates on a regular basis. he has shown he can drive a line and there is a dynamic quality to his game. is a likely top-five pick and could go as high as number two. he is slated to attend the university of next season. is likely one year away from nhl duty. juraj slafkovsky drives offense from the wing. he's a massive winger who has made a strong case to challenge for first overall. he can play at a high pace and has impressive agility for someone his size. using strong strides with his long legs, he can generate a lot of speed with just a few steps. while he lacks that extra gear to create separation, it's how well he protects the puck when challenged that makes up for any speed or burst concerns that may follow him. with strong stickhandling and the ability to move the puck in tight, he can control possession as well as the pace of the play. on-ice awareness in all three zones is another aspect of his game where he excels, making the extra effort on backchecks as well as going down low to support his blueliners when defending. he also uses his stick very well, taking advantage of his long reach to win battles to loose pucks. he has such immense offensive potential that it can be frustrating to see him pass up great scoring opportunities for himself and teammates. learning how to take what's given to him and remove moments of tunnel-vision from his game is something he will need to improve on to be a more consistent impact player when attacking. his unique blend of size and skill could make him a dominant player at the nhl level. he is the ultimate swing on upside while still having a solid floor. if he becomes the player he is capable of developing into, there is little doubt slafkovsky will be a force at the nhl for the next 15 years and people will wonder why there was even a debate about the top pick in this class. if he doesn't hit his that potential, he's still got potential as a top-six scoring winger who impacts the game regularly.\", \" is a very talented scorer. he stands out with the puck on his stick and can attack in a variety of ways. is an excellent passer, who can run a power play, hit seams at a high rate and make tough plays under duress. he has very good hands to maneuver in traffic. he has good speed to beat opponents wide and he has a shot that can score from range. lacks ideal nhl size, but he competes hard and wins a surprising amount of battles for his size. he doesn't have incredible speed and skill for a 5-foot-9 player so he may be moved to the wing in the nhl, but regardless i see him as a very good top-six forward. there isn't a player in this draft class whose game thrills more than does when he's firing. inside the offensive zone, he's lethal. he's got extremely quick side-to-side hands that help him beat defenders one-on-one off of cuts. he's got an nhl shot (which he can place with pinpoint accuracy from a bad angle and rip by a goalie clean from a distance, but he also loves to change up and slide five-hole). he does an excellent job creating plays to the slot out of traffic. he's a burning skater with explosiveness that allows him to win races, separate in transition, and put defenders onto their heels, or dash through holes in coverage to the net (or draw a penalty). he's a soft small-area passer who blends deception into his movements. and then on top of those things, he's got a bit of a chip on his shoulder. he's always engaged, he keeps his feet moving, he plays with a ton of energy, and he finishes all of his checks and knocks his fair share of players over despite being on the smaller side). he's also sturdier on his feet than his frame might suggest, which helps him play between checks. i see a dynamic, high-tempo, top-six, goal-creating package. he's an exciting talent in a draft that's short on them, with clear pp1 upside due to his shooting-skill package and clear five-on-five upside because of his skating and motor. even in games where the points don't fall, he's almost always dangerous and threatening on the ice — and he's seldom going to leave you wanting more. after suffering a shoulder injury in the playoffs, is also now out of his sling, which is positive news for the summer ahead. has star potential at the nhl level, especially if he can continue on the developmental track that he is currently on. i've talked about deceptiveness and ability to manipulate defenses, and that will lead him to nhl success. has the potential to dazzle audiences on a nightly basis with his outstanding hockey sense, pace, and puck handling skills. could easily put up 50 assists in a season on a regular basis in his prime given how well he sees the ice and how easily he can find teammates with his passes. i'd argue that 70+ point seasons are well within the realm of possibility for if he can continue along this path. after watching closely for a while now, i feel that it's safe to say that he has a high probability of nhl success. will be able to keep pace on any line and slow down or speed up his game to adjust to the play style of his linemates. his timing on passes and positioning makes him one of the stronger offensive players in this draft class and a potent scorer and playmaker whenever he's on the ice. some of my biggest questions with game involve how he'll adjust to the nhl. hasn't faced the strongest competition at times this season, and i feel that he can be a little inconsistent against the better teams. typically, those are the teams that give him less space to work with, so i'm curious to see how is able to adapt. he won't be given a lot of time or space to work with in the nhl, so he'll have to rely on his quick decision making and hockey sense in order to create high danger chances. another question i have is whether or not can take his game from great to elite. there's no argument in my mind that has looked great for the vast majority of the season. i've seen flashes of elite play, but not on a consistent enough basis for me to believe that he could be a top ten, maybe even top five, in the nhl. now, is playing like a potential top ten pick with the potential to put up 50, perhaps even 60 points at the nhl level. i've seen a much higher gear to his game where he looks flat out dominant and a player capable of becoming a 70, even 80-point player at the nhl level. that's when he looks like a true second overall pick that could contend for the first overall spot. now, however, i'm waiting on to play at an elite level consistently. obviously, teams will worry about size and average defensive play. i don't see it as an issue moving forward. is a deceptive skater and can avoid physical contact in all three zones, and his defensive play isn't bad for a player his size. a player's size doesn't determine a player's skill level, so passing on would be a huge mistake. teams passing on a potential franchise cornerstone would be a bold strategy, and not one i'd recommend. top centers, especially handed ones, don't come around every day. at the end of the day, it's going to come down to how is developed and how he handles the transition to the pros. i believe that he can play in the nhl as early as next season given his dynamic nature in the offensive zone and adequate defensive zone play. should be able to thrive in the modern nhl thanks to his speed and creativity. the inaugural and totally real dwayne “the rock” johnson “most electrifying player” award goes to for his exciting play. game is all about drive, it's about power. he stays hungry and he devours the competition. i'm not sure about samoan in his veins, but i do know this: he's a damn good prospect and someone i'd be clamoring to draft if i were a team with a lottery pick. a top-10 scorer in the this season, did nothing to dissuade anyone on his offensive talent. if there's one thing i thought was even better this season for , it's that he just battles. he didn't play like a 5-foot-9 player. there's an aggressiveness and a desire to physically engage with the opposition. he's going to have to get stronger to be more effective at that, but most of his other tools are high end. he's a good skater with quick hands and an ability to drive the net. his ability to distribute pucks quickly, accurately and decisively makes him stand out in the playmaking department. the size is a factor in terms of if he can play at the top level or not and that may ultimately skew his projection, but it's hard to ignore the total skills he has. it's also hard to argue with 90 points in 65 games. this is a very competitive range of the draft, which is why it's tougher to project against some of the others. a point-producing machine in the this past season, leans on his skating, deft passing skills, and offensive mind. his reliance on the man-advantage was well documented, but he did lead all 2022-eligible skaters in primary, even-strength points-per-game. the inability to get the inside, coupled with his stature and just average iq is what keeps him a bit lower than his pure skill and stats would indicate. few players in the 2022 nhl draft have spent more time in the scouting community's sights than winnipeg ice winger . a rejected bid for exceptional status, the first overall pick in the draft, a trip to the during the pandemic year, and back to a 90-point season with the best regular season side... he's done his part to command their attention. game is one of pure, unrelenting skill. he's built to score, whether that's depositing the puck in the back of the net himself or setting his teammate up for the honour. the result of this skill last season was a 1.38 point per game clip, good for the highest rate among first-time draft-eligible skaters in the all of his scoring tools rate as above-average, but the foun-dation on which his game rests is his skating stride. heavy crossover use and constant motion propel his high-pace, constantly attacking approach, making his every puck touch an opportunity to create a scoring chance. then stacks a brilliant first touch, handling skill, an in-stride wrister, and one- and two-touch passing ability on top of that skating and pace combo to ensure many of those chances aren't for naught. having the runway to take advantage of those tools helps, but proven a pretty robust off-puck scoring threat during sustained offensive zone sequences, too. his willing-ness to get inside and play between checks allows him to seek out soft ice, and his finishing skill takes over from there. of course, if one were to nitpick, they would point out that it took until about the midway point in the season for to consistently display any of these tools in a meaningful fashion. even then, this year's tape represented a bit of a letdown relative to the lofty standards his draft-minus-one film with the dubuque fighting saints established. look through his game reports, and you'll find that he went from a can't-miss top-five player to one barely clinging to the back end of our top-10. and of all the alarming trends to reveal themselves from draft year, his deference was probably the one that most concerned our staff. he was, frankly, gun shy at times, it seemed. he would often panic under pressure where others would attract opponents to create space elsewhere. simply put: didn't create advantages for his team the way that a prospect with top-line nhl aspirations should at this stage in their however, the tools remain exceptional, and we saw enough flashes of high-level thinking to still feel confident with in the back half of the top 10 in this year's draft. to see him halve that number with his actual draft position wouldn't surprise us either. it's just that we've come to see him as more of a top-six prospect than a top-line one, and the result is his no. 10 billing in the elite prospects 2022 nhl draft guide. i've been high on all season and my impressions of him have not changed. a small, diminutive is a well-rounded offensive-minded player. he plays with high pace and tenacity as well, making him a formidable opponent. last season, dominated the and this season, he put up 90 points in the showing an ability to put up points at high levels of competition. has a reputation for anticipating the play well and making plays at top speed with ease. uses his edges well in-tight. he projects more as a playmaker at the nhl level and can be used in all offensive situations. he appears to have the ability to drive a line and make those around him better. biggest question mark is his size. there are few nhl centers below 5'11. however, his skill and speed significantly make up for his lack of height. he is also strong on his skates and has excellent balance. his speed and hockey sense can get him out of sticky situations quickly. his offensive versatility also means he could potentially play the wing, though most teams that draft him would likely prefer him to be a will likely need another season or two of seasoning and strength building to be nhl-ready. he projects as a top-six forward at the nhl level. is an extremely intelligent playmaking forward who plays the game at a very high pace and was a very effective player in all situations this year, whether it was five-on-five, the power play, or even the penalty kill. he has the ability to play the game effectively at whatever pace is dictated. if the game is wide open, he's able to use his explosiveness to blow by blueliners the second they make a mistake trying to defend him, and if the game is more controlled he has a firm grasp on his defensive assignments and won't lose his positioning. some players are able to move quickly when they have the puck but their hands aren't able to keep up. that's not the case with him. he's able to handle the puck extremely well at full speed and can make defenders look silly when he's one-on-one. he was lethal this year on the power play, and he's so deceptive when he has the puck he keeps opponents guessing what he's going to do. he displays a high compete-level, he's a hound on the forecheck and despite his size is not afraid of any puck battle. his defensive game also doesn't get enough credit. he's got good defensive positioning and shows good heart while killing penalties. he also has the ability to use his high hockey iq to read the play and cause turnovers. the big knock on him really comes down to his size. he can sometimes get bottled up when he's going on a rush and get pushed off the puck, and although he is a hound on the puck he can't really use his body to separate anyone from the puck. despite the physical limitations, a team will undoubtedly select early in the draft with the hopes he's able to develop into a top-six playmaking\", \" is a well-rounded winger who has almost every nhl attribute you want other than the size at 5-foot-11. he brings skill and speed to his shifts, showing the ability to carry the puck up ice and create chances for himself and his teammates. can pass the puck very well, but his shot is his main weapon. you can set him up from mid-range and he can finish. he lacks size, but he plays hard, showing no fear of engaging physically to win back pucks or to take a hit to make a play. he projects as a very good top-six winger who will score a lot of goals in the nhl. after exploding out of the gate to lead in scoring through the first third of the season, production hit a bit of a wall in the second half with jyp, a bottom-0f-the-table team. some of that had to do with poor puck luck (his shot generation remained high), some of it was a reduction in his ice time, and some of it was just the reality that he wasn't going to be a point-per-game producer in his draft year. he helped assuage some doubts with a six-goal, eight-point u18 worlds performance (though i thought he came and went in the middle of group play, he was excellent in the medal round). remains one of the more gifted individual creators in this draft class. he's a slick, play-creating winger who excels in possession, carves teams up through coverage to take the play from the flanks to the interior, and possesses quick, light hands. those tools enable him to take advantage of his dangerous wrister, which he can get off quickly from a variety of stances and at a variety of tempos. on the puck, he's agile through cuts and changes of direction and plays an intentional, attacking style. off of the puck, he also plays with a lot of energy and doesn't shy away from the physical side of the game, which has endeared him to coaches despite his 5-foot-11 frame. i'd like to see him slow down and utilize his linemates a little better than he does as he's actually a heady playmaker, but part of what makes him so exciting is his insistence on creating his own looks (even if that comes with some forcing it) with that shot of his. he really can sling it, with a wrister and one-timer that both pop. second line winger, who can be a threat on a nhl power-play. a high-scoring winger who put up impressive numbers over the first half of the season before being slowed by injuries in the second half, has a lot of the tools you're looking for in a top-six winger. he has one of the best overall shots among the top tier of this draft class and has higher-end puck skills that allow him to beat defenders 1-on-1 and create better scoring opportunities for himself. at the u18 worlds, he took over games at times in leading to a bronze medal. he's defensively responsible for his position and never quits on pucks. his skating is pretty good as he's shown some ability to separate, but i don't think he's a natural burner. he's best in the offensive half of the ice and can be a high-end scorer at the next level with a top-six ceiling. if everything goes you could make a case that he has top-line scorer potential. a high-end finisher with a top-notch one-timer, was filling the nets early, but an injury threw a wrench in things and he never refound his shine. he's going to need to simplify things and find chemistry with a space maker and distributor to max out. nothing about profile coming into the season really screamed top-five pick, but that's exactly where he found himself on most public boards by december. a hot start to the scouting season at the hlinka-gretzky cup and a productive first few months with jyp jyvaskyla in play will do that for a player. by the time team called on him for the world juniors, had amassed 18 points in 23 games, good for a 0.78 point-per-game clip -- the fourth-highest scoring rate among first-time draft-eligible skaters in the last 20 years over a full season. the shoulder injury that the 5-foot-11 winger sustained in the weeks leading up to the world juniors eventually caught up with him, though, and the production started to suffer as a result. it took 10 games to find the scoresheet upon rejoining jyp in january, and he only managed six points total in the final 16 games of the season. neither segment of season is especially indicative of the player's quality, though. he wasn't quite as exceptional as his gaudy point totals might've suggested through the first few months of the season and nowhere near as inept as his muted point totals in the back nine of the season would have his detractors believe. however boring this may sound, true talent level probably lies somewhere between those two blocks of his season. you can even see as much reflected in the statistics. there were signs in the underlying data that elite prospects dir. of european scouting lassi alanen tracked that the jyp winger benefited from percentage inflated totals, but you would also expect someone with so potent a shot and soft hands to outperform their expected shooting percentage. eventually, regression occurred, and we were with a clearer picture of the player in question. now, about that shot. it's easily one of the best in the class. there are only four players in our database of hundreds for this year's draft with a 7-grade as a shooter, and is one of them. he's one of a select few players who can credibly threaten as a shooter from intermediate-to-long range consistently. is most comfortable firing the outside-leg wrister, pushing his hands in front of his body, generating the desired downforce, shifting his weight appropriately, and snapping the puck on goal. that our partners at instat had him down for starts to make a whole lot of sense when you see the way he slings the puck out there. it's not enough to just have shooting skills, though. the game's best goal scorers all find ways to stack the odds in their favour with crafty off-puck movement. and gets it. he anticipates pockets of space well, arrives as the puck does for shooting op-portunities, positions his body in the best way to catch and release each pass, and generally seems well-connected to his teammates during sustained offensive zone possessions. he's always involved in the play. you'll never mistake for a retrieval artist either, but he's shown some forechecking skill and physicality across many of our viewings, too. he doesn't need someone else to do the dirty work to make things happen. and as someone with an above-average skating stride, hands, and puck protection mechanics -- can make something happen every time he secures possession. the problem with , of course, is that he's often a little too aware of his handling and shooting ability. his skills are closer to average than high-end, but he sometimes plays with the confidence of connor mcdavid anyway. the result is a lot of low percentage shots, turnovers, and missed passing opportunities. he can be downright infuriating to watch at times, more so than just about any other player in the top half of our first round. unlocking the best in at the next level should be a pretty straightforward exercise, and there's a nice package of skills there to work with. add a gear to his skating stride, introduce more manipulative patterns in his small-area game, and you're looking at a low-end top-six shoot-first forward. if nothing else, a long and fruitful career as a middle-six power play specialist is likely in the cards. burst onto the scene this season in scoring at a torrid pace and looking to smash some records in the country's top league for teenagers. however, his game cooled off significantly in the second half of the season and he struggled at times to create offense. regardless, 15 goals for a draft-eligible player competing against men is no small feat. goal-scoring is clearly greatest strength. he has an excellent wrist shot and loves to set up for one-timers on the powerplay. is a volume shooter and finds ways to get to open ice to create scoring opportunities with ease. he doesn't have high top speed, but he has an excellent first step which gives him time and space in the offensive zone. will need to work on his overall consistency and will likely need at least two years of extra before being nhl-ready. he projects as a top-six winger at the nhl level. is a talented forward who shot up draft boards to his incredible hot streak to start the season. the first thing is evidently clear about his game is his stellar puck skills. his hands set him up for success and has even seen him embarrass professional competition at select moments. additionally, he possesses what most would argue is a top-5 shot in the draft class. he is also a fine skater. he can generate speed quickly, which allows him to be effective at transitioning from defense to offense. even better, his forechecking is always a quality trait due to his stellar acceleration and strong edges. these tools also help in the defensive zone, allowing him to close in on opposing defensemen quickly, pressuring them into mistakes. in the defensive zone, his positioning is fairly adequate but his inactive stick in these instances does allow for plays to be made at the blue line. the other concern for him is how effective his offense is outside of his sniping ability. he is sometimes seem primarily as a perimeter player who benefited from his strong shot and some lucky bounces to inflate his scoring. he's not particularly strong, either, so driving towards the net is not something he does at a frequent enough pace. however, a lack of strength should be expected for a draft-eligible playing in a top professional european league. given time and the this is an element that shouldn't have long-term concern, and his strong skating and elite shot make a solid prospect worthy of his draft position. could, too, outperform that draft slot should he develop a more well-rounded offensive attack to compliment his shot and stay as an average defensive talent.\"]\n",
            "labels first 5: [15, 23, 1, 3, 17]\n",
            "draft_position first 5: [1, 4, 3, 9, 17]\n",
            "player_position first 5: [1, 0, 0, 0, 2]\n"
          ]
        }
      ],
      "source": [
        "corpus, labels, draft_position, player_position, player_name, team = [], [], [], [], [], []\n",
        "\n",
        "scouting_reports = [\n",
        "    'Description - Corey Pronman',\n",
        "    'Description - Scott Wheeler',\n",
        "    'Description - Smaht Scouting',\n",
        "    'Description - ESPN (Chris Peters)',\n",
        "    'Description - EP Rinkside', \n",
        "    'Description - EP Rinkside Part 2',\n",
        "    'Description - The Painted Lines',\n",
        "    'Description - FCHockey'\n",
        "]\n",
        "\n",
        "\n",
        "# remove references to leagues, teams, and nationalities\n",
        "hockey_words = [\"usntdp\", \"ntdp\", \"development\", \"program\",\n",
        "                \"khl\", \"shl\", \"ushl\", \"ncaa\", \"ohl\", \"chl\", \"whl\", \"qmjhl\",\n",
        "                \"sweden\", \"russia\", \"usa\", \"canada\", \"ojhl\", \"finland\", \n",
        "                \"finnish\", \"swedish\", \"russian\", \"american\", \"wisconsin\",\n",
        "                \"michigan\", \"bc\", \"boston\", \"london\", \"bchl\", \"kelowna\",\n",
        "                \"liiga\", \n",
        "                \"portland\", \"minnesota\", \"ska\", \"frolunda\", \"sjhl\", \"college\",\n",
        "                \"center\", \"left\", \"right\", \"saginaw\", \"kelowna\", \"frolunda\",\n",
        "                \"slovakia\"]\n",
        "\n",
        "\n",
        "for index, row in data.iterrows():\n",
        "  text = \"\"\n",
        "  for report in scouting_reports:\n",
        "    # skip null reports\n",
        "    if pd.isnull(row[report]):\n",
        "      continue\n",
        "\n",
        "    scouting_report = row[report]\n",
        "    scouting_report = scouting_report.lower()\n",
        "    # remove player name from report\n",
        "    names = row['Name'].lower().split(' ')\n",
        "    for name in names:\n",
        "      scouting_report = scouting_report.replace(name + \"'s\", '')\n",
        "      scouting_report = scouting_report.replace(name, '')\n",
        "    \n",
        "    scouting_report = scouting_report.replace('\\n', ' ')\n",
        "    scouting_report = scouting_report.replace('\\r', '')\n",
        "\n",
        "    # remove hockey specific stop words\n",
        "    # TODO: there is an issue where a hockey word includes punctuation, it does not get removed\n",
        "    # for instance: \"usntdp,\" will not get removed\n",
        "    scouting_report = scouting_report.split()\n",
        "    scouting_report = [word for word in scouting_report if (word.replace(\"'s\", \"\").replace(\",\", \"\").replace(\".\", \"\") not in hockey_words)]\n",
        "    # join back on spaces\n",
        "    scouting_report = ' '.join(scouting_report)\n",
        "\n",
        "    text = text + \" \" + scouting_report\n",
        "\n",
        "  # append to dataset\n",
        "  corpus.append(text)\n",
        "  labels.append(row['Team'])\n",
        "  draft_position.append(row['Drafted'])\n",
        "  player_position.append(row['Position'])\n",
        "  player_name.append(row['Name'])\n",
        "  team.append(row['Team'])\n",
        "# sanity check values\n",
        "print(f\"length of corpus: {len(corpus)}\")\n",
        "print(f\"length of labels: {len(labels)}\")\n",
        "print(f\"length of draft_position: {len(draft_position)}\")\n",
        "print(f\"length of player_position: {len(player_position)}\")\n",
        "\n",
        "print(f\"corpus first 5: {corpus[0:5]}\")\n",
        "print(f\"labels first 5: {labels[0:5]}\")\n",
        "print(f\"draft_position first 5: {draft_position[0:5]}\")\n",
        "print(f\"player_position first 5: {player_position[0:5]}\")"
      ]
    },
    {
      "cell_type": "code",
      "execution_count": 24,
      "metadata": {},
      "outputs": [
        {
          "name": "stdout",
          "output_type": "stream",
          "text": [
            "Top-5 most similar pairs:\n",
            "Frank Nazar \t Noah Ostlund \t 0.9528\n",
            "David Goyette \t Philip Tomasino \t 0.9514\n",
            "David Goyette \t Jiri Kulich \t 0.9509\n",
            "Adrien Kempe \t Jiri Kulich \t 0.9503\n",
            "Brendan Perlini \t Adrien Kempe \t 0.9482\n",
            "Frank Nazar \t Jake Virtanen \t 0.9476\n",
            "Noah Ostlund \t Paul Bittner \t 0.9468\n",
            "Connor McMichael \t Chaz Lucius \t 0.9456\n",
            "Jake Debrusk \t Sebastian Aho \t 0.9454\n",
            "Nikita Chibrikov \t Rasmus Kupari \t 0.9448\n"
          ]
        }
      ],
      "source": [
        "# attempting to vectorize using bert embeddings\n",
        "from sentence_transformers import SentenceTransformer, util\n",
        "model = SentenceTransformer('all-mpnet-base-v2')\n",
        "X = pd.DataFrame(list(zip(team, player_name, draft_position, player_position, corpus)), columns=['team', 'player_name', 'draft_position', 'player_position', 'report'])\n",
        "X['embeddings'] = 0\n",
        "X['embeddings'] = X['embeddings'].astype('float64')\n",
        "Y = labels\n",
        "\n",
        "# create train test splits of data\n",
        "X_train, X_test, y_train, y_test = train_test_split(X, Y, test_size=0.33)\n",
        "\n",
        "#print(f\"Boqvist Report: {X_train[X_train['player_name'] == 'Jesper Boqvist']['report'].values[0]}\")\n",
        "sentences = X_train['report'].values\n",
        "players = X_train['player_name'].values\n",
        "#Encode all sentences\n",
        "embeddings = model.encode(sentences)\n",
        "\n",
        "#Compute cosine similarity between all pairs\n",
        "cos_sim = util.cos_sim(embeddings, embeddings)\n",
        "\n",
        "#Add all pairs to a list with their cosine similarity score\n",
        "all_sentence_combinations = []\n",
        "for i in range(len(cos_sim)-1):\n",
        "    for j in range(i+1, len(cos_sim)):\n",
        "        all_sentence_combinations.append([cos_sim[i][j], i, j])\n",
        "\n",
        "#Sort list by the highest cosine similarity score\n",
        "all_sentence_combinations = sorted(all_sentence_combinations, key=lambda x: x[0], reverse=True)\n",
        "\n",
        "print(\"Top-5 most similar pairs:\")\n",
        "for score, i, j in all_sentence_combinations[0:10]:\n",
        "    print(\"{} \\t {} \\t {:.4f}\".format(players[i], players[j], cos_sim[i][j]))"
      ]
    },
    {
      "attachments": {},
      "cell_type": "markdown",
      "metadata": {},
      "source": []
    },
    {
      "cell_type": "code",
      "execution_count": 25,
      "metadata": {},
      "outputs": [
        {
          "name": "stdout",
          "output_type": "stream",
          "text": [
            "pre-normalized embeddings: -0.00013565596600528806\n",
            "post-normalized embeddings: -0.00013565596600528806\n"
          ]
        },
        {
          "data": {
            "text/plain": [
              "113   -0.000136\n",
              "Name: embeddings, dtype: float64"
            ]
          },
          "execution_count": 25,
          "metadata": {},
          "output_type": "execute_result"
        }
      ],
      "source": [
        "VECTOR_SIZE = 100\n",
        "from sklearn.preprocessing import Normalizer\n",
        "\n",
        "print(f\"pre-normalized embeddings: {embeddings[0].mean(axis=0)}\")\n",
        "transformer = Normalizer().fit(embeddings)\n",
        "embeddings = transformer.transform(embeddings)\n",
        "print(f\"post-normalized embeddings: {embeddings[0].mean(axis=0)}\")\n",
        "def vectorize(sentence):\n",
        "    words = sentence.split()\n",
        "    words_vecs = [model.wv[word] for word in words if word in model.wv.index_to_key]\n",
        "    if len(words_vecs) == 0:\n",
        "        return np.zeros(VECTOR_SIZE)\n",
        "    words_vecs = np.array(words_vecs)\n",
        "    return words_vecs.mean(axis=0)\n",
        "\n",
        "converted_embeddings = [embedding.mean(axis=0, dtype=np.float64) for embedding in embeddings]\n",
        "X_train['embeddings'] = [embedding.mean(axis=0, dtype=np.float64) for embedding in embeddings]\n",
        "#X_test['report'] = np.array([vectorize(sentence) for sentence in X_test['report'].values])\n",
        "\n",
        "X_train['embeddings'].head(1)"
      ]
    },
    {
      "attachments": {},
      "cell_type": "markdown",
      "metadata": {
        "id": "gO_ft5BGwHM6"
      },
      "source": [
        "Exploring Kmeans now for unsupervised learning"
      ]
    },
    {
      "cell_type": "code",
      "execution_count": 26,
      "metadata": {
        "colab": {
          "base_uri": "https://localhost:8080/",
          "height": 478
        },
        "id": "dfWJzirL4dMV",
        "outputId": "deadfa2e-2a6f-4736-d5cc-276da9c025f7"
      },
      "outputs": [
        {
          "data": {
            "image/png": "[encoded data removed]",
            "text/plain": [
              "<Figure size 640x480 with 1 Axes>"
            ]
          },
          "metadata": {},
          "output_type": "display_data"
        }
      ],
      "source": [
        "def plot_silhouette_scores(data, start, end, step):\n",
        "  # A list holds the silhouette coefficients for each k\n",
        "  silhouette_coefficients = []\n",
        "\n",
        "  formated_data = np.array(data).reshape(-1, 1)\n",
        "\n",
        "  # Notice you start at 2 clusters for silhouette coefficient\n",
        "  for k in range(start, end, step):\n",
        "    kmeans = KMeans(n_clusters=k, n_init=2, max_iter=1000)\n",
        "    kmeans.fit(formated_data)\n",
        "    score = silhouette_score(formated_data, kmeans.labels_)\n",
        "    silhouette_coefficients.append(score)\n",
        "\n",
        "  plt.style.use(\"fivethirtyeight\")\n",
        "  plt.plot(range(start, end, step), silhouette_coefficients)\n",
        "  plt.xticks(range(start, end, step))\n",
        "  plt.xlabel(\"Number of Clusters\")\n",
        "  plt.ylabel(\"Silhouette Coefficient\")\n",
        "  plt.show()\n",
        "\n",
        "plot_silhouette_scores(X_train['embeddings'], 2, 25, 1)"
      ]
    },
    {
      "attachments": {},
      "cell_type": "markdown",
      "metadata": {
        "id": "Ygr7A-oA5j1N"
      },
      "source": [
        "The extremely low silhouette score implies there is a lot of overlap in classification of values. There might have to be some more data massaging in order to get this value higher"
      ]
    },
    {
      "cell_type": "code",
      "execution_count": 27,
      "metadata": {
        "id": "JW6DUWrz-KHQ"
      },
      "outputs": [],
      "source": [
        "SELECTED_CLUSTERS = 12"
      ]
    },
    {
      "cell_type": "code",
      "execution_count": 28,
      "metadata": {
        "id": "JhEabsKVvzCs"
      },
      "outputs": [],
      "source": [
        "# use the number of clusters found to be the best in graph above\n",
        "kmeans = KMeans(n_clusters=SELECTED_CLUSTERS, n_init = 5)\n",
        "labels = kmeans.fit_predict(np.array(X_train['embeddings']).reshape(-1, 1))\n",
        "\n",
        "X_train['label'] = labels"
      ]
    },
    {
      "cell_type": "code",
      "execution_count": 29,
      "metadata": {
        "colab": {
          "base_uri": "https://localhost:8080/"
        },
        "id": "UMYQIYzX6-8J",
        "outputId": "e6a8efab-585b-4916-bf76-b3622f101415"
      },
      "outputs": [],
      "source": [
        "# show the top words for each cluster that was created\n",
        "def get_top_features_cluster(X_train):\n",
        "    data = X_train[X_train['label'] == 14]\n",
        "    for index, row in data.iterrows():\n",
        "        print(\"\")\n",
        "        print(\"player name: {}\", row['player_name'])\n",
        "        print(row['report'])\n",
        "        \n",
        "    \n",
        "\n",
        "get_top_features_cluster(X_train)"
      ]
    },
    {
      "cell_type": "code",
      "execution_count": 30,
      "metadata": {
        "colab": {
          "base_uri": "https://localhost:8080/",
          "height": 785
        },
        "id": "aCs5gdAiSLFr",
        "outputId": "736d27a5-1f7a-4957-95cb-72ecd2ff2b87"
      },
      "outputs": [
        {
          "name": "stdout",
          "output_type": "stream",
          "text": [
            "Index(['team', 'player_name', 'draft_position', 'player_position', 'report',\n",
            "       'embeddings', 'label'],\n",
            "      dtype='object')\n",
            "     team        player_name  draft_position  player_position  \\\n",
            "113    18  Oliver Whahlstrom              11                2   \n",
            "148    25        Klim Kostin              31                1   \n",
            "191    12      Lawson Crouse              11                1   \n",
            "212    11     Leon Draisaitl               3                0   \n",
            "133     3  Casey Mittelstadt               8                0   \n",
            "\n",
            "                                                report  embeddings  label  \n",
            "113   wahlstrom has been one of the best snipers to...   -0.000136      0  \n",
            "148   ice time was very limited playing versus men ...   -0.000161      5  \n",
            "191   is a player with fantastic physical gifts, an...   -0.000153      5  \n",
            "212   is one of the best -- if not the best -- nhl ...   -0.000098     11  \n",
            "133   has been a highly touted player for a few yea...   -0.000098     11  \n"
          ]
        },
        {
          "data": {
            "application/vnd.plotly.v1+json": {
              "config": {
                "plotlyServerURL": "https://plot.ly"
              },
              "data": [
                {
                  "branchvalues": "total",
                  "domain": {
                    "x": [
                      0,
                      1
                    ],
                    "y": [
                      0,
                      1
                    ]
                  },
                  "hovertemplate": "labels=%{label}<br>count=%{value}<br>parent=%{parent}<br>id=%{id}<extra></extra>",
                  "ids": [
                    "11/A.J. Greer",
                    "7/Adrien Kempe",
                    "5/Aleksi Heponiemi",
                    "11/Alex Newhook",
                    "7/Alex Tuch",
                    "7/Alex Turcotte",
                    "11/Alexander Nylander",
                    "0/Alexis Lafreniere",
                    "5/Anthony Beauvillier",
                    "3/Anton Lundell",
                    "1/Arthur Kaliyev",
                    "8/Auston Matthews",
                    "3/Ayrton Martino",
                    "0/Barret Hayton",
                    "7/Brad Lambert",
                    "2/Brayden Tracey",
                    "7/Brendan Brisson",
                    "5/Brendan Perlini",
                    "3/Brennan Othmann",
                    "0/Brett Howden",
                    "4/Brock Boeser",
                    "11/Casey Mittelstadt",
                    "0/Chaz Lucius",
                    "11/Christian Fischer",
                    "3/Cody Glass",
                    "5/Cole Perfetti",
                    "7/Cole Sillinger",
                    "4/Connor McDavid",
                    "3/Connor McMichael",
                    "9/Cutter Gauthier",
                    "11/David Goyette",
                    "1/David Pastranak",
                    "0/Dawson Mercer",
                    "11/Denis Gurianov",
                    "2/Dylan Cozens",
                    "7/Dylan Duke",
                    "3/Dylan Guenther",
                    "2/Dylan Holloway",
                    "4/Dylan Larkin",
                    "3/Dylan Strome",
                    "0/Eeli Tolvanen",
                    "8/Elias Pettersson",
                    "11/Evegeny Svechnikov",
                    "1/Filip Chytil",
                    "5/Filip Mesar",
                    "8/Francesco Pinelli",
                    "4/Frank Nazar",
                    "7/Gabriel Vilardi",
                    "6/German Rubtsov",
                    "0/Grigori Denisenko",
                    "3/Hendrix Lapierre",
                    "0/Henrik Borgstrom",
                    "3/Isaac Howard",
                    "1/Isaac Ratcliffe",
                    "8/Isac Lundestrom",
                    "11/Isak Rosen",
                    "5/Jack Roslovic",
                    "3/Jacob Perreault",
                    "8/Jake Debrusk",
                    "9/Jake Virtanen",
                    "8/Jakub Vrana",
                    "8/Jan Mysak",
                    "0/Jason Robertson",
                    "9/Jay O'Brien",
                    "2/Jesperi Kotkaniemi",
                    "1/Jesse Piljujarvi",
                    "11/Jesse Ylonen",
                    "11/Jiri Kulich",
                    "4/Joe Veleno",
                    "4/Joel Farabee",
                    "4/John Beecher",
                    "4/John-Jason Peterka",
                    "6/Jordan Kyrou",
                    "0/Josh Ho-Sang",
                    "2/Josh Norris",
                    "7/Juraj Slafkovsky",
                    "0/Kailer Yamamoto",
                    "2/Kent Johnson",
                    "7/Kevin Fiala",
                    "7/Kieffer Bellows",
                    "5/Klim Kostin",
                    "5/Kole Lind",
                    "5/Kristian Vesalainen",
                    "5/Lawson Crouse",
                    "11/Leon Draisaitl",
                    "5/Logan Brown",
                    "11/Logan Stankoven",
                    "7/Lucas Raymond",
                    "2/Luke Kunin",
                    "1/Mackie Samoskevich",
                    "8/Marat Khusnutdinov",
                    "8/Marco Kasper",
                    "3/Marco Rossi",
                    "3/Marcus Davidsson",
                    "1/Martin Kaut",
                    "11/Matt Boldy",
                    "11/Matthew Beniers",
                    "3/Matthew Coronato",
                    "1/Matthew Tkachuk",
                    "8/Max Jones",
                    "4/Michael Dal Colle",
                    "1/Mitch Marner",
                    "3/Mitchell Stephens",
                    "0/Morgan Frost",
                    "4/Nathan Gaucher",
                    "4/Nick Ritchie",
                    "11/Nick Schmaltz",
                    "4/Nick Suzuki",
                    "1/Nico Hischier",
                    "5/Nikita Chibrikov",
                    "11/Nikita Scherbak",
                    "5/Nikolaj Ehlers",
                    "0/Nikolay Goldobin",
                    "7/Nils Hoglander",
                    "7/Noah Ostlund",
                    "7/Nolan Patrick",
                    "0/Oliver Whahlstrom",
                    "5/Oskar Olausson",
                    "0/Owen Beck",
                    "8/Owen Tippett",
                    "9/Ozzy Weisblatt",
                    "5/Pascal Laberge",
                    "4/Patrik Laine",
                    "5/Paul Bittner",
                    "9/Philip Tomasino",
                    "3/Pierre-Luc Dubois",
                    "6/Quinton Byfield",
                    "7/Rasmus Asplund",
                    "7/Rasmus Kupari",
                    "2/Riley Tufte",
                    "1/Robby Fabbri",
                    "0/Robert Thomas",
                    "0/Rutger McGroarty",
                    "8/Ryan Poehling",
                    "3/Sam Bennett",
                    "11/Sam Reinhart",
                    "5/Sam Steel",
                    "10/Samu Tuomaala",
                    "0/Sasha Pastujov",
                    "5/Sebastian Aho",
                    "7/Serron Noel",
                    "0/Shane Pinto",
                    "2/Shane Wright",
                    "11/Simon Holmstrom",
                    "0/Simon Robertsson",
                    "5/Sonny Milano",
                    "7/Tage Thompson",
                    "4/Tim Stutzle",
                    "2/Trent Frederic",
                    "7/Trevor Zegras",
                    "11/Tyler Benson",
                    "0/Tyson Foerster",
                    "5/Tyson Jost",
                    "8/Vasily Podkolzin",
                    "11/Vitali Kravtsov",
                    "3/William Eklund",
                    "6/William Stromgren",
                    "7/Zach Dean",
                    "5/Zachary L'Heureux",
                    "4/Zion Nybeck",
                    "0",
                    "1",
                    "2",
                    "3",
                    "4",
                    "5",
                    "6",
                    "7",
                    "8",
                    "9",
                    "10",
                    "11"
                  ],
                  "labels": [
                    "A.J. Greer",
                    "Adrien Kempe",
                    "Aleksi Heponiemi",
                    "Alex Newhook",
                    "Alex Tuch",
                    "Alex Turcotte",
                    "Alexander Nylander",
                    "Alexis Lafreniere",
                    "Anthony Beauvillier",
                    "Anton Lundell",
                    "Arthur Kaliyev",
                    "Auston Matthews",
                    "Ayrton Martino",
                    "Barret Hayton",
                    "Brad Lambert",
                    "Brayden Tracey",
                    "Brendan Brisson",
                    "Brendan Perlini",
                    "Brennan Othmann",
                    "Brett Howden",
                    "Brock Boeser",
                    "Casey Mittelstadt",
                    "Chaz Lucius",
                    "Christian Fischer",
                    "Cody Glass",
                    "Cole Perfetti",
                    "Cole Sillinger",
                    "Connor McDavid",
                    "Connor McMichael",
                    "Cutter Gauthier",
                    "David Goyette",
                    "David Pastranak",
                    "Dawson Mercer",
                    "Denis Gurianov",
                    "Dylan Cozens",
                    "Dylan Duke",
                    "Dylan Guenther",
                    "Dylan Holloway",
                    "Dylan Larkin",
                    "Dylan Strome",
                    "Eeli Tolvanen",
                    "Elias Pettersson",
                    "Evegeny Svechnikov",
                    "Filip Chytil",
                    "Filip Mesar",
                    "Francesco Pinelli",
                    "Frank Nazar",
                    "Gabriel Vilardi",
                    "German Rubtsov",
                    "Grigori Denisenko",
                    "Hendrix Lapierre",
                    "Henrik Borgstrom",
                    "Isaac Howard",
                    "Isaac Ratcliffe",
                    "Isac Lundestrom",
                    "Isak Rosen",
                    "Jack Roslovic",
                    "Jacob Perreault",
                    "Jake Debrusk",
                    "Jake Virtanen",
                    "Jakub Vrana",
                    "Jan Mysak",
                    "Jason Robertson",
                    "Jay O'Brien",
                    "Jesperi Kotkaniemi",
                    "Jesse Piljujarvi",
                    "Jesse Ylonen",
                    "Jiri Kulich",
                    "Joe Veleno",
                    "Joel Farabee",
                    "John Beecher",
                    "John-Jason Peterka",
                    "Jordan Kyrou",
                    "Josh Ho-Sang",
                    "Josh Norris",
                    "Juraj Slafkovsky",
                    "Kailer Yamamoto",
                    "Kent Johnson",
                    "Kevin Fiala",
                    "Kieffer Bellows",
                    "Klim Kostin",
                    "Kole Lind",
                    "Kristian Vesalainen",
                    "Lawson Crouse",
                    "Leon Draisaitl",
                    "Logan Brown",
                    "Logan Stankoven",
                    "Lucas Raymond",
                    "Luke Kunin",
                    "Mackie Samoskevich",
                    "Marat Khusnutdinov",
                    "Marco Kasper",
                    "Marco Rossi",
                    "Marcus Davidsson",
                    "Martin Kaut",
                    "Matt Boldy",
                    "Matthew Beniers",
                    "Matthew Coronato",
                    "Matthew Tkachuk",
                    "Max Jones",
                    "Michael Dal Colle",
                    "Mitch Marner",
                    "Mitchell Stephens",
                    "Morgan Frost",
                    "Nathan Gaucher",
                    "Nick Ritchie",
                    "Nick Schmaltz",
                    "Nick Suzuki",
                    "Nico Hischier",
                    "Nikita Chibrikov",
                    "Nikita Scherbak",
                    "Nikolaj Ehlers",
                    "Nikolay Goldobin",
                    "Nils Hoglander",
                    "Noah Ostlund",
                    "Nolan Patrick",
                    "Oliver Whahlstrom",
                    "Oskar Olausson",
                    "Owen Beck",
                    "Owen Tippett",
                    "Ozzy Weisblatt",
                    "Pascal Laberge",
                    "Patrik Laine",
                    "Paul Bittner",
                    "Philip Tomasino",
                    "Pierre-Luc Dubois",
                    "Quinton Byfield",
                    "Rasmus Asplund",
                    "Rasmus Kupari",
                    "Riley Tufte",
                    "Robby Fabbri",
                    "Robert Thomas",
                    "Rutger McGroarty",
                    "Ryan Poehling",
                    "Sam Bennett",
                    "Sam Reinhart",
                    "Sam Steel",
                    "Samu Tuomaala",
                    "Sasha Pastujov",
                    "Sebastian Aho",
                    "Serron Noel",
                    "Shane Pinto",
                    "Shane Wright",
                    "Simon Holmstrom",
                    "Simon Robertsson",
                    "Sonny Milano",
                    "Tage Thompson",
                    "Tim Stutzle",
                    "Trent Frederic",
                    "Trevor Zegras",
                    "Tyler Benson",
                    "Tyson Foerster",
                    "Tyson Jost",
                    "Vasily Podkolzin",
                    "Vitali Kravtsov",
                    "William Eklund",
                    "William Stromgren",
                    "Zach Dean",
                    "Zachary L'Heureux",
                    "Zion Nybeck",
                    "0",
                    "1",
                    "2",
                    "3",
                    "4",
                    "5",
                    "6",
                    "7",
                    "8",
                    "9",
                    "10",
                    "11"
                  ],
                  "name": "",
                  "parents": [
                    "11",
                    "7",
                    "5",
                    "11",
                    "7",
                    "7",
                    "11",
                    "0",
                    "5",
                    "3",
                    "1",
                    "8",
                    "3",
                    "0",
                    "7",
                    "2",
                    "7",
                    "5",
                    "3",
                    "0",
                    "4",
                    "11",
                    "0",
                    "11",
                    "3",
                    "5",
                    "7",
                    "4",
                    "3",
                    "9",
                    "11",
                    "1",
                    "0",
                    "11",
                    "2",
                    "7",
                    "3",
                    "2",
                    "4",
                    "3",
                    "0",
                    "8",
                    "11",
                    "1",
                    "5",
                    "8",
                    "4",
                    "7",
                    "6",
                    "0",
                    "3",
                    "0",
                    "3",
                    "1",
                    "8",
                    "11",
                    "5",
                    "3",
                    "8",
                    "9",
                    "8",
                    "8",
                    "0",
                    "9",
                    "2",
                    "1",
                    "11",
                    "11",
                    "4",
                    "4",
                    "4",
                    "4",
                    "6",
                    "0",
                    "2",
                    "7",
                    "0",
                    "2",
                    "7",
                    "7",
                    "5",
                    "5",
                    "5",
                    "5",
                    "11",
                    "5",
                    "11",
                    "7",
                    "2",
                    "1",
                    "8",
                    "8",
                    "3",
                    "3",
                    "1",
                    "11",
                    "11",
                    "3",
                    "1",
                    "8",
                    "4",
                    "1",
                    "3",
                    "0",
                    "4",
                    "4",
                    "11",
                    "4",
                    "1",
                    "5",
                    "11",
                    "5",
                    "0",
                    "7",
                    "7",
                    "7",
                    "0",
                    "5",
                    "0",
                    "8",
                    "9",
                    "5",
                    "4",
                    "5",
                    "9",
                    "3",
                    "6",
                    "7",
                    "7",
                    "2",
                    "1",
                    "0",
                    "0",
                    "8",
                    "3",
                    "11",
                    "5",
                    "10",
                    "0",
                    "5",
                    "7",
                    "0",
                    "2",
                    "11",
                    "0",
                    "5",
                    "7",
                    "4",
                    "2",
                    "7",
                    "11",
                    "0",
                    "5",
                    "8",
                    "11",
                    "3",
                    "6",
                    "7",
                    "5",
                    "4",
                    "",
                    "",
                    "",
                    "",
                    "",
                    "",
                    "",
                    "",
                    "",
                    "",
                    "",
                    ""
                  ],
                  "type": "treemap",
                  "values": [
                    1,
                    1,
                    1,
                    1,
                    1,
                    1,
                    1,
                    1,
                    1,
                    1,
                    1,
                    1,
                    1,
                    1,
                    1,
                    1,
                    1,
                    1,
                    1,
                    1,
                    1,
                    1,
                    1,
                    1,
                    1,
                    1,
                    1,
                    1,
                    1,
                    1,
                    1,
                    1,
                    1,
                    1,
                    1,
                    1,
                    1,
                    1,
                    1,
                    1,
                    1,
                    1,
                    1,
                    1,
                    1,
                    1,
                    1,
                    1,
                    1,
                    1,
                    1,
                    1,
                    1,
                    1,
                    1,
                    1,
                    1,
                    1,
                    1,
                    1,
                    1,
                    1,
                    1,
                    1,
                    1,
                    1,
                    1,
                    1,
                    1,
                    1,
                    1,
                    1,
                    1,
                    1,
                    1,
                    1,
                    1,
                    1,
                    1,
                    1,
                    1,
                    1,
                    1,
                    1,
                    1,
                    1,
                    1,
                    1,
                    1,
                    1,
                    1,
                    1,
                    1,
                    1,
                    1,
                    1,
                    1,
                    1,
                    1,
                    1,
                    1,
                    1,
                    1,
                    1,
                    1,
                    1,
                    1,
                    1,
                    1,
                    1,
                    1,
                    1,
                    1,
                    1,
                    1,
                    1,
                    1,
                    1,
                    1,
                    1,
                    1,
                    1,
                    1,
                    1,
                    1,
                    1,
                    1,
                    1,
                    1,
                    1,
                    1,
                    1,
                    1,
                    1,
                    1,
                    1,
                    1,
                    1,
                    1,
                    1,
                    1,
                    1,
                    1,
                    1,
                    1,
                    1,
                    1,
                    1,
                    1,
                    1,
                    1,
                    1,
                    1,
                    1,
                    1,
                    1,
                    1,
                    1,
                    1,
                    1,
                    21,
                    11,
                    10,
                    17,
                    15,
                    21,
                    4,
                    21,
                    13,
                    5,
                    1,
                    21
                  ]
                }
              ],
              "layout": {
                "legend": {
                  "tracegroupgap": 0
                },
                "margin": {
                  "t": 60
                },
                "template": {
                  "data": {
                    "bar": [
                      {
                        "error_x": {
                          "color": "#2a3f5f"
                        },
                        "error_y": {
                          "color": "#2a3f5f"
                        },
                        "marker": {
                          "line": {
                            "color": "#E5ECF6",
                            "width": 0.5
                          },
                          "pattern": {
                            "fillmode": "overlay",
                            "size": 10,
                            "solidity": 0.2
                          }
                        },
                        "type": "bar"
                      }
                    ],
                    "barpolar": [
                      {
                        "marker": {
                          "line": {
                            "color": "#E5ECF6",
                            "width": 0.5
                          },
                          "pattern": {
                            "fillmode": "overlay",
                            "size": 10,
                            "solidity": 0.2
                          }
                        },
                        "type": "barpolar"
                      }
                    ],
                    "carpet": [
                      {
                        "aaxis": {
                          "endlinecolor": "#2a3f5f",
                          "gridcolor": "white",
                          "linecolor": "white",
                          "minorgridcolor": "white",
                          "startlinecolor": "#2a3f5f"
                        },
                        "baxis": {
                          "endlinecolor": "#2a3f5f",
                          "gridcolor": "white",
                          "linecolor": "white",
                          "minorgridcolor": "white",
                          "startlinecolor": "#2a3f5f"
                        },
                        "type": "carpet"
                      }
                    ],
                    "choropleth": [
                      {
                        "colorbar": {
                          "outlinewidth": 0,
                          "ticks": ""
                        },
                        "type": "choropleth"
                      }
                    ],
                    "contour": [
                      {
                        "colorbar": {
                          "outlinewidth": 0,
                          "ticks": ""
                        },
                        "colorscale": [
                          [
                            0,
                            "#0d0887"
                          ],
                          [
                            0.1111111111111111,
                            "#46039f"
                          ],
                          [
                            0.2222222222222222,
                            "#7201a8"
                          ],
                          [
                            0.3333333333333333,
                            "#9c179e"
                          ],
                          [
                            0.4444444444444444,
                            "#bd3786"
                          ],
                          [
                            0.5555555555555556,
                            "#d8576b"
                          ],
                          [
                            0.6666666666666666,
                            "#ed7953"
                          ],
                          [
                            0.7777777777777778,
                            "#fb9f3a"
                          ],
                          [
                            0.8888888888888888,
                            "#fdca26"
                          ],
                          [
                            1,
                            "#f0f921"
                          ]
                        ],
                        "type": "contour"
                      }
                    ],
                    "contourcarpet": [
                      {
                        "colorbar": {
                          "outlinewidth": 0,
                          "ticks": ""
                        },
                        "type": "contourcarpet"
                      }
                    ],
                    "heatmap": [
                      {
                        "colorbar": {
                          "outlinewidth": 0,
                          "ticks": ""
                        },
                        "colorscale": [
                          [
                            0,
                            "#0d0887"
                          ],
                          [
                            0.1111111111111111,
                            "#46039f"
                          ],
                          [
                            0.2222222222222222,
                            "#7201a8"
                          ],
                          [
                            0.3333333333333333,
                            "#9c179e"
                          ],
                          [
                            0.4444444444444444,
                            "#bd3786"
                          ],
                          [
                            0.5555555555555556,
                            "#d8576b"
                          ],
                          [
                            0.6666666666666666,
                            "#ed7953"
                          ],
                          [
                            0.7777777777777778,
                            "#fb9f3a"
                          ],
                          [
                            0.8888888888888888,
                            "#fdca26"
                          ],
                          [
                            1,
                            "#f0f921"
                          ]
                        ],
                        "type": "heatmap"
                      }
                    ],
                    "heatmapgl": [
                      {
                        "colorbar": {
                          "outlinewidth": 0,
                          "ticks": ""
                        },
                        "colorscale": [
                          [
                            0,
                            "#0d0887"
                          ],
                          [
                            0.1111111111111111,
                            "#46039f"
                          ],
                          [
                            0.2222222222222222,
                            "#7201a8"
                          ],
                          [
                            0.3333333333333333,
                            "#9c179e"
                          ],
                          [
                            0.4444444444444444,
                            "#bd3786"
                          ],
                          [
                            0.5555555555555556,
                            "#d8576b"
                          ],
                          [
                            0.6666666666666666,
                            "#ed7953"
                          ],
                          [
                            0.7777777777777778,
                            "#fb9f3a"
                          ],
                          [
                            0.8888888888888888,
                            "#fdca26"
                          ],
                          [
                            1,
                            "#f0f921"
                          ]
                        ],
                        "type": "heatmapgl"
                      }
                    ],
                    "histogram": [
                      {
                        "marker": {
                          "pattern": {
                            "fillmode": "overlay",
                            "size": 10,
                            "solidity": 0.2
                          }
                        },
                        "type": "histogram"
                      }
                    ],
                    "histogram2d": [
                      {
                        "colorbar": {
                          "outlinewidth": 0,
                          "ticks": ""
                        },
                        "colorscale": [
                          [
                            0,
                            "#0d0887"
                          ],
                          [
                            0.1111111111111111,
                            "#46039f"
                          ],
                          [
                            0.2222222222222222,
                            "#7201a8"
                          ],
                          [
                            0.3333333333333333,
                            "#9c179e"
                          ],
                          [
                            0.4444444444444444,
                            "#bd3786"
                          ],
                          [
                            0.5555555555555556,
                            "#d8576b"
                          ],
                          [
                            0.6666666666666666,
                            "#ed7953"
                          ],
                          [
                            0.7777777777777778,
                            "#fb9f3a"
                          ],
                          [
                            0.8888888888888888,
                            "#fdca26"
                          ],
                          [
                            1,
                            "#f0f921"
                          ]
                        ],
                        "type": "histogram2d"
                      }
                    ],
                    "histogram2dcontour": [
                      {
                        "colorbar": {
                          "outlinewidth": 0,
                          "ticks": ""
                        },
                        "colorscale": [
                          [
                            0,
                            "#0d0887"
                          ],
                          [
                            0.1111111111111111,
                            "#46039f"
                          ],
                          [
                            0.2222222222222222,
                            "#7201a8"
                          ],
                          [
                            0.3333333333333333,
                            "#9c179e"
                          ],
                          [
                            0.4444444444444444,
                            "#bd3786"
                          ],
                          [
                            0.5555555555555556,
                            "#d8576b"
                          ],
                          [
                            0.6666666666666666,
                            "#ed7953"
                          ],
                          [
                            0.7777777777777778,
                            "#fb9f3a"
                          ],
                          [
                            0.8888888888888888,
                            "#fdca26"
                          ],
                          [
                            1,
                            "#f0f921"
                          ]
                        ],
                        "type": "histogram2dcontour"
                      }
                    ],
                    "mesh3d": [
                      {
                        "colorbar": {
                          "outlinewidth": 0,
                          "ticks": ""
                        },
                        "type": "mesh3d"
                      }
                    ],
                    "parcoords": [
                      {
                        "line": {
                          "colorbar": {
                            "outlinewidth": 0,
                            "ticks": ""
                          }
                        },
                        "type": "parcoords"
                      }
                    ],
                    "pie": [
                      {
                        "automargin": true,
                        "type": "pie"
                      }
                    ],
                    "scatter": [
                      {
                        "fillpattern": {
                          "fillmode": "overlay",
                          "size": 10,
                          "solidity": 0.2
                        },
                        "type": "scatter"
                      }
                    ],
                    "scatter3d": [
                      {
                        "line": {
                          "colorbar": {
                            "outlinewidth": 0,
                            "ticks": ""
                          }
                        },
                        "marker": {
                          "colorbar": {
                            "outlinewidth": 0,
                            "ticks": ""
                          }
                        },
                        "type": "scatter3d"
                      }
                    ],
                    "scattercarpet": [
                      {
                        "marker": {
                          "colorbar": {
                            "outlinewidth": 0,
                            "ticks": ""
                          }
                        },
                        "type": "scattercarpet"
                      }
                    ],
                    "scattergeo": [
                      {
                        "marker": {
                          "colorbar": {
                            "outlinewidth": 0,
                            "ticks": ""
                          }
                        },
                        "type": "scattergeo"
                      }
                    ],
                    "scattergl": [
                      {
                        "marker": {
                          "colorbar": {
                            "outlinewidth": 0,
                            "ticks": ""
                          }
                        },
                        "type": "scattergl"
                      }
                    ],
                    "scattermapbox": [
                      {
                        "marker": {
                          "colorbar": {
                            "outlinewidth": 0,
                            "ticks": ""
                          }
                        },
                        "type": "scattermapbox"
                      }
                    ],
                    "scatterpolar": [
                      {
                        "marker": {
                          "colorbar": {
                            "outlinewidth": 0,
                            "ticks": ""
                          }
                        },
                        "type": "scatterpolar"
                      }
                    ],
                    "scatterpolargl": [
                      {
                        "marker": {
                          "colorbar": {
                            "outlinewidth": 0,
                            "ticks": ""
                          }
                        },
                        "type": "scatterpolargl"
                      }
                    ],
                    "scatterternary": [
                      {
                        "marker": {
                          "colorbar": {
                            "outlinewidth": 0,
                            "ticks": ""
                          }
                        },
                        "type": "scatterternary"
                      }
                    ],
                    "surface": [
                      {
                        "colorbar": {
                          "outlinewidth": 0,
                          "ticks": ""
                        },
                        "colorscale": [
                          [
                            0,
                            "#0d0887"
                          ],
                          [
                            0.1111111111111111,
                            "#46039f"
                          ],
                          [
                            0.2222222222222222,
                            "#7201a8"
                          ],
                          [
                            0.3333333333333333,
                            "#9c179e"
                          ],
                          [
                            0.4444444444444444,
                            "#bd3786"
                          ],
                          [
                            0.5555555555555556,
                            "#d8576b"
                          ],
                          [
                            0.6666666666666666,
                            "#ed7953"
                          ],
                          [
                            0.7777777777777778,
                            "#fb9f3a"
                          ],
                          [
                            0.8888888888888888,
                            "#fdca26"
                          ],
                          [
                            1,
                            "#f0f921"
                          ]
                        ],
                        "type": "surface"
                      }
                    ],
                    "table": [
                      {
                        "cells": {
                          "fill": {
                            "color": "#EBF0F8"
                          },
                          "line": {
                            "color": "white"
                          }
                        },
                        "header": {
                          "fill": {
                            "color": "#C8D4E3"
                          },
                          "line": {
                            "color": "white"
                          }
                        },
                        "type": "table"
                      }
                    ]
                  },
                  "layout": {
                    "annotationdefaults": {
                      "arrowcolor": "#2a3f5f",
                      "arrowhead": 0,
                      "arrowwidth": 1
                    },
                    "autotypenumbers": "strict",
                    "coloraxis": {
                      "colorbar": {
                        "outlinewidth": 0,
                        "ticks": ""
                      }
                    },
                    "colorscale": {
                      "diverging": [
                        [
                          0,
                          "#8e0152"
                        ],
                        [
                          0.1,
                          "#c51b7d"
                        ],
                        [
                          0.2,
                          "#de77ae"
                        ],
                        [
                          0.3,
                          "#f1b6da"
                        ],
                        [
                          0.4,
                          "#fde0ef"
                        ],
                        [
                          0.5,
                          "#f7f7f7"
                        ],
                        [
                          0.6,
                          "#e6f5d0"
                        ],
                        [
                          0.7,
                          "#b8e186"
                        ],
                        [
                          0.8,
                          "#7fbc41"
                        ],
                        [
                          0.9,
                          "#4d9221"
                        ],
                        [
                          1,
                          "#276419"
                        ]
                      ],
                      "sequential": [
                        [
                          0,
                          "#0d0887"
                        ],
                        [
                          0.1111111111111111,
                          "#46039f"
                        ],
                        [
                          0.2222222222222222,
                          "#7201a8"
                        ],
                        [
                          0.3333333333333333,
                          "#9c179e"
                        ],
                        [
                          0.4444444444444444,
                          "#bd3786"
                        ],
                        [
                          0.5555555555555556,
                          "#d8576b"
                        ],
                        [
                          0.6666666666666666,
                          "#ed7953"
                        ],
                        [
                          0.7777777777777778,
                          "#fb9f3a"
                        ],
                        [
                          0.8888888888888888,
                          "#fdca26"
                        ],
                        [
                          1,
                          "#f0f921"
                        ]
                      ],
                      "sequentialminus": [
                        [
                          0,
                          "#0d0887"
                        ],
                        [
                          0.1111111111111111,
                          "#46039f"
                        ],
                        [
                          0.2222222222222222,
                          "#7201a8"
                        ],
                        [
                          0.3333333333333333,
                          "#9c179e"
                        ],
                        [
                          0.4444444444444444,
                          "#bd3786"
                        ],
                        [
                          0.5555555555555556,
                          "#d8576b"
                        ],
                        [
                          0.6666666666666666,
                          "#ed7953"
                        ],
                        [
                          0.7777777777777778,
                          "#fb9f3a"
                        ],
                        [
                          0.8888888888888888,
                          "#fdca26"
                        ],
                        [
                          1,
                          "#f0f921"
                        ]
                      ]
                    },
                    "colorway": [
                      "#636efa",
                      "#EF553B",
                      "#00cc96",
                      "#ab63fa",
                      "#FFA15A",
                      "#19d3f3",
                      "#FF6692",
                      "#B6E880",
                      "#FF97FF",
                      "#FECB52"
                    ],
                    "font": {
                      "color": "#2a3f5f"
                    },
                    "geo": {
                      "bgcolor": "white",
                      "lakecolor": "white",
                      "landcolor": "#E5ECF6",
                      "showlakes": true,
                      "showland": true,
                      "subunitcolor": "white"
                    },
                    "hoverlabel": {
                      "align": "left"
                    },
                    "hovermode": "closest",
                    "mapbox": {
                      "style": "light"
                    },
                    "paper_bgcolor": "white",
                    "plot_bgcolor": "#E5ECF6",
                    "polar": {
                      "angularaxis": {
                        "gridcolor": "white",
                        "linecolor": "white",
                        "ticks": ""
                      },
                      "bgcolor": "#E5ECF6",
                      "radialaxis": {
                        "gridcolor": "white",
                        "linecolor": "white",
                        "ticks": ""
                      }
                    },
                    "scene": {
                      "xaxis": {
                        "backgroundcolor": "#E5ECF6",
                        "gridcolor": "white",
                        "gridwidth": 2,
                        "linecolor": "white",
                        "showbackground": true,
                        "ticks": "",
                        "zerolinecolor": "white"
                      },
                      "yaxis": {
                        "backgroundcolor": "#E5ECF6",
                        "gridcolor": "white",
                        "gridwidth": 2,
                        "linecolor": "white",
                        "showbackground": true,
                        "ticks": "",
                        "zerolinecolor": "white"
                      },
                      "zaxis": {
                        "backgroundcolor": "#E5ECF6",
                        "gridcolor": "white",
                        "gridwidth": 2,
                        "linecolor": "white",
                        "showbackground": true,
                        "ticks": "",
                        "zerolinecolor": "white"
                      }
                    },
                    "shapedefaults": {
                      "line": {
                        "color": "#2a3f5f"
                      }
                    },
                    "ternary": {
                      "aaxis": {
                        "gridcolor": "white",
                        "linecolor": "white",
                        "ticks": ""
                      },
                      "baxis": {
                        "gridcolor": "white",
                        "linecolor": "white",
                        "ticks": ""
                      },
                      "bgcolor": "#E5ECF6",
                      "caxis": {
                        "gridcolor": "white",
                        "linecolor": "white",
                        "ticks": ""
                      }
                    },
                    "title": {
                      "x": 0.05
                    },
                    "xaxis": {
                      "automargin": true,
                      "gridcolor": "white",
                      "linecolor": "white",
                      "ticks": "",
                      "title": {
                        "standoff": 15
                      },
                      "zerolinecolor": "white",
                      "zerolinewidth": 2
                    },
                    "yaxis": {
                      "automargin": true,
                      "gridcolor": "white",
                      "linecolor": "white",
                      "ticks": "",
                      "title": {
                        "standoff": 15
                      },
                      "zerolinecolor": "white",
                      "zerolinewidth": 2
                    }
                  }
                }
              }
            }
          },
          "metadata": {},
          "output_type": "display_data"
        }
      ],
      "source": [
        "import plotly.express as px\n",
        "\n",
        "print(X_train.columns)\n",
        "print(X_train.head())\n",
        "\n",
        "#visualize mappings via treemap\n",
        "result_summary = pd.pivot_table(X_train, index=['label', 'player_name'],  aggfunc='count').reset_index().rename(columns={'draft_position':'count'})\n",
        "result_treemap = result_summary\n",
        "fig = px.treemap(result_treemap,path=['label', 'player_name'],values='count')\n",
        "fig.show()"
      ]
    },
    {
      "cell_type": "code",
      "execution_count": 31,
      "metadata": {
        "colab": {
          "base_uri": "https://localhost:8080/",
          "height": 496
        },
        "id": "_Cz9MkDTxX8H",
        "outputId": "a86f29bd-c382-4463-f955-a20fa1f0a303"
      },
      "outputs": [
        {
          "name": "stderr",
          "output_type": "stream",
          "text": [
            "c:\\Users\\Ryan\\anaconda3\\lib\\site-packages\\sklearn\\manifold\\_t_sne.py:783: FutureWarning:\n",
            "\n",
            "The default initialization in TSNE will change from 'random' to 'pca' in 1.2.\n",
            "\n"
          ]
        },
        {
          "data": {
            "text/plain": [
              "<matplotlib.legend.Legend at 0x1ffdc9480c8>"
            ]
          },
          "execution_count": 31,
          "metadata": {},
          "output_type": "execute_result"
        },
        {
          "data": {
            "image/png": "[encoded data removed]",
            "text/plain": [
              "<Figure size 640x480 with 1 Axes>"
            ]
          },
          "metadata": {},
          "output_type": "display_data"
        }
      ],
      "source": [
        "tsne = TSNE(n_components=2, learning_rate=200)\n",
        "data = X_train['embeddings'].values\n",
        "vis_dims2 = tsne.fit_transform(data.reshape(-1, 1))\n",
        "\n",
        "x = [x for x, y in vis_dims2]\n",
        "y = [y for x, y in vis_dims2]\n",
        "\n",
        "color = cm.rainbow(np.linspace(0, 1, len(X_train.label.unique())))\n",
        "for category, color in enumerate(color):\n",
        "    xs = np.array(x)[X_train.label == category]\n",
        "    ys = np.array(y)[X_train.label == category]\n",
        "    plt.scatter(xs, ys, color=color, alpha=0.3)\n",
        "\n",
        "    avg_x = xs.mean()\n",
        "    avg_y = ys.mean()\n",
        "\n",
        "    plt.scatter(avg_x, avg_y, marker=\"x\", color=color, s=100, label=category)\n",
        "plt.title(\"Visual Representation Of Clusters In 2D Via TSNE\")\n",
        "plt.legend()"
      ]
    },
    {
      "cell_type": "code",
      "execution_count": 12,
      "metadata": {},
      "outputs": [
        {
          "name": "stdout",
          "output_type": "stream",
          "text": [
            "Linear Regression Score: -0.11381445922795375\n"
          ]
        }
      ],
      "source": [
        "\n",
        "X_train_lr, X_test_lr, y_train_lr, y_test_lr = train_test_split(X_train[['player_position', 'draft_position', 'label']], X_train['team'], test_size=0.33)\n",
        "lr = LinearRegression()\n",
        "lr.fit(X_train_lr, y_train_lr)\n",
        "\n",
        "print(f\"Linear Regression Score: {lr.score(X_test_lr, y_test_lr)}\")\n",
        "\n"
      ]
    }
  ],
  "metadata": {
    "colab": {
      "provenance": []
    },
    "kernelspec": {
      "display_name": "Python 3",
      "name": "python3"
    },
    "language_info": {
      "codemirror_mode": {
        "name": "ipython",
        "version": 3
      },
      "file_extension": ".py",
      "mimetype": "text/x-python",
      "name": "python",
      "nbconvert_exporter": "python",
      "pygments_lexer": "ipython3",
      "version": "3.7.10"
    }
  },
  "nbformat": 4,
  "nbformat_minor": 0
}
