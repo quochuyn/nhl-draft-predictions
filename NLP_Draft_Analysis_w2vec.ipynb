{
  "cells": [
    {
      "cell_type": "code",
      "execution_count": 19,
      "metadata": {
        "colab": {
          "base_uri": "https://localhost:8080/"
        },
        "id": "DAudg6vHRsXx",
        "outputId": "3c2c5119-6062-4e48-9177-bb400c6a3c1f"
      },
      "outputs": [
        {
          "name": "stderr",
          "output_type": "stream",
          "text": [
            "[nltk_data] Downloading package punkt to\n",
            "[nltk_data]     C:\\Users\\Ryan\\AppData\\Roaming\\nltk_data...\n",
            "[nltk_data]   Package punkt is already up-to-date!\n",
            "[nltk_data] Downloading package stopwords to\n",
            "[nltk_data]     C:\\Users\\Ryan\\AppData\\Roaming\\nltk_data...\n",
            "[nltk_data]   Package stopwords is already up-to-date!\n",
            "[nltk_data] Downloading package wordnet to\n",
            "[nltk_data]     C:\\Users\\Ryan\\AppData\\Roaming\\nltk_data...\n",
            "[nltk_data]   Package wordnet is already up-to-date!\n"
          ]
        },
        {
          "data": {
            "text/plain": [
              "True"
            ]
          },
          "execution_count": 19,
          "metadata": {},
          "output_type": "execute_result"
        }
      ],
      "source": [
        "import numpy as np\n",
        "import pandas as pd\n",
        "\n",
        "import matplotlib.cm as cm\n",
        "import matplotlib.pyplot as plt\n",
        "\n",
        "import nltk\n",
        "from nltk.corpus import stopwords\n",
        "from nltk.stem import PorterStemmer\n",
        "from nltk.stem import WordNetLemmatizer\n",
        "from sklearn.model_selection import train_test_split\n",
        "from sklearn.feature_extraction.text import CountVectorizer\n",
        "from sklearn.linear_model import LogisticRegression, LinearRegression\n",
        "from sklearn import preprocessing\n",
        "from sklearn.svm import SVC\n",
        "from sklearn.neighbors import KNeighborsClassifier\n",
        "from sklearn.cluster import KMeans\n",
        "from sklearn.cluster import MiniBatchKMeans\n",
        "from sklearn.decomposition import PCA\n",
        "from sklearn.manifold import TSNE\n",
        "from sklearn.feature_extraction.text import TfidfVectorizer\n",
        "from sklearn.metrics import silhouette_score\n",
        "import re\n",
        "import gensim\n",
        "from gensim.models import Word2Vec\n",
        "import gensim.downloader as api\n",
        "\n",
        "nltk.download(\"punkt\")\n",
        "nltk.download('stopwords')\n",
        "nltk.download('wordnet')"
      ]
    },
    {
      "cell_type": "code",
      "execution_count": 80,
      "metadata": {
        "colab": {
          "base_uri": "https://localhost:8080/",
          "height": 354
        },
        "id": "h0ANlswKSDKo",
        "outputId": "6ed19579-271a-4941-d249-31deef31fd28"
      },
      "outputs": [
        {
          "data": {
            "text/html": [
              "<div>\n",
              "<style scoped>\n",
              "    .dataframe tbody tr th:only-of-type {\n",
              "        vertical-align: middle;\n",
              "    }\n",
              "\n",
              "    .dataframe tbody tr th {\n",
              "        vertical-align: top;\n",
              "    }\n",
              "\n",
              "    .dataframe thead th {\n",
              "        text-align: right;\n",
              "    }\n",
              "</style>\n",
              "<table border=\"1\" class=\"dataframe\">\n",
              "  <thead>\n",
              "    <tr style=\"text-align: right;\">\n",
              "      <th></th>\n",
              "      <th>Year</th>\n",
              "      <th>Position</th>\n",
              "      <th>Height</th>\n",
              "      <th>Weight</th>\n",
              "      <th>Drafted</th>\n",
              "      <th>Team</th>\n",
              "      <th>Average Ranking</th>\n",
              "      <th>Name</th>\n",
              "      <th>Description - Corey Pronman</th>\n",
              "      <th>Description - Scott Wheeler</th>\n",
              "      <th>Description - Smaht Scouting</th>\n",
              "      <th>Description - ESPN (Chris Peters)</th>\n",
              "      <th>Description - EP Rinkside</th>\n",
              "      <th>Description - EP Rinkside Part 2</th>\n",
              "      <th>Description - The Painted Lines</th>\n",
              "      <th>Description - FCHockey</th>\n",
              "    </tr>\n",
              "  </thead>\n",
              "  <tbody>\n",
              "    <tr>\n",
              "      <th>0</th>\n",
              "      <td>2022</td>\n",
              "      <td>3</td>\n",
              "      <td>76.0</td>\n",
              "      <td>218.0</td>\n",
              "      <td>1</td>\n",
              "      <td>15</td>\n",
              "      <td>1.0</td>\n",
              "      <td>Juraj Slafkovsky</td>\n",
              "      <td>Slafkovsky has all the assets you're looking f...</td>\n",
              "      <td>Slafkovsky is one of the draft's most tantaliz...</td>\n",
              "      <td>Slafkovsky can be a menace at the NHL level. H...</td>\n",
              "      <td>The potential of what Slafkovsky can be as he ...</td>\n",
              "      <td>Slafkovsky is one of the largest players in th...</td>\n",
              "      <td>Nothing brought out Juraj Slafkovsky's draft y...</td>\n",
              "      <td>Slafkovsky dominated the international scene t...</td>\n",
              "      <td>Juraj Slafkovsky drives offense from the wing....</td>\n",
              "    </tr>\n",
              "    <tr>\n",
              "      <th>1</th>\n",
              "      <td>2022</td>\n",
              "      <td>0</td>\n",
              "      <td>72.5</td>\n",
              "      <td>193.0</td>\n",
              "      <td>4</td>\n",
              "      <td>23</td>\n",
              "      <td>2.0</td>\n",
              "      <td>Shane Wright</td>\n",
              "      <td>Wright is a very well-rounded center who has n...</td>\n",
              "      <td>Still my top prospect in this class (though no...</td>\n",
              "      <td>The complicated and essential question to answ...</td>\n",
              "      <td>With high-end hockey sense highlighted by his ...</td>\n",
              "      <td>The top player from the class held this positi...</td>\n",
              "      <td>In a draft year shaped by substantial depth ra...</td>\n",
              "      <td>Wright has been on the radar of scouts for a l...</td>\n",
              "      <td>Shane Wright is an elite two-way center with i...</td>\n",
              "    </tr>\n",
              "    <tr>\n",
              "      <th>2</th>\n",
              "      <td>2022</td>\n",
              "      <td>1</td>\n",
              "      <td>72.0</td>\n",
              "      <td>190.0</td>\n",
              "      <td>2</td>\n",
              "      <td>16</td>\n",
              "      <td>4.0</td>\n",
              "      <td>Simon Nemec</td>\n",
              "      <td>Nemec is a very well-rounded defenseman. His p...</td>\n",
              "      <td>This kid turned 18 in the middle of February a...</td>\n",
              "      <td>With Nemec, you are netting a top pairing defe...</td>\n",
              "      <td>One of the very best passers in this draft, Ne...</td>\n",
              "      <td>The statistical comparables to Nemec's draft y...</td>\n",
              "      <td>Šimon Nemec just put together the most product...</td>\n",
              "      <td>Few players have been as dominant at the pro-l...</td>\n",
              "      <td>Simon Nemec is a mobile two-way and highly-int...</td>\n",
              "    </tr>\n",
              "    <tr>\n",
              "      <th>3</th>\n",
              "      <td>2022</td>\n",
              "      <td>0</td>\n",
              "      <td>70.5</td>\n",
              "      <td>180.0</td>\n",
              "      <td>3</td>\n",
              "      <td>1</td>\n",
              "      <td>3.0</td>\n",
              "      <td>Logan Cooley</td>\n",
              "      <td>Cooley is a dynamic player. When he has the pu...</td>\n",
              "      <td>Cooley is a beautiful, flowing skater capable ...</td>\n",
              "      <td>Logan Cooley is for sure one of the more well-...</td>\n",
              "      <td>Over the last several months, I have constantl...</td>\n",
              "      <td>A highly creative, speed-driven pivot who brin...</td>\n",
              "      <td>You won't find a more singularly-gifted puckha...</td>\n",
              "      <td>A small, speedy center, Cooley dominated the U...</td>\n",
              "      <td>Juraj Slafkovsky drives offense from the wing....</td>\n",
              "    </tr>\n",
              "    <tr>\n",
              "      <th>4</th>\n",
              "      <td>2022</td>\n",
              "      <td>1</td>\n",
              "      <td>75.0</td>\n",
              "      <td>189.0</td>\n",
              "      <td>6</td>\n",
              "      <td>5</td>\n",
              "      <td>5.0</td>\n",
              "      <td>David Jiricek</td>\n",
              "      <td>Jiricek is a big, right-shot defenseman who ma...</td>\n",
              "      <td>After suffering a knee injury at the world jun...</td>\n",
              "      <td>Top pairing defenseman at the NHL level if he ...</td>\n",
              "      <td>A highly mobile, 6-foot-3 defenseman with a bo...</td>\n",
              "      <td>A knee injury fractured Jiříček's season, but ...</td>\n",
              "      <td>David Jiříček finishes the year as the highest...</td>\n",
              "      <td>Similar to Nemec, Jiricek plays a mature game ...</td>\n",
              "      <td>David Jiricek is an exceptional two-way defens...</td>\n",
              "    </tr>\n",
              "  </tbody>\n",
              "</table>\n",
              "</div>"
            ],
            "text/plain": [
              "   Year  Position  Height  Weight  Drafted  Team  Average Ranking  \\\n",
              "0  2022         3    76.0   218.0        1    15              1.0   \n",
              "1  2022         0    72.5   193.0        4    23              2.0   \n",
              "2  2022         1    72.0   190.0        2    16              4.0   \n",
              "3  2022         0    70.5   180.0        3     1              3.0   \n",
              "4  2022         1    75.0   189.0        6     5              5.0   \n",
              "\n",
              "               Name                        Description - Corey Pronman  \\\n",
              "0  Juraj Slafkovsky  Slafkovsky has all the assets you're looking f...   \n",
              "1      Shane Wright  Wright is a very well-rounded center who has n...   \n",
              "2       Simon Nemec  Nemec is a very well-rounded defenseman. His p...   \n",
              "3      Logan Cooley  Cooley is a dynamic player. When he has the pu...   \n",
              "4     David Jiricek  Jiricek is a big, right-shot defenseman who ma...   \n",
              "\n",
              "                         Description - Scott Wheeler  \\\n",
              "0  Slafkovsky is one of the draft's most tantaliz...   \n",
              "1  Still my top prospect in this class (though no...   \n",
              "2  This kid turned 18 in the middle of February a...   \n",
              "3  Cooley is a beautiful, flowing skater capable ...   \n",
              "4  After suffering a knee injury at the world jun...   \n",
              "\n",
              "                        Description - Smaht Scouting  \\\n",
              "0  Slafkovsky can be a menace at the NHL level. H...   \n",
              "1  The complicated and essential question to answ...   \n",
              "2  With Nemec, you are netting a top pairing defe...   \n",
              "3  Logan Cooley is for sure one of the more well-...   \n",
              "4  Top pairing defenseman at the NHL level if he ...   \n",
              "\n",
              "                   Description - ESPN (Chris Peters)  \\\n",
              "0  The potential of what Slafkovsky can be as he ...   \n",
              "1  With high-end hockey sense highlighted by his ...   \n",
              "2  One of the very best passers in this draft, Ne...   \n",
              "3  Over the last several months, I have constantl...   \n",
              "4  A highly mobile, 6-foot-3 defenseman with a bo...   \n",
              "\n",
              "                           Description - EP Rinkside  \\\n",
              "0  Slafkovsky is one of the largest players in th...   \n",
              "1  The top player from the class held this positi...   \n",
              "2  The statistical comparables to Nemec's draft y...   \n",
              "3  A highly creative, speed-driven pivot who brin...   \n",
              "4  A knee injury fractured Jiříček's season, but ...   \n",
              "\n",
              "                    Description - EP Rinkside Part 2  \\\n",
              "0  Nothing brought out Juraj Slafkovsky's draft y...   \n",
              "1  In a draft year shaped by substantial depth ra...   \n",
              "2  Šimon Nemec just put together the most product...   \n",
              "3  You won't find a more singularly-gifted puckha...   \n",
              "4  David Jiříček finishes the year as the highest...   \n",
              "\n",
              "                     Description - The Painted Lines  \\\n",
              "0  Slafkovsky dominated the international scene t...   \n",
              "1  Wright has been on the radar of scouts for a l...   \n",
              "2  Few players have been as dominant at the pro-l...   \n",
              "3  A small, speedy center, Cooley dominated the U...   \n",
              "4  Similar to Nemec, Jiricek plays a mature game ...   \n",
              "\n",
              "                              Description - FCHockey  \n",
              "0  Juraj Slafkovsky drives offense from the wing....  \n",
              "1  Shane Wright is an elite two-way center with i...  \n",
              "2  Simon Nemec is a mobile two-way and highly-int...  \n",
              "3  Juraj Slafkovsky drives offense from the wing....  \n",
              "4  David Jiricek is an exceptional two-way defens...  "
            ]
          },
          "execution_count": 80,
          "metadata": {},
          "output_type": "execute_result"
        }
      ],
      "source": [
        "# dataset location\n",
        "DATASET = \"data/prospect-data.csv\"\n",
        "\n",
        "# load dataset into dataframe\n",
        "data = pd.read_csv(DATASET)\n",
        "\n",
        "# clean up dataset\n",
        "# might have to look at dropping seattle in the future but for clustering it \n",
        "# should not matter\n",
        "#data = data[data['Team'] != 'SEA']\n",
        "\n",
        "# try without goalies\n",
        "#data = data[(data['Position'] != 'G')]\n",
        "#data = data[(data['Position'] == 'C') | (data['Position'] == 'LW') | (data['Position'] == 'RW')]\n",
        "\n",
        "# encode position\n",
        "# TODO: we should keep the positions for when we do clustering\n",
        "position = preprocessing.LabelEncoder()\n",
        "position.fit(data['Position'].unique())\n",
        "data['Position'] = data['Position'].apply(lambda x: position.transform([x])[0])\n",
        "\n",
        "team = preprocessing.LabelEncoder()\n",
        "team.fit(data['Team'].unique())\n",
        "data['Team'] = data['Team'].apply(lambda x: team.transform([x])[0])\n",
        "\n",
        "\n",
        "data.head()"
      ]
    },
    {
      "cell_type": "code",
      "execution_count": 81,
      "metadata": {
        "colab": {
          "base_uri": "https://localhost:8080/"
        },
        "id": "BU2qKUXDTkH3",
        "outputId": "3209183c-e731-448e-d2b6-80d98cd52aaa"
      },
      "outputs": [
        {
          "name": "stdout",
          "output_type": "stream",
          "text": [
            "length of corpus: 360\n",
            "length of labels: 360\n",
            "length of draft_position: 360\n",
            "length of player_position: 360\n",
            "corpus first 5: [\" has all the assets you're looking for in a top nhl forward. he's a 6-foot-4 winger who can beat opponents with speed and skill. he possesses outstanding puck skills and can put pucks through legs and sticks at a very high rate. can use finesse, or power and quickness to get around defenders. can also set up and finish plays well. physically, he won't run over guys but his compete is good enough. he projects as a top-line winger with the potential to pop and become a true star in the nhl. is one of the draft's most tantalizing prospects, with a skill-size combo that scouts and coaches clamour for and he has already demonstrated against pro competition domestically and, more notably, internationally. it has been a big year for him. nine points in five games and a historic silver medal for the slovaks at the hlinka gretzky cup. an olympic bronze medal as the tournament's mvp. a silver medal with his club team, tps. a team-leading nine points at the men's worlds. is built like a power forward, with a 218-pound frame that makes him one of the draft's heaviest players, but he plays the game with uncharacteristic finesse, regularly flashing hands you'd expect out of a smaller player one-on-one to pull pucks in tight to his feet. he's also got a rangy, fluid stride, which makes him a surprisingly dangerous rush player — and impressive confidence with the puck on his stick, which enables him to hang onto it (sometimes to a fault) and attack off the wall into the slot (he loves taking the puck from the half wall to the home plate area to shoot from his forehand. the team that drafts him will be betting on his upside, which grades at or near the very top of this class. i'm also a big fan of his approach. he has continued to play his style and look to attack in control (a lot of forwards his size become more deferential and fall back into give-and-go habits to fit a mould when they make the jump to the pro level) as he has played against higher and higher competition. there is, despite his makeup and success, some risk associated with his projection at his size (small players aren't the only ones who carry size-based limitations with them!) though, and that, combined with how much i like the four players i have slotted ahead of him here, does leave me a little lower on him than where he'll be picked, even if there's a real chance he becomes one of the two or three best players out of this draft. can be a menace at the nhl level. his stick-handling reach and his play on the cycle makes him a threat down low. if he can broaden his game by working on his long range shot, that allows him to become a dual threat. but, even if he doesn't become that dual threat offensively, he has the physicality and the reach to net pucks in puck battles and set up teammates in the slot. with that said, i can envision him being a top six contributor at the nhl level. the potential of what can be as he continues on in his is intoxicating. a 6-foot-4 winger with physicality, high-end skill and one of the better overall shots in this draft, it's hard not to get excited. there is a chance that he ends up being the no. 1 pick in this draft and may one day be viewed as its best player. he's every bit as good as the other two players listed ahead of him on talent alone. i've watched a lot this year and while i am enamored with the physical tools and skills, there's not a ton of precedent for the kind of season he had, where he produced at a rate far below expectations of a top-five nhl draft pick in his league season yet was off the charts internationally. in the end, the largest sample we have to judge is that from his club season with tps. you look at players from the that have gone early in drafts and all of them had better numbers than , and many of them had better numbers by a lot. it's not something that is easily ignored. among u18 players who have played at least 20 games in the as u18 players, 0.32 points per game ranks 35th and 21st overall in the last 10 years. is a classic eye-test darling and that's a big reason why i have him in this range. if he hadn't played so well in those international events, i'm not sure we're having this discussion at all. but he did play in those games and we got to see a physically dominant young player who held his own against pros and eventually became one of his team's most important players. the olympics and world championship fields were not nhl-caliber competition, but they were significant stages on which broke out against professionals. i also think his progression over the season and playing with confidence down the stretch significantly altered how well he played for the better. this is a tough case to read, because we have a body of work that suggests he's statistically not among top-tier players in his own league historically, but we have this immense skillset that is so unique in this draft class that it's impossible to overlook. i think is in the mix with cooley and wright to be the best players in this class, and even though i know what the numbers say, i can't get past the incredible ceiling i believe his size-and-skill package creates. is one of the largest players in the first round and also possesses the largest upside of anyone in the class. a rocket of a shot, soft hands, and an improving skating stride all packaged into a 6-foot-4, 220-pound frame. his ability to make plays in space is great, but he'll need to do it without that time as well. he could be a unicorn. nothing brought out draft year best quite like the opportunity to wear his country's colours and represent in international competition. he's the ultimate patriot. started the scouting season off as if shot from a cannon, putting up nine points in five games en route to a silver medal at the hlinka-gretzky in august. next up, seven goals in seven games and mvp honours as he led to the bronze medal at the beijing olympics. then, lastly, a point a game clip at the world hockey championships in all this in his age-17 season. it's not like he was chopped liver in the either. ten points in 31 games is hardly anything to scoff at from a first-time draft-eligible skater in one of europe's more challenging professional leagues, after all. the appeal with is obvious: he's a 6-foot-4 playmaking power forward with soft hands, shooting skill, and the sort of wall game that would already rate as an above-average quality in the nhl. the first thing you notice is just how easily he retains possession under duress. it's like watching a bully play keep away, one hand stiff-arming his victim out of reach and the other one waving their stolen item to mock them for good measure. if wants the puck, then he takes the puck, and good luck getting it back. that we've mostly seen this from the slovak winger in professional settings this season just makes it that much more impressive. it's one thing to ward off physically undeveloped 17-year-olds in the whl; it's another thing entirely to swat away seasoned veterans in top men's league like they're mosquitos. brings a lot more to the table than just brute force, though. what makes him a unique prospect is how he turns those extended possession sequences into legitimate scoring chances. sometimes, it's a drive to the net-front for a chance of his own; other times, he'll handle his way into a passing opportunity and send the puck to his linemate to finish the job. where often leaves our staff wanting, though, is with his footspeed. the deficiencies are many, whether it's his posture, a heel kick out of recoveries, or a hop in his crossovers. he just cannot separate from opponents in space. to credit, we've already seen considerable growth from him as a skater this season, and there isn't any reason to believe he won't continue on that path as he rises up the ranks. it's probably an about-average tool at this point, which is a pretty big step up on where he started the season. don't be surprised if you hear name called as high as first overall in july's draft. players with his skill set are so rare. teams guard these players closely when they have them, and they move heaven and earth to find one when they don't. i mean, who wouldn't want a high-scoring top-six winger with a physical side? that's the upside with . dominated the international scene this past season, solidifying himself as my number two pick in the nhl draft this season. over the last year, played at the world juniors, the olympics, and world championships. his most dominating performance came at the olympics, where he led to a bronze medal and received mvp honors, a remarkable feat for an 18-year-old. is an intriguing prospect with an absurd overall physical and offensive package. at 6'4 and well over 200 pounds, is strong on the puck and uses his frame in a physical manner. yet, he has incredible hands and can make plays in-tight like few players can in this draft class. this is what makes so unique. he's a player with size and high skill that can dominate down-low or in open ice. while he dominated at the international level against men, struggled to put up points at times in top league. however, scouts aren't too concerned and believe higher numbers will come with time. may make the jump to the nhl immediately next season due to his physical maturity but will likely need at least another season of to further his offensive game. drives offense from the wing. he's a massive winger who has made a strong case to challenge for first overall. he can play at a high pace and has impressive agility for someone his size. using strong strides with his long legs, he can generate a lot of speed with just a few steps. while he lacks that extra gear to create separation, it's how well he protects the puck when challenged that makes up for any speed or burst concerns that may follow him. with strong stickhandling and the ability to move the puck in tight, he can control possession as well as the pace of the play. on-ice awareness in all three zones is another aspect of his game where he excels, making the extra effort on backchecks as well as going down low to support his blueliners when defending. he also uses his stick very well, taking advantage of his long reach to win battles to loose pucks. he has such immense offensive potential that it can be frustrating to see him pass up great scoring opportunities for himself and teammates. learning how to take what's given to him and remove moments of tunnel-vision from his game is something he will need to improve on to be a more consistent impact player when attacking. his unique blend of size and skill could make him a dominant player at the nhl level. he is the ultimate swing on upside while still having a solid floor. if he becomes the player he is capable of developing into, there is little doubt will be a force at the nhl for the next 15 years and people will wonder why there was even a debate about the top pick in this class. if he doesn't hit his that potential, he's still got potential as a top-six scoring winger who impacts the game regularly.\", \" is a very well-rounded who has no noticeable flaw in his skill set but there also isn't a ton about his game that gets you overly excited. he can skate and handle the puck like an nhler. game translates because of his compete and direct style of play. he takes pucks to the net and plays quick. he can pull up to make a tough pass but can take pucks to the interior too. he has the high-end vision to run a power-play unit and make tough plays with pace. his shot is very good, showing the ability to pick corners from long range consistently. off the puck he's competitive and responsible, showing maturity beyond his years. he projects as a no. 1 in the nhl due to his all-around play with a chance to be a star, but probably won't be an elite scorer in the league. still my top prospect in this class (though no longer in a tier of his own), is an athletic kid who boasts a wide gait and boxy shoulders that balance him over pucks. those physical tools are complemented by a lethal wrist shot release (which he can get off from several stances and pops off of his blade's heel or toe) and quick hands in traffic that allow him to take pucks off of the wall and create scoring chances to the interior. he's also one of the most diligent three-zone players in the draft, with a powerful stride that helps him push play up ice (though its power is more evident the length of the sheet than from a standstill into a quick foot race) when he's done providing support low in his zone or above the puck. while his shot is his biggest weapon inside the offensive zone (i actually think he was owed a few more goals than his 35 on 290 shots this season gave him), he played a much more creative game inside the offensive zone into the second half. he blends versatile skill with a heady, detailed game that will allow him to drive a line and be relied upon in all situations down the middle at the next level. there are times when scouts want to see him play with a little more fire and feistiness to really take over games and impose himself on the forecheck/in battles more, but his eye for detail off the puck puts him in a supportive role more often than an active chase and that's fine. i would have liked to see him hang onto the puck a little more this season, but he played with talented linemates where his ability to play into their strengths and execute off of give-and-go's worked. he's got pro tools and projects as an impactful top-six centre. he may not become a point per game player, but i see 30-goal, 70-point upside at a premium position. the complicated and essential question to answer is, “what does this all mean looking forward?” there is no doubt that attention to detail style of play combined with intelligent and quick decision-making is the start of a valuable foundation for him to continue to build on as he progresses into the nhl. however, that package of skills and habits will only take him so far when he advances to play against more intelligent and faster competition. in the he infrequently shows off his high octane offense, which reasonably has caused doubts about his offensive ceiling. at this moment in time, it is likely premature to value these concerns heavily enough to knock him off the top spot in the 2022 draft class. however, if these question marks around his offensive contributions still exist in july, it would be warranted to consider how his game will project to the nhl and if that assessment leads to a consensus 1st overall player. the expectation for (or any prospect for that matter) should not be to save the franchise or to be a generational talent, as he will most likely disappoint. a reasonable projection for would be in the range of a low-end 1st line to a high-end 2nd line which to some may sound pessimistic in the context of 1st overall. still, it is an essential piece to have on a successful team and is not easy to acquire. in addition, will likely benefit from being paired with skilled wingers, who can allow to focus on pushing play up ice to the offensive zone where his linemates can flourish. finally, with his shot, he will surely be a continual threat on the powerplay, where he has consistently shown he can score from many angles and distances. with high-end hockey sense highlighted by his tremendous offensive intelligence, can make a lot of plays. while he lacks a dynamic puck skills in terms of handling, he has one of the better shots in this draft class with a quick, deceptive release. though he has often been compared to patrice bergeron, i think is a good two-way player but not to the degree where that is an especially apt comparison. he does a lot of the things you hope a does in terms of puck possession, making plays and contributing in his own end. the offensive elements of his game are the standout traits for me. my biggest concern with to date is the general lack of progression in his game year over year, with the full knowledge that he missed an entire season. while i think he should be graded on a curve as a result, it is harder to know just how much that lost season impacted his long-term projection. hockey sense is a separating factor from most of his peers and he clearly has that competitive drive that allow him to win a lot of battles. in the end, i think does just about everything well. his hockey sense and his shot are high-end-to-elite traits, he has terrific vision and spots plays with the best of them, but the lack of a dynamic element to his play is what gives me the most concern aside from his progression. i have been waiting all season to see a player who looks like he should be a no. 1 nhl draft pick, and i did not feel his ceiling is at the same level as slafkovsky's or cooley's. is the safer pick of all three in that i think he has the highest floor of any of those three players and possesses an nhl-ready game. i don't think he's done developing and there's plenty of potential for him to still reach for, but my concern is that he's closer to plateauing than the other two players. i'm not convinced that's true yet, but it's definitely in the back of my mind as i rank these players because, to me, all three are very close. the top player from the class held this position from tip to tail on my board. is a highly intelligent pivot who boasts a heavy release, deft passing touch, and the wherewithal to package those tools into their situations. he lacks the separation speed you'd like from an elite centre but makes up for it with his nuanced understanding of the game. can connect plays, drive action, dish it or finish it, and thwart plays against. he's going to be good. in a draft year shaped by substantial depth rather than overwhelming star power, it's almost fitting that the least exciting option at first overall is the one. better still, the one, if you'll allow us that clunky pun. that would end up in that spot may have seemed like a foregone conclusion a year or two ago, but the gap year that the lost 2020-21 season forced on (and countless others) him slow out of the gates. two months of good-not-great production was enough to make the question of the first overall pick an open one for many in the industry, with new answers emerging first in the form of logan cooley and then later in juraj slafkovsky. in time, though, reminded the scouting community of his quality, ending many (not all…) of those conversa-tions emphatically. the 1.15 point per game clip that he ran through october and november turned to 1.36 by the end of the calendar year. from there, it just kept climbing until had amassed 94 points in 63 regular season contests by the season's end, good for a 1.49 point per game clip. it's still the lowest draft year points per game mark of any first overall pick out of the this side of rick nash in 2001, but a more selective and perhaps representative sample from december onward gets to 1.63 points per game. that's more than nico hischier in 2017 and ryan nugent-hopkins in 2011, for context. shifting our focus from the question of how many to how, is this draft's premier play-connector; an on-ice ad-ministrator through which his team's offensive and defensive sequences flow. by constantly surveying the ice, maintains a mental map of his surroundings with a downright topographical level of detail. he knows the position of his teammates like they're a long-established fact rather than a dynamic, changing set of options on the playing field, and moves the puck to them with a matching level of confidence. look-off passes, the give-and-go, one- and two-touch passes, reach-adjusted passing -- mastered every one of these tools en route to becoming one of the game's best playmaking centres not currently in the nhl. his cunning as a distributor with a high-level shot (even if it's a little peculiar from a mechanical perspective) that's especially potent off of the pass and some of the best hands in the class. he's the complete package offensively. we would, of course, feel better about shot if he used it a little more judiciously rather than settling for low percentage attempts under pressure, but that's a minor quibble for as scalable an offensive toolkit as you'll find in this class. then there's his play in the defensive zone. de-fensive reads, angles, and support play are beyond reproach. there may not be an art ross in his future, but the frank j. selke seems well within reach. we don't make the patrice bergeron comparison lightly, after all. all of these factors combined to make the consensus first overall pick for the elite prospects scouting staff. you just don't come across many players this polished or this well-rounded at 18-years-old, and that's too much to pass up on if you're holding the first pick in this july's draft. has been on the radar of scouts for a long-time now. he received exceptional status to play in the as a 15-year-old and put up amazing numbers at the time. unfortunately, he did not play last season because of covid restrictions in ontario. despite the missed time, captained to an under-18 gold medal in 2021 and put up 94 points this season. is potentially the most well-rounded player in the draft. he does everything really well, in all zones. he plays a mature game and has strong leadership qualities. originally looked like more of a goal-scorer in his 15-year-old season, but he has rounded out his playmaking as well in the past year or so. he finished top 10 in scoring. biggest asset is his shot and his ability to generate scoring opportunities. he can drive a line on his own, making him a potential number one at the nhl level. some scouts question his offensive ceiling for a potential number one pick, but he could easily put up 30 goals and 70 points at the nhl level with regularity. should jump into full-time nhl duty next season. is an elite two-way with incredible offensive ability. it's not often you watch players where you really struggle to find too many weaknesses at this level, but he has been that way for a while now. his intelligence on the ice is second-to-none and on full display in his playmaking, his lane pursuit, and his awareness. adds a pro caliber shot to his toolbox that will allow him to be a multi-dimensional offensive threat at the nhl level, sooner rather than later. he's so mature in his defensive game and because of that, he is just as effective defensively as he is offensively. he knows the nuances of playing the position and can properly support his defenders on every play. he never seems to be caught out of position and remains engaged and effective on both the rush and the cycle. the biggest issue with game this season was his inconsistent offensive production. through the christmas break, he wasn't producing the way a top-tier draft eligible prospect would in the but he put most of the questions about his production to rest with his amazing second-half explosion. there was an odd amount of discourse surrounding stature as the top player in this class given the way his season went. while it wasn't completely unwarranted, it is important to remember he missed essentially the entire 2020-21 season due to the pandemic, and had insane expectations coming off his rookie season. the way rebounded in the latter half of the year showed enough to remind people why he can be a future top-line in the nhl for years to come and why he is considered the odds-on favorite to be the number one selection in the nhl draft.\", \" is a very well-rounded defenseman. his puck game is great. he has the high-end brain to make a lot of tough plays often. can hit seams, make plays under pressure and makes a great outlet pass. he also shows individual skill which, when combined with good speed, allows him to be dangerous in transition too. defensively he's solid due to his skating, compete and brain, even though he's not imposing physically and can be trusted with tough responsibilities. projects as a top-pair defenseman. this kid turned 18 in the middle of february and he's already registered 65 points in 112 games at a professional level as a defenceman! statistical profile is as strong as any draft-eligible defenceman we've seen in recent years — and stronger than any player in this draft class. a poll of nhl scouts still gives czech defenceman david jiricek the slight edge, but i'd argue only further stamped what i believe to be the better case with his exceptional, record-setting play in nitra's playoff run and into the men's world championships. this is a kid who has looked a class above his peers whenever he's played with them, has excelled against nhlers on the senior stage, and is already a top player at his position in his top domestic league (albeit a difficult one to evaluate). is a calculated and poised three-zone defender who is capable of organizing play from the top of the zone, executing through seams in coverage at a high level, and starting and leading his fair share of rushes. he's got great edges and four-way mobility. and he also regularly flashes sneaky deception, which blends beautifully with his rare maturity for his age. though i wouldn't say he's a dynamic, game-breaking type offensively, i see plenty of calmness and talent, he knows when and how to push (and when and how to sit back and defend), he's already got pro size, he plays a polished game, and he's a righty. i expect him to become the best defenceman out of since zdeno chara and a true no. 2 (and maybe even no. 1) guy who plays an effective, efficient, play-driving modern game. the game just comes easy to him. with , you are netting a top pairing defender. while some of the report might scream that he is stronger offensively than he is defensively, he is well-rounded and well-adversed to defending the rush and neutralizing threats in his own zone. one of the very best passers in this draft, racked up a ton of assists this season with high-level vision and decisiveness with the puck on his stick. he finished with 26 points in 39 games in top pro league. the only u18 players to produce at a higher level at the same age as were forwards marian hossa and marian gaborik. and that was just the regular season. in the playoffs this year, had 17 points over the 19 games, by far a record in the league for a u18 player, though marian hossa's 1.43 points per game in the 1997 postseason will remain the high-water mark on a per-game rate. what did this year is largely unprecedented for a u18 defenseman. is clearly an intelligent offensive defenseman who defends at an average level. he is best with the puck on his stick, pushing pucks up ice and making plays. the offensive toolkit and offensive sense he possesses is clearly advanced for his age. his skating is at a high enough level and i think his overall hockey sense puts him among the top tier in this draft. that said, i think there are some limitations to his defensive game and there is a lot more he has to do to get detail in his game. he had a full green light it seemed at nitra, which is incredible confidence in a young guy, but we also got to see how often that could let him get out of position and create some headaches for his ‘d' partner. i think as he gets better at picking his spots, he could be a lethal offensive force for whichever team drafts him. i think he projects comfortably into a top-four role, but i just have a little more confidence in jiricek having a no. 1 defenseman ceiling compared to . the statistical comparables to draft year in the tipos extraliga are basically non-existent. he broke nearly every u21 record for defenders in the top slovak league and shone for his nation in most international events. is a right-shot kid with swagger and a mind for play creation. more of a problem-solver than a planner in transition, but has the tools to get away with it. he added creativity and shiftiness throughout the season. there's a top-pair upside here. šimon just put together the most productive draft year season from a defenceman in tipos extraliga history. in fact, marián hossa and marian gáborik are the only two other players in league history ever to best 26 points in 39 games as a first-time draft-eligible skater. some of that is survivorship bias in action. defencemen of quality don't usually play their draft year in the tipos extraliga; they fly for the czech extraliga or any other number of more challenging professional settings. the other part of the equation is that is just a really damn good hockey player. even a less difficult (all things be-ing relative) professional setting is still a professional setting, and he deserves a due of credit for the way he handled the assignment. it's not like hk nitra sheltered the 18-year-old slovak blueliner; his 20:15 a night in ice-time, according to our partners at instat, was third-highest on the team. how did pull it off? by constantly making the play at the time and rarely if ever deviating from his team's structure. you just won't find a more reliable, steady defenceman in this year's draft than . he isn't going to bring you out of your seat with any exhilarating displays of creativity or skill, but the trade-off is that he won't leave you shaking your head in disbelief at a poor decision or a costly turnover either. that posture isn't for a lack of skill or nhl-level tools. if anything, the opposite is true. we view as one of the draft's more toolsy defencemen, with above-average skating, handling, shooting, and passing skill. his one-timer is a veritable cannon. we also don't want you to get the idea that is strictly a stay-at-home defender either. while low percentage shots and an inability to create offensive advantages often marred our game reports for the 6-foot-1 blueliner, there was also a consistent appreciation for his offensive activations, be they on the rush or from the offensive blue line. he'll always take what's there. you would like to see that skill on the rush translate as a neutral zone defender, but that part of game is still a work in progress. a fairly accommodating gap and an inability to break down multivariable situations in space often conspired to leave the slovak defensive prospect help-less on the rush. his skating base and sense are such that should be able to iron out these parts of his game with time, but for now anyway, they represent something of an achilles heel in his game. overall, though, has one of the highest floors in this class. it's all too easy to imagine a scenario where he's playing top-four minutes in the nhl, featuring in both phases of special teams, and leveraging his tools and sense for consistently good-not-great points totals. any team would be happy to find such a player with a top-10 pick. risk management ability goes away, and on the breakout, where the forecheck can force him into imprecise passes. he has the patterns, but not the hockey sense to back it up. few players have been as dominant at the pro-level before their 18th birthday as . with a whopping 65 points in 112 games as a defenseman, has shown his game is mature enough to play against men. has all the makings of a modern-day first-pairing defenseman. an excellent skater, has a strong first pass and can keep and drive possession with his excellent instincts and puck mobility in the offensive zone. while strong offensively, he isn't a liability defensively either. he anticipates the play well defensively and has excellent gap control. rarely panics under pressure with the puck and makes excellent seam passes when being forechecked against. he also has excellent hands, making him a strong two-way threat whenever he is on the ice. some scouts have david jiricek above in this draft, but due to his proven production, i think has a slightly higher upside. he is likely a year away from nhl duty and projects as a top-pairing defender. is a mobile two-way and highly-intelligent slovak blueliner with all the makings of an elite top pairing defenseman. the standout in his game is his poise and confidence with the puck on his stick and how that is able to fuel his advanced playmaking game. he's a heads-up player at the offensive blue line, constantly surveying the offensive zone with his head on a swivel when the puck is on his stick to identify where teammates and potential offensive threats are. he's a smooth skater who is able to walk the line and use his legs to activate from the point when the puck is on his stick, allowing him to open up passing and shooting lanes with his mobility as well as making opposing checkers bite with his hands and shoulder fakes. his offensive vision is excellent, as he's capable of finding teammates with cross-ice passes to set up one-time opportunities and can feed teammates in the slot when handling the puck along the boards. he's a crisp and accurate passer who can deliver passes on the tape with purpose, as well as being capable of making soft finesse passes off both his forehand and backhand. he is also a more than capable puck-mover, as when he's working at his best his mobility, vision, and passing ability all combine to allow him to move pucks to teammates to start the breakout or move pucks himself. he's a capable defender who owns a good stick to breakup opposing rushes when defending in transition and he's generally well-positioned when defending in his own zone. in order to maximize his potential, will need to continue to work on his consistency in his reads to trim out some defensive turnovers out of his game, as well as show more growth in his strength and physicality.\", \" is a dynamic player. when he has the puck on his stick you instantly notice him because of his high-end speed, skill and offensive iq. he can make highly creative dekes and passes at full speed. the pace of his game is why i think he will be a top nhl player. he takes pucks up the ice and to the net often. lacks size, but he plays hard. he can drive play at even strength while also having the vision and shot to be a power-play threat running a unit from the walls. he projects as a first-line forward; as a he would be a low-end first-line in the nhl. is a beautiful, flowing skater capable of beating defenders off the mark, circling the zone to get defenders watching him with the puck, and manipulate them with his footwork and maneuverability in tight spaces. he's got an uncanny ability to side-step and hop around oncoming players at speed. he's got a great sixth sense for timing and spacing around the offensive zone which frees him to accept passes or jumps him onto rebounds. he regularly flashes skill to the inside, slicing to the middle and pulling pucks through or around defenders. he's also a swiss army knife player who combines nhl speed and skill with a working attitude to push the pace, make plays, win races, stay involved, and get onto the ice in all situations. i love his tempo and feel for the game out there. his touch with the puck and hands both get high grades, his skating (particularly his change of pace) and energy level are both differentiators, and those things make for a pretty compelling package. you won't find a scout who doesn't like him, either. the transition game into the offensive zone. the vision off the wall. he can play interior or exterior. he's incredibly crafty in control. he can stickhandle in a phone booth. he creates problems for defencemen attacking on angles and shifting at speed. he also has a scrappiness to his game that keeps him in the fight. is for sure one of the more well-rounded and talented players in the entire 2022 draft class. he certainly projects as a top-6 forward, who could play anywhere in the lineup and be able to contribute without question. based off his play to start the season, it wouldn't come as a shock to see name come off the draft board within the first 5 picks, possibly even inside the top 3. plenty of teams will fawn over his abilities and depending on the situation he's drafted into, that team may be able to sway his decision to forego the next season, and head straight to the nhl. over the last several months, i have constantly debated who was no. 1. i had at no. 1 at the mid-term and i waffled over the next few months when wright started picking up his play. that also coincided with dipping in production and playing a more complicated game than he needed to. but the reasons i had no. 1 then are the reasons i have him there now. this is not a great draft at the top, but he's this draft's most dynamic player with the greatest potential for explosive offense. with high-end speed and the ability to make high-level plays on the rush, he does things most players in this class cannot. while he played with a brilliant supporting class at the this year – as you'll see down this list at the number of u.s. u18s in the first-round range – was always heads above the rest in terms of the plays he could create and the way he dictated shifts throughout the season. i believe he can be a no. 1 at the next level if he continues on his current trend line. he competes on every inch of the ice and can play a strong north-south game despite his ability to stretch defenses with his east-west skill. as i've watched the playoffs this year, my thinking shifted even more. the best teams have fast, dynamic forwards that are constantly keeping defenders on their heels. they don't cede possession without trying all of their other options. processes the game as fast as anyone in this draft and his ability to spot plays in transition is a major separator from the field. he has vision, threads passes well and can get behind defenders to give himself better looks at the net. is headed to the university of next year, which has been a solid training ground the last few years for players on the nhl track. i think he's probably a one-and-done in player and would be ready to make an nhl impact by 2023-24. in the end it's not about when he arrives, but how he progresses. i think he has the highest ceiling of any of the top three nhl prospects and plays the style most consistent with the modern nhl's. speed is a premium and he brings it in spades, with the ability to finish plays as well as anyone else in this class. if everything goes for him, and that's always a big if with any player's i think could be a superstar in the league. a highly creative, speed-driven pivot who brings a lot of pop down the middle. really showed his ability to activate and make plays off of the rush this season. very exciting hands to go with the quick feet. should be able to play a comprehensive, all-situations role in a few years. you won't find a more singularly-gifted puckhandler in this year's draft than . he's a human highlight-reel, swashbuckling his way through defenders like a hot knife cuts through butter. it all starts with the first touch, and has the best one in this class. the way he seamlessly blends pass recep-tions at speed into his first move without breaking stride is almost unfair. whether it's catching a difficult pass on the backhand, forehand, or inside a crossover -- making it happen. it's like watching a wide receiver with an unlimited catch radius. the way keeps his top hand pushed out from his body as a handler for the full range of motion, changes speeds and lanes through the neutral zone, and deceives with shoulder feints and look-offs -- this is pro-level stuff. you can rest assured that this part of his game is going to scale up to the nhl in at least some capacity. more than just an and1 mixtape on skates, though. he's one of the rare triple-threat scorers in this draft. all of those moves serve a purpose, whether it's drawing in defenders to create space elsewhere, opening up passing lanes, or getting into better shooting positions. think of it as controlled chaos. there -- the vision and anticipation to see developing plays, the cunning and deception to make them more easily attain-able, and the touch as a distributor to connect. our only real concern with projection is the ab-sence of any high-end tools outside of his skill as a handler. even then, tendency to play beyond his considerable skill level often turns his greatest asset into a liability. there were just far too many turnovers and low percentage plays in his draft year for our liking. on the one hand, you want to see a gifted player like test the limits of their game every time he takes the ice; on the other, a little discretion would go a long way. where managed to allay our concerns on that front was with his growth this season as an off-the-puck scoring threat. it showed our staff that there was a way for him to stay involved in his team's offence even when he's not driving play personally. the proof of concept that he can produce in a more selfless fashion. supports the play well, consistently displays an understanding of the rotation habits of everyone on the ice, perfectly times his movements into space, and prepares his body and footwork to send one- and two-touch attempts on goal as the puck finds him. still, it wouldn't hurt to add another gear as a skater. he's a bit top-heavy, lacks explosive lateral mobility, and sometimes struggles to access his outside edges. he's about an nhl average skater as currently constructed, and it's definitely a part of his game that could stand to improve. overall, though, there's no disputing no. 1 centre upside, even if it's hardly a foregone conclusion that he gets there at the height of his career. just having that within his range of realistic outcomes counts for a lot. a small, speedy dominated the and solidified himself in my top five as the season progressed. consistently took over games using his excellent speed and instincts. more of a playmaker than a goal-scorer, can drive a line on his own. he can run a powerplay and isn't afraid to put himself in harm's way to make a play. he is also a relentless forechecker and possession driver. plays with high tempo and energy. not only is he a great skater, but he is also incredibly agile and uses this ability to elude defenders. he is also excellent defensively and is rarely a liability in his own zone. makes excellent transition plays and finds ways to utilize all his teammates on a regular basis. he has shown he can drive a line and there is a dynamic quality to his game. is a likely top-five pick and could go as high as number two. he is slated to attend the university of next season. is likely one year away from nhl duty. juraj slafkovsky drives offense from the wing. he's a massive winger who has made a strong case to challenge for first overall. he can play at a high pace and has impressive agility for someone his size. using strong strides with his long legs, he can generate a lot of speed with just a few steps. while he lacks that extra gear to create separation, it's how well he protects the puck when challenged that makes up for any speed or burst concerns that may follow him. with strong stickhandling and the ability to move the puck in tight, he can control possession as well as the pace of the play. on-ice awareness in all three zones is another aspect of his game where he excels, making the extra effort on backchecks as well as going down low to support his blueliners when defending. he also uses his stick very well, taking advantage of his long reach to win battles to loose pucks. he has such immense offensive potential that it can be frustrating to see him pass up great scoring opportunities for himself and teammates. learning how to take what's given to him and remove moments of tunnel-vision from his game is something he will need to improve on to be a more consistent impact player when attacking. his unique blend of size and skill could make him a dominant player at the nhl level. he is the ultimate swing on upside while still having a solid floor. if he becomes the player he is capable of developing into, there is little doubt slafkovsky will be a force at the nhl for the next 15 years and people will wonder why there was even a debate about the top pick in this class. if he doesn't hit his that potential, he's still got potential as a top-six scoring winger who impacts the game regularly.\", \" is a big, right-shot defenseman who makes an impact at both ends of the rink. he has great individual skill to make opponents miss. you combine that with very good vision and a hard point shot, and inside the offensive zone he can make a lot happen and be dangerous on a power play. his skating won't dazzle, but for his size he gets around well enough. what his skating looks like post-knee surgery is something to monitor. he shows some shiftiness to pull away from checks, but lacks ideal speed and burst for the nhl level. despite that, he defends well due to his reach and a high level of physical play, often punishing opposing forwards with his body. he projects as a top-pair defenseman. after suffering a knee injury at the world juniors, returned in time to play with the czechia men's national team ahead of and into men's worlds in their april and may international schedule, an important series of games which helped him reaffirm to nhl clubs that the layoff wouldn't impact him. before the injury, he was a big part of a top team in the tipsport extraliga, contributing at both ends and driving possession and scoring results for the second consecutive season while playing more than 18 minutes a game. he has some extremely desirable attributes, marked by one of — if not the — hardest point shots in the draft (it's a bomb, and he does a really good job keeping it on target and a few feet off the ice), a strong, athletic 6-foot-3 frame, and a more commanding on-ice presence than nemec's. he's a strong and sturdy defender who plays a staunch man-to-man style, moves his feet well for his size, and thrives in transition with his ability to both close out on gaps with his length through neutral ice and lead a ton of rushes as a puck transporter. offensively, he's also a capable handler and distributor whose point shot is complemented by an aggressive approach. his game isn't as tactile as nemec's, but he's more than just an athletically gifted, hard-shooting, attacking (offensively and defensively) defender. there are also some subtleties to his game (passes that are almost never off-target, a sneaky-silky first touch, etc.). but his modus operandi is that he's a confident, active, engaged three-zone player who has all of the tools you look for in a top defender. as he continues to smooth out and polish his game, it's hard to imagine he doesn't become, at the very least, a top-four guy. and if he hits the notes along his path, his ceiling will be very high. he's hard not to get excited about, even if i prefer nemec's style. top pairing defenseman at the nhl level if he works on his positioning in the defensive zone and can continue work on acceleration when hunting for defensive recoveries. a highly mobile, 6-foot-3 defenseman with a bomb of a shot and solid puck-moving capabilities, has incredible upside relative to the class. he missed the second half of the season due to a knee injury, needing more than three months to rehab. returned in time to play for the czech national team at the men's world championship, showing that he's healthy and prepared to make an impact. when he played, he played well – showcasing that tremendous mobility and the physical stature that made him look no different than the professionals he was playing with and against. has played professionally over each of the last two seasons, more than holding his own as a youngster in a tough czech league. this year, he had 11 points with plzen. it is very possible he'd be back with plzen next season, unless the team that drafts him wants to bring him to north america to get started in the ahl. he still has a lot of ahead of him. that said, the skill set he has shown, the well-roundedness of his game and his size profile are all reasons i have him just a hair above nemec in this particular class. i think there's a little more ceiling for to reach. a knee injury fractured jiříček's season, but it was still a formidable one. the czechia defender plays a cerebral game with a bevy of physical tools. the skating was never a strong suit and since the injury, it's looked a little shakier. that will be item no. 1 to clean up. but if he can get that part of his game back on track, there's a legitimate top-four upside. jiříček finishes the year as the highest-ranked de-fenceman for elite prospects after a year-long dogfight with šimon nemec for the distinction. this endorsement, of course, marks something of a depar-ture from the industry consensus, but it's a position we've arrived at confidently. the more eyes our group set on jiříček, the more we came to admire the way he plied his trade. there were even some in our ranks who were so bold as to float the possibility of jiříček at no. 1 overall. the book on jiříček is a tome at this stage. he's already played two full years of professional hockey in the czech extraliga with hc plzeň, and he has a wealth of international experience that would be the envy of most 10-year nhl vet-erans. we're talking about close to 10 separate appearances in his country's colours the last two seasons, including a pair of trips to the world juniors and a tour on the czech blue line at this year's world hockey championship. and for the most part, jiříček handled each assignment admirably. his creativity at the offensive blue line, coupled with a constant drive to push the boundaries of his skill set, made him this draft's most compelling offensive defenceman. not content to unleash his cannon of a slap shot from the furthest recesses of the offensive zone, jiříček sought to create advantages in the attacking third with every touch. he would use the threat of his shot to open up passing lanes or skate into space to draw in defenders before sending the puck elsewhere. with natural agility and elusiveness as a skater, some skill as a handler, and an understanding of how to leverage his 6-foot-3 frame to protect the puck, there isn't any reason we can't expect this to continue to at least some degree in the nhl. now, there is some room for improvement there. jiříček doesn't settle for low percentage shots at the point, but that doesn't mean that the czech blueliner hasn't stepped into a few attempts that go off of a defender's shinpads and escape his team's possession from time to time. his handling me-chanics have proven inconsistent this season, too. the big question here, though, is whether an nhl coach will give jiříček the freedom to play his sometimes freewheel-ing style. it's going to play a critical role in determining his developmental arc. time will tell. there needn't be any concern over whether jiříček's going to be able to hang in a high leverage role at the nhl level, though. there's a durable defensive foundation in place that will carry him to a top-four role at a bare minimum, even if his play with the puck doesn't come along for the ride. the 18-year-old czech blueliner plays a tight gap through the neutral zone, deploys sound footwork defending the blue line, and contains exceptionally well in body-on-body defensive scenarios. few players in this draft can match jiříček as a play-stopper. you need to be able to move the puck in the contemporary nhl, and jiříček is up to that task, too. you'd like to see a little more scanning pre-touch on defensive zone retrievals, and maybe a little more patience with the puck sometimes, but we still view his transition game as an nhl-level part of his profile. in jiříček you're looking at a 6-foot-3, right-shot defenceman who can do just about everything at a low-end top-pairing level through the height of his career, and that's a hell of a return on one's investment at the top of the draft. similar to nemec, plays a mature game for his age. while nemec is a better skater, plays a more complete physical game. is a hard-hitter and loves to engage physically. his defensive game is his calling card, and he uses his frame well to break up plays. he also has a tremendously hard shot, perhaps the hardest slap shot of any defenseman in this draft. is an asset in all three zones, whether with or without the puck, making him a coveted player in the draft. he also excelled playing against men in the czech republic's top league. he doesn't bend under pressure and makes excellent puck decisions. a serious knee injury derailed much of his season, but he has appeared to make a full recovery. has some raw tools, plays with high pace, and is physically mature. his overall game needs to be more consistent, but that will come with time and maturity. he is likely two years away from full-time nhl duty and projects as a top-four defenseman at the nhl level. is an exceptional two-way defenseman who really helps drive the transition play with his mobility and his puck skills. he possesses a ton of patience and poise with the puck on his stick, using his head to scan the play, oftentimes looking like a veteran well above his age. he rarely rushes a decision with the puck, scanning all possible options before delivering a pass. his passing is one of his best attributes, making strong outlet dishes from the defensive zone to push the play up ice. there is not a pass on the ice that he doesn't feel he can't make, which makes it even more impressive that he rarely forces a low percentage pass that'll result in a turnover. his size and high-end skating make him a force at the defensive end of the ice. his ability to defend the rush is top-notch, using his body and stick to maintain solid gap control and easily steer oncoming attackers away from the lane and completely negating their offensive momentum. like any young player, there is some mental errors in his game that will start to disappear as he gets older and gains more playing experience and maturity. there are some mistimed pinches at times, leaving him having to race back to catch the play after getting burnt. on occasion, he tries to add some creativity in his game, from a little stutter-step at the blue line to a squeeze down the boards. this tends to end up in a turnover, so he should try to keep his game a little simpler. he projects as a top-pairing defenseman who will be heavily relied on to play in all situations in the nhl. has the physical gifts and the skillset to make a massive impact from the back end. it would not be a surprise if he is the first defenseman taken in the nhl draft.\"]\n",
            "labels first 5: [15, 23, 16, 1, 5]\n",
            "draft_position first 5: [1, 4, 2, 3, 6]\n",
            "player_position first 5: [3, 0, 1, 0, 1]\n"
          ]
        }
      ],
      "source": [
        "corpus, labels, draft_position, player_position, player_name, team, height, weight = [], [], [], [], [], [], [], []\n",
        "\n",
        "scouting_reports = [\n",
        "    'Description - Corey Pronman',\n",
        "    'Description - Scott Wheeler',\n",
        "    'Description - Smaht Scouting',\n",
        "    'Description - ESPN (Chris Peters)',\n",
        "    'Description - EP Rinkside', \n",
        "    'Description - EP Rinkside Part 2',\n",
        "    'Description - The Painted Lines',\n",
        "    'Description - FCHockey'\n",
        "]\n",
        "\n",
        "\n",
        "# remove references to leagues, teams, and nationalities\n",
        "hockey_words = [\"usntdp\", \"ntdp\", \"development\", \"program\",\n",
        "                \"khl\", \"shl\", \"ushl\", \"ncaa\", \"ohl\", \"chl\", \"whl\", \"qmjhl\",\n",
        "                \"sweden\", \"russia\", \"usa\", \"canada\", \"ojhl\", \"finland\", \n",
        "                \"finnish\", \"swedish\", \"russian\", \"american\", \"wisconsin\",\n",
        "                \"michigan\", \"bc\", \"boston\", \"london\", \"bchl\", \"kelowna\",\n",
        "                \"liiga\", \n",
        "                \"portland\", \"minnesota\", \"ska\", \"frolunda\", \"sjhl\", \"college\",\n",
        "                \"center\", \"left\", \"right\", \"saginaw\", \"kelowna\", \"frolunda\",\n",
        "                \"slovakia\"]\n",
        "\n",
        "\n",
        "for index, row in data.iterrows():\n",
        "  text = \"\"\n",
        "  for report in scouting_reports:\n",
        "    # skip null reports\n",
        "    if pd.isnull(row[report]):\n",
        "      continue\n",
        "\n",
        "    scouting_report = row[report]\n",
        "    scouting_report = scouting_report.lower()\n",
        "    # remove player name from report\n",
        "    names = row['Name'].lower().split(' ')\n",
        "    for name in names:\n",
        "      scouting_report = scouting_report.replace(name + \"'s\", '')\n",
        "      scouting_report = scouting_report.replace(name, '')\n",
        "    \n",
        "    scouting_report = scouting_report.replace('\\n', ' ')\n",
        "    scouting_report = scouting_report.replace('\\r', '')\n",
        "\n",
        "    # remove hockey specific stop words\n",
        "    # TODO: there is an issue where a hockey word includes punctuation, it does not get removed\n",
        "    # for instance: \"usntdp,\" will not get removed\n",
        "    scouting_report = scouting_report.split()\n",
        "    scouting_report = [word for word in scouting_report if (word.replace(\"'s\", \"\").replace(\",\", \"\").replace(\".\", \"\") not in hockey_words)]\n",
        "    # join back on spaces\n",
        "    scouting_report = ' '.join(scouting_report)\n",
        "\n",
        "    text = text + \" \" + scouting_report\n",
        "\n",
        "  # append to dataset\n",
        "  corpus.append(text)\n",
        "  labels.append(row['Team'])\n",
        "  draft_position.append(row['Drafted'])\n",
        "  player_position.append(row['Position'])\n",
        "  player_name.append(row['Name'])\n",
        "  team.append(row['Team'])\n",
        "  height.append(row['Height'])\n",
        "  weight.append(row['Weight'])\n",
        "# sanity check values\n",
        "print(f\"length of corpus: {len(corpus)}\")\n",
        "print(f\"length of labels: {len(labels)}\")\n",
        "print(f\"length of draft_position: {len(draft_position)}\")\n",
        "print(f\"length of player_position: {len(player_position)}\")\n",
        "\n",
        "print(f\"corpus first 5: {corpus[0:5]}\")\n",
        "print(f\"labels first 5: {labels[0:5]}\")\n",
        "print(f\"draft_position first 5: {draft_position[0:5]}\")\n",
        "print(f\"player_position first 5: {player_position[0:5]}\")"
      ]
    },
    {
      "cell_type": "code",
      "execution_count": 82,
      "metadata": {},
      "outputs": [
        {
          "name": "stdout",
          "output_type": "stream",
          "text": [
            "Top-5 most similar pairs:\n",
            "Andreas Englund \t Dominik Masin \t 0.9529\n",
            "Noah Ostlund \t Frank Nazar \t 0.9528\n",
            "Marcus Pettersson \t Henri Jokiharju \t 0.9522\n",
            "Noah Ostlund \t Roni Hirvonen \t 0.9517\n",
            "Matthew Savoie \t Cutter Gauthier \t 0.9515\n",
            "Philip Tomasino \t Henri Jokiharju \t 0.9509\n",
            "Brandon Carlo \t Andreas Englund \t 0.9496\n",
            "Frank Nazar \t Logan Cooley \t 0.9483\n",
            "Tobias Bjornfoot \t Grigori Denisenko \t 0.9478\n",
            "Seamus Casey \t Henri Jokiharju \t 0.9471\n"
          ]
        }
      ],
      "source": [
        "# attempting to vectorize using bert embeddings\n",
        "from sentence_transformers import SentenceTransformer, util\n",
        "model = SentenceTransformer('all-mpnet-base-v2')\n",
        "model.max_seq_length = 510\n",
        "X = pd.DataFrame(list(zip(team, player_name, draft_position, height, weight, player_position, corpus)), columns=['team', 'player_name', 'draft_position', 'height', 'weight', 'player_position', 'report'])\n",
        "X['embeddings'] = 0\n",
        "X['embeddings'] = X['embeddings'].astype('float64')\n",
        "Y = labels\n",
        "\n",
        "# create train test splits of data\n",
        "X_train, X_test, y_train, y_test = train_test_split(X, Y, test_size=0.33)\n",
        "\n",
        "#print(f\"Boqvist Report: {X_train[X_train['player_name'] == 'Jesper Boqvist']['report'].values[0]}\")\n",
        "sentences = X_train['report'].values\n",
        "players = X_train['player_name'].values\n",
        "#Encode all sentences\n",
        "embeddings = model.encode(sentences)\n",
        "\n",
        "#Compute cosine similarity between all pairs\n",
        "cos_sim = util.cos_sim(embeddings, embeddings)\n",
        "\n",
        "#Add all pairs to a list with their cosine similarity score\n",
        "all_sentence_combinations = []\n",
        "for i in range(len(cos_sim)-1):\n",
        "    for j in range(i+1, len(cos_sim)):\n",
        "        all_sentence_combinations.append([cos_sim[i][j], i, j])\n",
        "\n",
        "#Sort list by the highest cosine similarity score\n",
        "all_sentence_combinations = sorted(all_sentence_combinations, key=lambda x: x[0], reverse=True)\n",
        "\n",
        "print(\"Top-5 most similar pairs:\")\n",
        "for score, i, j in all_sentence_combinations[0:10]:\n",
        "    print(\"{} \\t {} \\t {:.4f}\".format(players[i], players[j], cos_sim[i][j]))"
      ]
    },
    {
      "attachments": {},
      "cell_type": "markdown",
      "metadata": {},
      "source": []
    },
    {
      "cell_type": "code",
      "execution_count": 125,
      "metadata": {},
      "outputs": [
        {
          "name": "stdout",
          "output_type": "stream",
          "text": [
            "pre-normalized embeddings: -0.00012965565838385373\n",
            "post-normalized embeddings: -0.00012965565838385373\n"
          ]
        },
        {
          "data": {
            "text/plain": [
              "70    [-0.014798667, 0.050005537, 0.016570205, 0.004...\n",
              "Name: embeddings, dtype: object"
            ]
          },
          "execution_count": 125,
          "metadata": {},
          "output_type": "execute_result"
        }
      ],
      "source": [
        "VECTOR_SIZE = 100\n",
        "from sklearn.preprocessing import Normalizer\n",
        "\n",
        "print(f\"pre-normalized embeddings: {embeddings[0].mean(axis=0)}\")\n",
        "transformer = Normalizer().fit(embeddings)\n",
        "embeddings = transformer.transform(embeddings)\n",
        "print(f\"post-normalized embeddings: {embeddings[0].mean(axis=0)}\")\n",
        "def vectorize(sentence):\n",
        "    words = sentence.split()\n",
        "    words_vecs = [model.wv[word] for word in words if word in model.wv.index_to_key]\n",
        "    if len(words_vecs) == 0:\n",
        "        return np.zeros(VECTOR_SIZE)\n",
        "    words_vecs = np.array(words_vecs)\n",
        "    return words_vecs.mean(axis=0)\n",
        "\n",
        "converted_embeddings = [embedding.mean(axis=0, dtype=np.float64) for embedding in embeddings]\n",
        "X_train['embeddings'] = [embedding for embedding in embeddings]\n",
        "#X_train['embeddings'] = [embedding.mean(axis=0, dtype=np.float64) for embedding in embeddings]\n",
        "#X_test['report'] = np.array([vectorize(sentence) for sentence in X_test['report'].values])\n",
        "\n",
        "X_train['embeddings'].head(1)"
      ]
    },
    {
      "attachments": {},
      "cell_type": "markdown",
      "metadata": {
        "id": "gO_ft5BGwHM6"
      },
      "source": [
        "Exploring Kmeans now for unsupervised learning"
      ]
    },
    {
      "cell_type": "code",
      "execution_count": 126,
      "metadata": {
        "colab": {
          "base_uri": "https://localhost:8080/",
          "height": 478
        },
        "id": "dfWJzirL4dMV",
        "outputId": "deadfa2e-2a6f-4736-d5cc-276da9c025f7"
      },
      "outputs": [
        {
          "data": {
            "image/png": "[encoded data removed]",
            "text/plain": [
              "<Figure size 640x480 with 1 Axes>"
            ]
          },
          "metadata": {},
          "output_type": "display_data"
        }
      ],
      "source": [
        "def plot_silhouette_scores(data, start, end, step):\n",
        "  # A list holds the silhouette coefficients for each k\n",
        "  silhouette_coefficients = []\n",
        "  formated_data = data\n",
        "\n",
        "  # Notice you start at 2 clusters for silhouette coefficient\n",
        "  for k in range(start, end, step):\n",
        "    kmeans = KMeans(n_clusters=k, n_init=2, max_iter=1000)\n",
        "    kmeans.fit(formated_data)\n",
        "    score = silhouette_score(formated_data, kmeans.labels_)\n",
        "    silhouette_coefficients.append(score)\n",
        "\n",
        "  plt.style.use(\"fivethirtyeight\")\n",
        "  plt.plot(range(start, end, step), silhouette_coefficients)\n",
        "  plt.xticks(range(start, end, step))\n",
        "  plt.xlabel(\"Number of Clusters\")\n",
        "  plt.ylabel(\"Silhouette Coefficient\")\n",
        "  plt.show()\n",
        "\n",
        "\n",
        "\n",
        "formated_data = np.vstack(X_train['embeddings'])\n",
        "temp_data = []\n",
        "for index, row in enumerate(formated_data):\n",
        "  temp_data.append(np.concatenate((formated_data[index], [X_train['height'].values[index]], [X_train['weight'].values[index]])))\n",
        "  #formated_data[index] = np.append(formated_data[index], X_train['weight'].values[index])\n",
        "data = np.array(temp_data)\n",
        "plot_silhouette_scores(data, 2, 25, 1)"
      ]
    },
    {
      "attachments": {},
      "cell_type": "markdown",
      "metadata": {
        "id": "Ygr7A-oA5j1N"
      },
      "source": [
        "The extremely low silhouette score implies there is a lot of overlap in classification of values. There might have to be some more data massaging in order to get this value higher"
      ]
    },
    {
      "cell_type": "code",
      "execution_count": 129,
      "metadata": {
        "id": "JW6DUWrz-KHQ"
      },
      "outputs": [],
      "source": [
        "SELECTED_CLUSTERS = 4"
      ]
    },
    {
      "cell_type": "code",
      "execution_count": 130,
      "metadata": {
        "id": "JhEabsKVvzCs"
      },
      "outputs": [],
      "source": [
        "# use the number of clusters found to be the best in graph above\n",
        "kmeans = KMeans(n_clusters=SELECTED_CLUSTERS, n_init = 5)\n",
        "#labels = kmeans.fit_predict(np.array(X_train[['embeddings', 'height', 'weight']]).reshape(-1, 1))\n",
        "labels = kmeans.fit_predict(data)\n",
        "\n",
        "X_train['label'] = labels"
      ]
    },
    {
      "cell_type": "code",
      "execution_count": 131,
      "metadata": {
        "colab": {
          "base_uri": "https://localhost:8080/"
        },
        "id": "UMYQIYzX6-8J",
        "outputId": "e6a8efab-585b-4916-bf76-b3622f101415"
      },
      "outputs": [],
      "source": [
        "# show the top words for each cluster that was created\n",
        "def get_top_features_cluster(X_train):\n",
        "    data = X_train[X_train['label'] == 14]\n",
        "    for index, row in data.iterrows():\n",
        "        print(\"\")\n",
        "        print(\"player name: {}\", row['player_name'])\n",
        "        print(row['report'])\n",
        "        \n",
        "    \n",
        "\n",
        "get_top_features_cluster(X_train)"
      ]
    },
    {
      "cell_type": "code",
      "execution_count": 132,
      "metadata": {
        "colab": {
          "base_uri": "https://localhost:8080/",
          "height": 785
        },
        "id": "aCs5gdAiSLFr",
        "outputId": "736d27a5-1f7a-4957-95cb-72ecd2ff2b87"
      },
      "outputs": [
        {
          "name": "stdout",
          "output_type": "stream",
          "text": [
            "Index(['team', 'player_name', 'draft_position', 'height', 'weight',\n",
            "       'player_position', 'report', 'embeddings', 'label'],\n",
            "      dtype='object')\n",
            "     team      player_name  draft_position  height  weight  player_position  \\\n",
            "70      0   Sasha Pastujov              66   72.00   175.0                4   \n",
            "76      4     Scott Morrow              40   74.00   198.0                1   \n",
            "19      3     Noah Ostlund              16   70.00   164.0                0   \n",
            "155     4  Pyotr Kochetkov              36   75.25   180.0                2   \n",
            "309     1     Nick Merkley              30   70.50   191.0                4   \n",
            "\n",
            "                                                report  \\\n",
            "70    has been a very productive player with the u....   \n",
            "76    played most of the year at shattuck's u18 tea...   \n",
            "19    possesses impressive speed and skill. he's ab...   \n",
            "155   a third-year eligible goaltender, really turn...   \n",
            "309   had a very impressive season as one of the to...   \n",
            "\n",
            "                                            embeddings  label  \n",
            "70   [-0.014798667, 0.050005537, 0.016570205, 0.004...      0  \n",
            "76   [-0.0029809182, 0.027408188, 0.022637675, 0.01...      3  \n",
            "19   [-0.017225003, 0.0030631875, 0.027422871, 0.02...      2  \n",
            "155  [0.008511425, -0.0111166565, 0.015352959, 0.01...      0  \n",
            "309  [0.006151362, 0.051210664, 0.03518452, 0.01431...      3  \n"
          ]
        },
        {
          "data": {
            "application/vnd.plotly.v1+json": {
              "config": {
                "plotlyServerURL": "https://plot.ly"
              },
              "data": [
                {
                  "branchvalues": "total",
                  "domain": {
                    "x": [
                      0,
                      1
                    ],
                    "y": [
                      0,
                      1
                    ]
                  },
                  "hovertemplate": "labels=%{label}<br>count=%{value}<br>parent=%{parent}<br>id=%{id}<extra></extra>",
                  "ids": [
                    "1/A.J. Greer",
                    "1/Aaron Ekblad",
                    "0/Aatu Raty",
                    "2/Adam Boqvist",
                    "2/Aleksi Heponiemi",
                    "2/Alex Debrincat",
                    "3/Alex Nedeljkovic",
                    "3/Alex Newhook",
                    "1/Alex Tuch",
                    "0/Alex Turcotte",
                    "3/Alexis Lafreniere",
                    "3/Andreas Englund",
                    "3/Andrew Peeke",
                    "3/Antti Tuomisto",
                    "3/Arthur Kaliyev",
                    "1/Auston Matthews",
                    "2/Ayrton Martino",
                    "3/Barret Hayton",
                    "3/Bowen Byram",
                    "0/Brad Lambert",
                    "3/Braden Schneider",
                    "3/Brandon Carlo",
                    "0/Brandt Clarke",
                    "0/Brendan Brisson",
                    "1/Brendan Lemieux",
                    "1/Brendan Perlini",
                    "3/Brett Howden",
                    "3/Brock Boeser",
                    "3/Calle Odelius",
                    "2/Cameron York",
                    "3/Carson Lambos",
                    "3/Casey Mittelstadt",
                    "2/Chaz Lucius",
                    "1/Christian Fischer",
                    "2/Clayton Keller",
                    "0/Cody Glass",
                    "3/Cole Sillinger",
                    "0/Colin White",
                    "3/Conner Bleackley",
                    "0/Connor McMichael",
                    "0/Conor Timmins",
                    "3/Corson Ceulemans",
                    "3/Cutter Gauthier",
                    "0/Daniil Chayka",
                    "3/David Jiricek",
                    "2/David Pastranak",
                    "0/Dawson Mercer",
                    "0/Denis Gurianov",
                    "3/Denton Mateychuk",
                    "0/Dominik Bokk",
                    "3/Dominik Masin",
                    "0/Dylan Cozens",
                    "0/Dylan Duke",
                    "2/Dylan Guenther",
                    "0/Dylan Strome",
                    "3/Eeli Tolvanen",
                    "0/Emil Andrae",
                    "0/Erik Brannstrom",
                    "3/Evan Bouchard",
                    "0/Fabian Lysell",
                    "0/Filip Johansson",
                    "2/Filip Mesar",
                    "3/Filip Zadina",
                    "0/Frank Nazar",
                    "0/Gabriel Carlsson",
                    "0/Gabriel Gagne",
                    "3/Gabriel Vilardi",
                    "3/German Rubtsov",
                    "0/Gleb Trikozov",
                    "2/Grigori Denisenko",
                    "0/Gustav Lindstrom",
                    "0/Hendrix Lapierre",
                    "3/Henri Jokiharju",
                    "0/Henrik Borgstrom",
                    "3/Ilya Samsonov",
                    "0/Isaac Howard",
                    "3/Isaac Ratcliffe",
                    "0/Isac Lundestrom",
                    "2/Isak Rosen",
                    "0/Ivan Miroshnichenko",
                    "3/Ivan Provorov",
                    "3/Jack Eichel",
                    "0/Jack Quinn",
                    "0/Jackson Lacombe",
                    "0/Jacob Bernard-Docker",
                    "3/Jacob Perreault",
                    "2/Jagger Firkus",
                    "2/Jake Bean",
                    "1/Jake Oettinger",
                    "0/Jake Sanderson",
                    "3/Jakob Chychrun",
                    "2/Jakob Pelletier",
                    "0/Jakub Vrana",
                    "0/Jakub Zboril",
                    "0/Jamie Drysdale",
                    "0/Jared McCann",
                    "3/Jared McIsaac",
                    "3/Jason Robertson",
                    "0/Jay O'Brien",
                    "3/Jayce Hawryluk",
                    "3/Jeremie Poirier",
                    "2/Jesper Boqvist",
                    "0/Jesperi Kotkaniemi",
                    "3/Jesse Piljujarvi",
                    "2/Jesse Ylonen",
                    "3/Jett Woo",
                    "3/Jimmy Snuggerud",
                    "0/Joakim Kemell",
                    "3/Joe Veleno",
                    "2/Joel Farabee",
                    "1/John Beecher",
                    "0/John Quennville",
                    "0/Jonatan Berggren",
                    "2/Jonathan Lekkerimaki",
                    "0/Josh Ho-Sang",
                    "0/Julius Honka",
                    "1/Juraj Slafkovsky",
                    "3/Justin Barron",
                    "1/Juuso Valimaki",
                    "3/K'Andre Miller",
                    "3/Kaapo Kakko",
                    "0/Kaiden Guhle",
                    "0/Kasperi Kapanen",
                    "0/Kevin Fiala",
                    "0/Kevin Korchinski",
                    "3/Kieffer Bellows",
                    "1/Klim Kostin",
                    "1/Kristian Vesalainen",
                    "0/Kyle Connor",
                    "0/Lassi Thomson",
                    "2/Liam Foudy",
                    "1/Lian Bichsel",
                    "1/Logan Brown",
                    "0/Logan Cooley",
                    "2/Logan Stankoven",
                    "1/Logan Stanley",
                    "0/Lucas Johansen",
                    "2/Lukas Reichel",
                    "0/Luke Hughes",
                    "3/Mackie Samoskevich",
                    "3/Mads Sogaard",
                    "0/Marat Khusnutdinov",
                    "0/Marco Kasper",
                    "0/Marco Rossi",
                    "3/Marcus Davidsson",
                    "2/Marcus Pettersson",
                    "0/Martin Kaut",
                    "0/Martin Necas",
                    "0/Matthew Barzal",
                    "0/Matthew Savoie",
                    "3/Matthew Tkachuk",
                    "2/Mattias Havelid",
                    "0/Michael Dal Colle",
                    "0/Michael McLeod",
                    "1/Michael Rasmussen",
                    "1/Mikhail Sergachev",
                    "2/Miro Heiskanen",
                    "2/Morgan Frost",
                    "3/Nick Merkley",
                    "2/Nick Schmaltz",
                    "0/Nick Suzuki",
                    "0/Nico Hischier",
                    "2/Nicolas Beaudin",
                    "1/Nicolas Meloche",
                    "2/Nikita Chibrikov",
                    "0/Nikita Scherbak",
                    "2/Nikolaj Ehlers",
                    "0/Nikolay Goldobin",
                    "0/Nils Hoglander",
                    "2/Nils Lundkvist",
                    "0/Noah Dobson",
                    "0/Noah Juulsen",
                    "2/Noah Ostlund",
                    "3/Nolan Foote",
                    "3/Nolan Patrick",
                    "1/Oliver Whahlstrom",
                    "1/Owen Power",
                    "2/Pascal Laberge",
                    "3/Patrik Laine",
                    "1/Paul Bittner",
                    "3/Pavel Mintyukov",
                    "0/Peyton Krebs",
                    "0/Philip Tomasino",
                    "1/Pierre-Luc Dubois",
                    "2/Pierre-Olivier Joseph",
                    "0/Pyotr Kochetkov",
                    "0/Quinn Hughes",
                    "3/Raphael Lavoie",
                    "0/Rasmus Dahlin",
                    "0/Rasmus Sandin",
                    "1/Riley Tufte",
                    "3/Robert Thomas",
                    "2/Rodion Amirov",
                    "2/Roni Hirvonen",
                    "1/Rutger McGroarty",
                    "0/Ryan O'Rourke",
                    "0/Ryan Poehling",
                    "0/Sam Bennett",
                    "0/Sam Reinhart",
                    "0/Sam Steel",
                    "2/Samu Tuomaala",
                    "1/Samuel Poulin",
                    "0/Sasha Pastujov",
                    "3/Scott Morrow",
                    "2/Seamus Casey",
                    "0/Sean Behrens",
                    "2/Sebastian Aho",
                    "0/Seth Jarvis",
                    "3/Simon Edvinsson",
                    "3/Simon Holmstrom",
                    "3/Simon Nemec",
                    "3/Simon Robertsson",
                    "3/Spencer Knight",
                    "0/Stanislav Svozil",
                    "3/Tage Thompson",
                    "3/Thatcher Demko",
                    "0/Thomas Bordeleau",
                    "0/Thomas Chabot",
                    "3/Thomas Harley",
                    "1/Timo Meier",
                    "3/Tobias Bjornfoot",
                    "0/Tony DeAngelo",
                    "3/Travis Dermott",
                    "3/Tristan Luneau",
                    "0/Ty Dellandrea",
                    "3/Ty Nelson",
                    "0/Ty Smith",
                    "3/Tyler Benson",
                    "3/Urho Vaakanainen",
                    "3/Vasily Podkolzin",
                    "0/Ville Heinola",
                    "0/Vitek Vanecek",
                    "0/William Eklund",
                    "2/William Nylander",
                    "0/William Stromgren",
                    "2/Xavier Bourgault",
                    "0/Yegor Korshkov",
                    "0/Zach Dean",
                    "3/Zachary L'Heureux",
                    "3/Zachary Senyshyn",
                    "0/Zion Nybeck",
                    "0",
                    "1",
                    "2",
                    "3"
                  ],
                  "labels": [
                    "A.J. Greer",
                    "Aaron Ekblad",
                    "Aatu Raty",
                    "Adam Boqvist",
                    "Aleksi Heponiemi",
                    "Alex Debrincat",
                    "Alex Nedeljkovic",
                    "Alex Newhook",
                    "Alex Tuch",
                    "Alex Turcotte",
                    "Alexis Lafreniere",
                    "Andreas Englund",
                    "Andrew Peeke",
                    "Antti Tuomisto",
                    "Arthur Kaliyev",
                    "Auston Matthews",
                    "Ayrton Martino",
                    "Barret Hayton",
                    "Bowen Byram",
                    "Brad Lambert",
                    "Braden Schneider",
                    "Brandon Carlo",
                    "Brandt Clarke",
                    "Brendan Brisson",
                    "Brendan Lemieux",
                    "Brendan Perlini",
                    "Brett Howden",
                    "Brock Boeser",
                    "Calle Odelius",
                    "Cameron York",
                    "Carson Lambos",
                    "Casey Mittelstadt",
                    "Chaz Lucius",
                    "Christian Fischer",
                    "Clayton Keller",
                    "Cody Glass",
                    "Cole Sillinger",
                    "Colin White",
                    "Conner Bleackley",
                    "Connor McMichael",
                    "Conor Timmins",
                    "Corson Ceulemans",
                    "Cutter Gauthier",
                    "Daniil Chayka",
                    "David Jiricek",
                    "David Pastranak",
                    "Dawson Mercer",
                    "Denis Gurianov",
                    "Denton Mateychuk",
                    "Dominik Bokk",
                    "Dominik Masin",
                    "Dylan Cozens",
                    "Dylan Duke",
                    "Dylan Guenther",
                    "Dylan Strome",
                    "Eeli Tolvanen",
                    "Emil Andrae",
                    "Erik Brannstrom",
                    "Evan Bouchard",
                    "Fabian Lysell",
                    "Filip Johansson",
                    "Filip Mesar",
                    "Filip Zadina",
                    "Frank Nazar",
                    "Gabriel Carlsson",
                    "Gabriel Gagne",
                    "Gabriel Vilardi",
                    "German Rubtsov",
                    "Gleb Trikozov",
                    "Grigori Denisenko",
                    "Gustav Lindstrom",
                    "Hendrix Lapierre",
                    "Henri Jokiharju",
                    "Henrik Borgstrom",
                    "Ilya Samsonov",
                    "Isaac Howard",
                    "Isaac Ratcliffe",
                    "Isac Lundestrom",
                    "Isak Rosen",
                    "Ivan Miroshnichenko",
                    "Ivan Provorov",
                    "Jack Eichel",
                    "Jack Quinn",
                    "Jackson Lacombe",
                    "Jacob Bernard-Docker",
                    "Jacob Perreault",
                    "Jagger Firkus",
                    "Jake Bean",
                    "Jake Oettinger",
                    "Jake Sanderson",
                    "Jakob Chychrun",
                    "Jakob Pelletier",
                    "Jakub Vrana",
                    "Jakub Zboril",
                    "Jamie Drysdale",
                    "Jared McCann",
                    "Jared McIsaac",
                    "Jason Robertson",
                    "Jay O'Brien",
                    "Jayce Hawryluk",
                    "Jeremie Poirier",
                    "Jesper Boqvist",
                    "Jesperi Kotkaniemi",
                    "Jesse Piljujarvi",
                    "Jesse Ylonen",
                    "Jett Woo",
                    "Jimmy Snuggerud",
                    "Joakim Kemell",
                    "Joe Veleno",
                    "Joel Farabee",
                    "John Beecher",
                    "John Quennville",
                    "Jonatan Berggren",
                    "Jonathan Lekkerimaki",
                    "Josh Ho-Sang",
                    "Julius Honka",
                    "Juraj Slafkovsky",
                    "Justin Barron",
                    "Juuso Valimaki",
                    "K'Andre Miller",
                    "Kaapo Kakko",
                    "Kaiden Guhle",
                    "Kasperi Kapanen",
                    "Kevin Fiala",
                    "Kevin Korchinski",
                    "Kieffer Bellows",
                    "Klim Kostin",
                    "Kristian Vesalainen",
                    "Kyle Connor",
                    "Lassi Thomson",
                    "Liam Foudy",
                    "Lian Bichsel",
                    "Logan Brown",
                    "Logan Cooley",
                    "Logan Stankoven",
                    "Logan Stanley",
                    "Lucas Johansen",
                    "Lukas Reichel",
                    "Luke Hughes",
                    "Mackie Samoskevich",
                    "Mads Sogaard",
                    "Marat Khusnutdinov",
                    "Marco Kasper",
                    "Marco Rossi",
                    "Marcus Davidsson",
                    "Marcus Pettersson",
                    "Martin Kaut",
                    "Martin Necas",
                    "Matthew Barzal",
                    "Matthew Savoie",
                    "Matthew Tkachuk",
                    "Mattias Havelid",
                    "Michael Dal Colle",
                    "Michael McLeod",
                    "Michael Rasmussen",
                    "Mikhail Sergachev",
                    "Miro Heiskanen",
                    "Morgan Frost",
                    "Nick Merkley",
                    "Nick Schmaltz",
                    "Nick Suzuki",
                    "Nico Hischier",
                    "Nicolas Beaudin",
                    "Nicolas Meloche",
                    "Nikita Chibrikov",
                    "Nikita Scherbak",
                    "Nikolaj Ehlers",
                    "Nikolay Goldobin",
                    "Nils Hoglander",
                    "Nils Lundkvist",
                    "Noah Dobson",
                    "Noah Juulsen",
                    "Noah Ostlund",
                    "Nolan Foote",
                    "Nolan Patrick",
                    "Oliver Whahlstrom",
                    "Owen Power",
                    "Pascal Laberge",
                    "Patrik Laine",
                    "Paul Bittner",
                    "Pavel Mintyukov",
                    "Peyton Krebs",
                    "Philip Tomasino",
                    "Pierre-Luc Dubois",
                    "Pierre-Olivier Joseph",
                    "Pyotr Kochetkov",
                    "Quinn Hughes",
                    "Raphael Lavoie",
                    "Rasmus Dahlin",
                    "Rasmus Sandin",
                    "Riley Tufte",
                    "Robert Thomas",
                    "Rodion Amirov",
                    "Roni Hirvonen",
                    "Rutger McGroarty",
                    "Ryan O'Rourke",
                    "Ryan Poehling",
                    "Sam Bennett",
                    "Sam Reinhart",
                    "Sam Steel",
                    "Samu Tuomaala",
                    "Samuel Poulin",
                    "Sasha Pastujov",
                    "Scott Morrow",
                    "Seamus Casey",
                    "Sean Behrens",
                    "Sebastian Aho",
                    "Seth Jarvis",
                    "Simon Edvinsson",
                    "Simon Holmstrom",
                    "Simon Nemec",
                    "Simon Robertsson",
                    "Spencer Knight",
                    "Stanislav Svozil",
                    "Tage Thompson",
                    "Thatcher Demko",
                    "Thomas Bordeleau",
                    "Thomas Chabot",
                    "Thomas Harley",
                    "Timo Meier",
                    "Tobias Bjornfoot",
                    "Tony DeAngelo",
                    "Travis Dermott",
                    "Tristan Luneau",
                    "Ty Dellandrea",
                    "Ty Nelson",
                    "Ty Smith",
                    "Tyler Benson",
                    "Urho Vaakanainen",
                    "Vasily Podkolzin",
                    "Ville Heinola",
                    "Vitek Vanecek",
                    "William Eklund",
                    "William Nylander",
                    "William Stromgren",
                    "Xavier Bourgault",
                    "Yegor Korshkov",
                    "Zach Dean",
                    "Zachary L'Heureux",
                    "Zachary Senyshyn",
                    "Zion Nybeck",
                    "0",
                    "1",
                    "2",
                    "3"
                  ],
                  "name": "",
                  "parents": [
                    "1",
                    "1",
                    "0",
                    "2",
                    "2",
                    "2",
                    "3",
                    "3",
                    "1",
                    "0",
                    "3",
                    "3",
                    "3",
                    "3",
                    "3",
                    "1",
                    "2",
                    "3",
                    "3",
                    "0",
                    "3",
                    "3",
                    "0",
                    "0",
                    "1",
                    "1",
                    "3",
                    "3",
                    "3",
                    "2",
                    "3",
                    "3",
                    "2",
                    "1",
                    "2",
                    "0",
                    "3",
                    "0",
                    "3",
                    "0",
                    "0",
                    "3",
                    "3",
                    "0",
                    "3",
                    "2",
                    "0",
                    "0",
                    "3",
                    "0",
                    "3",
                    "0",
                    "0",
                    "2",
                    "0",
                    "3",
                    "0",
                    "0",
                    "3",
                    "0",
                    "0",
                    "2",
                    "3",
                    "0",
                    "0",
                    "0",
                    "3",
                    "3",
                    "0",
                    "2",
                    "0",
                    "0",
                    "3",
                    "0",
                    "3",
                    "0",
                    "3",
                    "0",
                    "2",
                    "0",
                    "3",
                    "3",
                    "0",
                    "0",
                    "0",
                    "3",
                    "2",
                    "2",
                    "1",
                    "0",
                    "3",
                    "2",
                    "0",
                    "0",
                    "0",
                    "0",
                    "3",
                    "3",
                    "0",
                    "3",
                    "3",
                    "2",
                    "0",
                    "3",
                    "2",
                    "3",
                    "3",
                    "0",
                    "3",
                    "2",
                    "1",
                    "0",
                    "0",
                    "2",
                    "0",
                    "0",
                    "1",
                    "3",
                    "1",
                    "3",
                    "3",
                    "0",
                    "0",
                    "0",
                    "0",
                    "3",
                    "1",
                    "1",
                    "0",
                    "0",
                    "2",
                    "1",
                    "1",
                    "0",
                    "2",
                    "1",
                    "0",
                    "2",
                    "0",
                    "3",
                    "3",
                    "0",
                    "0",
                    "0",
                    "3",
                    "2",
                    "0",
                    "0",
                    "0",
                    "0",
                    "3",
                    "2",
                    "0",
                    "0",
                    "1",
                    "1",
                    "2",
                    "2",
                    "3",
                    "2",
                    "0",
                    "0",
                    "2",
                    "1",
                    "2",
                    "0",
                    "2",
                    "0",
                    "0",
                    "2",
                    "0",
                    "0",
                    "2",
                    "3",
                    "3",
                    "1",
                    "1",
                    "2",
                    "3",
                    "1",
                    "3",
                    "0",
                    "0",
                    "1",
                    "2",
                    "0",
                    "0",
                    "3",
                    "0",
                    "0",
                    "1",
                    "3",
                    "2",
                    "2",
                    "1",
                    "0",
                    "0",
                    "0",
                    "0",
                    "0",
                    "2",
                    "1",
                    "0",
                    "3",
                    "2",
                    "0",
                    "2",
                    "0",
                    "3",
                    "3",
                    "3",
                    "3",
                    "3",
                    "0",
                    "3",
                    "3",
                    "0",
                    "0",
                    "3",
                    "1",
                    "3",
                    "0",
                    "3",
                    "3",
                    "0",
                    "3",
                    "0",
                    "3",
                    "3",
                    "3",
                    "0",
                    "0",
                    "0",
                    "2",
                    "0",
                    "2",
                    "0",
                    "0",
                    "3",
                    "3",
                    "0",
                    "",
                    "",
                    "",
                    ""
                  ],
                  "type": "treemap",
                  "values": [
                    1,
                    1,
                    1,
                    1,
                    1,
                    1,
                    1,
                    1,
                    1,
                    1,
                    1,
                    1,
                    1,
                    1,
                    1,
                    1,
                    1,
                    1,
                    1,
                    1,
                    1,
                    1,
                    1,
                    1,
                    1,
                    1,
                    1,
                    1,
                    1,
                    1,
                    1,
                    1,
                    1,
                    1,
                    1,
                    1,
                    1,
                    1,
                    1,
                    1,
                    1,
                    1,
                    1,
                    1,
                    1,
                    1,
                    1,
                    1,
                    1,
                    1,
                    1,
                    1,
                    1,
                    1,
                    1,
                    1,
                    1,
                    1,
                    1,
                    1,
                    1,
                    1,
                    1,
                    1,
                    1,
                    1,
                    1,
                    1,
                    1,
                    1,
                    1,
                    1,
                    1,
                    1,
                    1,
                    1,
                    1,
                    1,
                    1,
                    1,
                    1,
                    1,
                    1,
                    1,
                    1,
                    1,
                    1,
                    1,
                    1,
                    1,
                    1,
                    1,
                    1,
                    1,
                    1,
                    1,
                    1,
                    1,
                    1,
                    1,
                    1,
                    1,
                    1,
                    1,
                    1,
                    1,
                    1,
                    1,
                    1,
                    1,
                    1,
                    1,
                    1,
                    1,
                    1,
                    1,
                    1,
                    1,
                    1,
                    1,
                    1,
                    1,
                    1,
                    1,
                    1,
                    1,
                    1,
                    1,
                    1,
                    1,
                    1,
                    1,
                    1,
                    1,
                    1,
                    1,
                    1,
                    1,
                    1,
                    1,
                    1,
                    1,
                    1,
                    1,
                    1,
                    1,
                    1,
                    1,
                    1,
                    1,
                    1,
                    1,
                    1,
                    1,
                    1,
                    1,
                    1,
                    1,
                    1,
                    1,
                    1,
                    1,
                    1,
                    1,
                    1,
                    1,
                    1,
                    1,
                    1,
                    1,
                    1,
                    1,
                    1,
                    1,
                    1,
                    1,
                    1,
                    1,
                    1,
                    1,
                    1,
                    1,
                    1,
                    1,
                    1,
                    1,
                    1,
                    1,
                    1,
                    1,
                    1,
                    1,
                    1,
                    1,
                    1,
                    1,
                    1,
                    1,
                    1,
                    1,
                    1,
                    1,
                    1,
                    1,
                    1,
                    1,
                    1,
                    1,
                    1,
                    1,
                    1,
                    1,
                    1,
                    1,
                    1,
                    1,
                    1,
                    1,
                    1,
                    1,
                    1,
                    1,
                    1,
                    1,
                    1,
                    1,
                    1,
                    1,
                    1,
                    1,
                    1,
                    1,
                    1,
                    1,
                    1,
                    1,
                    1,
                    1,
                    1,
                    1,
                    1,
                    97,
                    27,
                    41,
                    76
                  ]
                }
              ],
              "layout": {
                "legend": {
                  "tracegroupgap": 0
                },
                "margin": {
                  "t": 60
                },
                "template": {
                  "data": {
                    "bar": [
                      {
                        "error_x": {
                          "color": "#2a3f5f"
                        },
                        "error_y": {
                          "color": "#2a3f5f"
                        },
                        "marker": {
                          "line": {
                            "color": "#E5ECF6",
                            "width": 0.5
                          },
                          "pattern": {
                            "fillmode": "overlay",
                            "size": 10,
                            "solidity": 0.2
                          }
                        },
                        "type": "bar"
                      }
                    ],
                    "barpolar": [
                      {
                        "marker": {
                          "line": {
                            "color": "#E5ECF6",
                            "width": 0.5
                          },
                          "pattern": {
                            "fillmode": "overlay",
                            "size": 10,
                            "solidity": 0.2
                          }
                        },
                        "type": "barpolar"
                      }
                    ],
                    "carpet": [
                      {
                        "aaxis": {
                          "endlinecolor": "#2a3f5f",
                          "gridcolor": "white",
                          "linecolor": "white",
                          "minorgridcolor": "white",
                          "startlinecolor": "#2a3f5f"
                        },
                        "baxis": {
                          "endlinecolor": "#2a3f5f",
                          "gridcolor": "white",
                          "linecolor": "white",
                          "minorgridcolor": "white",
                          "startlinecolor": "#2a3f5f"
                        },
                        "type": "carpet"
                      }
                    ],
                    "choropleth": [
                      {
                        "colorbar": {
                          "outlinewidth": 0,
                          "ticks": ""
                        },
                        "type": "choropleth"
                      }
                    ],
                    "contour": [
                      {
                        "colorbar": {
                          "outlinewidth": 0,
                          "ticks": ""
                        },
                        "colorscale": [
                          [
                            0,
                            "#0d0887"
                          ],
                          [
                            0.1111111111111111,
                            "#46039f"
                          ],
                          [
                            0.2222222222222222,
                            "#7201a8"
                          ],
                          [
                            0.3333333333333333,
                            "#9c179e"
                          ],
                          [
                            0.4444444444444444,
                            "#bd3786"
                          ],
                          [
                            0.5555555555555556,
                            "#d8576b"
                          ],
                          [
                            0.6666666666666666,
                            "#ed7953"
                          ],
                          [
                            0.7777777777777778,
                            "#fb9f3a"
                          ],
                          [
                            0.8888888888888888,
                            "#fdca26"
                          ],
                          [
                            1,
                            "#f0f921"
                          ]
                        ],
                        "type": "contour"
                      }
                    ],
                    "contourcarpet": [
                      {
                        "colorbar": {
                          "outlinewidth": 0,
                          "ticks": ""
                        },
                        "type": "contourcarpet"
                      }
                    ],
                    "heatmap": [
                      {
                        "colorbar": {
                          "outlinewidth": 0,
                          "ticks": ""
                        },
                        "colorscale": [
                          [
                            0,
                            "#0d0887"
                          ],
                          [
                            0.1111111111111111,
                            "#46039f"
                          ],
                          [
                            0.2222222222222222,
                            "#7201a8"
                          ],
                          [
                            0.3333333333333333,
                            "#9c179e"
                          ],
                          [
                            0.4444444444444444,
                            "#bd3786"
                          ],
                          [
                            0.5555555555555556,
                            "#d8576b"
                          ],
                          [
                            0.6666666666666666,
                            "#ed7953"
                          ],
                          [
                            0.7777777777777778,
                            "#fb9f3a"
                          ],
                          [
                            0.8888888888888888,
                            "#fdca26"
                          ],
                          [
                            1,
                            "#f0f921"
                          ]
                        ],
                        "type": "heatmap"
                      }
                    ],
                    "heatmapgl": [
                      {
                        "colorbar": {
                          "outlinewidth": 0,
                          "ticks": ""
                        },
                        "colorscale": [
                          [
                            0,
                            "#0d0887"
                          ],
                          [
                            0.1111111111111111,
                            "#46039f"
                          ],
                          [
                            0.2222222222222222,
                            "#7201a8"
                          ],
                          [
                            0.3333333333333333,
                            "#9c179e"
                          ],
                          [
                            0.4444444444444444,
                            "#bd3786"
                          ],
                          [
                            0.5555555555555556,
                            "#d8576b"
                          ],
                          [
                            0.6666666666666666,
                            "#ed7953"
                          ],
                          [
                            0.7777777777777778,
                            "#fb9f3a"
                          ],
                          [
                            0.8888888888888888,
                            "#fdca26"
                          ],
                          [
                            1,
                            "#f0f921"
                          ]
                        ],
                        "type": "heatmapgl"
                      }
                    ],
                    "histogram": [
                      {
                        "marker": {
                          "pattern": {
                            "fillmode": "overlay",
                            "size": 10,
                            "solidity": 0.2
                          }
                        },
                        "type": "histogram"
                      }
                    ],
                    "histogram2d": [
                      {
                        "colorbar": {
                          "outlinewidth": 0,
                          "ticks": ""
                        },
                        "colorscale": [
                          [
                            0,
                            "#0d0887"
                          ],
                          [
                            0.1111111111111111,
                            "#46039f"
                          ],
                          [
                            0.2222222222222222,
                            "#7201a8"
                          ],
                          [
                            0.3333333333333333,
                            "#9c179e"
                          ],
                          [
                            0.4444444444444444,
                            "#bd3786"
                          ],
                          [
                            0.5555555555555556,
                            "#d8576b"
                          ],
                          [
                            0.6666666666666666,
                            "#ed7953"
                          ],
                          [
                            0.7777777777777778,
                            "#fb9f3a"
                          ],
                          [
                            0.8888888888888888,
                            "#fdca26"
                          ],
                          [
                            1,
                            "#f0f921"
                          ]
                        ],
                        "type": "histogram2d"
                      }
                    ],
                    "histogram2dcontour": [
                      {
                        "colorbar": {
                          "outlinewidth": 0,
                          "ticks": ""
                        },
                        "colorscale": [
                          [
                            0,
                            "#0d0887"
                          ],
                          [
                            0.1111111111111111,
                            "#46039f"
                          ],
                          [
                            0.2222222222222222,
                            "#7201a8"
                          ],
                          [
                            0.3333333333333333,
                            "#9c179e"
                          ],
                          [
                            0.4444444444444444,
                            "#bd3786"
                          ],
                          [
                            0.5555555555555556,
                            "#d8576b"
                          ],
                          [
                            0.6666666666666666,
                            "#ed7953"
                          ],
                          [
                            0.7777777777777778,
                            "#fb9f3a"
                          ],
                          [
                            0.8888888888888888,
                            "#fdca26"
                          ],
                          [
                            1,
                            "#f0f921"
                          ]
                        ],
                        "type": "histogram2dcontour"
                      }
                    ],
                    "mesh3d": [
                      {
                        "colorbar": {
                          "outlinewidth": 0,
                          "ticks": ""
                        },
                        "type": "mesh3d"
                      }
                    ],
                    "parcoords": [
                      {
                        "line": {
                          "colorbar": {
                            "outlinewidth": 0,
                            "ticks": ""
                          }
                        },
                        "type": "parcoords"
                      }
                    ],
                    "pie": [
                      {
                        "automargin": true,
                        "type": "pie"
                      }
                    ],
                    "scatter": [
                      {
                        "fillpattern": {
                          "fillmode": "overlay",
                          "size": 10,
                          "solidity": 0.2
                        },
                        "type": "scatter"
                      }
                    ],
                    "scatter3d": [
                      {
                        "line": {
                          "colorbar": {
                            "outlinewidth": 0,
                            "ticks": ""
                          }
                        },
                        "marker": {
                          "colorbar": {
                            "outlinewidth": 0,
                            "ticks": ""
                          }
                        },
                        "type": "scatter3d"
                      }
                    ],
                    "scattercarpet": [
                      {
                        "marker": {
                          "colorbar": {
                            "outlinewidth": 0,
                            "ticks": ""
                          }
                        },
                        "type": "scattercarpet"
                      }
                    ],
                    "scattergeo": [
                      {
                        "marker": {
                          "colorbar": {
                            "outlinewidth": 0,
                            "ticks": ""
                          }
                        },
                        "type": "scattergeo"
                      }
                    ],
                    "scattergl": [
                      {
                        "marker": {
                          "colorbar": {
                            "outlinewidth": 0,
                            "ticks": ""
                          }
                        },
                        "type": "scattergl"
                      }
                    ],
                    "scattermapbox": [
                      {
                        "marker": {
                          "colorbar": {
                            "outlinewidth": 0,
                            "ticks": ""
                          }
                        },
                        "type": "scattermapbox"
                      }
                    ],
                    "scatterpolar": [
                      {
                        "marker": {
                          "colorbar": {
                            "outlinewidth": 0,
                            "ticks": ""
                          }
                        },
                        "type": "scatterpolar"
                      }
                    ],
                    "scatterpolargl": [
                      {
                        "marker": {
                          "colorbar": {
                            "outlinewidth": 0,
                            "ticks": ""
                          }
                        },
                        "type": "scatterpolargl"
                      }
                    ],
                    "scatterternary": [
                      {
                        "marker": {
                          "colorbar": {
                            "outlinewidth": 0,
                            "ticks": ""
                          }
                        },
                        "type": "scatterternary"
                      }
                    ],
                    "surface": [
                      {
                        "colorbar": {
                          "outlinewidth": 0,
                          "ticks": ""
                        },
                        "colorscale": [
                          [
                            0,
                            "#0d0887"
                          ],
                          [
                            0.1111111111111111,
                            "#46039f"
                          ],
                          [
                            0.2222222222222222,
                            "#7201a8"
                          ],
                          [
                            0.3333333333333333,
                            "#9c179e"
                          ],
                          [
                            0.4444444444444444,
                            "#bd3786"
                          ],
                          [
                            0.5555555555555556,
                            "#d8576b"
                          ],
                          [
                            0.6666666666666666,
                            "#ed7953"
                          ],
                          [
                            0.7777777777777778,
                            "#fb9f3a"
                          ],
                          [
                            0.8888888888888888,
                            "#fdca26"
                          ],
                          [
                            1,
                            "#f0f921"
                          ]
                        ],
                        "type": "surface"
                      }
                    ],
                    "table": [
                      {
                        "cells": {
                          "fill": {
                            "color": "#EBF0F8"
                          },
                          "line": {
                            "color": "white"
                          }
                        },
                        "header": {
                          "fill": {
                            "color": "#C8D4E3"
                          },
                          "line": {
                            "color": "white"
                          }
                        },
                        "type": "table"
                      }
                    ]
                  },
                  "layout": {
                    "annotationdefaults": {
                      "arrowcolor": "#2a3f5f",
                      "arrowhead": 0,
                      "arrowwidth": 1
                    },
                    "autotypenumbers": "strict",
                    "coloraxis": {
                      "colorbar": {
                        "outlinewidth": 0,
                        "ticks": ""
                      }
                    },
                    "colorscale": {
                      "diverging": [
                        [
                          0,
                          "#8e0152"
                        ],
                        [
                          0.1,
                          "#c51b7d"
                        ],
                        [
                          0.2,
                          "#de77ae"
                        ],
                        [
                          0.3,
                          "#f1b6da"
                        ],
                        [
                          0.4,
                          "#fde0ef"
                        ],
                        [
                          0.5,
                          "#f7f7f7"
                        ],
                        [
                          0.6,
                          "#e6f5d0"
                        ],
                        [
                          0.7,
                          "#b8e186"
                        ],
                        [
                          0.8,
                          "#7fbc41"
                        ],
                        [
                          0.9,
                          "#4d9221"
                        ],
                        [
                          1,
                          "#276419"
                        ]
                      ],
                      "sequential": [
                        [
                          0,
                          "#0d0887"
                        ],
                        [
                          0.1111111111111111,
                          "#46039f"
                        ],
                        [
                          0.2222222222222222,
                          "#7201a8"
                        ],
                        [
                          0.3333333333333333,
                          "#9c179e"
                        ],
                        [
                          0.4444444444444444,
                          "#bd3786"
                        ],
                        [
                          0.5555555555555556,
                          "#d8576b"
                        ],
                        [
                          0.6666666666666666,
                          "#ed7953"
                        ],
                        [
                          0.7777777777777778,
                          "#fb9f3a"
                        ],
                        [
                          0.8888888888888888,
                          "#fdca26"
                        ],
                        [
                          1,
                          "#f0f921"
                        ]
                      ],
                      "sequentialminus": [
                        [
                          0,
                          "#0d0887"
                        ],
                        [
                          0.1111111111111111,
                          "#46039f"
                        ],
                        [
                          0.2222222222222222,
                          "#7201a8"
                        ],
                        [
                          0.3333333333333333,
                          "#9c179e"
                        ],
                        [
                          0.4444444444444444,
                          "#bd3786"
                        ],
                        [
                          0.5555555555555556,
                          "#d8576b"
                        ],
                        [
                          0.6666666666666666,
                          "#ed7953"
                        ],
                        [
                          0.7777777777777778,
                          "#fb9f3a"
                        ],
                        [
                          0.8888888888888888,
                          "#fdca26"
                        ],
                        [
                          1,
                          "#f0f921"
                        ]
                      ]
                    },
                    "colorway": [
                      "#636efa",
                      "#EF553B",
                      "#00cc96",
                      "#ab63fa",
                      "#FFA15A",
                      "#19d3f3",
                      "#FF6692",
                      "#B6E880",
                      "#FF97FF",
                      "#FECB52"
                    ],
                    "font": {
                      "color": "#2a3f5f"
                    },
                    "geo": {
                      "bgcolor": "white",
                      "lakecolor": "white",
                      "landcolor": "#E5ECF6",
                      "showlakes": true,
                      "showland": true,
                      "subunitcolor": "white"
                    },
                    "hoverlabel": {
                      "align": "left"
                    },
                    "hovermode": "closest",
                    "mapbox": {
                      "style": "light"
                    },
                    "paper_bgcolor": "white",
                    "plot_bgcolor": "#E5ECF6",
                    "polar": {
                      "angularaxis": {
                        "gridcolor": "white",
                        "linecolor": "white",
                        "ticks": ""
                      },
                      "bgcolor": "#E5ECF6",
                      "radialaxis": {
                        "gridcolor": "white",
                        "linecolor": "white",
                        "ticks": ""
                      }
                    },
                    "scene": {
                      "xaxis": {
                        "backgroundcolor": "#E5ECF6",
                        "gridcolor": "white",
                        "gridwidth": 2,
                        "linecolor": "white",
                        "showbackground": true,
                        "ticks": "",
                        "zerolinecolor": "white"
                      },
                      "yaxis": {
                        "backgroundcolor": "#E5ECF6",
                        "gridcolor": "white",
                        "gridwidth": 2,
                        "linecolor": "white",
                        "showbackground": true,
                        "ticks": "",
                        "zerolinecolor": "white"
                      },
                      "zaxis": {
                        "backgroundcolor": "#E5ECF6",
                        "gridcolor": "white",
                        "gridwidth": 2,
                        "linecolor": "white",
                        "showbackground": true,
                        "ticks": "",
                        "zerolinecolor": "white"
                      }
                    },
                    "shapedefaults": {
                      "line": {
                        "color": "#2a3f5f"
                      }
                    },
                    "ternary": {
                      "aaxis": {
                        "gridcolor": "white",
                        "linecolor": "white",
                        "ticks": ""
                      },
                      "baxis": {
                        "gridcolor": "white",
                        "linecolor": "white",
                        "ticks": ""
                      },
                      "bgcolor": "#E5ECF6",
                      "caxis": {
                        "gridcolor": "white",
                        "linecolor": "white",
                        "ticks": ""
                      }
                    },
                    "title": {
                      "x": 0.05
                    },
                    "xaxis": {
                      "automargin": true,
                      "gridcolor": "white",
                      "linecolor": "white",
                      "ticks": "",
                      "title": {
                        "standoff": 15
                      },
                      "zerolinecolor": "white",
                      "zerolinewidth": 2
                    },
                    "yaxis": {
                      "automargin": true,
                      "gridcolor": "white",
                      "linecolor": "white",
                      "ticks": "",
                      "title": {
                        "standoff": 15
                      },
                      "zerolinecolor": "white",
                      "zerolinewidth": 2
                    }
                  }
                }
              }
            }
          },
          "metadata": {},
          "output_type": "display_data"
        }
      ],
      "source": [
        "import plotly.express as px\n",
        "\n",
        "print(X_train.columns)\n",
        "print(X_train.head())\n",
        "\n",
        "#visualize mappings via treemap\n",
        "result_summary = pd.pivot_table(X_train, index=['label', 'player_name'],  aggfunc='count').reset_index().rename(columns={'draft_position':'count'})\n",
        "result_treemap = result_summary\n",
        "fig = px.treemap(result_treemap,path=['label', 'player_name'],values='count')\n",
        "fig.show()"
      ]
    },
    {
      "cell_type": "code",
      "execution_count": 133,
      "metadata": {
        "colab": {
          "base_uri": "https://localhost:8080/",
          "height": 496
        },
        "id": "_Cz9MkDTxX8H",
        "outputId": "a86f29bd-c382-4463-f955-a20fa1f0a303"
      },
      "outputs": [
        {
          "name": "stderr",
          "output_type": "stream",
          "text": [
            "c:\\Users\\Ryan\\anaconda3\\lib\\site-packages\\sklearn\\manifold\\_t_sne.py:783: FutureWarning:\n",
            "\n",
            "The default initialization in TSNE will change from 'random' to 'pca' in 1.2.\n",
            "\n"
          ]
        },
        {
          "data": {
            "text/plain": [
              "<matplotlib.legend.Legend at 0x20bc18b0108>"
            ]
          },
          "execution_count": 133,
          "metadata": {},
          "output_type": "execute_result"
        },
        {
          "data": {
            "image/png": "[encoded data removed]",
            "text/plain": [
              "<Figure size 640x480 with 1 Axes>"
            ]
          },
          "metadata": {},
          "output_type": "display_data"
        }
      ],
      "source": [
        "tsne = TSNE(n_components=2, learning_rate=200)\n",
        "#data = X_train['embeddings'].values\n",
        "vis_dims2 = tsne.fit_transform(data)\n",
        "\n",
        "x = [x for x, y in vis_dims2]\n",
        "y = [y for x, y in vis_dims2]\n",
        "\n",
        "color = cm.rainbow(np.linspace(0, 1, len(X_train.label.unique())))\n",
        "for category, color in enumerate(color):\n",
        "    xs = np.array(x)[X_train.label == category]\n",
        "    ys = np.array(y)[X_train.label == category]\n",
        "    plt.scatter(xs, ys, color=color, alpha=0.3)\n",
        "\n",
        "    avg_x = xs.mean()\n",
        "    avg_y = ys.mean()\n",
        "\n",
        "    plt.scatter(avg_x, avg_y, marker=\"x\", color=color, s=100, label=category)\n",
        "plt.title(\"Visual Representation Of Clusters In 2D Via TSNE\")\n",
        "plt.legend()"
      ]
    },
    {
      "cell_type": "code",
      "execution_count": 120,
      "metadata": {},
      "outputs": [
        {
          "name": "stdout",
          "output_type": "stream",
          "text": [
            "Linear Regression Score: -0.006529811522072659\n"
          ]
        }
      ],
      "source": [
        "\n",
        "X_train_lr, X_test_lr, y_train_lr, y_test_lr = train_test_split(X_train[['player_position', 'draft_position', 'label']], X_train['team'], test_size=0.33)\n",
        "lr = LinearRegression()\n",
        "lr.fit(X_train_lr, y_train_lr)\n",
        "\n",
        "print(f\"Linear Regression Score: {lr.score(X_test_lr, y_test_lr)}\")\n",
        "\n"
      ]
    }
  ],
  "metadata": {
    "colab": {
      "provenance": []
    },
    "kernelspec": {
      "display_name": "Python 3",
      "name": "python3"
    },
    "language_info": {
      "codemirror_mode": {
        "name": "ipython",
        "version": 3
      },
      "file_extension": ".py",
      "mimetype": "text/x-python",
      "name": "python",
      "nbconvert_exporter": "python",
      "pygments_lexer": "ipython3",
      "version": "3.7.10"
    }
  },
  "nbformat": 4,
  "nbformat_minor": 0
}
