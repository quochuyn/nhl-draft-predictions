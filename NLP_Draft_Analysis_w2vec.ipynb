{
  "cells": [
    {
      "cell_type": "code",
      "execution_count": 1,
      "metadata": {
        "colab": {
          "base_uri": "https://localhost:8080/"
        },
        "id": "DAudg6vHRsXx",
        "outputId": "3c2c5119-6062-4e48-9177-bb400c6a3c1f"
      },
      "outputs": [
        {
          "name": "stderr",
          "output_type": "stream",
          "text": [
            "[nltk_data] Downloading package punkt to\n",
            "[nltk_data]     C:\\Users\\Ryan\\AppData\\Roaming\\nltk_data...\n",
            "[nltk_data]   Package punkt is already up-to-date!\n",
            "[nltk_data] Downloading package stopwords to\n",
            "[nltk_data]     C:\\Users\\Ryan\\AppData\\Roaming\\nltk_data...\n",
            "[nltk_data]   Package stopwords is already up-to-date!\n",
            "[nltk_data] Downloading package wordnet to\n",
            "[nltk_data]     C:\\Users\\Ryan\\AppData\\Roaming\\nltk_data...\n",
            "[nltk_data]   Package wordnet is already up-to-date!\n"
          ]
        },
        {
          "data": {
            "text/plain": [
              "True"
            ]
          },
          "execution_count": 1,
          "metadata": {},
          "output_type": "execute_result"
        }
      ],
      "source": [
        "import numpy as np\n",
        "import pandas as pd\n",
        "\n",
        "import matplotlib.cm as cm\n",
        "import matplotlib.pyplot as plt\n",
        "\n",
        "import nltk\n",
        "from nltk.corpus import stopwords\n",
        "from nltk.stem import PorterStemmer\n",
        "from nltk.stem import WordNetLemmatizer\n",
        "from sklearn.model_selection import train_test_split\n",
        "from sklearn.feature_extraction.text import CountVectorizer\n",
        "from sklearn.linear_model import LogisticRegression, LinearRegression\n",
        "from sklearn import preprocessing\n",
        "from sklearn.svm import SVC\n",
        "from sklearn.neighbors import KNeighborsClassifier\n",
        "from sklearn.cluster import KMeans\n",
        "from sklearn.cluster import MiniBatchKMeans\n",
        "from sklearn.decomposition import PCA\n",
        "from sklearn.manifold import TSNE\n",
        "from sklearn.feature_extraction.text import TfidfVectorizer\n",
        "from sklearn.metrics import silhouette_score\n",
        "from sklearn.preprocessing import StandardScaler\n",
        "import re\n",
        "import gensim\n",
        "from gensim.models import Word2Vec\n",
        "import gensim.downloader as api\n",
        "\n",
        "nltk.download(\"punkt\")\n",
        "nltk.download('stopwords')\n",
        "nltk.download('wordnet')"
      ]
    },
    {
      "cell_type": "code",
      "execution_count": 3,
      "metadata": {
        "colab": {
          "base_uri": "https://localhost:8080/",
          "height": 354
        },
        "id": "h0ANlswKSDKo",
        "outputId": "6ed19579-271a-4941-d249-31deef31fd28"
      },
      "outputs": [
        {
          "data": {
            "text/html": [
              "<div>\n",
              "<style scoped>\n",
              "    .dataframe tbody tr th:only-of-type {\n",
              "        vertical-align: middle;\n",
              "    }\n",
              "\n",
              "    .dataframe tbody tr th {\n",
              "        vertical-align: top;\n",
              "    }\n",
              "\n",
              "    .dataframe thead th {\n",
              "        text-align: right;\n",
              "    }\n",
              "</style>\n",
              "<table border=\"1\" class=\"dataframe\">\n",
              "  <thead>\n",
              "    <tr style=\"text-align: right;\">\n",
              "      <th></th>\n",
              "      <th>Year</th>\n",
              "      <th>Position</th>\n",
              "      <th>Height</th>\n",
              "      <th>Weight</th>\n",
              "      <th>Drafted</th>\n",
              "      <th>Team</th>\n",
              "      <th>Average Ranking</th>\n",
              "      <th>Name</th>\n",
              "      <th>Description - Corey Pronman</th>\n",
              "      <th>Description - Scott Wheeler</th>\n",
              "      <th>Description - Smaht Scouting</th>\n",
              "      <th>Description - ESPN (Chris Peters)</th>\n",
              "      <th>Description - EP Rinkside</th>\n",
              "      <th>Description - EP Rinkside Part 2</th>\n",
              "      <th>Description - The Painted Lines</th>\n",
              "      <th>Description - FCHockey</th>\n",
              "    </tr>\n",
              "  </thead>\n",
              "  <tbody>\n",
              "    <tr>\n",
              "      <th>0</th>\n",
              "      <td>2023</td>\n",
              "      <td>0</td>\n",
              "      <td>-1.327212</td>\n",
              "      <td>-0.127585</td>\n",
              "      <td>NaN</td>\n",
              "      <td>NaN</td>\n",
              "      <td>1.0</td>\n",
              "      <td>Connor Bedard</td>\n",
              "      <td>Bedard is a potential franchise-changing No. 1...</td>\n",
              "      <td>Bedard’s statistical profile speaks for itself...</td>\n",
              "      <td>Connor Bedard is an extremely gifted generatio...</td>\n",
              "      <td>One of the most naturally gifted goal scorers ...</td>\n",
              "      <td>NaN</td>\n",
              "      <td>Connor Bedard is the premier prospect in the w...</td>\n",
              "      <td>NaN</td>\n",
              "      <td>NaN</td>\n",
              "    </tr>\n",
              "    <tr>\n",
              "      <th>1</th>\n",
              "      <td>2023</td>\n",
              "      <td>0</td>\n",
              "      <td>0.594434</td>\n",
              "      <td>0.003256</td>\n",
              "      <td>NaN</td>\n",
              "      <td>NaN</td>\n",
              "      <td>2.0</td>\n",
              "      <td>Adam Fantilli</td>\n",
              "      <td>There's so much to love about Fantilli's NHL p...</td>\n",
              "      <td>Fantilli is a big, strong, powerful center who...</td>\n",
              "      <td>Adam Fantilli has every tool that an NHL team ...</td>\n",
              "      <td>A 6-foot-2, 200-pound power center with touch,...</td>\n",
              "      <td>NaN</td>\n",
              "      <td>A fantastic consolation prize, Adam Fantilli w...</td>\n",
              "      <td>NaN</td>\n",
              "      <td>NaN</td>\n",
              "    </tr>\n",
              "    <tr>\n",
              "      <th>2</th>\n",
              "      <td>2023</td>\n",
              "      <td>4</td>\n",
              "      <td>-1.214174</td>\n",
              "      <td>-2.548154</td>\n",
              "      <td>NaN</td>\n",
              "      <td>NaN</td>\n",
              "      <td>3.0</td>\n",
              "      <td>Matvei Michkov</td>\n",
              "      <td>Michkov is one of the very best first-year dra...</td>\n",
              "      <td>Michkov is the best Russian prospect since Ale...</td>\n",
              "      <td>A smart, dynamic goal-scoring winger, Michkov ...</td>\n",
              "      <td>For the last few years, I’ve described Michkov...</td>\n",
              "      <td>NaN</td>\n",
              "      <td>Statistically, Matvei Michkov is *another* fir...</td>\n",
              "      <td>NaN</td>\n",
              "      <td>NaN</td>\n",
              "    </tr>\n",
              "    <tr>\n",
              "      <th>3</th>\n",
              "      <td>2023</td>\n",
              "      <td>0</td>\n",
              "      <td>1.046586</td>\n",
              "      <td>0.461202</td>\n",
              "      <td>NaN</td>\n",
              "      <td>NaN</td>\n",
              "      <td>4.0</td>\n",
              "      <td>Leo Carlsson</td>\n",
              "      <td>Carlsson has elite skill, which when combined ...</td>\n",
              "      <td>Though he doesn’t play the game with some of t...</td>\n",
              "      <td>Carlsson has been played extremely well at the...</td>\n",
              "      <td>The buzz is growing (and rightfully so) that C...</td>\n",
              "      <td>NaN</td>\n",
              "      <td>Oh, look, another first-overall talent. Leo Ca...</td>\n",
              "      <td>NaN</td>\n",
              "      <td>NaN</td>\n",
              "    </tr>\n",
              "    <tr>\n",
              "      <th>4</th>\n",
              "      <td>2023</td>\n",
              "      <td>3</td>\n",
              "      <td>-1.327212</td>\n",
              "      <td>-1.108897</td>\n",
              "      <td>NaN</td>\n",
              "      <td>NaN</td>\n",
              "      <td>5.0</td>\n",
              "      <td>Zach Benson</td>\n",
              "      <td>Benson has a ton of creativity and offense in ...</td>\n",
              "      <td>There were a lot of nights last season, on an ...</td>\n",
              "      <td>While I don’t necessarily see Zach Benson reac...</td>\n",
              "      <td>An offensive dynamo with deft scoring touch, B...</td>\n",
              "      <td>NaN</td>\n",
              "      <td>Some people are worried about selecting a 5-9 ...</td>\n",
              "      <td>NaN</td>\n",
              "      <td>NaN</td>\n",
              "    </tr>\n",
              "  </tbody>\n",
              "</table>\n",
              "</div>"
            ],
            "text/plain": [
              "   Year  Position    Height    Weight  Drafted Team  Average Ranking  \\\n",
              "0  2023         0 -1.327212 -0.127585      NaN  NaN              1.0   \n",
              "1  2023         0  0.594434  0.003256      NaN  NaN              2.0   \n",
              "2  2023         4 -1.214174 -2.548154      NaN  NaN              3.0   \n",
              "3  2023         0  1.046586  0.461202      NaN  NaN              4.0   \n",
              "4  2023         3 -1.327212 -1.108897      NaN  NaN              5.0   \n",
              "\n",
              "             Name                        Description - Corey Pronman  \\\n",
              "0   Connor Bedard  Bedard is a potential franchise-changing No. 1...   \n",
              "1   Adam Fantilli  There's so much to love about Fantilli's NHL p...   \n",
              "2  Matvei Michkov  Michkov is one of the very best first-year dra...   \n",
              "3    Leo Carlsson  Carlsson has elite skill, which when combined ...   \n",
              "4     Zach Benson  Benson has a ton of creativity and offense in ...   \n",
              "\n",
              "                         Description - Scott Wheeler  \\\n",
              "0  Bedard’s statistical profile speaks for itself...   \n",
              "1  Fantilli is a big, strong, powerful center who...   \n",
              "2  Michkov is the best Russian prospect since Ale...   \n",
              "3  Though he doesn’t play the game with some of t...   \n",
              "4  There were a lot of nights last season, on an ...   \n",
              "\n",
              "                        Description - Smaht Scouting  \\\n",
              "0  Connor Bedard is an extremely gifted generatio...   \n",
              "1  Adam Fantilli has every tool that an NHL team ...   \n",
              "2  A smart, dynamic goal-scoring winger, Michkov ...   \n",
              "3  Carlsson has been played extremely well at the...   \n",
              "4  While I don’t necessarily see Zach Benson reac...   \n",
              "\n",
              "                   Description - ESPN (Chris Peters)  \\\n",
              "0  One of the most naturally gifted goal scorers ...   \n",
              "1  A 6-foot-2, 200-pound power center with touch,...   \n",
              "2  For the last few years, I’ve described Michkov...   \n",
              "3  The buzz is growing (and rightfully so) that C...   \n",
              "4  An offensive dynamo with deft scoring touch, B...   \n",
              "\n",
              "  Description - EP Rinkside  \\\n",
              "0                       NaN   \n",
              "1                       NaN   \n",
              "2                       NaN   \n",
              "3                       NaN   \n",
              "4                       NaN   \n",
              "\n",
              "                    Description - EP Rinkside Part 2  \\\n",
              "0  Connor Bedard is the premier prospect in the w...   \n",
              "1  A fantastic consolation prize, Adam Fantilli w...   \n",
              "2  Statistically, Matvei Michkov is *another* fir...   \n",
              "3  Oh, look, another first-overall talent. Leo Ca...   \n",
              "4  Some people are worried about selecting a 5-9 ...   \n",
              "\n",
              "  Description - The Painted Lines Description - FCHockey  \n",
              "0                             NaN                    NaN  \n",
              "1                             NaN                    NaN  \n",
              "2                             NaN                    NaN  \n",
              "3                             NaN                    NaN  \n",
              "4                             NaN                    NaN  "
            ]
          },
          "execution_count": 3,
          "metadata": {},
          "output_type": "execute_result"
        }
      ],
      "source": [
        "# dataset location\n",
        "DATASET = \"data/prospect-data.csv\"\n",
        "\n",
        "# load dataset into dataframe\n",
        "data = pd.read_csv(DATASET)\n",
        "\n",
        "# clean up dataset\n",
        "# might have to look at dropping seattle in the future but for clustering it \n",
        "# should not matter\n",
        "#data = data[data['Team'] != 'SEA']\n",
        "\n",
        "# try without goalies\n",
        "#data = data[(data['Position'] != 'G')]\n",
        "#data = data[(data['Position'] == 'C') | (data['Position'] == 'LW') | (data['Position'] == 'RW')]\n",
        "\n",
        "# encode position\n",
        "# TODO: we should keep the positions for when we do clustering\n",
        "position = preprocessing.LabelEncoder()\n",
        "position.fit(data['Position'].unique())\n",
        "data['Position'] = data['Position'].apply(lambda x: position.transform([x])[0])\n",
        "\n",
        "\n",
        "height_scaler = preprocessing.StandardScaler()\n",
        "data['Height'] = height_scaler.fit_transform(data['Height'].values.reshape(-1, 1))\n",
        "weight_scaler = preprocessing.StandardScaler()\n",
        "data['Weight'] = weight_scaler.fit_transform(data['Weight'].values.reshape(-1, 1))\n",
        "\n",
        "\n",
        "\n",
        "data.head()"
      ]
    },
    {
      "cell_type": "code",
      "execution_count": 8,
      "metadata": {
        "colab": {
          "base_uri": "https://localhost:8080/"
        },
        "id": "BU2qKUXDTkH3",
        "outputId": "3209183c-e731-448e-d2b6-80d98cd52aaa"
      },
      "outputs": [
        {
          "name": "stdout",
          "output_type": "stream",
          "text": [
            "length of corpus: 402\n",
            "length of labels: 402\n",
            "length of draft_position: 402\n",
            "length of player_position: 402\n",
            "corpus first 5: ['he uses to create separation and get to his spots. there’s his variety of shooting stances (right down to his curl-and-drag, his one-timer, and his feel off of his backhand). he’s got everything else you look for in a dynamic play creator as well. he’s got unbelievably quick hands and the loose grip that all great handlers have. he’s got high-end speed with his galloping crossover strides and strong acceleration from a standstill, which help him carry the puck up the ice, create one-on-one off the rush, or join in transition as the trailer whenever he has to play catchup. he’s also highly creative despite his goal-scoring tilt. even though the goalie is his focus, i wouldn’t say he tunnel-visions, and there’s a lot to his game between the offensive-zone blue line and the shot he takes that’s inventive. he has also learned to use the attention his shot gets as a tool to open up his passing game and find linemates at the backdoor with blind passes through seams. he regularly makes difficult plays as a passer, demonstrating high-end spatial awareness and often finding second or even third options (constantly pre-scanning and shoulder-checking). he’s an entry machine driving play through the neutral zone and across the line in control. he goes to the front of the net and will bail out to make effort plays. add in instincts off the puck to get open even when he’s a marked man, an improved physical engagement (he’s really quite feisty and competitive), some underrated skill as a puck thief, a strong lower half, and you’ve got a superstar prospect. nobody can defend his inside-out cut into that low, hard wrister of his at the junior level. it often takes two to take the puck off of him when he’s twisting and turning, too. he’s a marvel, with legit 50-goal upside at the next level. i think he’ll stick at centre, too (it was nice to see him at 53.6 percent in the circle this year). i’m not sure there has ever been a player ’s age in the history of hockey who has been able to shoot the puck like he can. he can get a little ahead of the play, and he’s got work to do on his game defensively if he doesn’t want to get hemmed in at the next level, but those are things you live with when it comes to talent as singular as his. is an extremely gifted generational offensive talent. whichever team is lucky enough to have the lottery balls fall their way will be sprinting to the podium on june 28th to draft . ’s innate scoring ability is one that we haven’t seen in along time, and i could see as a challenger for the 50-goal mark in most seasons he is not hampered by injury. chicago won’t be challenging for a stanley cup in the next couple years, and the continuous losing may spark a commitment to the defensive side of the', 'out. has every tool that an nhl team would dream of having with their top overall selection. he’s got the physical tools of size, strength, speed and lateral mobility. he has amazing puck skill with the ability to do it at full speed and in small area situations. he can protect the puck, put his shoulder down and power through a defender, or put it under a defender’s stick and put them through the spin cycle. his vision is high-end with the ability to find lateral teammates and move defenders out of passing lanes to open up new scoring opportunities. he has a heavy wrist shot and a dynamite one-timer. the power play could run through or he could be the trigger man. a 6-foot-2, 200-pound power with touch, is the kind of player teams are desperate for–skilled size. while the league continues to go more towards skill, players that have size, strength, physicality and speed will always get longer looks than their smaller counterparts. in ’s case, he’s also one of the best offensive performers in this draft class. with powerful, quick skating, gets up and down the ice as well as anyone. he’s hard to move off pucks and difficult to slow down in transition. if you time your check you have to hope he’s not going to bowl you over. there’s an aggressiveness and tenacity in ’s game that can overpower the opposition and lead to him winning a lot of battles and one-on-one plays. he’s most dangerous around the net and he gets there with regularity. his ability to drive to the middle of the ice may be one of his biggest separating factors among other centers in this class. meanwhile, he’s producing at a near historic rate in his first season, drawing comparisons to jack eichel’s incredible freshman campaign in his own draft season. has the skill to make a ton of plays. sometimes i question his puck decisions and forcing plays to the middle when they’re not there, but he has good reason to be confident in his ability. the size, the speed and the skill make one of the draft’s premier players and, as we wrote not so long ago, way more than a consolation prize. a fantastic consolation prize, would be the first overall selection in many years. a power centre with the ability to score from distance, matchup against skill, and drive play into the middle of the ice. plus, he’s a serious weapon on the man advantage. this is a draft-and-play asset.', 'defensively, nor the fastest skater, but he always seems to be lurking around the play (and the puck) anyway and his skill level pops from there. i expect him to crack games open at the nhl level and while he’s not going to be a driver, per se, i don’t think he’ll fade either because he doesn’t need time or space to attack and he’s a threat as soon as the puck touches his stick (similar to nikita kucherov). a smart, dynamic goal-scoring winger, dictates play when he’s on the ice. with constant delays and changes of pace, baiting poke-checks to freeze defenders just enough to get by them, making up for his lack of a high-end top speed. making give-and-go plays all along the ice, using his teammates effectively, he’s not afraid to turn back in transition in order to maintain possession and open up new opportunities. he finds open ice extremely well and always positions himself to be a great passing option in the offensive zone. all this is designed with the end goal of creating space for himself in dangerous areas to let his lethal shot fly. he may look small, but he’s not easily knocked over, and he doesn’t shy away from physical battles; his physical game has improved a lot over the course of the season as he’s gotten stronger, and it should improve even more from here. there are flashes of great playmaking ability, but it’s not consistent; his ideas and vision are great, but the execution is often poor. overall, since moving teams, he’s been playing a much more projectable game, and not trying to do everything himself so much, which was an issue before, as well as playing a much better defensive game, though it’s still not a strength of his. he has the potential to be a game-breaking talent, but it’s not a guarantee, although i’m less concerned than i previously was. for the last few years, i’ve described as a genius-level hockey player. his sense for the game is among the best i’ve seen since i’ve been evaluating prospects. bedard might be the best goal scorer, but is not terribly far behind. what makes special is that he’s always thinking a step ahead. he uses his creativity to find space, but just about everything he does is intentional and net-driven. the quickness with which he figures out how he needs to get open or how he can best position a shot is at an elite level. in addition to processing the game at such a high rate, also has the hands, and the shot, to execute with precision. currently playing in russia’s second pro division, is averaging a goal per game. for as good a player as he is, he still lacks the strength and quickness to be as effective at the level as everywhere else he’s been. that will come eventually, though, as he gets stronger. this is also what makes his hockey sense special, because he knows how', 'two seasons, came up as a centre and i like the way his game might fit there long term because of his combination of size, detail, talent and awareness. he projects as a pass-first playmaking centre with a middle-six floor, first-line potential, and clear pp value (in multiple roles, too, because he’s great around the net and below the goal line passing low to high, but can also run it from the flank). has been played extremely well at the level this season for örebro. in the offensive zone, he will take over the cycle and will move laterally quickly to shift away from pressure as he sees that if he moves laterally he will skate into a quality passing lane that he can exploit. ’s vision and stick-handling can get him out of well-pressured jams in all three zones. he will find quality passing lanes in the neutral zone when looking for a teammate in stride to pass to and has no issue with maneuvering the puck around tight pressure. hunts for loose pucks with speed and has the physicality to deliver quality checks along the boards to cause puck disruption in tight board battles. is a prospect that we see being a reliable playmaker and playing in a line one role at the nhl level. the buzz is growing (and rightfully so) that belongs in the top-tier of this draft, or at least deserves to be spoken in the same sentence as bedard, michkov and fantilli. has all of the measurable qualities teams look for in a power forward, but he’s shown very early on in this season that he’s got the game to go along with it. he’s been scoring at an extraordinarily high-rate for a u19 player in sweden’s top pro league, while averaging top-six minutes and showing an ability to drive play. at 6-foot-3, 194, he’s a solidly-built forward who is difficult to move off pucks and has good net-drive ability. also has soft-touch skills with the puck and makes confident decisions when he has it on his stick. off the puck, he competes and is responsible at both ends of the ice. he might not have the outright offensive creativity of the three players ahead of him, but he has good hands and good touch on the puck, which makes him extra dangerous in tight. oh, look, another first-overall talent. shone brightly against the best professionals in the 6-foot-3 centre boasts all of the traits you look for in a front-line pivot. won’t wow you constantly, but does everything very well. big, strong, quick, skilled. we like him a lot.', \"regardless. while i don’t necessarily see reaching the top of the superstar bucket, (tavares, kane, stamkos etc…) i do envision him being a cornerstone piece for the franchise that selects him this june. when thinking of a player comparison, i get drawn to a few different players. from an offensive skills standpoint, i personally see a lot of similar traits to cole perfetti. great vision, feet always moving, and just very technically sound with every movement. has a motor on him though that never stops running. to me, very similar to watching brayden point roam around. there just seems to always be a certain intensity when both of them are on the ice and hunting down pucks. both great at carving out pockets of space, and tremendous at distributing or finishing plays themselves. an offensive dynamo with deft scoring touch, has been a key player for one of the best teams in all of junior hockey over the last two seasons. surrounded by talent, continues to stand out as a play-driver with a strong finish. in this draft with a lot of bigger players, stands out in other ways, especially his offensive intelligence and ability to execute consistently. the primary concern about a player of s' size is his skating. it’s fine, but could be better in order to calm some of the concerns about his size. what alleviates the skating concern for me is how quickly processes the game and his commitment to playing aggressive off the puck and in pursuit. he takes a lot of pucks off opposing players in a given game. that competitive drive that he has on top of the ability to make a ton of plays during a game should allow him to continue to be an impact player as he progresses up the ranks. some people are worried about selecting a 5-9 forward without blazing speed at this juncture of the draft. i’m not one of them. has the highest work rate in the class. he boasts high-end puck skills and a plus-rated release. his playmaking is ultra-supreme. this is a worker bee with first-line skills. sure, he may have to move to the flank, but we still bet on these types of guys.\"]\n",
            "labels first 5: [nan, nan, nan, nan, nan]\n",
            "draft_position first 5: [nan, nan, nan, nan, nan]\n",
            "player_position first 5: [0, 0, 4, 0, 3]\n"
          ]
        }
      ],
      "source": [
        "corpus, labels, draft_position, player_position, player_name, team, height, weight = [], [], [], [], [], [], [], []\n",
        "\n",
        "scouting_reports = [\n",
        "    'Description - Corey Pronman',\n",
        "    'Description - Scott Wheeler',\n",
        "    'Description - Smaht Scouting',\n",
        "    'Description - ESPN (Chris Peters)',\n",
        "    'Description - EP Rinkside', \n",
        "    'Description - EP Rinkside Part 2',\n",
        "    'Description - The Painted Lines',\n",
        "    'Description - FCHockey'\n",
        "]\n",
        "\n",
        "\n",
        "# remove references to leagues, teams, and nationalities\n",
        "hockey_words = [\"usntdp\", \"ntdp\", \"development\", \"program\",\n",
        "                \"khl\", \"shl\", \"ushl\", \"ncaa\", \"ohl\", \"chl\", \"whl\", \"qmjhl\",\n",
        "                \"sweden\", \"russia\", \"usa\", \"canada\", \"ojhl\", \"finland\", \n",
        "                \"finnish\", \"swedish\", \"russian\", \"american\", \"wisconsin\",\n",
        "                \"michigan\", \"bc\", \"boston\", \"london\", \"bchl\", \"kelowna\",\n",
        "                \"liiga\", \n",
        "                \"portland\", \"minnesota\", \"ska\", \"frolunda\", \"sjhl\", \"college\",\n",
        "                \"center\", \"left\", \"right\", \"wing\", \"saginaw\", \"kelowna\", \"frolunda\",\n",
        "                \"slovakia\"]\n",
        "\n",
        "\n",
        "for index, row in data.iterrows():\n",
        "  text = \"\"\n",
        "  for report in scouting_reports:\n",
        "    # skip null reports\n",
        "    if pd.isnull(row[report]):\n",
        "      continue\n",
        "\n",
        "    scouting_report = row[report]\n",
        "    scouting_report = scouting_report.lower()\n",
        "    # remove player name from report\n",
        "    names = row['Name'].lower().split(' ')\n",
        "    for name in names:\n",
        "      scouting_report = scouting_report.replace(name + \"'s\", '')\n",
        "      scouting_report = scouting_report.replace(name, '')\n",
        "    \n",
        "    scouting_report = scouting_report.replace('\\n', ' ')\n",
        "    scouting_report = scouting_report.replace('\\r', '')\n",
        "\n",
        "    # remove hockey specific stop words\n",
        "    # TODO: there is an issue where a hockey word includes punctuation, it does not get removed\n",
        "    # for instance: \"usntdp,\" will not get removed\n",
        "    scouting_report = scouting_report.split()\n",
        "    scouting_report = [word for word in scouting_report if (word.replace(\"'s\", \"\").replace(\",\", \"\").replace(\".\", \"\") not in hockey_words)]\n",
        "    # join back on spaces\n",
        "    scouting_report = ' '.join(scouting_report)\n",
        "\n",
        "    text = text + \" \" + scouting_report\n",
        "\n",
        "  # append to dataset\n",
        "  corpus.append(text)\n",
        "  labels.append(row['Team'])\n",
        "  draft_position.append(row['Drafted'])\n",
        "  player_position.append(row['Position'])\n",
        "  player_name.append(row['Name'])\n",
        "  team.append(row['Team'])\n",
        "  height.append(row['Height'])\n",
        "  weight.append(row['Weight'])\n",
        "# sanity check values\n",
        "print(f\"length of corpus: {len(corpus)}\")\n",
        "print(f\"length of labels: {len(labels)}\")\n",
        "print(f\"length of draft_position: {len(draft_position)}\")\n",
        "print(f\"length of player_position: {len(player_position)}\")\n",
        "\n",
        "print(f\"corpus first 5: {corpus[0:5]}\")\n",
        "print(f\"labels first 5: {labels[0:5]}\")\n",
        "print(f\"draft_position first 5: {draft_position[0:5]}\")\n",
        "print(f\"player_position first 5: {player_position[0:5]}\")"
      ]
    },
    {
      "cell_type": "code",
      "execution_count": 9,
      "metadata": {},
      "outputs": [
        {
          "name": "stdout",
          "output_type": "stream",
          "text": [
            "Top-5 most similar pairs:\n",
            "Gabriel Gagne \t Simon Holmstrom \t 1.0000\n",
            "Gabriel Gagne \t Alex Nedeljkovic \t 1.0000\n",
            "Gabriel Gagne \t Sam Steel \t 1.0000\n",
            "Gabriel Gagne \t Jack Roslovic \t 1.0000\n",
            "Gabriel Gagne \t Jayce Hawryluk \t 1.0000\n",
            "Gabriel Gagne \t Jackson Lacombe \t 1.0000\n",
            "Gabriel Gagne \t Brendan Lemieux \t 1.0000\n",
            "Gabriel Gagne \t Adrien Kempe \t 1.0000\n",
            "Gabriel Gagne \t K'Andre Miller \t 1.0000\n",
            "Gabriel Gagne \t David Pastranak \t 1.0000\n"
          ]
        }
      ],
      "source": [
        "# attempting to vectorize using bert embeddings\n",
        "from sentence_transformers import SentenceTransformer, util\n",
        "model = SentenceTransformer('all-mpnet-base-v2')\n",
        "model.max_seq_length = 510\n",
        "X = pd.DataFrame(list(zip(team, player_name, draft_position, height, weight, player_position, corpus)), columns=['team', 'player_name', 'draft_position', 'height', 'weight', 'player_position', 'report'])\n",
        "X['embeddings'] = 0\n",
        "X['embeddings'] = X['embeddings'].astype('float64')\n",
        "Y = labels\n",
        "\n",
        "# create train test splits of data\n",
        "X_train, X_test, y_train, y_test = train_test_split(X, Y, test_size=0.33)\n",
        "\n",
        "#print(f\"Boqvist Report: {X_train[X_train['player_name'] == 'Jesper Boqvist']['report'].values[0]}\")\n",
        "sentences = X_train['report'].values\n",
        "players = X_train['player_name'].values\n",
        "#Encode all sentences\n",
        "embeddings = model.encode(sentences)\n",
        "\n",
        "#Compute cosine similarity between all pairs\n",
        "cos_sim = util.cos_sim(embeddings, embeddings)\n",
        "\n",
        "#Add all pairs to a list with their cosine similarity score\n",
        "all_sentence_combinations = []\n",
        "for i in range(len(cos_sim)-1):\n",
        "    for j in range(i+1, len(cos_sim)):\n",
        "        all_sentence_combinations.append([cos_sim[i][j], i, j])\n",
        "\n",
        "#Sort list by the highest cosine similarity score\n",
        "all_sentence_combinations = sorted(all_sentence_combinations, key=lambda x: x[0], reverse=True)\n",
        "\n",
        "print(\"Top-5 most similar pairs:\")\n",
        "for score, i, j in all_sentence_combinations[0:10]:\n",
        "    print(\"{} \\t {} \\t {:.4f}\".format(players[i], players[j], cos_sim[i][j]))"
      ]
    },
    {
      "attachments": {},
      "cell_type": "markdown",
      "metadata": {},
      "source": []
    },
    {
      "cell_type": "code",
      "execution_count": 6,
      "metadata": {},
      "outputs": [
        {
          "name": "stdout",
          "output_type": "stream",
          "text": [
            "pre-normalized embeddings: -7.278813427546993e-05\n",
            "post-normalized embeddings: -7.278798148036003e-05\n"
          ]
        },
        {
          "data": {
            "text/plain": [
              "184    [-0.0021891126, -0.0052201157, 0.037545864, 0....\n",
              "Name: embeddings, dtype: object"
            ]
          },
          "execution_count": 6,
          "metadata": {},
          "output_type": "execute_result"
        }
      ],
      "source": [
        "VECTOR_SIZE = 100\n",
        "from sklearn.preprocessing import Normalizer\n",
        "\n",
        "print(f\"pre-normalized embeddings: {embeddings[0].mean(axis=0)}\")\n",
        "transformer = Normalizer().fit(embeddings)\n",
        "embeddings = transformer.transform(embeddings)\n",
        "print(f\"post-normalized embeddings: {embeddings[0].mean(axis=0)}\")\n",
        "def vectorize(sentence):\n",
        "    words = sentence.split()\n",
        "    words_vecs = [model.wv[word] for word in words if word in model.wv.index_to_key]\n",
        "    if len(words_vecs) == 0:\n",
        "        return np.zeros(VECTOR_SIZE)\n",
        "    words_vecs = np.array(words_vecs)\n",
        "    return words_vecs.mean(axis=0)\n",
        "\n",
        "converted_embeddings = [embedding.mean(axis=0, dtype=np.float64) for embedding in embeddings]\n",
        "X_train['embeddings'] = [embedding for embedding in embeddings]\n",
        "#X_train['embeddings'] = [embedding.mean(axis=0, dtype=np.float64) for embedding in embeddings]\n",
        "#X_test['report'] = np.array([vectorize(sentence) for sentence in X_test['report'].values])\n",
        "\n",
        "X_train['embeddings'].head(1)"
      ]
    },
    {
      "attachments": {},
      "cell_type": "markdown",
      "metadata": {
        "id": "gO_ft5BGwHM6"
      },
      "source": [
        "Exploring Kmeans now for unsupervised learning"
      ]
    },
    {
      "cell_type": "code",
      "execution_count": 7,
      "metadata": {
        "colab": {
          "base_uri": "https://localhost:8080/",
          "height": 478
        },
        "id": "dfWJzirL4dMV",
        "outputId": "deadfa2e-2a6f-4736-d5cc-276da9c025f7"
      },
      "outputs": [
        {
          "data": {
            "image/png": "[encoded data removed]",
            "text/plain": [
              "<Figure size 640x480 with 1 Axes>"
            ]
          },
          "metadata": {},
          "output_type": "display_data"
        }
      ],
      "source": [
        "def plot_silhouette_scores(data, start, end, step):\n",
        "  # A list holds the silhouette coefficients for each k\n",
        "  silhouette_coefficients = []\n",
        "\n",
        "  formated_data = data\n",
        "\n",
        "  sse = {}\n",
        "  # Notice you start at 2 clusters for silhouette coefficient\n",
        "  for k in range(start, end, step):\n",
        "    kmeans = KMeans(n_clusters=k, n_init=2, max_iter=1000)\n",
        "    kmeans.fit(formated_data)\n",
        "    score = silhouette_score(formated_data, kmeans.labels_)\n",
        "    silhouette_coefficients.append(score)\n",
        "    sse[k] = kmeans.inertia_\n",
        "\n",
        "  plt.style.use(\"fivethirtyeight\")\n",
        "  plt.plot(range(start, end, step), silhouette_coefficients)\n",
        "  plt.xticks(range(start, end, step))\n",
        "  plt.xlabel(\"Number of Clusters\")\n",
        "  plt.ylabel(\"Silhouette Coefficient\")\n",
        "  plt.show()\n",
        "\n",
        "  plt.plot(list(sse.keys()), list(sse.values()))\n",
        "  plt.xlabel(\"Number of cluster\")\n",
        "  plt.ylabel(\"SSE\")\n",
        "  plt.show()\n",
        "\n",
        "\n",
        "\n",
        "formated_data = np.vstack(X_train['embeddings'])\n",
        "temp_data = []\n",
        "for index, row in enumerate(formated_data):\n",
        "  temp_data.append(np.concatenate((formated_data[index], [X_train['height'].values[index]], [X_train['weight'].values[index]])))\n",
        "  #formated_data[index] = np.append(formated_data[index], X_train['weight'].values[index])\n",
        "data = np.array(temp_data)\n",
        "plot_silhouette_scores(data, 2, 25, 1)"
      ]
    },
    {
      "attachments": {},
      "cell_type": "markdown",
      "metadata": {
        "id": "Ygr7A-oA5j1N"
      },
      "source": [
        "The extremely low silhouette score implies there is a lot of overlap in classification of values. There might have to be some more data massaging in order to get this value higher"
      ]
    },
    {
      "cell_type": "code",
      "execution_count": 8,
      "metadata": {
        "id": "JW6DUWrz-KHQ"
      },
      "outputs": [],
      "source": [
        "SELECTED_CLUSTERS = 3"
      ]
    },
    {
      "cell_type": "code",
      "execution_count": 9,
      "metadata": {
        "id": "JhEabsKVvzCs"
      },
      "outputs": [],
      "source": [
        "# use the number of clusters found to be the best in graph above\n",
        "kmeans = KMeans(n_clusters=SELECTED_CLUSTERS, n_init = 5)\n",
        "#labels = kmeans.fit_predict(np.array(X_train[['embeddings', 'height', 'weight']]).reshape(-1, 1))\n",
        "labels = kmeans.fit_predict(data)\n",
        "\n",
        "X_train['label'] = labels"
      ]
    },
    {
      "cell_type": "code",
      "execution_count": 10,
      "metadata": {
        "colab": {
          "base_uri": "https://localhost:8080/"
        },
        "id": "UMYQIYzX6-8J",
        "outputId": "e6a8efab-585b-4916-bf76-b3622f101415"
      },
      "outputs": [],
      "source": [
        "# show the top words for each cluster that was created\n",
        "def get_top_features_cluster(X_train):\n",
        "    data = X_train[X_train['label'] == 14]\n",
        "    for index, row in data.iterrows():\n",
        "        print(\"\")\n",
        "        print(\"player name: {}\", row['player_name'])\n",
        "        print(row['report'])\n",
        "        \n",
        "    \n",
        "\n",
        "get_top_features_cluster(X_train)"
      ]
    },
    {
      "cell_type": "code",
      "execution_count": 11,
      "metadata": {
        "colab": {
          "base_uri": "https://localhost:8080/",
          "height": 785
        },
        "id": "aCs5gdAiSLFr",
        "outputId": "736d27a5-1f7a-4957-95cb-72ecd2ff2b87"
      },
      "outputs": [
        {
          "name": "stdout",
          "output_type": "stream",
          "text": [
            "Index(['team', 'player_name', 'draft_position', 'height', 'weight',\n",
            "       'player_position', 'report', 'embeddings', 'label'],\n",
            "      dtype='object')\n",
            "     team         player_name  draft_position    height    weight  \\\n",
            "184    25        Dominik Bokk              25  0.130656 -0.738206   \n",
            "28      4       Gleb Trikozov              60  0.130656 -0.144267   \n",
            "104     3  John-Jason Peterka              34 -0.783999  0.317686   \n",
            "214    29     Erik Brannstrom              15 -1.698655 -0.540227   \n",
            "267    31      Lucas Johansen              28  0.473652 -0.775163   \n",
            "\n",
            "     player_position                                             report  \\\n",
            "184                4   is one of the most interesting players for me...   \n",
            "28                 3   is a talented winger. he displays great indiv...   \n",
            "104                4   was a tough player to evaluate this season, a...   \n",
            "214                1   is a favorite of mine relative to the opinion...   \n",
            "267                1   took huge steps forward in his second season,...   \n",
            "\n",
            "                                            embeddings  label  \n",
            "184  [-0.0021891126, -0.0052201157, 0.037545864, 0....      0  \n",
            "28   [0.016296599, 0.020257507, 0.033164073, 0.0219...      0  \n",
            "104  [-0.022219315, 0.027064452, 0.042815663, 0.004...      0  \n",
            "214  [-0.02072812, 0.006973099, 0.022201914, 0.0128...      2  \n",
            "267  [-0.0067864833, 0.042319335, 0.025106685, 0.00...      0  \n"
          ]
        },
        {
          "data": {
            "application/vnd.plotly.v1+json": {
              "config": {
                "plotlyServerURL": "https://plot.ly"
              },
              "data": [
                {
                  "branchvalues": "total",
                  "domain": {
                    "x": [
                      0,
                      1
                    ],
                    "y": [
                      0,
                      1
                    ]
                  },
                  "hovertemplate": "labels=%{label}<br>count=%{value}<br>parent=%{parent}<br>id=%{id}<extra></extra>",
                  "ids": [
                    "2/Adam Boqvist",
                    "2/Adam Mascherin",
                    "0/Adrien Kempe",
                    "2/Aleksi Heponiemi",
                    "2/Alex Debrincat",
                    "0/Alex Nedeljkovic",
                    "0/Alex Turcotte",
                    "1/Alexander Alexeyev",
                    "1/Alexander Romanov",
                    "0/Alexis Lafreniere",
                    "0/Andreas Englund",
                    "0/Andrei Svechnikov",
                    "1/Andrew Peeke",
                    "2/Anthony Beauvillier",
                    "0/Anton Lundell",
                    "1/Antti Tuomisto",
                    "0/Arthur Kaliyev",
                    "2/Ayrton Martino",
                    "2/Bobby Brink",
                    "0/Bowen Byram",
                    "0/Brad Lambert",
                    "1/Braden Schneider",
                    "1/Brady Tkachuk",
                    "0/Brandt Clarke",
                    "2/Brendan Brisson",
                    "0/Brendan Lemieux",
                    "2/Brennan Othmann",
                    "0/Brett Howden",
                    "0/Brock Boeser",
                    "0/Cale Makar",
                    "1/Callan Foote",
                    "1/Cameron Morrison",
                    "2/Cameron York",
                    "0/Carson Lambos",
                    "0/Casey Mittelstadt",
                    "0/Charlie McAvoy",
                    "2/Chaz Lucius",
                    "2/Clayton Keller",
                    "2/Cole Caufield",
                    "0/Cole Sillinger",
                    "0/Conner Bleackley",
                    "0/Connor McDavid",
                    "0/Connor McMichael",
                    "0/Connor Zary",
                    "1/Conor Geekie",
                    "0/Daniil Chayka",
                    "0/Dante Fabbro",
                    "2/David Goyette",
                    "0/David Jiricek",
                    "2/David Pastranak",
                    "0/Dawson Mercer",
                    "0/Dennis Cholowski",
                    "0/Dominik Bokk",
                    "2/Dylan Guenther",
                    "0/Dylan Holloway",
                    "0/Dylan Larkin",
                    "0/Dylan Strome",
                    "2/Eeli Tolvanen",
                    "0/Elias Pettersson",
                    "2/Emil Andrae",
                    "2/Erik Brannstrom",
                    "0/Evan Bouchard",
                    "2/Fabian Lysell",
                    "2/Filip Mesar",
                    "0/Francesco Pinelli",
                    "2/Frank Nazar",
                    "0/Gabriel Carlsson",
                    "1/Gabriel Gagne",
                    "1/Gabriel Vilardi",
                    "0/Gleb Trikozov",
                    "1/Haydn Fleury",
                    "1/Helge Grans",
                    "2/Hendrix Lapierre",
                    "0/Henri Jokiharju",
                    "0/Henrik Borgstrom",
                    "1/Ilya Samsonov",
                    "2/Isaac Howard",
                    "0/Isac Lundestrom",
                    "2/Isak Rosen",
                    "0/Ivan Miroshnichenko",
                    "0/Ivan Provorov",
                    "2/Jack Hughes",
                    "0/Jack Quinn",
                    "0/Jackson Lacombe",
                    "0/Jacob Larsson",
                    "2/Jagger Firkus",
                    "0/Jake Bean",
                    "2/Jake Debrusk",
                    "1/Jake Oettinger",
                    "0/Jake Sanderson",
                    "1/Jake Virtanen",
                    "1/Jakob Chychrun",
                    "2/Jakob Pelletier",
                    "0/Jakub Vrana",
                    "0/Jakub Zboril",
                    "2/Jan Mysak",
                    "2/Jared McCann",
                    "0/Jared McIsaac",
                    "0/Jason Robertson",
                    "0/Jeremie Poirier",
                    "0/Jeremy Roy",
                    "1/Jesper Wallstedt",
                    "0/Jesperi Kotkaniemi",
                    "1/Jesse Piljujarvi",
                    "2/Jesse Ylonen",
                    "0/Jimmy Snuggerud",
                    "2/Jiri Kulich",
                    "2/Joakim Kemell",
                    "0/John-Jason Peterka",
                    "0/Jonatan Berggren",
                    "2/Jonathan Lekkerimaki",
                    "2/Jordan Kyrou",
                    "0/Josh Norris",
                    "1/Julien Gauthier",
                    "2/Julius Honka",
                    "1/Juraj Slafkovsky",
                    "0/Justin Barron",
                    "1/Juuso Valimaki",
                    "1/K'Andre Miller",
                    "0/Kaapo Kakko",
                    "0/Kaiden Guhle",
                    "2/Kailer Yamamoto",
                    "0/Kasperi Kapanen",
                    "0/Kent Johnson",
                    "0/Kevin Korchinski",
                    "0/Kieffer Bellows",
                    "1/Klim Kostin",
                    "1/Kristian Vesalainen",
                    "0/Kyle Connor",
                    "2/Lane Hutson",
                    "0/Lassi Thomson",
                    "1/Lawson Crouse",
                    "0/Liam Ohgren",
                    "0/Lias Andersson",
                    "0/Libor Hajek",
                    "2/Logan Cooley",
                    "2/Logan Stankoven",
                    "1/Logan Stanley",
                    "0/Lucas Johansen",
                    "2/Lucas Raymond",
                    "2/Lukas Cormier",
                    "0/Luke Hughes",
                    "0/Luke Kunin",
                    "0/Mackie Samoskevich",
                    "1/Mads Sogaard",
                    "2/Marco Rossi",
                    "0/Marcus Pettersson",
                    "0/Martin Kaut",
                    "0/Mason McDonald",
                    "0/Matt Boldy",
                    "2/Matthew Barzal",
                    "2/Matthew Coronato",
                    "1/Matthew Tkachuk",
                    "2/Mattias Havelid",
                    "1/Mattias Samuelsson",
                    "0/Michael Dal Colle",
                    "0/Michael McLeod",
                    "1/Mikhail Sergachev",
                    "1/Mikko Rantanen",
                    "2/Miro Heiskanen",
                    "2/Mitch Marner",
                    "0/Mitchell Stephens",
                    "2/Morgan Frost",
                    "1/Moritz Seider",
                    "0/Nick Merkley",
                    "1/Nick Ritchie",
                    "2/Nick Schmaltz",
                    "2/Nicolas Beaudin",
                    "1/Nicolas Hague",
                    "1/Nicolas Meloche",
                    "2/Nikita Chibrikov",
                    "0/Nikita Scherbak",
                    "0/Nikolay Goldobin",
                    "2/Nils Lundkvist",
                    "0/Noah Dobson",
                    "1/Noah Hanifan",
                    "0/Noah Juulsen",
                    "1/Nolan Patrick",
                    "0/Olli Juolevi",
                    "0/Olof Lindbom",
                    "0/Oskar Olausson",
                    "0/Owen Pickering",
                    "0/Owen Tippett",
                    "0/Pascal Laberge",
                    "1/Patrik Laine",
                    "1/Paul Bittner",
                    "0/Pavel Mintyukov",
                    "1/Pavel Zacha",
                    "1/Phili Broberg",
                    "0/Pierre-Olivier Joseph",
                    "2/Quinn Hughes",
                    "1/Raphael Lavoie",
                    "2/Rasmus Asplund",
                    "1/Riley Tufte",
                    "2/Roni Hirvonen",
                    "0/Ryan Chesley",
                    "2/Ryan Johnson",
                    "2/Ryan Merkley",
                    "0/Ryan O'Rourke",
                    "0/Ryan Suzuki",
                    "2/Sam Steel",
                    "1/Scott Morrow",
                    "2/Seamus Casey",
                    "2/Sean Behrens",
                    "1/Sebastian Cossa",
                    "0/Shane Bowers",
                    "0/Shane Pinto",
                    "0/Shane Wright",
                    "1/Simon Edvinsson",
                    "0/Simon Holmstrom",
                    "0/Simon Nemec",
                    "1/Spencer Knight",
                    "0/Stanislav Svozil",
                    "1/Tage Thompson",
                    "1/Thatcher Demko",
                    "2/Thomas Bordeleau",
                    "0/Thomas Chabot",
                    "1/Thomas Harley",
                    "0/Tim Stutzle",
                    "1/Timo Meier",
                    "0/Timothy Liljegren",
                    "2/Tony DeAngelo",
                    "0/Travis Dermott",
                    "2/Travis Konecny",
                    "0/Travis Sanheim",
                    "1/Trent Frederic",
                    "0/Tristan Luneau",
                    "0/Ty Nelson",
                    "0/Tyler Benson",
                    "0/Tyson Jost",
                    "0/Victor Soderstrom",
                    "0/Ville Heinola",
                    "0/Vitali Kravtsov",
                    "0/Vitek Vanecek",
                    "2/William Eklund",
                    "2/William Nylander",
                    "0/William Stromgren",
                    "2/Xavier Bourgault",
                    "0/Zach Dean",
                    "1/Zach Werenski",
                    "0/Zachary L'Heureux",
                    "0",
                    "1",
                    "2"
                  ],
                  "labels": [
                    "Adam Boqvist",
                    "Adam Mascherin",
                    "Adrien Kempe",
                    "Aleksi Heponiemi",
                    "Alex Debrincat",
                    "Alex Nedeljkovic",
                    "Alex Turcotte",
                    "Alexander Alexeyev",
                    "Alexander Romanov",
                    "Alexis Lafreniere",
                    "Andreas Englund",
                    "Andrei Svechnikov",
                    "Andrew Peeke",
                    "Anthony Beauvillier",
                    "Anton Lundell",
                    "Antti Tuomisto",
                    "Arthur Kaliyev",
                    "Ayrton Martino",
                    "Bobby Brink",
                    "Bowen Byram",
                    "Brad Lambert",
                    "Braden Schneider",
                    "Brady Tkachuk",
                    "Brandt Clarke",
                    "Brendan Brisson",
                    "Brendan Lemieux",
                    "Brennan Othmann",
                    "Brett Howden",
                    "Brock Boeser",
                    "Cale Makar",
                    "Callan Foote",
                    "Cameron Morrison",
                    "Cameron York",
                    "Carson Lambos",
                    "Casey Mittelstadt",
                    "Charlie McAvoy",
                    "Chaz Lucius",
                    "Clayton Keller",
                    "Cole Caufield",
                    "Cole Sillinger",
                    "Conner Bleackley",
                    "Connor McDavid",
                    "Connor McMichael",
                    "Connor Zary",
                    "Conor Geekie",
                    "Daniil Chayka",
                    "Dante Fabbro",
                    "David Goyette",
                    "David Jiricek",
                    "David Pastranak",
                    "Dawson Mercer",
                    "Dennis Cholowski",
                    "Dominik Bokk",
                    "Dylan Guenther",
                    "Dylan Holloway",
                    "Dylan Larkin",
                    "Dylan Strome",
                    "Eeli Tolvanen",
                    "Elias Pettersson",
                    "Emil Andrae",
                    "Erik Brannstrom",
                    "Evan Bouchard",
                    "Fabian Lysell",
                    "Filip Mesar",
                    "Francesco Pinelli",
                    "Frank Nazar",
                    "Gabriel Carlsson",
                    "Gabriel Gagne",
                    "Gabriel Vilardi",
                    "Gleb Trikozov",
                    "Haydn Fleury",
                    "Helge Grans",
                    "Hendrix Lapierre",
                    "Henri Jokiharju",
                    "Henrik Borgstrom",
                    "Ilya Samsonov",
                    "Isaac Howard",
                    "Isac Lundestrom",
                    "Isak Rosen",
                    "Ivan Miroshnichenko",
                    "Ivan Provorov",
                    "Jack Hughes",
                    "Jack Quinn",
                    "Jackson Lacombe",
                    "Jacob Larsson",
                    "Jagger Firkus",
                    "Jake Bean",
                    "Jake Debrusk",
                    "Jake Oettinger",
                    "Jake Sanderson",
                    "Jake Virtanen",
                    "Jakob Chychrun",
                    "Jakob Pelletier",
                    "Jakub Vrana",
                    "Jakub Zboril",
                    "Jan Mysak",
                    "Jared McCann",
                    "Jared McIsaac",
                    "Jason Robertson",
                    "Jeremie Poirier",
                    "Jeremy Roy",
                    "Jesper Wallstedt",
                    "Jesperi Kotkaniemi",
                    "Jesse Piljujarvi",
                    "Jesse Ylonen",
                    "Jimmy Snuggerud",
                    "Jiri Kulich",
                    "Joakim Kemell",
                    "John-Jason Peterka",
                    "Jonatan Berggren",
                    "Jonathan Lekkerimaki",
                    "Jordan Kyrou",
                    "Josh Norris",
                    "Julien Gauthier",
                    "Julius Honka",
                    "Juraj Slafkovsky",
                    "Justin Barron",
                    "Juuso Valimaki",
                    "K'Andre Miller",
                    "Kaapo Kakko",
                    "Kaiden Guhle",
                    "Kailer Yamamoto",
                    "Kasperi Kapanen",
                    "Kent Johnson",
                    "Kevin Korchinski",
                    "Kieffer Bellows",
                    "Klim Kostin",
                    "Kristian Vesalainen",
                    "Kyle Connor",
                    "Lane Hutson",
                    "Lassi Thomson",
                    "Lawson Crouse",
                    "Liam Ohgren",
                    "Lias Andersson",
                    "Libor Hajek",
                    "Logan Cooley",
                    "Logan Stankoven",
                    "Logan Stanley",
                    "Lucas Johansen",
                    "Lucas Raymond",
                    "Lukas Cormier",
                    "Luke Hughes",
                    "Luke Kunin",
                    "Mackie Samoskevich",
                    "Mads Sogaard",
                    "Marco Rossi",
                    "Marcus Pettersson",
                    "Martin Kaut",
                    "Mason McDonald",
                    "Matt Boldy",
                    "Matthew Barzal",
                    "Matthew Coronato",
                    "Matthew Tkachuk",
                    "Mattias Havelid",
                    "Mattias Samuelsson",
                    "Michael Dal Colle",
                    "Michael McLeod",
                    "Mikhail Sergachev",
                    "Mikko Rantanen",
                    "Miro Heiskanen",
                    "Mitch Marner",
                    "Mitchell Stephens",
                    "Morgan Frost",
                    "Moritz Seider",
                    "Nick Merkley",
                    "Nick Ritchie",
                    "Nick Schmaltz",
                    "Nicolas Beaudin",
                    "Nicolas Hague",
                    "Nicolas Meloche",
                    "Nikita Chibrikov",
                    "Nikita Scherbak",
                    "Nikolay Goldobin",
                    "Nils Lundkvist",
                    "Noah Dobson",
                    "Noah Hanifan",
                    "Noah Juulsen",
                    "Nolan Patrick",
                    "Olli Juolevi",
                    "Olof Lindbom",
                    "Oskar Olausson",
                    "Owen Pickering",
                    "Owen Tippett",
                    "Pascal Laberge",
                    "Patrik Laine",
                    "Paul Bittner",
                    "Pavel Mintyukov",
                    "Pavel Zacha",
                    "Phili Broberg",
                    "Pierre-Olivier Joseph",
                    "Quinn Hughes",
                    "Raphael Lavoie",
                    "Rasmus Asplund",
                    "Riley Tufte",
                    "Roni Hirvonen",
                    "Ryan Chesley",
                    "Ryan Johnson",
                    "Ryan Merkley",
                    "Ryan O'Rourke",
                    "Ryan Suzuki",
                    "Sam Steel",
                    "Scott Morrow",
                    "Seamus Casey",
                    "Sean Behrens",
                    "Sebastian Cossa",
                    "Shane Bowers",
                    "Shane Pinto",
                    "Shane Wright",
                    "Simon Edvinsson",
                    "Simon Holmstrom",
                    "Simon Nemec",
                    "Spencer Knight",
                    "Stanislav Svozil",
                    "Tage Thompson",
                    "Thatcher Demko",
                    "Thomas Bordeleau",
                    "Thomas Chabot",
                    "Thomas Harley",
                    "Tim Stutzle",
                    "Timo Meier",
                    "Timothy Liljegren",
                    "Tony DeAngelo",
                    "Travis Dermott",
                    "Travis Konecny",
                    "Travis Sanheim",
                    "Trent Frederic",
                    "Tristan Luneau",
                    "Ty Nelson",
                    "Tyler Benson",
                    "Tyson Jost",
                    "Victor Soderstrom",
                    "Ville Heinola",
                    "Vitali Kravtsov",
                    "Vitek Vanecek",
                    "William Eklund",
                    "William Nylander",
                    "William Stromgren",
                    "Xavier Bourgault",
                    "Zach Dean",
                    "Zach Werenski",
                    "Zachary L'Heureux",
                    "0",
                    "1",
                    "2"
                  ],
                  "name": "",
                  "parents": [
                    "2",
                    "2",
                    "0",
                    "2",
                    "2",
                    "0",
                    "0",
                    "1",
                    "1",
                    "0",
                    "0",
                    "0",
                    "1",
                    "2",
                    "0",
                    "1",
                    "0",
                    "2",
                    "2",
                    "0",
                    "0",
                    "1",
                    "1",
                    "0",
                    "2",
                    "0",
                    "2",
                    "0",
                    "0",
                    "0",
                    "1",
                    "1",
                    "2",
                    "0",
                    "0",
                    "0",
                    "2",
                    "2",
                    "2",
                    "0",
                    "0",
                    "0",
                    "0",
                    "0",
                    "1",
                    "0",
                    "0",
                    "2",
                    "0",
                    "2",
                    "0",
                    "0",
                    "0",
                    "2",
                    "0",
                    "0",
                    "0",
                    "2",
                    "0",
                    "2",
                    "2",
                    "0",
                    "2",
                    "2",
                    "0",
                    "2",
                    "0",
                    "1",
                    "1",
                    "0",
                    "1",
                    "1",
                    "2",
                    "0",
                    "0",
                    "1",
                    "2",
                    "0",
                    "2",
                    "0",
                    "0",
                    "2",
                    "0",
                    "0",
                    "0",
                    "2",
                    "0",
                    "2",
                    "1",
                    "0",
                    "1",
                    "1",
                    "2",
                    "0",
                    "0",
                    "2",
                    "2",
                    "0",
                    "0",
                    "0",
                    "0",
                    "1",
                    "0",
                    "1",
                    "2",
                    "0",
                    "2",
                    "2",
                    "0",
                    "0",
                    "2",
                    "2",
                    "0",
                    "1",
                    "2",
                    "1",
                    "0",
                    "1",
                    "1",
                    "0",
                    "0",
                    "2",
                    "0",
                    "0",
                    "0",
                    "0",
                    "1",
                    "1",
                    "0",
                    "2",
                    "0",
                    "1",
                    "0",
                    "0",
                    "0",
                    "2",
                    "2",
                    "1",
                    "0",
                    "2",
                    "2",
                    "0",
                    "0",
                    "0",
                    "1",
                    "2",
                    "0",
                    "0",
                    "0",
                    "0",
                    "2",
                    "2",
                    "1",
                    "2",
                    "1",
                    "0",
                    "0",
                    "1",
                    "1",
                    "2",
                    "2",
                    "0",
                    "2",
                    "1",
                    "0",
                    "1",
                    "2",
                    "2",
                    "1",
                    "1",
                    "2",
                    "0",
                    "0",
                    "2",
                    "0",
                    "1",
                    "0",
                    "1",
                    "0",
                    "0",
                    "0",
                    "0",
                    "0",
                    "0",
                    "1",
                    "1",
                    "0",
                    "1",
                    "1",
                    "0",
                    "2",
                    "1",
                    "2",
                    "1",
                    "2",
                    "0",
                    "2",
                    "2",
                    "0",
                    "0",
                    "2",
                    "1",
                    "2",
                    "2",
                    "1",
                    "0",
                    "0",
                    "0",
                    "1",
                    "0",
                    "0",
                    "1",
                    "0",
                    "1",
                    "1",
                    "2",
                    "0",
                    "1",
                    "0",
                    "1",
                    "0",
                    "2",
                    "0",
                    "2",
                    "0",
                    "1",
                    "0",
                    "0",
                    "0",
                    "0",
                    "0",
                    "0",
                    "0",
                    "0",
                    "2",
                    "2",
                    "0",
                    "2",
                    "0",
                    "1",
                    "0",
                    "",
                    "",
                    ""
                  ],
                  "type": "treemap",
                  "values": [
                    1,
                    1,
                    1,
                    1,
                    1,
                    1,
                    1,
                    1,
                    1,
                    1,
                    1,
                    1,
                    1,
                    1,
                    1,
                    1,
                    1,
                    1,
                    1,
                    1,
                    1,
                    1,
                    1,
                    1,
                    1,
                    1,
                    1,
                    1,
                    1,
                    1,
                    1,
                    1,
                    1,
                    1,
                    1,
                    1,
                    1,
                    1,
                    1,
                    1,
                    1,
                    1,
                    1,
                    1,
                    1,
                    1,
                    1,
                    1,
                    1,
                    1,
                    1,
                    1,
                    1,
                    1,
                    1,
                    1,
                    1,
                    1,
                    1,
                    1,
                    1,
                    1,
                    1,
                    1,
                    1,
                    1,
                    1,
                    1,
                    1,
                    1,
                    1,
                    1,
                    1,
                    1,
                    1,
                    1,
                    1,
                    1,
                    1,
                    1,
                    1,
                    1,
                    1,
                    1,
                    1,
                    1,
                    1,
                    1,
                    1,
                    1,
                    1,
                    1,
                    1,
                    1,
                    1,
                    1,
                    1,
                    1,
                    1,
                    1,
                    1,
                    1,
                    1,
                    1,
                    1,
                    1,
                    1,
                    1,
                    1,
                    1,
                    1,
                    1,
                    1,
                    1,
                    1,
                    1,
                    1,
                    1,
                    1,
                    1,
                    1,
                    1,
                    1,
                    1,
                    1,
                    1,
                    1,
                    1,
                    1,
                    1,
                    1,
                    1,
                    1,
                    1,
                    1,
                    1,
                    1,
                    1,
                    1,
                    1,
                    1,
                    1,
                    1,
                    1,
                    1,
                    1,
                    1,
                    1,
                    1,
                    1,
                    1,
                    1,
                    1,
                    1,
                    1,
                    1,
                    1,
                    1,
                    1,
                    1,
                    1,
                    1,
                    1,
                    1,
                    1,
                    1,
                    1,
                    1,
                    1,
                    1,
                    1,
                    1,
                    1,
                    1,
                    1,
                    1,
                    1,
                    1,
                    1,
                    1,
                    1,
                    1,
                    1,
                    1,
                    1,
                    1,
                    1,
                    1,
                    1,
                    1,
                    1,
                    1,
                    1,
                    1,
                    1,
                    1,
                    1,
                    1,
                    1,
                    1,
                    1,
                    1,
                    1,
                    1,
                    1,
                    1,
                    1,
                    1,
                    1,
                    1,
                    1,
                    1,
                    1,
                    1,
                    1,
                    1,
                    1,
                    1,
                    1,
                    1,
                    1,
                    1,
                    1,
                    1,
                    1,
                    1,
                    1,
                    1,
                    1,
                    1,
                    1,
                    1,
                    1,
                    1,
                    1,
                    1,
                    1,
                    1,
                    1,
                    1,
                    1,
                    119,
                    54,
                    68
                  ]
                }
              ],
              "layout": {
                "legend": {
                  "tracegroupgap": 0
                },
                "margin": {
                  "t": 60
                },
                "template": {
                  "data": {
                    "bar": [
                      {
                        "error_x": {
                          "color": "#2a3f5f"
                        },
                        "error_y": {
                          "color": "#2a3f5f"
                        },
                        "marker": {
                          "line": {
                            "color": "#E5ECF6",
                            "width": 0.5
                          },
                          "pattern": {
                            "fillmode": "overlay",
                            "size": 10,
                            "solidity": 0.2
                          }
                        },
                        "type": "bar"
                      }
                    ],
                    "barpolar": [
                      {
                        "marker": {
                          "line": {
                            "color": "#E5ECF6",
                            "width": 0.5
                          },
                          "pattern": {
                            "fillmode": "overlay",
                            "size": 10,
                            "solidity": 0.2
                          }
                        },
                        "type": "barpolar"
                      }
                    ],
                    "carpet": [
                      {
                        "aaxis": {
                          "endlinecolor": "#2a3f5f",
                          "gridcolor": "white",
                          "linecolor": "white",
                          "minorgridcolor": "white",
                          "startlinecolor": "#2a3f5f"
                        },
                        "baxis": {
                          "endlinecolor": "#2a3f5f",
                          "gridcolor": "white",
                          "linecolor": "white",
                          "minorgridcolor": "white",
                          "startlinecolor": "#2a3f5f"
                        },
                        "type": "carpet"
                      }
                    ],
                    "choropleth": [
                      {
                        "colorbar": {
                          "outlinewidth": 0,
                          "ticks": ""
                        },
                        "type": "choropleth"
                      }
                    ],
                    "contour": [
                      {
                        "colorbar": {
                          "outlinewidth": 0,
                          "ticks": ""
                        },
                        "colorscale": [
                          [
                            0,
                            "#0d0887"
                          ],
                          [
                            0.1111111111111111,
                            "#46039f"
                          ],
                          [
                            0.2222222222222222,
                            "#7201a8"
                          ],
                          [
                            0.3333333333333333,
                            "#9c179e"
                          ],
                          [
                            0.4444444444444444,
                            "#bd3786"
                          ],
                          [
                            0.5555555555555556,
                            "#d8576b"
                          ],
                          [
                            0.6666666666666666,
                            "#ed7953"
                          ],
                          [
                            0.7777777777777778,
                            "#fb9f3a"
                          ],
                          [
                            0.8888888888888888,
                            "#fdca26"
                          ],
                          [
                            1,
                            "#f0f921"
                          ]
                        ],
                        "type": "contour"
                      }
                    ],
                    "contourcarpet": [
                      {
                        "colorbar": {
                          "outlinewidth": 0,
                          "ticks": ""
                        },
                        "type": "contourcarpet"
                      }
                    ],
                    "heatmap": [
                      {
                        "colorbar": {
                          "outlinewidth": 0,
                          "ticks": ""
                        },
                        "colorscale": [
                          [
                            0,
                            "#0d0887"
                          ],
                          [
                            0.1111111111111111,
                            "#46039f"
                          ],
                          [
                            0.2222222222222222,
                            "#7201a8"
                          ],
                          [
                            0.3333333333333333,
                            "#9c179e"
                          ],
                          [
                            0.4444444444444444,
                            "#bd3786"
                          ],
                          [
                            0.5555555555555556,
                            "#d8576b"
                          ],
                          [
                            0.6666666666666666,
                            "#ed7953"
                          ],
                          [
                            0.7777777777777778,
                            "#fb9f3a"
                          ],
                          [
                            0.8888888888888888,
                            "#fdca26"
                          ],
                          [
                            1,
                            "#f0f921"
                          ]
                        ],
                        "type": "heatmap"
                      }
                    ],
                    "heatmapgl": [
                      {
                        "colorbar": {
                          "outlinewidth": 0,
                          "ticks": ""
                        },
                        "colorscale": [
                          [
                            0,
                            "#0d0887"
                          ],
                          [
                            0.1111111111111111,
                            "#46039f"
                          ],
                          [
                            0.2222222222222222,
                            "#7201a8"
                          ],
                          [
                            0.3333333333333333,
                            "#9c179e"
                          ],
                          [
                            0.4444444444444444,
                            "#bd3786"
                          ],
                          [
                            0.5555555555555556,
                            "#d8576b"
                          ],
                          [
                            0.6666666666666666,
                            "#ed7953"
                          ],
                          [
                            0.7777777777777778,
                            "#fb9f3a"
                          ],
                          [
                            0.8888888888888888,
                            "#fdca26"
                          ],
                          [
                            1,
                            "#f0f921"
                          ]
                        ],
                        "type": "heatmapgl"
                      }
                    ],
                    "histogram": [
                      {
                        "marker": {
                          "pattern": {
                            "fillmode": "overlay",
                            "size": 10,
                            "solidity": 0.2
                          }
                        },
                        "type": "histogram"
                      }
                    ],
                    "histogram2d": [
                      {
                        "colorbar": {
                          "outlinewidth": 0,
                          "ticks": ""
                        },
                        "colorscale": [
                          [
                            0,
                            "#0d0887"
                          ],
                          [
                            0.1111111111111111,
                            "#46039f"
                          ],
                          [
                            0.2222222222222222,
                            "#7201a8"
                          ],
                          [
                            0.3333333333333333,
                            "#9c179e"
                          ],
                          [
                            0.4444444444444444,
                            "#bd3786"
                          ],
                          [
                            0.5555555555555556,
                            "#d8576b"
                          ],
                          [
                            0.6666666666666666,
                            "#ed7953"
                          ],
                          [
                            0.7777777777777778,
                            "#fb9f3a"
                          ],
                          [
                            0.8888888888888888,
                            "#fdca26"
                          ],
                          [
                            1,
                            "#f0f921"
                          ]
                        ],
                        "type": "histogram2d"
                      }
                    ],
                    "histogram2dcontour": [
                      {
                        "colorbar": {
                          "outlinewidth": 0,
                          "ticks": ""
                        },
                        "colorscale": [
                          [
                            0,
                            "#0d0887"
                          ],
                          [
                            0.1111111111111111,
                            "#46039f"
                          ],
                          [
                            0.2222222222222222,
                            "#7201a8"
                          ],
                          [
                            0.3333333333333333,
                            "#9c179e"
                          ],
                          [
                            0.4444444444444444,
                            "#bd3786"
                          ],
                          [
                            0.5555555555555556,
                            "#d8576b"
                          ],
                          [
                            0.6666666666666666,
                            "#ed7953"
                          ],
                          [
                            0.7777777777777778,
                            "#fb9f3a"
                          ],
                          [
                            0.8888888888888888,
                            "#fdca26"
                          ],
                          [
                            1,
                            "#f0f921"
                          ]
                        ],
                        "type": "histogram2dcontour"
                      }
                    ],
                    "mesh3d": [
                      {
                        "colorbar": {
                          "outlinewidth": 0,
                          "ticks": ""
                        },
                        "type": "mesh3d"
                      }
                    ],
                    "parcoords": [
                      {
                        "line": {
                          "colorbar": {
                            "outlinewidth": 0,
                            "ticks": ""
                          }
                        },
                        "type": "parcoords"
                      }
                    ],
                    "pie": [
                      {
                        "automargin": true,
                        "type": "pie"
                      }
                    ],
                    "scatter": [
                      {
                        "fillpattern": {
                          "fillmode": "overlay",
                          "size": 10,
                          "solidity": 0.2
                        },
                        "type": "scatter"
                      }
                    ],
                    "scatter3d": [
                      {
                        "line": {
                          "colorbar": {
                            "outlinewidth": 0,
                            "ticks": ""
                          }
                        },
                        "marker": {
                          "colorbar": {
                            "outlinewidth": 0,
                            "ticks": ""
                          }
                        },
                        "type": "scatter3d"
                      }
                    ],
                    "scattercarpet": [
                      {
                        "marker": {
                          "colorbar": {
                            "outlinewidth": 0,
                            "ticks": ""
                          }
                        },
                        "type": "scattercarpet"
                      }
                    ],
                    "scattergeo": [
                      {
                        "marker": {
                          "colorbar": {
                            "outlinewidth": 0,
                            "ticks": ""
                          }
                        },
                        "type": "scattergeo"
                      }
                    ],
                    "scattergl": [
                      {
                        "marker": {
                          "colorbar": {
                            "outlinewidth": 0,
                            "ticks": ""
                          }
                        },
                        "type": "scattergl"
                      }
                    ],
                    "scattermapbox": [
                      {
                        "marker": {
                          "colorbar": {
                            "outlinewidth": 0,
                            "ticks": ""
                          }
                        },
                        "type": "scattermapbox"
                      }
                    ],
                    "scatterpolar": [
                      {
                        "marker": {
                          "colorbar": {
                            "outlinewidth": 0,
                            "ticks": ""
                          }
                        },
                        "type": "scatterpolar"
                      }
                    ],
                    "scatterpolargl": [
                      {
                        "marker": {
                          "colorbar": {
                            "outlinewidth": 0,
                            "ticks": ""
                          }
                        },
                        "type": "scatterpolargl"
                      }
                    ],
                    "scatterternary": [
                      {
                        "marker": {
                          "colorbar": {
                            "outlinewidth": 0,
                            "ticks": ""
                          }
                        },
                        "type": "scatterternary"
                      }
                    ],
                    "surface": [
                      {
                        "colorbar": {
                          "outlinewidth": 0,
                          "ticks": ""
                        },
                        "colorscale": [
                          [
                            0,
                            "#0d0887"
                          ],
                          [
                            0.1111111111111111,
                            "#46039f"
                          ],
                          [
                            0.2222222222222222,
                            "#7201a8"
                          ],
                          [
                            0.3333333333333333,
                            "#9c179e"
                          ],
                          [
                            0.4444444444444444,
                            "#bd3786"
                          ],
                          [
                            0.5555555555555556,
                            "#d8576b"
                          ],
                          [
                            0.6666666666666666,
                            "#ed7953"
                          ],
                          [
                            0.7777777777777778,
                            "#fb9f3a"
                          ],
                          [
                            0.8888888888888888,
                            "#fdca26"
                          ],
                          [
                            1,
                            "#f0f921"
                          ]
                        ],
                        "type": "surface"
                      }
                    ],
                    "table": [
                      {
                        "cells": {
                          "fill": {
                            "color": "#EBF0F8"
                          },
                          "line": {
                            "color": "white"
                          }
                        },
                        "header": {
                          "fill": {
                            "color": "#C8D4E3"
                          },
                          "line": {
                            "color": "white"
                          }
                        },
                        "type": "table"
                      }
                    ]
                  },
                  "layout": {
                    "annotationdefaults": {
                      "arrowcolor": "#2a3f5f",
                      "arrowhead": 0,
                      "arrowwidth": 1
                    },
                    "autotypenumbers": "strict",
                    "coloraxis": {
                      "colorbar": {
                        "outlinewidth": 0,
                        "ticks": ""
                      }
                    },
                    "colorscale": {
                      "diverging": [
                        [
                          0,
                          "#8e0152"
                        ],
                        [
                          0.1,
                          "#c51b7d"
                        ],
                        [
                          0.2,
                          "#de77ae"
                        ],
                        [
                          0.3,
                          "#f1b6da"
                        ],
                        [
                          0.4,
                          "#fde0ef"
                        ],
                        [
                          0.5,
                          "#f7f7f7"
                        ],
                        [
                          0.6,
                          "#e6f5d0"
                        ],
                        [
                          0.7,
                          "#b8e186"
                        ],
                        [
                          0.8,
                          "#7fbc41"
                        ],
                        [
                          0.9,
                          "#4d9221"
                        ],
                        [
                          1,
                          "#276419"
                        ]
                      ],
                      "sequential": [
                        [
                          0,
                          "#0d0887"
                        ],
                        [
                          0.1111111111111111,
                          "#46039f"
                        ],
                        [
                          0.2222222222222222,
                          "#7201a8"
                        ],
                        [
                          0.3333333333333333,
                          "#9c179e"
                        ],
                        [
                          0.4444444444444444,
                          "#bd3786"
                        ],
                        [
                          0.5555555555555556,
                          "#d8576b"
                        ],
                        [
                          0.6666666666666666,
                          "#ed7953"
                        ],
                        [
                          0.7777777777777778,
                          "#fb9f3a"
                        ],
                        [
                          0.8888888888888888,
                          "#fdca26"
                        ],
                        [
                          1,
                          "#f0f921"
                        ]
                      ],
                      "sequentialminus": [
                        [
                          0,
                          "#0d0887"
                        ],
                        [
                          0.1111111111111111,
                          "#46039f"
                        ],
                        [
                          0.2222222222222222,
                          "#7201a8"
                        ],
                        [
                          0.3333333333333333,
                          "#9c179e"
                        ],
                        [
                          0.4444444444444444,
                          "#bd3786"
                        ],
                        [
                          0.5555555555555556,
                          "#d8576b"
                        ],
                        [
                          0.6666666666666666,
                          "#ed7953"
                        ],
                        [
                          0.7777777777777778,
                          "#fb9f3a"
                        ],
                        [
                          0.8888888888888888,
                          "#fdca26"
                        ],
                        [
                          1,
                          "#f0f921"
                        ]
                      ]
                    },
                    "colorway": [
                      "#636efa",
                      "#EF553B",
                      "#00cc96",
                      "#ab63fa",
                      "#FFA15A",
                      "#19d3f3",
                      "#FF6692",
                      "#B6E880",
                      "#FF97FF",
                      "#FECB52"
                    ],
                    "font": {
                      "color": "#2a3f5f"
                    },
                    "geo": {
                      "bgcolor": "white",
                      "lakecolor": "white",
                      "landcolor": "#E5ECF6",
                      "showlakes": true,
                      "showland": true,
                      "subunitcolor": "white"
                    },
                    "hoverlabel": {
                      "align": "left"
                    },
                    "hovermode": "closest",
                    "mapbox": {
                      "style": "light"
                    },
                    "paper_bgcolor": "white",
                    "plot_bgcolor": "#E5ECF6",
                    "polar": {
                      "angularaxis": {
                        "gridcolor": "white",
                        "linecolor": "white",
                        "ticks": ""
                      },
                      "bgcolor": "#E5ECF6",
                      "radialaxis": {
                        "gridcolor": "white",
                        "linecolor": "white",
                        "ticks": ""
                      }
                    },
                    "scene": {
                      "xaxis": {
                        "backgroundcolor": "#E5ECF6",
                        "gridcolor": "white",
                        "gridwidth": 2,
                        "linecolor": "white",
                        "showbackground": true,
                        "ticks": "",
                        "zerolinecolor": "white"
                      },
                      "yaxis": {
                        "backgroundcolor": "#E5ECF6",
                        "gridcolor": "white",
                        "gridwidth": 2,
                        "linecolor": "white",
                        "showbackground": true,
                        "ticks": "",
                        "zerolinecolor": "white"
                      },
                      "zaxis": {
                        "backgroundcolor": "#E5ECF6",
                        "gridcolor": "white",
                        "gridwidth": 2,
                        "linecolor": "white",
                        "showbackground": true,
                        "ticks": "",
                        "zerolinecolor": "white"
                      }
                    },
                    "shapedefaults": {
                      "line": {
                        "color": "#2a3f5f"
                      }
                    },
                    "ternary": {
                      "aaxis": {
                        "gridcolor": "white",
                        "linecolor": "white",
                        "ticks": ""
                      },
                      "baxis": {
                        "gridcolor": "white",
                        "linecolor": "white",
                        "ticks": ""
                      },
                      "bgcolor": "#E5ECF6",
                      "caxis": {
                        "gridcolor": "white",
                        "linecolor": "white",
                        "ticks": ""
                      }
                    },
                    "title": {
                      "x": 0.05
                    },
                    "xaxis": {
                      "automargin": true,
                      "gridcolor": "white",
                      "linecolor": "white",
                      "ticks": "",
                      "title": {
                        "standoff": 15
                      },
                      "zerolinecolor": "white",
                      "zerolinewidth": 2
                    },
                    "yaxis": {
                      "automargin": true,
                      "gridcolor": "white",
                      "linecolor": "white",
                      "ticks": "",
                      "title": {
                        "standoff": 15
                      },
                      "zerolinecolor": "white",
                      "zerolinewidth": 2
                    }
                  }
                }
              }
            }
          },
          "metadata": {},
          "output_type": "display_data"
        }
      ],
      "source": [
        "import plotly.express as px\n",
        "\n",
        "print(X_train.columns)\n",
        "print(X_train.head())\n",
        "\n",
        "#visualize mappings via treemap\n",
        "result_summary = pd.pivot_table(X_train, index=['label', 'player_name'],  aggfunc='count').reset_index().rename(columns={'draft_position':'count'})\n",
        "result_treemap = result_summary\n",
        "fig = px.treemap(result_treemap,path=['label', 'player_name'],values='count')\n",
        "fig.show()"
      ]
    },
    {
      "cell_type": "code",
      "execution_count": 12,
      "metadata": {
        "colab": {
          "base_uri": "https://localhost:8080/",
          "height": 496
        },
        "id": "_Cz9MkDTxX8H",
        "outputId": "a86f29bd-c382-4463-f955-a20fa1f0a303"
      },
      "outputs": [
        {
          "name": "stderr",
          "output_type": "stream",
          "text": [
            "c:\\Users\\Ryan\\anaconda3\\lib\\site-packages\\sklearn\\manifold\\_t_sne.py:783: FutureWarning:\n",
            "\n",
            "The default initialization in TSNE will change from 'random' to 'pca' in 1.2.\n",
            "\n"
          ]
        },
        {
          "data": {
            "text/plain": [
              "<matplotlib.legend.Legend at 0x279b75ded08>"
            ]
          },
          "execution_count": 12,
          "metadata": {},
          "output_type": "execute_result"
        },
        {
          "data": {
            "image/png": "[encoded data removed]",
            "text/plain": [
              "<Figure size 640x480 with 1 Axes>"
            ]
          },
          "metadata": {},
          "output_type": "display_data"
        }
      ],
      "source": [
        "tsne = TSNE(n_components=2, learning_rate=200)\n",
        "#data = X_train['embeddings'].values\n",
        "vis_dims2 = tsne.fit_transform(data)\n",
        "\n",
        "x = [x for x, y in vis_dims2]\n",
        "y = [y for x, y in vis_dims2]\n",
        "\n",
        "color = cm.rainbow(np.linspace(0, 1, len(X_train.label.unique())))\n",
        "for category, color in enumerate(color):\n",
        "    xs = np.array(x)[X_train.label == category]\n",
        "    ys = np.array(y)[X_train.label == category]\n",
        "    plt.scatter(xs, ys, color=color, alpha=0.3)\n",
        "\n",
        "    avg_x = xs.mean()\n",
        "    avg_y = ys.mean()\n",
        "\n",
        "    plt.scatter(avg_x, avg_y, marker=\"x\", color=color, s=100, label=category)\n",
        "plt.title(\"Visual Representation Of Clusters In 2D Via TSNE\")\n",
        "plt.legend()"
      ]
    },
    {
      "cell_type": "code",
      "execution_count": 160,
      "metadata": {},
      "outputs": [
        {
          "name": "stdout",
          "output_type": "stream",
          "text": [
            "Linear Regression Score: -0.03634280758617181\n"
          ]
        }
      ],
      "source": [
        "\n",
        "X_train_lr, X_test_lr, y_train_lr, y_test_lr = train_test_split(X_train[['player_position', 'draft_position', 'label']], X_train['team'], test_size=0.33)\n",
        "lr = LinearRegression()\n",
        "lr.fit(X_train_lr, y_train_lr)\n",
        "\n",
        "print(f\"Linear Regression Score: {lr.score(X_test_lr, y_test_lr)}\")\n",
        "\n"
      ]
    }
  ],
  "metadata": {
    "colab": {
      "provenance": []
    },
    "kernelspec": {
      "display_name": "Python 3",
      "name": "python3"
    },
    "language_info": {
      "codemirror_mode": {
        "name": "ipython",
        "version": 3
      },
      "file_extension": ".py",
      "mimetype": "text/x-python",
      "name": "python",
      "nbconvert_exporter": "python",
      "pygments_lexer": "ipython3",
      "version": "3.7.10"
    }
  },
  "nbformat": 4,
  "nbformat_minor": 0
}
